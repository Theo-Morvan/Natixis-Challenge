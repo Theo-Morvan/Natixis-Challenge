{
 "cells": [
  {
   "cell_type": "code",
   "execution_count": 1,
   "metadata": {},
   "outputs": [
    {
     "name": "stderr",
     "output_type": "stream",
     "text": [
      "C:\\Users\\32mor\\anaconda3\\envs\\tf_test\\lib\\site-packages\\numpy\\_distributor_init.py:30: UserWarning: loaded more than 1 DLL from .libs:\n",
      "C:\\Users\\32mor\\anaconda3\\envs\\tf_test\\lib\\site-packages\\numpy\\.libs\\libopenblas.PYQHXLVVQ7VESDPUVUADXEVJOBGHJPAY.gfortran-win_amd64.dll\n",
      "C:\\Users\\32mor\\anaconda3\\envs\\tf_test\\lib\\site-packages\\numpy\\.libs\\libopenblas.WCDJNK7YVMPZQ2ME2ZZHJJRJ3JIKNDB7.gfortran-win_amd64.dll\n",
      "  warnings.warn(\"loaded more than 1 DLL from .libs:\"\n"
     ]
    }
   ],
   "source": [
    "import pandas as pd\n",
    "from frequentist_treatment_nlp import *\n",
    "import nltk\n",
    "import numpy as np\n",
    "import time\n",
    "import matplotlib.pyplot as plt\n",
    "import seaborn as sns\n",
    "import os\n",
    "import sys\n",
    "from sklearn.feature_extraction.text import TfidfVectorizer\n",
    "from sklearn.decomposition import PCA\n",
    "from sklearn.preprocessing import StandardScaler, MinMaxScaler\n",
    "from nltk.stem.snowball import SnowballStemmer\n",
    "import regex\n",
    "import re"
   ]
  },
  {
   "cell_type": "code",
   "execution_count": 2,
   "metadata": {},
   "outputs": [],
   "source": [
    "os.chdir('C:/Users/32mor/OneDrive/Documents/Polytechnique/NLP & Natixis/starting_kit/data/data/train')\n",
    "data_train = pd.read_json(os.listdir()[1])\n",
    "speeches = pd.DataFrame(data_train['speech'].values.tolist())\n",
    "speech_cols = pd.DataFrame(index=speeches.index)"
   ]
  },
  {
   "cell_type": "code",
   "execution_count": 3,
   "metadata": {},
   "outputs": [],
   "source": [
    "speeches = form_speeches_dataset(data_train)"
   ]
  },
  {
   "cell_type": "code",
   "execution_count": 4,
   "metadata": {},
   "outputs": [
    {
     "data": {
      "text/html": [
       "<div>\n",
       "<style scoped>\n",
       "    .dataframe tbody tr th:only-of-type {\n",
       "        vertical-align: middle;\n",
       "    }\n",
       "\n",
       "    .dataframe tbody tr th {\n",
       "        vertical-align: top;\n",
       "    }\n",
       "\n",
       "    .dataframe thead th {\n",
       "        text-align: right;\n",
       "    }\n",
       "</style>\n",
       "<table border=\"1\" class=\"dataframe\">\n",
       "  <thead>\n",
       "    <tr style=\"text-align: right;\">\n",
       "      <th></th>\n",
       "      <th>ECB_speeches</th>\n",
       "      <th>FED_speeches</th>\n",
       "      <th>Value_number</th>\n",
       "      <th>day_number</th>\n",
       "      <th>Principal_key</th>\n",
       "    </tr>\n",
       "  </thead>\n",
       "  <tbody>\n",
       "    <tr>\n",
       "      <th>2</th>\n",
       "      <td>None</td>\n",
       "      <td>None</td>\n",
       "      <td>0</td>\n",
       "      <td>2</td>\n",
       "      <td>0-2</td>\n",
       "    </tr>\n",
       "    <tr>\n",
       "      <th>3</th>\n",
       "      <td>None</td>\n",
       "      <td>None</td>\n",
       "      <td>0</td>\n",
       "      <td>3</td>\n",
       "      <td>0-3</td>\n",
       "    </tr>\n",
       "    <tr>\n",
       "      <th>9</th>\n",
       "      <td>None</td>\n",
       "      <td>None</td>\n",
       "      <td>0</td>\n",
       "      <td>9</td>\n",
       "      <td>0-9</td>\n",
       "    </tr>\n",
       "    <tr>\n",
       "      <th>10</th>\n",
       "      <td>None</td>\n",
       "      <td>None</td>\n",
       "      <td>0</td>\n",
       "      <td>10</td>\n",
       "      <td>0-10</td>\n",
       "    </tr>\n",
       "    <tr>\n",
       "      <th>12</th>\n",
       "      <td>None</td>\n",
       "      <td>None</td>\n",
       "      <td>0</td>\n",
       "      <td>12</td>\n",
       "      <td>0-12</td>\n",
       "    </tr>\n",
       "    <tr>\n",
       "      <th>...</th>\n",
       "      <td>...</td>\n",
       "      <td>...</td>\n",
       "      <td>...</td>\n",
       "      <td>...</td>\n",
       "      <td>...</td>\n",
       "    </tr>\n",
       "    <tr>\n",
       "      <th>25072</th>\n",
       "      <td>None</td>\n",
       "      <td>None</td>\n",
       "      <td>1253</td>\n",
       "      <td>12</td>\n",
       "      <td>1253-12</td>\n",
       "    </tr>\n",
       "    <tr>\n",
       "      <th>25075</th>\n",
       "      <td>None</td>\n",
       "      <td>None</td>\n",
       "      <td>1253</td>\n",
       "      <td>15</td>\n",
       "      <td>1253-15</td>\n",
       "    </tr>\n",
       "    <tr>\n",
       "      <th>25076</th>\n",
       "      <td>None</td>\n",
       "      <td>None</td>\n",
       "      <td>1253</td>\n",
       "      <td>16</td>\n",
       "      <td>1253-16</td>\n",
       "    </tr>\n",
       "    <tr>\n",
       "      <th>25077</th>\n",
       "      <td>None</td>\n",
       "      <td>None</td>\n",
       "      <td>1253</td>\n",
       "      <td>17</td>\n",
       "      <td>1253-17</td>\n",
       "    </tr>\n",
       "    <tr>\n",
       "      <th>25078</th>\n",
       "      <td>None</td>\n",
       "      <td>None</td>\n",
       "      <td>1253</td>\n",
       "      <td>18</td>\n",
       "      <td>1253-18</td>\n",
       "    </tr>\n",
       "  </tbody>\n",
       "</table>\n",
       "<p>15593 rows × 5 columns</p>\n",
       "</div>"
      ],
      "text/plain": [
       "      ECB_speeches FED_speeches  Value_number  day_number Principal_key\n",
       "2             None         None             0           2           0-2\n",
       "3             None         None             0           3           0-3\n",
       "9             None         None             0           9           0-9\n",
       "10            None         None             0          10          0-10\n",
       "12            None         None             0          12          0-12\n",
       "...            ...          ...           ...         ...           ...\n",
       "25072         None         None          1253          12       1253-12\n",
       "25075         None         None          1253          15       1253-15\n",
       "25076         None         None          1253          16       1253-16\n",
       "25077         None         None          1253          17       1253-17\n",
       "25078         None         None          1253          18       1253-18\n",
       "\n",
       "[15593 rows x 5 columns]"
      ]
     },
     "execution_count": 4,
     "metadata": {},
     "output_type": "execute_result"
    }
   ],
   "source": [
    "bank = 'ecb'\n",
    "speeches[speeches[f'{bank.upper()}_speeches'].isnull()]"
   ]
  },
  {
   "cell_type": "code",
   "execution_count": 5,
   "metadata": {},
   "outputs": [],
   "source": [
    "X_test = transform_nlp_dta(speeches, 'ecb')\n",
    "\n"
   ]
  },
  {
   "cell_type": "code",
   "execution_count": 11,
   "metadata": {},
   "outputs": [],
   "source": [
    "tf_idf_final = tf_idf_pca_reduction(X_test)"
   ]
  },
  {
   "cell_type": "code",
   "execution_count": 14,
   "metadata": {},
   "outputs": [
    {
     "data": {
      "text/plain": [
       "(25080, 300)"
      ]
     },
     "execution_count": 14,
     "metadata": {},
     "output_type": "execute_result"
    }
   ],
   "source": [
    "tf_idf_final.shape"
   ]
  },
  {
   "cell_type": "code",
   "execution_count": 16,
   "metadata": {},
   "outputs": [],
   "source": [
    "day_may = speeches['day_number'].may() + 1\n",
    "speeches_max = speeches['Value_number'].max() + 1\n",
    "components = 300"
   ]
  },
  {
   "cell_type": "code",
   "execution_count": 27,
   "metadata": {},
   "outputs": [],
   "source": [
    "data_lstm = tf_idf_final.reshape((speeches_max, day_max, components))"
   ]
  },
  {
   "cell_type": "code",
   "execution_count": 39,
   "metadata": {},
   "outputs": [],
   "source": [
    "from sklearn.model_selection import train_test_split"
   ]
  },
  {
   "cell_type": "code",
   "execution_count": 62,
   "metadata": {},
   "outputs": [],
   "source": [
    "from tensorflow.keras.models import Sequential, Model\n",
    "from tensorflow.keras.layers import Dense,GRU,LSTM,Embedding, concatenate\n",
    "from tensorflow.keras.optimizers import Adam\n",
    "from tensorflow.keras.layers import SpatialDropout1D,Dropout,Bidirectional,Conv1D,GlobalMaxPooling1D, MaxPooling1D,Flatten, InputLayer, Input\n",
    "from tensorflow.keras.callbacks import ModelCheckpoint, TensorBoard, Callback, EarlyStopping\n",
    "import tensorflow as tf"
   ]
  },
  {
   "cell_type": "code",
   "execution_count": 23,
   "metadata": {},
   "outputs": [
    {
     "name": "stdout",
     "output_type": "stream",
     "text": [
      "Num GPUs Available:  1\n"
     ]
    }
   ],
   "source": [
    "tf.config.list_physical_devices()\n",
    "print(\"Num GPUs Available: \", len(tf.config.list_physical_devices('GPU')))\n",
    "physical_devices = tf.config.list_physical_devices(\"GPU\")\n",
    "tf.config.experimental.set_memory_growth(physical_devices[0], True)"
   ]
  },
  {
   "cell_type": "code",
   "execution_count": null,
   "metadata": {},
   "outputs": [],
   "source": []
  },
  {
   "cell_type": "code",
   "execution_count": 25,
   "metadata": {},
   "outputs": [],
   "source": [
    "y_train_cat = data_train['target_classif'].values\n",
    "y_train_reg = data_train['target_reg']"
   ]
  },
  {
   "cell_type": "code",
   "execution_count": 48,
   "metadata": {},
   "outputs": [],
   "source": [
    "X_train, X_test, y_train, y_test = train_test_split(data_lstm, data_train[['target_reg','target_classif']], \n",
    "                                                    test_size=0.2)"
   ]
  },
  {
   "cell_type": "code",
   "execution_count": 49,
   "metadata": {},
   "outputs": [],
   "source": [
    "y_train_cat = y_train['target_classif']\n",
    "y_test_cat = y_test['target_classif']\n",
    "y_train_reg = y_test['target_reg']\n",
    "y_test_reg = y_test['target_reg']"
   ]
  },
  {
   "cell_type": "code",
   "execution_count": 50,
   "metadata": {},
   "outputs": [],
   "source": [
    "visible = Input(shape=(data_lstm.shape[1], data_lstm.shape[2]))\n",
    "hidden1 = LSTM(60, return_sequences=True)(visible)\n",
    "dropout1 = Dropout(0.5)(hidden1)\n",
    "hidden_2 = LSTM(40, return_sequences=False)(dropout1)\n",
    "dropout_2 = Dropout(0.5)(hidden_2)\n",
    "out_reg = Dense(1, activation='linear')(dropout_2)\n",
    "dense_class = Dense(40, activation = 'relu')(dropout_2)\n",
    "out_class = Dense(1, activation = 'sigmoid')(dense_class)\n",
    "model = Model(inputs=visible, outputs=[out_reg, out_class])\n",
    "optimizer = Adam(learning_rate=0.1)\n",
    "model.compile(loss=['mse',tf.keras.losses.binary_crossentropy], optimizer=optimizer)"
   ]
  },
  {
   "cell_type": "code",
   "execution_count": 51,
   "metadata": {},
   "outputs": [
    {
     "data": {
      "text/plain": [
       "<tensorflow.python.keras.callbacks.History at 0x1a4124ec250>"
      ]
     },
     "execution_count": 51,
     "metadata": {},
     "output_type": "execute_result"
    }
   ],
   "source": [
    "model.fit(X_test, [y_train_reg,y_train_cat], epochs=40, batch_size=256, verbose=0)"
   ]
  },
  {
   "cell_type": "code",
   "execution_count": 52,
   "metadata": {},
   "outputs": [],
   "source": [
    "yhat1, yhat2 = model.predict(X_test)"
   ]
  },
  {
   "cell_type": "code",
   "execution_count": 36,
   "metadata": {},
   "outputs": [],
   "source": [
    "from sklearn.metrics import accuracy_score, mean_squared_error"
   ]
  },
  {
   "cell_type": "code",
   "execution_count": 53,
   "metadata": {},
   "outputs": [
    {
     "data": {
      "text/plain": [
       "0.6055776892430279"
      ]
     },
     "execution_count": 53,
     "metadata": {},
     "output_type": "execute_result"
    }
   ],
   "source": [
    "accuracy_score(y_test_cat, (yhat2>=0.5)*1)"
   ]
  },
  {
   "cell_type": "code",
   "execution_count": 38,
   "metadata": {},
   "outputs": [
    {
     "data": {
      "text/plain": [
       "0.3909725915080249"
      ]
     },
     "execution_count": 38,
     "metadata": {},
     "output_type": "execute_result"
    }
   ],
   "source": [
    "mean_squared_error(y_train_reg, yhat1) ** (1/2)"
   ]
  },
  {
   "cell_type": "code",
   "execution_count": 57,
   "metadata": {},
   "outputs": [],
   "source": [
    "X_train_lstm =np.expand_dims(np.array(data_train['stock'].to_list()), axis=1).reshape((1254,20,1))"
   ]
  },
  {
   "cell_type": "code",
   "execution_count": 99,
   "metadata": {},
   "outputs": [],
   "source": [
    "y_train_cat = data_train['target_classif'].values\n",
    "y_train_reg = data_train['target_reg']"
   ]
  },
  {
   "cell_type": "code",
   "execution_count": 100,
   "metadata": {},
   "outputs": [],
   "source": []
  },
  {
   "cell_type": "code",
   "execution_count": 104,
   "metadata": {},
   "outputs": [
    {
     "data": {
      "text/plain": [
       "set()"
      ]
     },
     "execution_count": 104,
     "metadata": {},
     "output_type": "execute_result"
    }
   ],
   "source": []
  },
  {
   "cell_type": "code",
   "execution_count": 128,
   "metadata": {},
   "outputs": [],
   "source": [
    "idx = np.arange(len(X_train_lstm))\n",
    "np.random.shuffle(idx)\n",
    "set(train_idx).intersection(set(test_idx))\n",
    "train_stop = int(0.8 * len(idx))\n",
    "train_idx = idx[:train_stop]\n",
    "test_idx = idx[train_stop:]\n",
    "X_train_nlp = data_lstm[train_idx]\n",
    "X_test_nlp = data_lstm[test_idx]\n",
    "X_train_num = X_train_lstm[train_idx]\n",
    "X_test_num = X_train_lstm[test_idx]\n",
    "y_train_cat = data_train['target_classif'].values[train_idx]\n",
    "y_train_reg = data_train['target_reg'].values[train_idx]\n",
    "y_test_cat = data_train['target_classif'].values[test_idx]\n",
    "y_test_reg = data_train['target_reg'].values[test_idx]"
   ]
  },
  {
   "cell_type": "code",
   "execution_count": 129,
   "metadata": {},
   "outputs": [
    {
     "name": "stdout",
     "output_type": "stream",
     "text": [
      "(1003, 20, 300)\n",
      "(251, 20, 300)\n"
     ]
    }
   ],
   "source": [
    "print(X_train_nlp.shape)\n",
    "print(X_test_nlp.shape)"
   ]
  },
  {
   "cell_type": "code",
   "execution_count": 130,
   "metadata": {},
   "outputs": [],
   "source": [
    "input_nlp = Input(shape=(data_lstm.shape[1], data_lstm.shape[2]))\n",
    "input_num = Input(shape=(X_train_lstm.shape[1], 1))\n",
    "# the first branch operates on the first input\n",
    "x = LSTM(100, return_sequences=True)(input_nlp)\n",
    "x = Dropout(0.5)(x)\n",
    "x = LSTM(40, return_sequences=False)(x)\n",
    "x = Dropout(0.5)(x)\n",
    "x = Model(inputs=input_nlp, outputs=x)\n",
    "# the second branch opreates on the second input\n",
    "y = LSTM(100, return_sequences=True)(input_num)\n",
    "y = Dropout(0.5)(y)\n",
    "y = LSTM(40, return_sequences=False)(y)\n",
    "y = Dropout(0.5)(y)\n",
    "y = Model(inputs=input_num, outputs=y)\n",
    "# combine the output of the two branches\n",
    "combined = concatenate([x.output, y.output])\n",
    "\n",
    "z = Dense(128, activation='relu')(combined)\n",
    "out_reg = Dense(1, activation='linear')(z)\n",
    "# dense_class = Dense(40, activation = 'relu')(dropout_2)\n",
    "out_class = Dense(1, activation = 'sigmoid')(z)\n",
    "model = Model(inputs=[x.input, y.input], outputs=[out_reg, out_class])\n",
    "optimizer = Adam(learning_rate=0.001)\n",
    "model.compile(loss=['mse',tf.keras.losses.binary_crossentropy], optimizer=optimizer)"
   ]
  },
  {
   "cell_type": "code",
   "execution_count": 131,
   "metadata": {},
   "outputs": [
    {
     "data": {
      "text/plain": [
       "<tensorflow.python.keras.callbacks.History at 0x1a55d9f6ac0>"
      ]
     },
     "execution_count": 131,
     "metadata": {},
     "output_type": "execute_result"
    }
   ],
   "source": [
    "model.fit([X_train_nlp, X_train_num], [y_train_reg,y_train_cat], epochs=20, batch_size=256, verbose=0)"
   ]
  },
  {
   "cell_type": "code",
   "execution_count": 132,
   "metadata": {},
   "outputs": [],
   "source": [
    "yhat1, yhat2 = model.predict([X_test_nlp, X_test_num])"
   ]
  },
  {
   "cell_type": "code",
   "execution_count": 133,
   "metadata": {},
   "outputs": [
    {
     "data": {
      "text/plain": [
       "0.8446215139442231"
      ]
     },
     "execution_count": 133,
     "metadata": {},
     "output_type": "execute_result"
    }
   ],
   "source": [
    "accuracy_score(y_test_cat, (yhat2>=0.5)*1)"
   ]
  },
  {
   "cell_type": "code",
   "execution_count": 134,
   "metadata": {},
   "outputs": [
    {
     "data": {
      "text/plain": [
       "0.2097480263909956"
      ]
     },
     "execution_count": 134,
     "metadata": {},
     "output_type": "execute_result"
    }
   ],
   "source": [
    "mean_squared_error(y_test_reg, yhat1) ** (1/2)"
   ]
  },
  {
   "cell_type": "code",
   "execution_count": 83,
   "metadata": {},
   "outputs": [
    {
     "data": {
      "text/plain": [
       "array([[1.5328737e-06],\n",
       "       [1.2821946e-05],\n",
       "       [9.9999952e-01],\n",
       "       ...,\n",
       "       [9.9255274e-05],\n",
       "       [9.9998736e-01],\n",
       "       [9.9999797e-01]], dtype=float32)"
      ]
     },
     "execution_count": 83,
     "metadata": {},
     "output_type": "execute_result"
    }
   ],
   "source": [
    "yhat2"
   ]
  },
  {
   "cell_type": "code",
   "execution_count": null,
   "metadata": {},
   "outputs": [],
   "source": []
  }
 ],
 "metadata": {
  "interpreter": {
   "hash": "d2d40ffd08b16bca1ca547fa03dc48a34b56fae6b4f4bc59c17d8853246bea11"
  },
  "kernelspec": {
   "display_name": "Python 3.9.7 ('theo-python_9')",
   "language": "python",
   "name": "python3"
  },
  "language_info": {
   "codemirror_mode": {
    "name": "ipython",
    "version": 3
   },
   "file_extension": ".py",
   "mimetype": "text/x-python",
   "name": "python",
   "nbconvert_exporter": "python",
   "pygments_lexer": "ipython3",
   "version": "3.8.0"
  },
  "orig_nbformat": 4
 },
 "nbformat": 4,
 "nbformat_minor": 2
}

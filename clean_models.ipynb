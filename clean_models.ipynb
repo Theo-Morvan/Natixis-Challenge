{
 "cells": [
  {
   "cell_type": "code",
   "execution_count": 20,
   "metadata": {},
   "outputs": [],
   "source": [
    "# from spacy_langdetect import LanguageDetector\n",
    "# from spacy.language import Language\n",
    "# import spacy\n",
    "import pandas as pd\n",
    "from frequentist_treatment_nlp import *\n",
    "import nltk\n",
    "import numpy as np\n",
    "import time\n",
    "import matplotlib.pyplot as plt\n",
    "import seaborn as sns\n",
    "import os\n",
    "import sys\n",
    "from sklearn.feature_extraction.text import TfidfVectorizer\n",
    "from sklearn.decomposition import PCA\n",
    "from sklearn.model_selection import train_test_split\n",
    "from sklearn.preprocessing import StandardScaler, MinMaxScaler\n",
    "from sklearn.metrics import accuracy_score, mean_squared_error\n",
    "from nltk.stem.snowball import SnowballStemmer\n",
    "import regex\n",
    "import re\n",
    "from tensorflow.keras.models import Sequential, Model\n",
    "from tensorflow.keras.layers import Dense,GRU,LSTM,Embedding, concatenate\n",
    "from tensorflow.keras.optimizers import Adam\n",
    "from tensorflow.keras.layers import SpatialDropout1D,Dropout,Bidirectional,Conv1D,GlobalMaxPooling1D, MaxPooling1D, LeakyReLU, Flatten, InputLayer, Input, BatchNormalization\n",
    "from tensorflow.keras.callbacks import ModelCheckpoint, TensorBoard, Callback, EarlyStopping, History\n",
    "import tensorflow as tf\n",
    "from sklearn.manifold import TSNE\n",
    "from tensorflow.keras.backend import clear_session"
   ]
  },
  {
   "cell_type": "code",
   "execution_count": 15,
   "metadata": {},
   "outputs": [
    {
     "name": "stdout",
     "output_type": "stream",
     "text": [
      "Num GPUs Available:  1\n"
     ]
    }
   ],
   "source": [
    "tf.config.list_physical_devices()\n",
    "print(\"Num GPUs Available: \", len(tf.config.list_physical_devices('GPU')))\n",
    "physical_devices = tf.config.list_physical_devices(\"GPU\")\n",
    "tf.config.experimental.set_memory_growth(physical_devices[0], True)"
   ]
  },
  {
   "cell_type": "code",
   "execution_count": null,
   "metadata": {},
   "outputs": [],
   "source": []
  },
  {
   "cell_type": "code",
   "execution_count": 16,
   "metadata": {},
   "outputs": [],
   "source": [
    "path = 'C:/Users/32mor/OneDrive/Documents/Polytechnique/NLP & Natixis/starting_kit/data'"
   ]
  },
  {
   "cell_type": "code",
   "execution_count": 17,
   "metadata": {},
   "outputs": [],
   "source": [
    "os.chdir(path)\n",
    "X, y_cat, y_reg = hx.data_expander(all_data=True)\n",
    "y = pd.concat([y_cat,y_reg],axis=1)"
   ]
  },
  {
   "cell_type": "code",
   "execution_count": 18,
   "metadata": {},
   "outputs": [
    {
     "name": "stdout",
     "output_type": "stream",
     "text": [
      "saved\n"
     ]
    }
   ],
   "source": [
    "unsaved  = False\n",
    "if unsaved:\n",
    "     print('unsaved')\n",
    "     X_train, X_test, y_train, y_test = train_test_split(X, y, test_size=0.2, random_state=42)\n",
    "     X_train, X_val, y_train, y_val = train_test_split(X_train, y_train, test_size=0.1, random_state=42)\n",
    "     pipe_ecb = Full_pipeline_nlp('ecb', 0.3, 300,translate=True)\n",
    "     pipe_fed = Full_pipeline_nlp('fed',0.3, 300, translate=True)\n",
    "     pipe_num = numerical_pipeline()\n",
    "     test_pipe  = full_pipeline(pipe_fed, pipe_ecb, pipe_num)\n",
    "     X_fed_train, X_ecb_train, X_num_train = test_pipe.fit_transform(X_train)\n",
    "     X_fed_val, X_ecb_val, X_num_val = test_pipe.transform(X_val)\n",
    "     X_fed_test, X_ecb_test, X_num_test = test_pipe.transform(X_test)\n",
    "\n",
    "\n",
    "     y_train_reg = y_train.target_reg\n",
    "     y_train_cat = y_train.target_classif\n",
    "     y_test_reg = y_test.target_reg\n",
    "     y_test_cat = y_test.target_classif\n",
    "     y_val_reg = y_val.target_reg\n",
    "     y_val_cat = y_val.target_classif\n",
    "     os.chdir(path)\n",
    "     saves = [X_fed_train, X_fed_test, X_fed_val, X_ecb_train, X_ecb_test, \n",
    "                    X_ecb_val, X_num_train,X_num_test, X_num_val, y_test_cat,\n",
    "                    y_test_reg, y_train_reg, y_train_cat, y_val_cat, y_val_reg]\n",
    "     for element in saves:\n",
    "          vnames = [name for name in globals() if globals()[name] is element][0]\n",
    "          np.save(f'{vnames}.npy',element)\n",
    "\n",
    "else:\n",
    "     print('saved')\n",
    "     for element in os.listdir():\n",
    "          if 'npy' in element :\n",
    "               if element not in ['element.npy','__.npy']:\n",
    "                    str = element\n",
    "                    globals()[str.split('.')[0]] = np.load(element)\n",
    "\n",
    "day_max = 20\n",
    "speeches_train = int(len(X_fed_train)/20)\n",
    "speeches_val = int(len(X_ecb_val)/20)\n",
    "speeches_test = int(len(X_ecb_test)/20)\n",
    "components = 300\n",
    "X_fed_lstm_train = X_fed_train.reshape((speeches_train, day_max, components))\n",
    "X_ecb_lstm_train = X_ecb_train.reshape((speeches_train, day_max, components))\n",
    "# X_fed_lstm_test = X_fed_test.reshape((speeches_test, day_max, components))\n",
    "X_ecb_lstm_test = X_ecb_test.reshape((speeches_test, day_max, components))\n",
    "X_fed_lstm_val = X_fed_val.reshape((speeches_val, day_max, components))\n",
    "X_ecb_lstm_val = X_ecb_val.reshape((speeches_val, day_max, components))\n",
    "lstm_shape = (day_max, components)\n",
    "shape_num = day_max"
   ]
  },
  {
   "cell_type": "code",
   "execution_count": 22,
   "metadata": {},
   "outputs": [],
   "source": [
    "def multi_input_output_lstm_full(shape_nlp, shape_num):\n",
    "    input_nlp_fed = Input(shape=(shape_nlp[0], shape_nlp[1]))\n",
    "    input_nlp_bce = Input(shape=(shape_nlp[0], shape_nlp[1]))\n",
    "    input_num = Input(shape=(shape_num, 1))\n",
    "\n",
    "\n",
    "    w = LSTM(100, return_sequences=True)(input_nlp_fed)\n",
    "    w = Dropout(0.3)(w)\n",
    "    #w = BatchNormalization()(w)\n",
    "    w = LSTM(40, return_sequences=False)(w)\n",
    "    w = Dropout(0.3)(w)\n",
    "    w = Model(inputs=input_nlp_fed, outputs=w)\n",
    "\n",
    "\n",
    "    x = LSTM(100, return_sequences=True)(input_nlp_bce)\n",
    "    x = Dropout(0.3)(x)\n",
    "    #x = BatchNormalization()(x)\n",
    "    x = LSTM(40, return_sequences=False)(x)\n",
    "    #x = Dropout(0.3)(x)\n",
    "    x = Model(inputs=input_nlp_bce, outputs=x)\n",
    "\n",
    "    # the second branch opreates on the second input\n",
    "    y = LSTM(100, return_sequences=False)(input_num)\n",
    "    y = Dropout(0.3)(y)\n",
    "    #y = BatchNormalization()(y)\n",
    "    # y = LSTM(40, return_sequences=False)(y)\n",
    "    # y = Dropout(0.3)(y)\n",
    "    y = Model(inputs=input_num, outputs=y)\n",
    "    # combine the output of the two branches\n",
    "    combined = concatenate([w.output, x.output, y.output])\n",
    "\n",
    "    z = Dense(64, activation='relu')(combined)\n",
    "    z = Dropout(0.3)(z)\n",
    "    \n",
    "\n",
    "    # z = Dense(64, activation='relu')(z)\n",
    "    # z = Dropout(0.3)(z)\n",
    "    out_reg = Dense(1, activation='linear')(z)\n",
    "    \n",
    "    # dense_class = Dense(40, activation = 'relu')(dropout_2)\n",
    "    classi = BatchNormalization()(z)\n",
    "    # classi = Dense(64)(classi)\n",
    "    # classi = LeakyReLU(0.3)(classi)\n",
    "    # classi = Dropout(0.5)(classi)\n",
    "    out_class = Dense(1, activation = 'sigmoid')(classi)\n",
    "    model = Model(inputs=[w.input, x.input, y.input], outputs=[out_reg, out_class])\n",
    "\n",
    "    return model"
   ]
  },
  {
   "cell_type": "code",
   "execution_count": 23,
   "metadata": {},
   "outputs": [],
   "source": [
    "def objective_full(trial):\n",
    "    # Clear clutter from previous Keras session graphs.\n",
    "    clear_session()\n",
    "    model = multi_input_output_lstm_full\n",
    "\n",
    "    # We compile our model with a sampled learning rate.\n",
    "    learning_rate = trial.suggest_float(\"learning_rate\", 1e-5, 1e-1, log=True)\n",
    "    model=multi_input_output_lstm_full(lstm_shape, shape_num)\n",
    "\n",
    "    early_stop = EarlyStopping(monitor='val_loss', patience=3)\n",
    "    log_dir = \"logs/fit/\" + datetime.datetime.now().strftime(\"%Y%m%d-%H%M%S\")\n",
    "    tensorboard_callback = TensorBoard(log_dir=log_dir, histogram_freq=1)\n",
    "    learning_rate = trial.suggest_float(\"learning_rate\", 1e-5, 1e-1, log=True)\n",
    "    optimizer = Adam(learning_rate=learning_rate)\n",
    "    model.compile(loss=['mse',tf.keras.losses.binary_crossentropy], \n",
    "                    optimizer=optimizer)\n",
    "\n",
    "    history = model.fit([X_fed_lstm_train, X_ecb_lstm_train, X_num_train], \n",
    "                        [y_train_reg,y_train_cat], \n",
    "                        epochs=50, \n",
    "                        batch_size=128, verbose=2,\n",
    "                        callbacks=[early_stop, tensorboard_callback, ], \n",
    "                        validation_data=([X_fed_lstm_val,X_ecb_lstm_val, X_num_val],[y_val_reg,y_val_cat]))\n",
    "\n",
    "\n",
    "    # Evaluate the model accuracy on the validation set.\n",
    "    score = model.evaluate([X_fed_lstm_val,X_ecb_lstm_val, X_num_val],[y_val_reg,y_val_cat], verbose=0)\n",
    "    return score[1]\n"
   ]
  },
  {
   "cell_type": "code",
   "execution_count": 25,
   "metadata": {},
   "outputs": [],
   "source": [
    "import datetime"
   ]
  },
  {
   "cell_type": "code",
   "execution_count": 28,
   "metadata": {},
   "outputs": [
    {
     "name": "stderr",
     "output_type": "stream",
     "text": [
      "\u001b[32m[I 2022-03-27 22:30:54,071]\u001b[0m A new study created in memory with name: no-name-6d1d0c9f-70e4-4f78-828b-b2c747a76e0e\u001b[0m\n"
     ]
    },
    {
     "name": "stdout",
     "output_type": "stream",
     "text": [
      "Epoch 1/50\n",
      "8/8 - 17s - loss: 2.0699 - dense_1_loss: 1.1565 - dense_2_loss: 0.9135 - val_loss: 2.4078 - val_dense_1_loss: 1.7113 - val_dense_2_loss: 0.6966\n",
      "Epoch 2/50\n",
      "8/8 - 3s - loss: 2.0123 - dense_1_loss: 1.1332 - dense_2_loss: 0.8792 - val_loss: 2.3406 - val_dense_1_loss: 1.6438 - val_dense_2_loss: 0.6968\n",
      "Epoch 3/50\n",
      "8/8 - 3s - loss: 1.9216 - dense_1_loss: 1.0882 - dense_2_loss: 0.8334 - val_loss: 2.2765 - val_dense_1_loss: 1.5793 - val_dense_2_loss: 0.6972\n",
      "Epoch 4/50\n",
      "8/8 - 3s - loss: 1.8760 - dense_1_loss: 1.0354 - dense_2_loss: 0.8406 - val_loss: 2.2209 - val_dense_1_loss: 1.5231 - val_dense_2_loss: 0.6978\n",
      "Epoch 5/50\n",
      "8/8 - 3s - loss: 1.8696 - dense_1_loss: 1.0232 - dense_2_loss: 0.8464 - val_loss: 2.1681 - val_dense_1_loss: 1.4701 - val_dense_2_loss: 0.6980\n",
      "Epoch 6/50\n",
      "8/8 - 3s - loss: 1.7774 - dense_1_loss: 0.9575 - dense_2_loss: 0.8198 - val_loss: 2.1191 - val_dense_1_loss: 1.4208 - val_dense_2_loss: 0.6983\n",
      "Epoch 7/50\n",
      "8/8 - 3s - loss: 1.6741 - dense_1_loss: 0.9179 - dense_2_loss: 0.7562 - val_loss: 2.0735 - val_dense_1_loss: 1.3754 - val_dense_2_loss: 0.6980\n",
      "Epoch 8/50\n",
      "8/8 - 3s - loss: 1.6623 - dense_1_loss: 0.9018 - dense_2_loss: 0.7605 - val_loss: 2.0188 - val_dense_1_loss: 1.3206 - val_dense_2_loss: 0.6981\n",
      "Epoch 9/50\n",
      "8/8 - 3s - loss: 1.6088 - dense_1_loss: 0.8585 - dense_2_loss: 0.7503 - val_loss: 1.9649 - val_dense_1_loss: 1.2664 - val_dense_2_loss: 0.6985\n",
      "Epoch 10/50\n",
      "8/8 - 3s - loss: 1.5635 - dense_1_loss: 0.8267 - dense_2_loss: 0.7368 - val_loss: 1.9195 - val_dense_1_loss: 1.2206 - val_dense_2_loss: 0.6989\n",
      "Epoch 11/50\n",
      "8/8 - 3s - loss: 1.5161 - dense_1_loss: 0.7824 - dense_2_loss: 0.7338 - val_loss: 1.8796 - val_dense_1_loss: 1.1806 - val_dense_2_loss: 0.6990\n",
      "Epoch 12/50\n",
      "8/8 - 3s - loss: 1.5026 - dense_1_loss: 0.7519 - dense_2_loss: 0.7507 - val_loss: 1.8388 - val_dense_1_loss: 1.1394 - val_dense_2_loss: 0.6994\n",
      "Epoch 13/50\n",
      "8/8 - 2s - loss: 1.4808 - dense_1_loss: 0.7054 - dense_2_loss: 0.7754 - val_loss: 1.7925 - val_dense_1_loss: 1.0923 - val_dense_2_loss: 0.7002\n",
      "Epoch 14/50\n",
      "8/8 - 2s - loss: 1.4229 - dense_1_loss: 0.6957 - dense_2_loss: 0.7271 - val_loss: 1.7524 - val_dense_1_loss: 1.0515 - val_dense_2_loss: 0.7009\n",
      "Epoch 15/50\n",
      "8/8 - 3s - loss: 1.3500 - dense_1_loss: 0.6512 - dense_2_loss: 0.6987 - val_loss: 1.7086 - val_dense_1_loss: 1.0063 - val_dense_2_loss: 0.7023\n",
      "Epoch 16/50\n",
      "8/8 - 3s - loss: 1.3613 - dense_1_loss: 0.6486 - dense_2_loss: 0.7127 - val_loss: 1.6680 - val_dense_1_loss: 0.9650 - val_dense_2_loss: 0.7030\n",
      "Epoch 17/50\n",
      "8/8 - 3s - loss: 1.3229 - dense_1_loss: 0.6308 - dense_2_loss: 0.6921 - val_loss: 1.6280 - val_dense_1_loss: 0.9243 - val_dense_2_loss: 0.7037\n",
      "Epoch 18/50\n",
      "8/8 - 3s - loss: 1.2156 - dense_1_loss: 0.5665 - dense_2_loss: 0.6491 - val_loss: 1.5789 - val_dense_1_loss: 0.8742 - val_dense_2_loss: 0.7047\n",
      "Epoch 19/50\n",
      "8/8 - 2s - loss: 1.2558 - dense_1_loss: 0.5649 - dense_2_loss: 0.6909 - val_loss: 1.5389 - val_dense_1_loss: 0.8325 - val_dense_2_loss: 0.7063\n",
      "Epoch 20/50\n",
      "8/8 - 3s - loss: 1.1966 - dense_1_loss: 0.5159 - dense_2_loss: 0.6806 - val_loss: 1.5024 - val_dense_1_loss: 0.7943 - val_dense_2_loss: 0.7081\n",
      "Epoch 21/50\n",
      "8/8 - 2s - loss: 1.1916 - dense_1_loss: 0.4954 - dense_2_loss: 0.6962 - val_loss: 1.4671 - val_dense_1_loss: 0.7575 - val_dense_2_loss: 0.7096\n",
      "Epoch 22/50\n",
      "8/8 - 2s - loss: 1.1727 - dense_1_loss: 0.4822 - dense_2_loss: 0.6905 - val_loss: 1.4305 - val_dense_1_loss: 0.7194 - val_dense_2_loss: 0.7111\n",
      "Epoch 23/50\n",
      "8/8 - 2s - loss: 1.0964 - dense_1_loss: 0.4513 - dense_2_loss: 0.6451 - val_loss: 1.3909 - val_dense_1_loss: 0.6788 - val_dense_2_loss: 0.7121\n",
      "Epoch 24/50\n",
      "8/8 - 2s - loss: 1.0671 - dense_1_loss: 0.4135 - dense_2_loss: 0.6536 - val_loss: 1.3563 - val_dense_1_loss: 0.6434 - val_dense_2_loss: 0.7130\n",
      "Epoch 25/50\n",
      "8/8 - 3s - loss: 1.0630 - dense_1_loss: 0.4060 - dense_2_loss: 0.6571 - val_loss: 1.3220 - val_dense_1_loss: 0.6087 - val_dense_2_loss: 0.7133\n",
      "Epoch 26/50\n",
      "8/8 - 2s - loss: 1.0345 - dense_1_loss: 0.3994 - dense_2_loss: 0.6351 - val_loss: 1.2896 - val_dense_1_loss: 0.5756 - val_dense_2_loss: 0.7140\n",
      "Epoch 27/50\n",
      "8/8 - 3s - loss: 1.0448 - dense_1_loss: 0.3841 - dense_2_loss: 0.6607 - val_loss: 1.2655 - val_dense_1_loss: 0.5514 - val_dense_2_loss: 0.7141\n",
      "Epoch 28/50\n",
      "8/8 - 2s - loss: 0.9697 - dense_1_loss: 0.3390 - dense_2_loss: 0.6307 - val_loss: 1.2435 - val_dense_1_loss: 0.5301 - val_dense_2_loss: 0.7134\n",
      "Epoch 29/50\n",
      "8/8 - 3s - loss: 0.9344 - dense_1_loss: 0.3202 - dense_2_loss: 0.6142 - val_loss: 1.2232 - val_dense_1_loss: 0.5107 - val_dense_2_loss: 0.7125\n",
      "Epoch 30/50\n",
      "8/8 - 2s - loss: 0.9481 - dense_1_loss: 0.3273 - dense_2_loss: 0.6208 - val_loss: 1.2055 - val_dense_1_loss: 0.4938 - val_dense_2_loss: 0.7117\n",
      "Epoch 31/50\n",
      "8/8 - 2s - loss: 0.9402 - dense_1_loss: 0.3116 - dense_2_loss: 0.6286 - val_loss: 1.1851 - val_dense_1_loss: 0.4734 - val_dense_2_loss: 0.7116\n",
      "Epoch 32/50\n",
      "8/8 - 2s - loss: 0.9023 - dense_1_loss: 0.2809 - dense_2_loss: 0.6213 - val_loss: 1.1644 - val_dense_1_loss: 0.4527 - val_dense_2_loss: 0.7117\n",
      "Epoch 33/50\n",
      "8/8 - 2s - loss: 0.9151 - dense_1_loss: 0.2934 - dense_2_loss: 0.6217 - val_loss: 1.1518 - val_dense_1_loss: 0.4390 - val_dense_2_loss: 0.7128\n",
      "Epoch 34/50\n",
      "8/8 - 2s - loss: 0.9445 - dense_1_loss: 0.3152 - dense_2_loss: 0.6293 - val_loss: 1.1417 - val_dense_1_loss: 0.4281 - val_dense_2_loss: 0.7136\n",
      "Epoch 35/50\n",
      "8/8 - 2s - loss: 0.9187 - dense_1_loss: 0.3030 - dense_2_loss: 0.6157 - val_loss: 1.1357 - val_dense_1_loss: 0.4217 - val_dense_2_loss: 0.7140\n",
      "Epoch 36/50\n",
      "8/8 - 2s - loss: 0.8992 - dense_1_loss: 0.2690 - dense_2_loss: 0.6302 - val_loss: 1.1301 - val_dense_1_loss: 0.4144 - val_dense_2_loss: 0.7158\n",
      "Epoch 37/50\n",
      "8/8 - 2s - loss: 0.8861 - dense_1_loss: 0.2767 - dense_2_loss: 0.6094 - val_loss: 1.1242 - val_dense_1_loss: 0.4078 - val_dense_2_loss: 0.7164\n",
      "Epoch 38/50\n",
      "8/8 - 2s - loss: 0.8442 - dense_1_loss: 0.2688 - dense_2_loss: 0.5755 - val_loss: 1.1227 - val_dense_1_loss: 0.4062 - val_dense_2_loss: 0.7166\n",
      "Epoch 39/50\n",
      "8/8 - 2s - loss: 0.8173 - dense_1_loss: 0.2464 - dense_2_loss: 0.5709 - val_loss: 1.1181 - val_dense_1_loss: 0.4016 - val_dense_2_loss: 0.7165\n",
      "Epoch 40/50\n",
      "8/8 - 2s - loss: 0.8313 - dense_1_loss: 0.2652 - dense_2_loss: 0.5661 - val_loss: 1.1124 - val_dense_1_loss: 0.3956 - val_dense_2_loss: 0.7168\n",
      "Epoch 41/50\n",
      "8/8 - 2s - loss: 0.8379 - dense_1_loss: 0.2614 - dense_2_loss: 0.5765 - val_loss: 1.1059 - val_dense_1_loss: 0.3889 - val_dense_2_loss: 0.7171\n",
      "Epoch 42/50\n",
      "8/8 - 2s - loss: 0.8624 - dense_1_loss: 0.2603 - dense_2_loss: 0.6021 - val_loss: 1.0964 - val_dense_1_loss: 0.3784 - val_dense_2_loss: 0.7180\n",
      "Epoch 43/50\n",
      "8/8 - 2s - loss: 0.8383 - dense_1_loss: 0.2856 - dense_2_loss: 0.5527 - val_loss: 1.0920 - val_dense_1_loss: 0.3733 - val_dense_2_loss: 0.7187\n",
      "Epoch 44/50\n",
      "8/8 - 3s - loss: 0.7897 - dense_1_loss: 0.2381 - dense_2_loss: 0.5515 - val_loss: 1.0877 - val_dense_1_loss: 0.3683 - val_dense_2_loss: 0.7194\n",
      "Epoch 45/50\n",
      "8/8 - 3s - loss: 0.8179 - dense_1_loss: 0.2788 - dense_2_loss: 0.5391 - val_loss: 1.0831 - val_dense_1_loss: 0.3627 - val_dense_2_loss: 0.7204\n",
      "Epoch 46/50\n",
      "8/8 - 2s - loss: 0.7927 - dense_1_loss: 0.2508 - dense_2_loss: 0.5419 - val_loss: 1.0838 - val_dense_1_loss: 0.3617 - val_dense_2_loss: 0.7221\n",
      "Epoch 47/50\n",
      "8/8 - 3s - loss: 0.7949 - dense_1_loss: 0.2579 - dense_2_loss: 0.5370 - val_loss: 1.0843 - val_dense_1_loss: 0.3603 - val_dense_2_loss: 0.7241\n",
      "Epoch 48/50\n",
      "8/8 - 3s - loss: 0.7873 - dense_1_loss: 0.2398 - dense_2_loss: 0.5475 - val_loss: 1.0849 - val_dense_1_loss: 0.3580 - val_dense_2_loss: 0.7269\n"
     ]
    },
    {
     "name": "stderr",
     "output_type": "stream",
     "text": [
      "\u001b[32m[I 2022-03-27 22:33:18,787]\u001b[0m Trial 0 finished with value: 0.35800009965896606 and parameters: {'learning_rate': 5.290969533029896e-05}. Best is trial 0 with value: 0.35800009965896606.\u001b[0m\n"
     ]
    },
    {
     "name": "stdout",
     "output_type": "stream",
     "text": [
      "Epoch 1/50\n",
      "8/8 - 13s - loss: 9.1071 - dense_1_loss: 8.3425 - dense_2_loss: 0.7646 - val_loss: 2.2273 - val_dense_1_loss: 1.5395 - val_dense_2_loss: 0.6878\n",
      "Epoch 2/50\n",
      "8/8 - 3s - loss: 1.9391 - dense_1_loss: 1.2486 - dense_2_loss: 0.6905 - val_loss: 2.0549 - val_dense_1_loss: 1.3705 - val_dense_2_loss: 0.6845\n",
      "Epoch 3/50\n",
      "8/8 - 2s - loss: 1.7487 - dense_1_loss: 1.0646 - dense_2_loss: 0.6840 - val_loss: 2.3957 - val_dense_1_loss: 1.6998 - val_dense_2_loss: 0.6959\n",
      "Epoch 4/50\n",
      "8/8 - 2s - loss: 1.8001 - dense_1_loss: 1.0997 - dense_2_loss: 0.7004 - val_loss: 2.3323 - val_dense_1_loss: 1.6469 - val_dense_2_loss: 0.6855\n",
      "Epoch 5/50\n",
      "8/8 - 2s - loss: 1.7588 - dense_1_loss: 1.0656 - dense_2_loss: 0.6931 - val_loss: 2.3063 - val_dense_1_loss: 1.5819 - val_dense_2_loss: 0.7244\n"
     ]
    },
    {
     "name": "stderr",
     "output_type": "stream",
     "text": [
      "\u001b[32m[I 2022-03-27 22:33:45,205]\u001b[0m Trial 1 finished with value: 1.5819408893585205 and parameters: {'learning_rate': 0.06354347947646927}. Best is trial 1 with value: 1.5819408893585205.\u001b[0m\n"
     ]
    },
    {
     "name": "stdout",
     "output_type": "stream",
     "text": [
      "Epoch 1/50\n",
      "8/8 - 13s - loss: 1.9201 - dense_1_loss: 1.0378 - dense_2_loss: 0.8824 - val_loss: 2.1442 - val_dense_1_loss: 1.4604 - val_dense_2_loss: 0.6838\n",
      "Epoch 2/50\n",
      "8/8 - 3s - loss: 1.8722 - dense_1_loss: 1.0212 - dense_2_loss: 0.8510 - val_loss: 2.1308 - val_dense_1_loss: 1.4468 - val_dense_2_loss: 0.6840\n",
      "Epoch 3/50\n",
      "8/8 - 2s - loss: 1.8104 - dense_1_loss: 0.9877 - dense_2_loss: 0.8226 - val_loss: 2.1179 - val_dense_1_loss: 1.4338 - val_dense_2_loss: 0.6841\n",
      "Epoch 4/50\n",
      "8/8 - 3s - loss: 1.8667 - dense_1_loss: 0.9891 - dense_2_loss: 0.8776 - val_loss: 2.1042 - val_dense_1_loss: 1.4199 - val_dense_2_loss: 0.6843\n",
      "Epoch 5/50\n",
      "8/8 - 2s - loss: 1.8288 - dense_1_loss: 0.9707 - dense_2_loss: 0.8581 - val_loss: 2.0911 - val_dense_1_loss: 1.4065 - val_dense_2_loss: 0.6845\n",
      "Epoch 6/50\n",
      "8/8 - 2s - loss: 1.8124 - dense_1_loss: 0.9641 - dense_2_loss: 0.8483 - val_loss: 2.0792 - val_dense_1_loss: 1.3944 - val_dense_2_loss: 0.6848\n",
      "Epoch 7/50\n",
      "8/8 - 3s - loss: 1.8195 - dense_1_loss: 0.9455 - dense_2_loss: 0.8741 - val_loss: 2.0676 - val_dense_1_loss: 1.3827 - val_dense_2_loss: 0.6849\n",
      "Epoch 8/50\n",
      "8/8 - 3s - loss: 1.8040 - dense_1_loss: 0.9464 - dense_2_loss: 0.8576 - val_loss: 2.0557 - val_dense_1_loss: 1.3706 - val_dense_2_loss: 0.6851\n",
      "Epoch 9/50\n",
      "8/8 - 2s - loss: 1.7360 - dense_1_loss: 0.9159 - dense_2_loss: 0.8201 - val_loss: 2.0454 - val_dense_1_loss: 1.3601 - val_dense_2_loss: 0.6852\n",
      "Epoch 10/50\n",
      "8/8 - 2s - loss: 1.7965 - dense_1_loss: 0.9240 - dense_2_loss: 0.8725 - val_loss: 2.0350 - val_dense_1_loss: 1.3495 - val_dense_2_loss: 0.6854\n",
      "Epoch 11/50\n",
      "8/8 - 3s - loss: 1.7724 - dense_1_loss: 0.9123 - dense_2_loss: 0.8601 - val_loss: 2.0246 - val_dense_1_loss: 1.3389 - val_dense_2_loss: 0.6856\n",
      "Epoch 12/50\n",
      "8/8 - 3s - loss: 1.7257 - dense_1_loss: 0.8780 - dense_2_loss: 0.8477 - val_loss: 2.0136 - val_dense_1_loss: 1.3278 - val_dense_2_loss: 0.6858\n",
      "Epoch 13/50\n",
      "8/8 - 2s - loss: 1.7104 - dense_1_loss: 0.9179 - dense_2_loss: 0.7925 - val_loss: 2.0036 - val_dense_1_loss: 1.3176 - val_dense_2_loss: 0.6861\n",
      "Epoch 14/50\n",
      "8/8 - 2s - loss: 1.7083 - dense_1_loss: 0.8996 - dense_2_loss: 0.8087 - val_loss: 1.9926 - val_dense_1_loss: 1.3064 - val_dense_2_loss: 0.6862\n",
      "Epoch 15/50\n",
      "8/8 - 2s - loss: 1.7279 - dense_1_loss: 0.8999 - dense_2_loss: 0.8280 - val_loss: 1.9819 - val_dense_1_loss: 1.2955 - val_dense_2_loss: 0.6864\n",
      "Epoch 16/50\n",
      "8/8 - 2s - loss: 1.7557 - dense_1_loss: 0.8831 - dense_2_loss: 0.8726 - val_loss: 1.9707 - val_dense_1_loss: 1.2840 - val_dense_2_loss: 0.6866\n",
      "Epoch 17/50\n",
      "8/8 - 3s - loss: 1.6990 - dense_1_loss: 0.8913 - dense_2_loss: 0.8077 - val_loss: 1.9600 - val_dense_1_loss: 1.2729 - val_dense_2_loss: 0.6871\n",
      "Epoch 18/50\n",
      "8/8 - 2s - loss: 1.6739 - dense_1_loss: 0.8572 - dense_2_loss: 0.8167 - val_loss: 1.9504 - val_dense_1_loss: 1.2629 - val_dense_2_loss: 0.6875\n",
      "Epoch 19/50\n",
      "8/8 - 3s - loss: 1.7126 - dense_1_loss: 0.8737 - dense_2_loss: 0.8390 - val_loss: 1.9404 - val_dense_1_loss: 1.2524 - val_dense_2_loss: 0.6879\n",
      "Epoch 20/50\n",
      "8/8 - 2s - loss: 1.6599 - dense_1_loss: 0.8563 - dense_2_loss: 0.8036 - val_loss: 1.9300 - val_dense_1_loss: 1.2417 - val_dense_2_loss: 0.6883\n",
      "Epoch 21/50\n",
      "8/8 - 3s - loss: 1.6960 - dense_1_loss: 0.8684 - dense_2_loss: 0.8276 - val_loss: 1.9195 - val_dense_1_loss: 1.2308 - val_dense_2_loss: 0.6887\n",
      "Epoch 22/50\n",
      "8/8 - 3s - loss: 1.6847 - dense_1_loss: 0.8501 - dense_2_loss: 0.8346 - val_loss: 1.9096 - val_dense_1_loss: 1.2203 - val_dense_2_loss: 0.6893\n",
      "Epoch 23/50\n",
      "8/8 - 3s - loss: 1.6386 - dense_1_loss: 0.8278 - dense_2_loss: 0.8108 - val_loss: 1.8980 - val_dense_1_loss: 1.2083 - val_dense_2_loss: 0.6897\n",
      "Epoch 24/50\n",
      "8/8 - 2s - loss: 1.6572 - dense_1_loss: 0.8148 - dense_2_loss: 0.8424 - val_loss: 1.8872 - val_dense_1_loss: 1.1971 - val_dense_2_loss: 0.6902\n",
      "Epoch 25/50\n",
      "8/8 - 3s - loss: 1.6312 - dense_1_loss: 0.8094 - dense_2_loss: 0.8217 - val_loss: 1.8769 - val_dense_1_loss: 1.1862 - val_dense_2_loss: 0.6907\n",
      "Epoch 26/50\n",
      "8/8 - 3s - loss: 1.6073 - dense_1_loss: 0.8041 - dense_2_loss: 0.8032 - val_loss: 1.8661 - val_dense_1_loss: 1.1748 - val_dense_2_loss: 0.6913\n",
      "Epoch 27/50\n",
      "8/8 - 2s - loss: 1.6215 - dense_1_loss: 0.8051 - dense_2_loss: 0.8164 - val_loss: 1.8561 - val_dense_1_loss: 1.1642 - val_dense_2_loss: 0.6919\n",
      "Epoch 28/50\n",
      "8/8 - 2s - loss: 1.5801 - dense_1_loss: 0.7892 - dense_2_loss: 0.7910 - val_loss: 1.8465 - val_dense_1_loss: 1.1540 - val_dense_2_loss: 0.6926\n",
      "Epoch 29/50\n",
      "8/8 - 2s - loss: 1.6099 - dense_1_loss: 0.7883 - dense_2_loss: 0.8216 - val_loss: 1.8372 - val_dense_1_loss: 1.1440 - val_dense_2_loss: 0.6932\n",
      "Epoch 30/50\n",
      "8/8 - 3s - loss: 1.5324 - dense_1_loss: 0.7748 - dense_2_loss: 0.7576 - val_loss: 1.8270 - val_dense_1_loss: 1.1331 - val_dense_2_loss: 0.6938\n",
      "Epoch 31/50\n",
      "8/8 - 2s - loss: 1.5961 - dense_1_loss: 0.7784 - dense_2_loss: 0.8177 - val_loss: 1.8150 - val_dense_1_loss: 1.1206 - val_dense_2_loss: 0.6944\n",
      "Epoch 32/50\n",
      "8/8 - 3s - loss: 1.6006 - dense_1_loss: 0.7809 - dense_2_loss: 0.8197 - val_loss: 1.8043 - val_dense_1_loss: 1.1090 - val_dense_2_loss: 0.6953\n",
      "Epoch 33/50\n",
      "8/8 - 3s - loss: 1.5487 - dense_1_loss: 0.7716 - dense_2_loss: 0.7770 - val_loss: 1.7935 - val_dense_1_loss: 1.0978 - val_dense_2_loss: 0.6957\n",
      "Epoch 34/50\n",
      "8/8 - 3s - loss: 1.5919 - dense_1_loss: 0.7790 - dense_2_loss: 0.8129 - val_loss: 1.7830 - val_dense_1_loss: 1.0868 - val_dense_2_loss: 0.6962\n",
      "Epoch 35/50\n",
      "8/8 - 2s - loss: 1.5497 - dense_1_loss: 0.7410 - dense_2_loss: 0.8087 - val_loss: 1.7719 - val_dense_1_loss: 1.0750 - val_dense_2_loss: 0.6969\n",
      "Epoch 36/50\n",
      "8/8 - 2s - loss: 1.5461 - dense_1_loss: 0.7376 - dense_2_loss: 0.8086 - val_loss: 1.7615 - val_dense_1_loss: 1.0640 - val_dense_2_loss: 0.6974\n",
      "Epoch 37/50\n",
      "8/8 - 3s - loss: 1.5419 - dense_1_loss: 0.7475 - dense_2_loss: 0.7944 - val_loss: 1.7509 - val_dense_1_loss: 1.0531 - val_dense_2_loss: 0.6977\n",
      "Epoch 38/50\n",
      "8/8 - 3s - loss: 1.5065 - dense_1_loss: 0.7268 - dense_2_loss: 0.7798 - val_loss: 1.7398 - val_dense_1_loss: 1.0416 - val_dense_2_loss: 0.6982\n",
      "Epoch 39/50\n",
      "8/8 - 2s - loss: 1.4928 - dense_1_loss: 0.7278 - dense_2_loss: 0.7650 - val_loss: 1.7284 - val_dense_1_loss: 1.0299 - val_dense_2_loss: 0.6986\n",
      "Epoch 40/50\n",
      "8/8 - 2s - loss: 1.5145 - dense_1_loss: 0.7068 - dense_2_loss: 0.8077 - val_loss: 1.7170 - val_dense_1_loss: 1.0180 - val_dense_2_loss: 0.6990\n",
      "Epoch 41/50\n",
      "8/8 - 2s - loss: 1.4892 - dense_1_loss: 0.6960 - dense_2_loss: 0.7932 - val_loss: 1.7068 - val_dense_1_loss: 1.0069 - val_dense_2_loss: 0.6999\n",
      "Epoch 42/50\n",
      "8/8 - 3s - loss: 1.4697 - dense_1_loss: 0.6915 - dense_2_loss: 0.7782 - val_loss: 1.6972 - val_dense_1_loss: 0.9965 - val_dense_2_loss: 0.7007\n",
      "Epoch 43/50\n",
      "8/8 - 2s - loss: 1.4308 - dense_1_loss: 0.6939 - dense_2_loss: 0.7370 - val_loss: 1.6879 - val_dense_1_loss: 0.9867 - val_dense_2_loss: 0.7012\n",
      "Epoch 44/50\n",
      "8/8 - 3s - loss: 1.4400 - dense_1_loss: 0.6521 - dense_2_loss: 0.7879 - val_loss: 1.6788 - val_dense_1_loss: 0.9767 - val_dense_2_loss: 0.7021\n",
      "Epoch 45/50\n",
      "8/8 - 3s - loss: 1.4710 - dense_1_loss: 0.6821 - dense_2_loss: 0.7888 - val_loss: 1.6694 - val_dense_1_loss: 0.9664 - val_dense_2_loss: 0.7030\n",
      "Epoch 46/50\n",
      "8/8 - 2s - loss: 1.4324 - dense_1_loss: 0.6426 - dense_2_loss: 0.7899 - val_loss: 1.6577 - val_dense_1_loss: 0.9540 - val_dense_2_loss: 0.7037\n",
      "Epoch 47/50\n",
      "8/8 - 2s - loss: 1.4328 - dense_1_loss: 0.6673 - dense_2_loss: 0.7655 - val_loss: 1.6470 - val_dense_1_loss: 0.9427 - val_dense_2_loss: 0.7043\n",
      "Epoch 48/50\n",
      "8/8 - 3s - loss: 1.3892 - dense_1_loss: 0.6255 - dense_2_loss: 0.7637 - val_loss: 1.6356 - val_dense_1_loss: 0.9304 - val_dense_2_loss: 0.7052\n",
      "Epoch 49/50\n",
      "8/8 - 2s - loss: 1.3898 - dense_1_loss: 0.6336 - dense_2_loss: 0.7561 - val_loss: 1.6239 - val_dense_1_loss: 0.9182 - val_dense_2_loss: 0.7056\n",
      "Epoch 50/50\n",
      "8/8 - 2s - loss: 1.3791 - dense_1_loss: 0.6224 - dense_2_loss: 0.7568 - val_loss: 1.6122 - val_dense_1_loss: 0.9061 - val_dense_2_loss: 0.7061\n"
     ]
    },
    {
     "name": "stderr",
     "output_type": "stream",
     "text": [
      "\u001b[32m[I 2022-03-27 22:36:06,558]\u001b[0m Trial 2 finished with value: 0.9060977697372437 and parameters: {'learning_rate': 1.0778301692599004e-05}. Best is trial 1 with value: 1.5819408893585205.\u001b[0m\n"
     ]
    },
    {
     "name": "stdout",
     "output_type": "stream",
     "text": [
      "Epoch 1/50\n",
      "8/8 - 13s - loss: 1.4338 - dense_1_loss: 0.5944 - dense_2_loss: 0.8394 - val_loss: 1.0212 - val_dense_1_loss: 0.3319 - val_dense_2_loss: 0.6893\n",
      "Epoch 2/50\n",
      "8/8 - 3s - loss: 0.8705 - dense_1_loss: 0.2184 - dense_2_loss: 0.6521 - val_loss: 0.9111 - val_dense_1_loss: 0.2197 - val_dense_2_loss: 0.6914\n",
      "Epoch 3/50\n",
      "8/8 - 2s - loss: 0.7984 - dense_1_loss: 0.2115 - dense_2_loss: 0.5869 - val_loss: 0.9781 - val_dense_1_loss: 0.2729 - val_dense_2_loss: 0.7052\n",
      "Epoch 4/50\n",
      "8/8 - 2s - loss: 0.6822 - dense_1_loss: 0.1855 - dense_2_loss: 0.4967 - val_loss: 0.9217 - val_dense_1_loss: 0.2190 - val_dense_2_loss: 0.7026\n",
      "Epoch 5/50\n",
      "8/8 - 2s - loss: 0.5798 - dense_1_loss: 0.1959 - dense_2_loss: 0.3839 - val_loss: 0.9719 - val_dense_1_loss: 0.2434 - val_dense_2_loss: 0.7284\n"
     ]
    },
    {
     "name": "stderr",
     "output_type": "stream",
     "text": [
      "\u001b[32m[I 2022-03-27 22:36:32,510]\u001b[0m Trial 3 finished with value: 0.2434360384941101 and parameters: {'learning_rate': 0.002252504473205948}. Best is trial 1 with value: 1.5819408893585205.\u001b[0m\n"
     ]
    },
    {
     "name": "stdout",
     "output_type": "stream",
     "text": [
      "Epoch 1/50\n",
      "8/8 - 13s - loss: 1.9053 - dense_1_loss: 1.0234 - dense_2_loss: 0.8819 - val_loss: 2.0776 - val_dense_1_loss: 1.3897 - val_dense_2_loss: 0.6879\n",
      "Epoch 2/50\n",
      "8/8 - 2s - loss: 1.7528 - dense_1_loss: 0.9330 - dense_2_loss: 0.8198 - val_loss: 2.0000 - val_dense_1_loss: 1.3131 - val_dense_2_loss: 0.6869\n",
      "Epoch 3/50\n",
      "8/8 - 2s - loss: 1.6545 - dense_1_loss: 0.8714 - dense_2_loss: 0.7832 - val_loss: 1.9270 - val_dense_1_loss: 1.2406 - val_dense_2_loss: 0.6864\n",
      "Epoch 4/50\n",
      "8/8 - 2s - loss: 1.6114 - dense_1_loss: 0.8205 - dense_2_loss: 0.7909 - val_loss: 1.8553 - val_dense_1_loss: 1.1693 - val_dense_2_loss: 0.6859\n",
      "Epoch 5/50\n",
      "8/8 - 2s - loss: 1.5433 - dense_1_loss: 0.7546 - dense_2_loss: 0.7887 - val_loss: 1.7912 - val_dense_1_loss: 1.1055 - val_dense_2_loss: 0.6857\n",
      "Epoch 6/50\n",
      "8/8 - 2s - loss: 1.4959 - dense_1_loss: 0.7377 - dense_2_loss: 0.7582 - val_loss: 1.7264 - val_dense_1_loss: 1.0408 - val_dense_2_loss: 0.6856\n",
      "Epoch 7/50\n",
      "8/8 - 2s - loss: 1.4164 - dense_1_loss: 0.6717 - dense_2_loss: 0.7447 - val_loss: 1.6529 - val_dense_1_loss: 0.9674 - val_dense_2_loss: 0.6856\n",
      "Epoch 8/50\n",
      "8/8 - 3s - loss: 1.3659 - dense_1_loss: 0.6450 - dense_2_loss: 0.7209 - val_loss: 1.5844 - val_dense_1_loss: 0.8991 - val_dense_2_loss: 0.6853\n",
      "Epoch 9/50\n",
      "8/8 - 2s - loss: 1.2842 - dense_1_loss: 0.5814 - dense_2_loss: 0.7028 - val_loss: 1.5202 - val_dense_1_loss: 0.8348 - val_dense_2_loss: 0.6854\n",
      "Epoch 10/50\n",
      "8/8 - 2s - loss: 1.2258 - dense_1_loss: 0.5403 - dense_2_loss: 0.6855 - val_loss: 1.4581 - val_dense_1_loss: 0.7730 - val_dense_2_loss: 0.6850\n",
      "Epoch 11/50\n",
      "8/8 - 3s - loss: 1.1891 - dense_1_loss: 0.5113 - dense_2_loss: 0.6778 - val_loss: 1.4001 - val_dense_1_loss: 0.7150 - val_dense_2_loss: 0.6850\n",
      "Epoch 12/50\n",
      "8/8 - 2s - loss: 1.1508 - dense_1_loss: 0.4743 - dense_2_loss: 0.6765 - val_loss: 1.3497 - val_dense_1_loss: 0.6650 - val_dense_2_loss: 0.6847\n",
      "Epoch 13/50\n",
      "8/8 - 3s - loss: 1.0977 - dense_1_loss: 0.4187 - dense_2_loss: 0.6790 - val_loss: 1.2987 - val_dense_1_loss: 0.6145 - val_dense_2_loss: 0.6842\n",
      "Epoch 14/50\n",
      "8/8 - 3s - loss: 1.0633 - dense_1_loss: 0.4085 - dense_2_loss: 0.6547 - val_loss: 1.2512 - val_dense_1_loss: 0.5669 - val_dense_2_loss: 0.6843\n",
      "Epoch 15/50\n",
      "8/8 - 3s - loss: 0.9930 - dense_1_loss: 0.3739 - dense_2_loss: 0.6190 - val_loss: 1.2059 - val_dense_1_loss: 0.5217 - val_dense_2_loss: 0.6843\n",
      "Epoch 16/50\n",
      "8/8 - 3s - loss: 0.9890 - dense_1_loss: 0.3596 - dense_2_loss: 0.6294 - val_loss: 1.1622 - val_dense_1_loss: 0.4784 - val_dense_2_loss: 0.6838\n",
      "Epoch 17/50\n",
      "8/8 - 2s - loss: 0.9869 - dense_1_loss: 0.3250 - dense_2_loss: 0.6619 - val_loss: 1.1258 - val_dense_1_loss: 0.4423 - val_dense_2_loss: 0.6836\n",
      "Epoch 18/50\n",
      "8/8 - 3s - loss: 0.9832 - dense_1_loss: 0.3173 - dense_2_loss: 0.6660 - val_loss: 1.0901 - val_dense_1_loss: 0.4068 - val_dense_2_loss: 0.6833\n",
      "Epoch 19/50\n",
      "8/8 - 2s - loss: 0.9238 - dense_1_loss: 0.2976 - dense_2_loss: 0.6262 - val_loss: 1.0699 - val_dense_1_loss: 0.3862 - val_dense_2_loss: 0.6837\n",
      "Epoch 20/50\n",
      "8/8 - 2s - loss: 0.9244 - dense_1_loss: 0.2952 - dense_2_loss: 0.6292 - val_loss: 1.0542 - val_dense_1_loss: 0.3699 - val_dense_2_loss: 0.6843\n",
      "Epoch 21/50\n",
      "8/8 - 2s - loss: 0.9156 - dense_1_loss: 0.2801 - dense_2_loss: 0.6355 - val_loss: 1.0386 - val_dense_1_loss: 0.3542 - val_dense_2_loss: 0.6843\n",
      "Epoch 22/50\n",
      "8/8 - 2s - loss: 0.9029 - dense_1_loss: 0.2918 - dense_2_loss: 0.6111 - val_loss: 1.0284 - val_dense_1_loss: 0.3442 - val_dense_2_loss: 0.6843\n",
      "Epoch 23/50\n",
      "8/8 - 2s - loss: 0.8444 - dense_1_loss: 0.2494 - dense_2_loss: 0.5950 - val_loss: 1.0220 - val_dense_1_loss: 0.3381 - val_dense_2_loss: 0.6839\n",
      "Epoch 24/50\n",
      "8/8 - 2s - loss: 0.8543 - dense_1_loss: 0.2449 - dense_2_loss: 0.6093 - val_loss: 1.0166 - val_dense_1_loss: 0.3328 - val_dense_2_loss: 0.6838\n",
      "Epoch 25/50\n",
      "8/8 - 2s - loss: 0.8936 - dense_1_loss: 0.2500 - dense_2_loss: 0.6436 - val_loss: 1.0112 - val_dense_1_loss: 0.3275 - val_dense_2_loss: 0.6837\n",
      "Epoch 26/50\n",
      "8/8 - 2s - loss: 0.8381 - dense_1_loss: 0.2489 - dense_2_loss: 0.5891 - val_loss: 1.0060 - val_dense_1_loss: 0.3227 - val_dense_2_loss: 0.6833\n",
      "Epoch 27/50\n",
      "8/8 - 2s - loss: 0.7991 - dense_1_loss: 0.2409 - dense_2_loss: 0.5583 - val_loss: 1.0021 - val_dense_1_loss: 0.3190 - val_dense_2_loss: 0.6831\n",
      "Epoch 28/50\n",
      "8/8 - 2s - loss: 0.8045 - dense_1_loss: 0.2424 - dense_2_loss: 0.5621 - val_loss: 1.0002 - val_dense_1_loss: 0.3169 - val_dense_2_loss: 0.6833\n",
      "Epoch 29/50\n",
      "8/8 - 3s - loss: 0.8084 - dense_1_loss: 0.2561 - dense_2_loss: 0.5524 - val_loss: 0.9918 - val_dense_1_loss: 0.3081 - val_dense_2_loss: 0.6837\n",
      "Epoch 30/50\n",
      "8/8 - 2s - loss: 0.8180 - dense_1_loss: 0.2587 - dense_2_loss: 0.5593 - val_loss: 0.9900 - val_dense_1_loss: 0.3056 - val_dense_2_loss: 0.6843\n",
      "Epoch 31/50\n",
      "8/8 - 3s - loss: 0.7648 - dense_1_loss: 0.2349 - dense_2_loss: 0.5299 - val_loss: 0.9962 - val_dense_1_loss: 0.3108 - val_dense_2_loss: 0.6854\n",
      "Epoch 32/50\n",
      "8/8 - 2s - loss: 0.7779 - dense_1_loss: 0.2355 - dense_2_loss: 0.5423 - val_loss: 0.9953 - val_dense_1_loss: 0.3090 - val_dense_2_loss: 0.6863\n",
      "Epoch 33/50\n",
      "8/8 - 3s - loss: 0.7648 - dense_1_loss: 0.2270 - dense_2_loss: 0.5378 - val_loss: 0.9874 - val_dense_1_loss: 0.3008 - val_dense_2_loss: 0.6867\n",
      "Epoch 34/50\n",
      "8/8 - 2s - loss: 0.7462 - dense_1_loss: 0.2253 - dense_2_loss: 0.5209 - val_loss: 0.9803 - val_dense_1_loss: 0.2933 - val_dense_2_loss: 0.6870\n",
      "Epoch 35/50\n",
      "8/8 - 2s - loss: 0.7399 - dense_1_loss: 0.2247 - dense_2_loss: 0.5152 - val_loss: 0.9770 - val_dense_1_loss: 0.2896 - val_dense_2_loss: 0.6875\n",
      "Epoch 36/50\n",
      "8/8 - 3s - loss: 0.7488 - dense_1_loss: 0.2270 - dense_2_loss: 0.5218 - val_loss: 0.9730 - val_dense_1_loss: 0.2847 - val_dense_2_loss: 0.6883\n",
      "Epoch 37/50\n",
      "8/8 - 2s - loss: 0.7553 - dense_1_loss: 0.2292 - dense_2_loss: 0.5261 - val_loss: 0.9666 - val_dense_1_loss: 0.2769 - val_dense_2_loss: 0.6897\n",
      "Epoch 38/50\n",
      "8/8 - 2s - loss: 0.7421 - dense_1_loss: 0.2289 - dense_2_loss: 0.5132 - val_loss: 0.9648 - val_dense_1_loss: 0.2740 - val_dense_2_loss: 0.6908\n",
      "Epoch 39/50\n",
      "8/8 - 3s - loss: 0.7379 - dense_1_loss: 0.2206 - dense_2_loss: 0.5173 - val_loss: 0.9663 - val_dense_1_loss: 0.2740 - val_dense_2_loss: 0.6922\n",
      "Epoch 40/50\n",
      "8/8 - 2s - loss: 0.7132 - dense_1_loss: 0.2109 - dense_2_loss: 0.5023 - val_loss: 0.9681 - val_dense_1_loss: 0.2737 - val_dense_2_loss: 0.6944\n",
      "Epoch 41/50\n",
      "8/8 - 2s - loss: 0.6975 - dense_1_loss: 0.2142 - dense_2_loss: 0.4832 - val_loss: 0.9709 - val_dense_1_loss: 0.2742 - val_dense_2_loss: 0.6967\n"
     ]
    },
    {
     "name": "stderr",
     "output_type": "stream",
     "text": [
      "\u001b[32m[I 2022-03-27 22:38:28,753]\u001b[0m Trial 4 finished with value: 0.274245023727417 and parameters: {'learning_rate': 8.192568904136865e-05}. Best is trial 1 with value: 1.5819408893585205.\u001b[0m\n"
     ]
    },
    {
     "name": "stdout",
     "output_type": "stream",
     "text": [
      "Epoch 1/50\n",
      "8/8 - 12s - loss: 1.8660 - dense_1_loss: 1.0190 - dense_2_loss: 0.8470 - val_loss: 2.1811 - val_dense_1_loss: 1.4842 - val_dense_2_loss: 0.6969\n",
      "Epoch 2/50\n",
      "8/8 - 3s - loss: 1.8704 - dense_1_loss: 0.9891 - dense_2_loss: 0.8813 - val_loss: 2.1589 - val_dense_1_loss: 1.4628 - val_dense_2_loss: 0.6961\n",
      "Epoch 3/50\n",
      "8/8 - 2s - loss: 1.8237 - dense_1_loss: 0.9917 - dense_2_loss: 0.8320 - val_loss: 2.1372 - val_dense_1_loss: 1.4417 - val_dense_2_loss: 0.6955\n",
      "Epoch 4/50\n",
      "8/8 - 2s - loss: 1.8057 - dense_1_loss: 0.9713 - dense_2_loss: 0.8344 - val_loss: 2.1160 - val_dense_1_loss: 1.4211 - val_dense_2_loss: 0.6949\n",
      "Epoch 5/50\n",
      "8/8 - 3s - loss: 1.7868 - dense_1_loss: 0.9409 - dense_2_loss: 0.8459 - val_loss: 2.0951 - val_dense_1_loss: 1.4008 - val_dense_2_loss: 0.6943\n",
      "Epoch 6/50\n",
      "8/8 - 2s - loss: 1.7506 - dense_1_loss: 0.9364 - dense_2_loss: 0.8141 - val_loss: 2.0754 - val_dense_1_loss: 1.3815 - val_dense_2_loss: 0.6939\n",
      "Epoch 7/50\n",
      "8/8 - 2s - loss: 1.7298 - dense_1_loss: 0.9157 - dense_2_loss: 0.8141 - val_loss: 2.0563 - val_dense_1_loss: 1.3629 - val_dense_2_loss: 0.6935\n",
      "Epoch 8/50\n",
      "8/8 - 2s - loss: 1.6984 - dense_1_loss: 0.9223 - dense_2_loss: 0.7762 - val_loss: 2.0366 - val_dense_1_loss: 1.3432 - val_dense_2_loss: 0.6935\n",
      "Epoch 9/50\n",
      "8/8 - 2s - loss: 1.6838 - dense_1_loss: 0.9005 - dense_2_loss: 0.7833 - val_loss: 2.0160 - val_dense_1_loss: 1.3230 - val_dense_2_loss: 0.6931\n",
      "Epoch 10/50\n",
      "8/8 - 2s - loss: 1.6552 - dense_1_loss: 0.8780 - dense_2_loss: 0.7772 - val_loss: 1.9987 - val_dense_1_loss: 1.3058 - val_dense_2_loss: 0.6930\n",
      "Epoch 11/50\n",
      "8/8 - 2s - loss: 1.7272 - dense_1_loss: 0.8895 - dense_2_loss: 0.8377 - val_loss: 1.9815 - val_dense_1_loss: 1.2887 - val_dense_2_loss: 0.6928\n",
      "Epoch 12/50\n",
      "8/8 - 2s - loss: 1.6330 - dense_1_loss: 0.8572 - dense_2_loss: 0.7758 - val_loss: 1.9640 - val_dense_1_loss: 1.2712 - val_dense_2_loss: 0.6927\n",
      "Epoch 13/50\n",
      "8/8 - 2s - loss: 1.6515 - dense_1_loss: 0.8438 - dense_2_loss: 0.8077 - val_loss: 1.9476 - val_dense_1_loss: 1.2550 - val_dense_2_loss: 0.6926\n",
      "Epoch 14/50\n",
      "8/8 - 2s - loss: 1.6019 - dense_1_loss: 0.8349 - dense_2_loss: 0.7670 - val_loss: 1.9321 - val_dense_1_loss: 1.2396 - val_dense_2_loss: 0.6925\n",
      "Epoch 15/50\n",
      "8/8 - 2s - loss: 1.5810 - dense_1_loss: 0.8166 - dense_2_loss: 0.7645 - val_loss: 1.9163 - val_dense_1_loss: 1.2236 - val_dense_2_loss: 0.6927\n",
      "Epoch 16/50\n",
      "8/8 - 3s - loss: 1.5585 - dense_1_loss: 0.7962 - dense_2_loss: 0.7623 - val_loss: 1.9003 - val_dense_1_loss: 1.2077 - val_dense_2_loss: 0.6926\n",
      "Epoch 17/50\n",
      "8/8 - 2s - loss: 1.5951 - dense_1_loss: 0.7941 - dense_2_loss: 0.8010 - val_loss: 1.8833 - val_dense_1_loss: 1.1908 - val_dense_2_loss: 0.6925\n",
      "Epoch 18/50\n",
      "8/8 - 2s - loss: 1.5442 - dense_1_loss: 0.7898 - dense_2_loss: 0.7544 - val_loss: 1.8639 - val_dense_1_loss: 1.1716 - val_dense_2_loss: 0.6923\n",
      "Epoch 19/50\n",
      "8/8 - 3s - loss: 1.5393 - dense_1_loss: 0.7590 - dense_2_loss: 0.7802 - val_loss: 1.8467 - val_dense_1_loss: 1.1545 - val_dense_2_loss: 0.6922\n",
      "Epoch 20/50\n",
      "8/8 - 2s - loss: 1.5434 - dense_1_loss: 0.7697 - dense_2_loss: 0.7738 - val_loss: 1.8298 - val_dense_1_loss: 1.1375 - val_dense_2_loss: 0.6922\n",
      "Epoch 21/50\n",
      "8/8 - 2s - loss: 1.5283 - dense_1_loss: 0.7412 - dense_2_loss: 0.7871 - val_loss: 1.8116 - val_dense_1_loss: 1.1192 - val_dense_2_loss: 0.6925\n",
      "Epoch 22/50\n",
      "8/8 - 2s - loss: 1.4718 - dense_1_loss: 0.7250 - dense_2_loss: 0.7468 - val_loss: 1.7945 - val_dense_1_loss: 1.1017 - val_dense_2_loss: 0.6928\n",
      "Epoch 23/50\n",
      "8/8 - 2s - loss: 1.4961 - dense_1_loss: 0.7354 - dense_2_loss: 0.7607 - val_loss: 1.7769 - val_dense_1_loss: 1.0836 - val_dense_2_loss: 0.6932\n",
      "Epoch 24/50\n",
      "8/8 - 3s - loss: 1.4418 - dense_1_loss: 0.7140 - dense_2_loss: 0.7278 - val_loss: 1.7589 - val_dense_1_loss: 1.0652 - val_dense_2_loss: 0.6937\n",
      "Epoch 25/50\n",
      "8/8 - 3s - loss: 1.4417 - dense_1_loss: 0.6877 - dense_2_loss: 0.7541 - val_loss: 1.7402 - val_dense_1_loss: 1.0462 - val_dense_2_loss: 0.6940\n",
      "Epoch 26/50\n",
      "8/8 - 3s - loss: 1.4030 - dense_1_loss: 0.6641 - dense_2_loss: 0.7390 - val_loss: 1.7219 - val_dense_1_loss: 1.0276 - val_dense_2_loss: 0.6943\n",
      "Epoch 27/50\n",
      "8/8 - 2s - loss: 1.3943 - dense_1_loss: 0.6668 - dense_2_loss: 0.7275 - val_loss: 1.7004 - val_dense_1_loss: 1.0056 - val_dense_2_loss: 0.6948\n",
      "Epoch 28/50\n",
      "8/8 - 2s - loss: 1.3445 - dense_1_loss: 0.6282 - dense_2_loss: 0.7162 - val_loss: 1.6814 - val_dense_1_loss: 0.9860 - val_dense_2_loss: 0.6954\n",
      "Epoch 29/50\n",
      "8/8 - 2s - loss: 1.3418 - dense_1_loss: 0.6251 - dense_2_loss: 0.7167 - val_loss: 1.6622 - val_dense_1_loss: 0.9662 - val_dense_2_loss: 0.6960\n",
      "Epoch 30/50\n",
      "8/8 - 2s - loss: 1.3392 - dense_1_loss: 0.6212 - dense_2_loss: 0.7179 - val_loss: 1.6433 - val_dense_1_loss: 0.9466 - val_dense_2_loss: 0.6966\n",
      "Epoch 31/50\n",
      "8/8 - 3s - loss: 1.3209 - dense_1_loss: 0.6053 - dense_2_loss: 0.7156 - val_loss: 1.6259 - val_dense_1_loss: 0.9283 - val_dense_2_loss: 0.6976\n",
      "Epoch 32/50\n",
      "8/8 - 2s - loss: 1.3185 - dense_1_loss: 0.6140 - dense_2_loss: 0.7045 - val_loss: 1.6072 - val_dense_1_loss: 0.9085 - val_dense_2_loss: 0.6987\n",
      "Epoch 33/50\n",
      "8/8 - 2s - loss: 1.3229 - dense_1_loss: 0.5746 - dense_2_loss: 0.7483 - val_loss: 1.5864 - val_dense_1_loss: 0.8873 - val_dense_2_loss: 0.6991\n",
      "Epoch 34/50\n",
      "8/8 - 2s - loss: 1.2837 - dense_1_loss: 0.5659 - dense_2_loss: 0.7178 - val_loss: 1.5656 - val_dense_1_loss: 0.8663 - val_dense_2_loss: 0.6993\n",
      "Epoch 35/50\n",
      "8/8 - 3s - loss: 1.2499 - dense_1_loss: 0.5393 - dense_2_loss: 0.7106 - val_loss: 1.5442 - val_dense_1_loss: 0.8440 - val_dense_2_loss: 0.7002\n",
      "Epoch 36/50\n",
      "8/8 - 3s - loss: 1.2448 - dense_1_loss: 0.5265 - dense_2_loss: 0.7183 - val_loss: 1.5250 - val_dense_1_loss: 0.8235 - val_dense_2_loss: 0.7015\n",
      "Epoch 37/50\n",
      "8/8 - 2s - loss: 1.2278 - dense_1_loss: 0.5184 - dense_2_loss: 0.7093 - val_loss: 1.5065 - val_dense_1_loss: 0.8038 - val_dense_2_loss: 0.7026\n",
      "Epoch 38/50\n",
      "8/8 - 2s - loss: 1.2282 - dense_1_loss: 0.5022 - dense_2_loss: 0.7260 - val_loss: 1.4888 - val_dense_1_loss: 0.7848 - val_dense_2_loss: 0.7041\n",
      "Epoch 39/50\n",
      "8/8 - 2s - loss: 1.2169 - dense_1_loss: 0.5081 - dense_2_loss: 0.7089 - val_loss: 1.4708 - val_dense_1_loss: 0.7652 - val_dense_2_loss: 0.7056\n",
      "Epoch 40/50\n",
      "8/8 - 2s - loss: 1.2043 - dense_1_loss: 0.5019 - dense_2_loss: 0.7024 - val_loss: 1.4526 - val_dense_1_loss: 0.7457 - val_dense_2_loss: 0.7070\n",
      "Epoch 41/50\n",
      "8/8 - 3s - loss: 1.2179 - dense_1_loss: 0.4892 - dense_2_loss: 0.7286 - val_loss: 1.4333 - val_dense_1_loss: 0.7248 - val_dense_2_loss: 0.7085\n",
      "Epoch 42/50\n",
      "8/8 - 3s - loss: 1.1498 - dense_1_loss: 0.4584 - dense_2_loss: 0.6914 - val_loss: 1.4150 - val_dense_1_loss: 0.7047 - val_dense_2_loss: 0.7103\n",
      "Epoch 43/50\n",
      "8/8 - 3s - loss: 1.1451 - dense_1_loss: 0.4548 - dense_2_loss: 0.6903 - val_loss: 1.3891 - val_dense_1_loss: 0.6772 - val_dense_2_loss: 0.7119\n",
      "Epoch 44/50\n",
      "8/8 - 3s - loss: 1.1179 - dense_1_loss: 0.4366 - dense_2_loss: 0.6813 - val_loss: 1.3683 - val_dense_1_loss: 0.6547 - val_dense_2_loss: 0.7136\n",
      "Epoch 45/50\n",
      "8/8 - 3s - loss: 1.1313 - dense_1_loss: 0.4210 - dense_2_loss: 0.7103 - val_loss: 1.3508 - val_dense_1_loss: 0.6353 - val_dense_2_loss: 0.7155\n",
      "Epoch 46/50\n",
      "8/8 - 3s - loss: 1.1024 - dense_1_loss: 0.4071 - dense_2_loss: 0.6952 - val_loss: 1.3335 - val_dense_1_loss: 0.6159 - val_dense_2_loss: 0.7177\n",
      "Epoch 47/50\n",
      "8/8 - 2s - loss: 1.0872 - dense_1_loss: 0.3870 - dense_2_loss: 0.7001 - val_loss: 1.3187 - val_dense_1_loss: 0.5986 - val_dense_2_loss: 0.7201\n",
      "Epoch 48/50\n",
      "8/8 - 3s - loss: 1.0903 - dense_1_loss: 0.3989 - dense_2_loss: 0.6914 - val_loss: 1.3045 - val_dense_1_loss: 0.5822 - val_dense_2_loss: 0.7222\n",
      "Epoch 49/50\n",
      "8/8 - 3s - loss: 1.0664 - dense_1_loss: 0.3660 - dense_2_loss: 0.7004 - val_loss: 1.2901 - val_dense_1_loss: 0.5665 - val_dense_2_loss: 0.7237\n",
      "Epoch 50/50\n",
      "8/8 - 2s - loss: 1.0305 - dense_1_loss: 0.3573 - dense_2_loss: 0.6732 - val_loss: 1.2776 - val_dense_1_loss: 0.5523 - val_dense_2_loss: 0.7253\n"
     ]
    },
    {
     "name": "stderr",
     "output_type": "stream",
     "text": [
      "\u001b[32m[I 2022-03-27 22:40:48,644]\u001b[0m Trial 5 finished with value: 0.5523176789283752 and parameters: {'learning_rate': 2.2018199657043985e-05}. Best is trial 1 with value: 1.5819408893585205.\u001b[0m\n"
     ]
    },
    {
     "name": "stdout",
     "output_type": "stream",
     "text": [
      "Epoch 1/50\n"
     ]
    },
    {
     "ename": "KeyboardInterrupt",
     "evalue": "",
     "output_type": "error",
     "traceback": [
      "\u001b[1;31m---------------------------------------------------------------------------\u001b[0m",
      "\u001b[1;31mKeyboardInterrupt\u001b[0m                         Traceback (most recent call last)",
      "\u001b[1;32mc:\\Users\\32mor\\OneDrive\\Documents\\Polytechnique\\NLP & Natixis\\natixis\\starting_kit\\clean_models.ipynb Cell 10'\u001b[0m in \u001b[0;36m<cell line: 2>\u001b[1;34m()\u001b[0m\n\u001b[0;32m      <a href='vscode-notebook-cell:/c%3A/Users/32mor/OneDrive/Documents/Polytechnique/NLP%20%26%20Natixis/natixis/starting_kit/clean_models.ipynb#ch0000033?line=0'>1</a>\u001b[0m study \u001b[39m=\u001b[39m optuna\u001b[39m.\u001b[39mcreate_study(direction\u001b[39m=\u001b[39m\u001b[39m\"\u001b[39m\u001b[39mmaximize\u001b[39m\u001b[39m\"\u001b[39m)\n\u001b[1;32m----> <a href='vscode-notebook-cell:/c%3A/Users/32mor/OneDrive/Documents/Polytechnique/NLP%20%26%20Natixis/natixis/starting_kit/clean_models.ipynb#ch0000033?line=1'>2</a>\u001b[0m study\u001b[39m.\u001b[39;49moptimize(objective_full, n_trials\u001b[39m=\u001b[39;49m\u001b[39m10\u001b[39;49m, timeout\u001b[39m=\u001b[39;49m\u001b[39mNone\u001b[39;49;00m)\n\u001b[0;32m      <a href='vscode-notebook-cell:/c%3A/Users/32mor/OneDrive/Documents/Polytechnique/NLP%20%26%20Natixis/natixis/starting_kit/clean_models.ipynb#ch0000033?line=3'>4</a>\u001b[0m \u001b[39mprint\u001b[39m(\u001b[39m\"\u001b[39m\u001b[39mNumber of finished trials: \u001b[39m\u001b[39m{}\u001b[39;00m\u001b[39m\"\u001b[39m\u001b[39m.\u001b[39mformat(\u001b[39mlen\u001b[39m(study\u001b[39m.\u001b[39mtrials)))\n\u001b[0;32m      <a href='vscode-notebook-cell:/c%3A/Users/32mor/OneDrive/Documents/Polytechnique/NLP%20%26%20Natixis/natixis/starting_kit/clean_models.ipynb#ch0000033?line=5'>6</a>\u001b[0m \u001b[39mprint\u001b[39m(\u001b[39m\"\u001b[39m\u001b[39mBest trial:\u001b[39m\u001b[39m\"\u001b[39m)\n",
      "File \u001b[1;32m~\\anaconda3\\envs\\proper_tf_natixis\\lib\\site-packages\\optuna\\study\\study.py:400\u001b[0m, in \u001b[0;36mStudy.optimize\u001b[1;34m(self, func, n_trials, timeout, n_jobs, catch, callbacks, gc_after_trial, show_progress_bar)\u001b[0m\n\u001b[0;32m    <a href='file:///c%3A/Users/32mor/anaconda3/envs/proper_tf_natixis/lib/site-packages/optuna/study/study.py?line=391'>392</a>\u001b[0m \u001b[39mif\u001b[39;00m n_jobs \u001b[39m!=\u001b[39m \u001b[39m1\u001b[39m:\n\u001b[0;32m    <a href='file:///c%3A/Users/32mor/anaconda3/envs/proper_tf_natixis/lib/site-packages/optuna/study/study.py?line=392'>393</a>\u001b[0m     warnings\u001b[39m.\u001b[39mwarn(\n\u001b[0;32m    <a href='file:///c%3A/Users/32mor/anaconda3/envs/proper_tf_natixis/lib/site-packages/optuna/study/study.py?line=393'>394</a>\u001b[0m         \u001b[39m\"\u001b[39m\u001b[39m`n_jobs` argument has been deprecated in v2.7.0. \u001b[39m\u001b[39m\"\u001b[39m\n\u001b[0;32m    <a href='file:///c%3A/Users/32mor/anaconda3/envs/proper_tf_natixis/lib/site-packages/optuna/study/study.py?line=394'>395</a>\u001b[0m         \u001b[39m\"\u001b[39m\u001b[39mThis feature will be removed in v4.0.0. \u001b[39m\u001b[39m\"\u001b[39m\n\u001b[0;32m    <a href='file:///c%3A/Users/32mor/anaconda3/envs/proper_tf_natixis/lib/site-packages/optuna/study/study.py?line=395'>396</a>\u001b[0m         \u001b[39m\"\u001b[39m\u001b[39mSee https://github.com/optuna/optuna/releases/tag/v2.7.0.\u001b[39m\u001b[39m\"\u001b[39m,\n\u001b[0;32m    <a href='file:///c%3A/Users/32mor/anaconda3/envs/proper_tf_natixis/lib/site-packages/optuna/study/study.py?line=396'>397</a>\u001b[0m         \u001b[39mFutureWarning\u001b[39;00m,\n\u001b[0;32m    <a href='file:///c%3A/Users/32mor/anaconda3/envs/proper_tf_natixis/lib/site-packages/optuna/study/study.py?line=397'>398</a>\u001b[0m     )\n\u001b[1;32m--> <a href='file:///c%3A/Users/32mor/anaconda3/envs/proper_tf_natixis/lib/site-packages/optuna/study/study.py?line=399'>400</a>\u001b[0m _optimize(\n\u001b[0;32m    <a href='file:///c%3A/Users/32mor/anaconda3/envs/proper_tf_natixis/lib/site-packages/optuna/study/study.py?line=400'>401</a>\u001b[0m     study\u001b[39m=\u001b[39;49m\u001b[39mself\u001b[39;49m,\n\u001b[0;32m    <a href='file:///c%3A/Users/32mor/anaconda3/envs/proper_tf_natixis/lib/site-packages/optuna/study/study.py?line=401'>402</a>\u001b[0m     func\u001b[39m=\u001b[39;49mfunc,\n\u001b[0;32m    <a href='file:///c%3A/Users/32mor/anaconda3/envs/proper_tf_natixis/lib/site-packages/optuna/study/study.py?line=402'>403</a>\u001b[0m     n_trials\u001b[39m=\u001b[39;49mn_trials,\n\u001b[0;32m    <a href='file:///c%3A/Users/32mor/anaconda3/envs/proper_tf_natixis/lib/site-packages/optuna/study/study.py?line=403'>404</a>\u001b[0m     timeout\u001b[39m=\u001b[39;49mtimeout,\n\u001b[0;32m    <a href='file:///c%3A/Users/32mor/anaconda3/envs/proper_tf_natixis/lib/site-packages/optuna/study/study.py?line=404'>405</a>\u001b[0m     n_jobs\u001b[39m=\u001b[39;49mn_jobs,\n\u001b[0;32m    <a href='file:///c%3A/Users/32mor/anaconda3/envs/proper_tf_natixis/lib/site-packages/optuna/study/study.py?line=405'>406</a>\u001b[0m     catch\u001b[39m=\u001b[39;49mcatch,\n\u001b[0;32m    <a href='file:///c%3A/Users/32mor/anaconda3/envs/proper_tf_natixis/lib/site-packages/optuna/study/study.py?line=406'>407</a>\u001b[0m     callbacks\u001b[39m=\u001b[39;49mcallbacks,\n\u001b[0;32m    <a href='file:///c%3A/Users/32mor/anaconda3/envs/proper_tf_natixis/lib/site-packages/optuna/study/study.py?line=407'>408</a>\u001b[0m     gc_after_trial\u001b[39m=\u001b[39;49mgc_after_trial,\n\u001b[0;32m    <a href='file:///c%3A/Users/32mor/anaconda3/envs/proper_tf_natixis/lib/site-packages/optuna/study/study.py?line=408'>409</a>\u001b[0m     show_progress_bar\u001b[39m=\u001b[39;49mshow_progress_bar,\n\u001b[0;32m    <a href='file:///c%3A/Users/32mor/anaconda3/envs/proper_tf_natixis/lib/site-packages/optuna/study/study.py?line=409'>410</a>\u001b[0m )\n",
      "File \u001b[1;32m~\\anaconda3\\envs\\proper_tf_natixis\\lib\\site-packages\\optuna\\study\\_optimize.py:66\u001b[0m, in \u001b[0;36m_optimize\u001b[1;34m(study, func, n_trials, timeout, n_jobs, catch, callbacks, gc_after_trial, show_progress_bar)\u001b[0m\n\u001b[0;32m     <a href='file:///c%3A/Users/32mor/anaconda3/envs/proper_tf_natixis/lib/site-packages/optuna/study/_optimize.py?line=63'>64</a>\u001b[0m \u001b[39mtry\u001b[39;00m:\n\u001b[0;32m     <a href='file:///c%3A/Users/32mor/anaconda3/envs/proper_tf_natixis/lib/site-packages/optuna/study/_optimize.py?line=64'>65</a>\u001b[0m     \u001b[39mif\u001b[39;00m n_jobs \u001b[39m==\u001b[39m \u001b[39m1\u001b[39m:\n\u001b[1;32m---> <a href='file:///c%3A/Users/32mor/anaconda3/envs/proper_tf_natixis/lib/site-packages/optuna/study/_optimize.py?line=65'>66</a>\u001b[0m         _optimize_sequential(\n\u001b[0;32m     <a href='file:///c%3A/Users/32mor/anaconda3/envs/proper_tf_natixis/lib/site-packages/optuna/study/_optimize.py?line=66'>67</a>\u001b[0m             study,\n\u001b[0;32m     <a href='file:///c%3A/Users/32mor/anaconda3/envs/proper_tf_natixis/lib/site-packages/optuna/study/_optimize.py?line=67'>68</a>\u001b[0m             func,\n\u001b[0;32m     <a href='file:///c%3A/Users/32mor/anaconda3/envs/proper_tf_natixis/lib/site-packages/optuna/study/_optimize.py?line=68'>69</a>\u001b[0m             n_trials,\n\u001b[0;32m     <a href='file:///c%3A/Users/32mor/anaconda3/envs/proper_tf_natixis/lib/site-packages/optuna/study/_optimize.py?line=69'>70</a>\u001b[0m             timeout,\n\u001b[0;32m     <a href='file:///c%3A/Users/32mor/anaconda3/envs/proper_tf_natixis/lib/site-packages/optuna/study/_optimize.py?line=70'>71</a>\u001b[0m             catch,\n\u001b[0;32m     <a href='file:///c%3A/Users/32mor/anaconda3/envs/proper_tf_natixis/lib/site-packages/optuna/study/_optimize.py?line=71'>72</a>\u001b[0m             callbacks,\n\u001b[0;32m     <a href='file:///c%3A/Users/32mor/anaconda3/envs/proper_tf_natixis/lib/site-packages/optuna/study/_optimize.py?line=72'>73</a>\u001b[0m             gc_after_trial,\n\u001b[0;32m     <a href='file:///c%3A/Users/32mor/anaconda3/envs/proper_tf_natixis/lib/site-packages/optuna/study/_optimize.py?line=73'>74</a>\u001b[0m             reseed_sampler_rng\u001b[39m=\u001b[39;49m\u001b[39mFalse\u001b[39;49;00m,\n\u001b[0;32m     <a href='file:///c%3A/Users/32mor/anaconda3/envs/proper_tf_natixis/lib/site-packages/optuna/study/_optimize.py?line=74'>75</a>\u001b[0m             time_start\u001b[39m=\u001b[39;49m\u001b[39mNone\u001b[39;49;00m,\n\u001b[0;32m     <a href='file:///c%3A/Users/32mor/anaconda3/envs/proper_tf_natixis/lib/site-packages/optuna/study/_optimize.py?line=75'>76</a>\u001b[0m             progress_bar\u001b[39m=\u001b[39;49mprogress_bar,\n\u001b[0;32m     <a href='file:///c%3A/Users/32mor/anaconda3/envs/proper_tf_natixis/lib/site-packages/optuna/study/_optimize.py?line=76'>77</a>\u001b[0m         )\n\u001b[0;32m     <a href='file:///c%3A/Users/32mor/anaconda3/envs/proper_tf_natixis/lib/site-packages/optuna/study/_optimize.py?line=77'>78</a>\u001b[0m     \u001b[39melse\u001b[39;00m:\n\u001b[0;32m     <a href='file:///c%3A/Users/32mor/anaconda3/envs/proper_tf_natixis/lib/site-packages/optuna/study/_optimize.py?line=78'>79</a>\u001b[0m         \u001b[39mif\u001b[39;00m show_progress_bar:\n",
      "File \u001b[1;32m~\\anaconda3\\envs\\proper_tf_natixis\\lib\\site-packages\\optuna\\study\\_optimize.py:163\u001b[0m, in \u001b[0;36m_optimize_sequential\u001b[1;34m(study, func, n_trials, timeout, catch, callbacks, gc_after_trial, reseed_sampler_rng, time_start, progress_bar)\u001b[0m\n\u001b[0;32m    <a href='file:///c%3A/Users/32mor/anaconda3/envs/proper_tf_natixis/lib/site-packages/optuna/study/_optimize.py?line=159'>160</a>\u001b[0m         \u001b[39mbreak\u001b[39;00m\n\u001b[0;32m    <a href='file:///c%3A/Users/32mor/anaconda3/envs/proper_tf_natixis/lib/site-packages/optuna/study/_optimize.py?line=161'>162</a>\u001b[0m \u001b[39mtry\u001b[39;00m:\n\u001b[1;32m--> <a href='file:///c%3A/Users/32mor/anaconda3/envs/proper_tf_natixis/lib/site-packages/optuna/study/_optimize.py?line=162'>163</a>\u001b[0m     trial \u001b[39m=\u001b[39m _run_trial(study, func, catch)\n\u001b[0;32m    <a href='file:///c%3A/Users/32mor/anaconda3/envs/proper_tf_natixis/lib/site-packages/optuna/study/_optimize.py?line=163'>164</a>\u001b[0m \u001b[39mexcept\u001b[39;00m \u001b[39mException\u001b[39;00m:\n\u001b[0;32m    <a href='file:///c%3A/Users/32mor/anaconda3/envs/proper_tf_natixis/lib/site-packages/optuna/study/_optimize.py?line=164'>165</a>\u001b[0m     \u001b[39mraise\u001b[39;00m\n",
      "File \u001b[1;32m~\\anaconda3\\envs\\proper_tf_natixis\\lib\\site-packages\\optuna\\study\\_optimize.py:213\u001b[0m, in \u001b[0;36m_run_trial\u001b[1;34m(study, func, catch)\u001b[0m\n\u001b[0;32m    <a href='file:///c%3A/Users/32mor/anaconda3/envs/proper_tf_natixis/lib/site-packages/optuna/study/_optimize.py?line=209'>210</a>\u001b[0m     thread\u001b[39m.\u001b[39mstart()\n\u001b[0;32m    <a href='file:///c%3A/Users/32mor/anaconda3/envs/proper_tf_natixis/lib/site-packages/optuna/study/_optimize.py?line=211'>212</a>\u001b[0m \u001b[39mtry\u001b[39;00m:\n\u001b[1;32m--> <a href='file:///c%3A/Users/32mor/anaconda3/envs/proper_tf_natixis/lib/site-packages/optuna/study/_optimize.py?line=212'>213</a>\u001b[0m     value_or_values \u001b[39m=\u001b[39m func(trial)\n\u001b[0;32m    <a href='file:///c%3A/Users/32mor/anaconda3/envs/proper_tf_natixis/lib/site-packages/optuna/study/_optimize.py?line=213'>214</a>\u001b[0m \u001b[39mexcept\u001b[39;00m exceptions\u001b[39m.\u001b[39mTrialPruned \u001b[39mas\u001b[39;00m e:\n\u001b[0;32m    <a href='file:///c%3A/Users/32mor/anaconda3/envs/proper_tf_natixis/lib/site-packages/optuna/study/_optimize.py?line=214'>215</a>\u001b[0m     \u001b[39m# TODO(mamu): Handle multi-objective cases.\u001b[39;00m\n\u001b[0;32m    <a href='file:///c%3A/Users/32mor/anaconda3/envs/proper_tf_natixis/lib/site-packages/optuna/study/_optimize.py?line=215'>216</a>\u001b[0m     state \u001b[39m=\u001b[39m TrialState\u001b[39m.\u001b[39mPRUNED\n",
      "\u001b[1;32mc:\\Users\\32mor\\OneDrive\\Documents\\Polytechnique\\NLP & Natixis\\natixis\\starting_kit\\clean_models.ipynb Cell 8'\u001b[0m in \u001b[0;36mobjective_full\u001b[1;34m(trial)\u001b[0m\n\u001b[0;32m     <a href='vscode-notebook-cell:/c%3A/Users/32mor/OneDrive/Documents/Polytechnique/NLP%20%26%20Natixis/natixis/starting_kit/clean_models.ipynb#ch0000032?line=13'>14</a>\u001b[0m optimizer \u001b[39m=\u001b[39m Adam(learning_rate\u001b[39m=\u001b[39mlearning_rate)\n\u001b[0;32m     <a href='vscode-notebook-cell:/c%3A/Users/32mor/OneDrive/Documents/Polytechnique/NLP%20%26%20Natixis/natixis/starting_kit/clean_models.ipynb#ch0000032?line=14'>15</a>\u001b[0m model\u001b[39m.\u001b[39mcompile(loss\u001b[39m=\u001b[39m[\u001b[39m'\u001b[39m\u001b[39mmse\u001b[39m\u001b[39m'\u001b[39m,tf\u001b[39m.\u001b[39mkeras\u001b[39m.\u001b[39mlosses\u001b[39m.\u001b[39mbinary_crossentropy], \n\u001b[0;32m     <a href='vscode-notebook-cell:/c%3A/Users/32mor/OneDrive/Documents/Polytechnique/NLP%20%26%20Natixis/natixis/starting_kit/clean_models.ipynb#ch0000032?line=15'>16</a>\u001b[0m                 optimizer\u001b[39m=\u001b[39moptimizer)\n\u001b[1;32m---> <a href='vscode-notebook-cell:/c%3A/Users/32mor/OneDrive/Documents/Polytechnique/NLP%20%26%20Natixis/natixis/starting_kit/clean_models.ipynb#ch0000032?line=17'>18</a>\u001b[0m history \u001b[39m=\u001b[39m model\u001b[39m.\u001b[39;49mfit([X_fed_lstm_train, X_ecb_lstm_train, X_num_train], \n\u001b[0;32m     <a href='vscode-notebook-cell:/c%3A/Users/32mor/OneDrive/Documents/Polytechnique/NLP%20%26%20Natixis/natixis/starting_kit/clean_models.ipynb#ch0000032?line=18'>19</a>\u001b[0m                     [y_train_reg,y_train_cat], \n\u001b[0;32m     <a href='vscode-notebook-cell:/c%3A/Users/32mor/OneDrive/Documents/Polytechnique/NLP%20%26%20Natixis/natixis/starting_kit/clean_models.ipynb#ch0000032?line=19'>20</a>\u001b[0m                     epochs\u001b[39m=\u001b[39;49m\u001b[39m50\u001b[39;49m, \n\u001b[0;32m     <a href='vscode-notebook-cell:/c%3A/Users/32mor/OneDrive/Documents/Polytechnique/NLP%20%26%20Natixis/natixis/starting_kit/clean_models.ipynb#ch0000032?line=20'>21</a>\u001b[0m                     batch_size\u001b[39m=\u001b[39;49m\u001b[39m128\u001b[39;49m, verbose\u001b[39m=\u001b[39;49m\u001b[39m2\u001b[39;49m,\n\u001b[0;32m     <a href='vscode-notebook-cell:/c%3A/Users/32mor/OneDrive/Documents/Polytechnique/NLP%20%26%20Natixis/natixis/starting_kit/clean_models.ipynb#ch0000032?line=21'>22</a>\u001b[0m                     callbacks\u001b[39m=\u001b[39;49m[early_stop, tensorboard_callback, ], \n\u001b[0;32m     <a href='vscode-notebook-cell:/c%3A/Users/32mor/OneDrive/Documents/Polytechnique/NLP%20%26%20Natixis/natixis/starting_kit/clean_models.ipynb#ch0000032?line=22'>23</a>\u001b[0m                     validation_data\u001b[39m=\u001b[39;49m([X_fed_lstm_val,X_ecb_lstm_val, X_num_val],[y_val_reg,y_val_cat]))\n\u001b[0;32m     <a href='vscode-notebook-cell:/c%3A/Users/32mor/OneDrive/Documents/Polytechnique/NLP%20%26%20Natixis/natixis/starting_kit/clean_models.ipynb#ch0000032?line=25'>26</a>\u001b[0m \u001b[39m# Evaluate the model accuracy on the validation set.\u001b[39;00m\n\u001b[0;32m     <a href='vscode-notebook-cell:/c%3A/Users/32mor/OneDrive/Documents/Polytechnique/NLP%20%26%20Natixis/natixis/starting_kit/clean_models.ipynb#ch0000032?line=26'>27</a>\u001b[0m score \u001b[39m=\u001b[39m model\u001b[39m.\u001b[39mevaluate([X_fed_lstm_val,X_ecb_lstm_val, X_num_val],[y_val_reg,y_val_cat], verbose\u001b[39m=\u001b[39m\u001b[39m0\u001b[39m)\n",
      "File \u001b[1;32m~\\anaconda3\\envs\\proper_tf_natixis\\lib\\site-packages\\tensorflow\\python\\keras\\engine\\training.py:1100\u001b[0m, in \u001b[0;36mModel.fit\u001b[1;34m(self, x, y, batch_size, epochs, verbose, callbacks, validation_split, validation_data, shuffle, class_weight, sample_weight, initial_epoch, steps_per_epoch, validation_steps, validation_batch_size, validation_freq, max_queue_size, workers, use_multiprocessing)\u001b[0m\n\u001b[0;32m   <a href='file:///c%3A/Users/32mor/anaconda3/envs/proper_tf_natixis/lib/site-packages/tensorflow/python/keras/engine/training.py?line=1092'>1093</a>\u001b[0m \u001b[39mwith\u001b[39;00m trace\u001b[39m.\u001b[39mTrace(\n\u001b[0;32m   <a href='file:///c%3A/Users/32mor/anaconda3/envs/proper_tf_natixis/lib/site-packages/tensorflow/python/keras/engine/training.py?line=1093'>1094</a>\u001b[0m     \u001b[39m'\u001b[39m\u001b[39mtrain\u001b[39m\u001b[39m'\u001b[39m,\n\u001b[0;32m   <a href='file:///c%3A/Users/32mor/anaconda3/envs/proper_tf_natixis/lib/site-packages/tensorflow/python/keras/engine/training.py?line=1094'>1095</a>\u001b[0m     epoch_num\u001b[39m=\u001b[39mepoch,\n\u001b[0;32m   <a href='file:///c%3A/Users/32mor/anaconda3/envs/proper_tf_natixis/lib/site-packages/tensorflow/python/keras/engine/training.py?line=1095'>1096</a>\u001b[0m     step_num\u001b[39m=\u001b[39mstep,\n\u001b[0;32m   <a href='file:///c%3A/Users/32mor/anaconda3/envs/proper_tf_natixis/lib/site-packages/tensorflow/python/keras/engine/training.py?line=1096'>1097</a>\u001b[0m     batch_size\u001b[39m=\u001b[39mbatch_size,\n\u001b[0;32m   <a href='file:///c%3A/Users/32mor/anaconda3/envs/proper_tf_natixis/lib/site-packages/tensorflow/python/keras/engine/training.py?line=1097'>1098</a>\u001b[0m     _r\u001b[39m=\u001b[39m\u001b[39m1\u001b[39m):\n\u001b[0;32m   <a href='file:///c%3A/Users/32mor/anaconda3/envs/proper_tf_natixis/lib/site-packages/tensorflow/python/keras/engine/training.py?line=1098'>1099</a>\u001b[0m   callbacks\u001b[39m.\u001b[39mon_train_batch_begin(step)\n\u001b[1;32m-> <a href='file:///c%3A/Users/32mor/anaconda3/envs/proper_tf_natixis/lib/site-packages/tensorflow/python/keras/engine/training.py?line=1099'>1100</a>\u001b[0m   tmp_logs \u001b[39m=\u001b[39m \u001b[39mself\u001b[39;49m\u001b[39m.\u001b[39;49mtrain_function(iterator)\n\u001b[0;32m   <a href='file:///c%3A/Users/32mor/anaconda3/envs/proper_tf_natixis/lib/site-packages/tensorflow/python/keras/engine/training.py?line=1100'>1101</a>\u001b[0m   \u001b[39mif\u001b[39;00m data_handler\u001b[39m.\u001b[39mshould_sync:\n\u001b[0;32m   <a href='file:///c%3A/Users/32mor/anaconda3/envs/proper_tf_natixis/lib/site-packages/tensorflow/python/keras/engine/training.py?line=1101'>1102</a>\u001b[0m     context\u001b[39m.\u001b[39masync_wait()\n",
      "File \u001b[1;32m~\\anaconda3\\envs\\proper_tf_natixis\\lib\\site-packages\\tensorflow\\python\\eager\\def_function.py:828\u001b[0m, in \u001b[0;36mFunction.__call__\u001b[1;34m(self, *args, **kwds)\u001b[0m\n\u001b[0;32m    <a href='file:///c%3A/Users/32mor/anaconda3/envs/proper_tf_natixis/lib/site-packages/tensorflow/python/eager/def_function.py?line=825'>826</a>\u001b[0m tracing_count \u001b[39m=\u001b[39m \u001b[39mself\u001b[39m\u001b[39m.\u001b[39mexperimental_get_tracing_count()\n\u001b[0;32m    <a href='file:///c%3A/Users/32mor/anaconda3/envs/proper_tf_natixis/lib/site-packages/tensorflow/python/eager/def_function.py?line=826'>827</a>\u001b[0m \u001b[39mwith\u001b[39;00m trace\u001b[39m.\u001b[39mTrace(\u001b[39mself\u001b[39m\u001b[39m.\u001b[39m_name) \u001b[39mas\u001b[39;00m tm:\n\u001b[1;32m--> <a href='file:///c%3A/Users/32mor/anaconda3/envs/proper_tf_natixis/lib/site-packages/tensorflow/python/eager/def_function.py?line=827'>828</a>\u001b[0m   result \u001b[39m=\u001b[39m \u001b[39mself\u001b[39;49m\u001b[39m.\u001b[39;49m_call(\u001b[39m*\u001b[39;49margs, \u001b[39m*\u001b[39;49m\u001b[39m*\u001b[39;49mkwds)\n\u001b[0;32m    <a href='file:///c%3A/Users/32mor/anaconda3/envs/proper_tf_natixis/lib/site-packages/tensorflow/python/eager/def_function.py?line=828'>829</a>\u001b[0m   compiler \u001b[39m=\u001b[39m \u001b[39m\"\u001b[39m\u001b[39mxla\u001b[39m\u001b[39m\"\u001b[39m \u001b[39mif\u001b[39;00m \u001b[39mself\u001b[39m\u001b[39m.\u001b[39m_experimental_compile \u001b[39melse\u001b[39;00m \u001b[39m\"\u001b[39m\u001b[39mnonXla\u001b[39m\u001b[39m\"\u001b[39m\n\u001b[0;32m    <a href='file:///c%3A/Users/32mor/anaconda3/envs/proper_tf_natixis/lib/site-packages/tensorflow/python/eager/def_function.py?line=829'>830</a>\u001b[0m   new_tracing_count \u001b[39m=\u001b[39m \u001b[39mself\u001b[39m\u001b[39m.\u001b[39mexperimental_get_tracing_count()\n",
      "File \u001b[1;32m~\\anaconda3\\envs\\proper_tf_natixis\\lib\\site-packages\\tensorflow\\python\\eager\\def_function.py:888\u001b[0m, in \u001b[0;36mFunction._call\u001b[1;34m(self, *args, **kwds)\u001b[0m\n\u001b[0;32m    <a href='file:///c%3A/Users/32mor/anaconda3/envs/proper_tf_natixis/lib/site-packages/tensorflow/python/eager/def_function.py?line=883'>884</a>\u001b[0m     \u001b[39mpass\u001b[39;00m  \u001b[39m# Fall through to cond-based initialization.\u001b[39;00m\n\u001b[0;32m    <a href='file:///c%3A/Users/32mor/anaconda3/envs/proper_tf_natixis/lib/site-packages/tensorflow/python/eager/def_function.py?line=884'>885</a>\u001b[0m   \u001b[39melse\u001b[39;00m:\n\u001b[0;32m    <a href='file:///c%3A/Users/32mor/anaconda3/envs/proper_tf_natixis/lib/site-packages/tensorflow/python/eager/def_function.py?line=885'>886</a>\u001b[0m     \u001b[39m# Lifting succeeded, so variables are initialized and we can run the\u001b[39;00m\n\u001b[0;32m    <a href='file:///c%3A/Users/32mor/anaconda3/envs/proper_tf_natixis/lib/site-packages/tensorflow/python/eager/def_function.py?line=886'>887</a>\u001b[0m     \u001b[39m# stateless function.\u001b[39;00m\n\u001b[1;32m--> <a href='file:///c%3A/Users/32mor/anaconda3/envs/proper_tf_natixis/lib/site-packages/tensorflow/python/eager/def_function.py?line=887'>888</a>\u001b[0m     \u001b[39mreturn\u001b[39;00m \u001b[39mself\u001b[39;49m\u001b[39m.\u001b[39;49m_stateless_fn(\u001b[39m*\u001b[39;49margs, \u001b[39m*\u001b[39;49m\u001b[39m*\u001b[39;49mkwds)\n\u001b[0;32m    <a href='file:///c%3A/Users/32mor/anaconda3/envs/proper_tf_natixis/lib/site-packages/tensorflow/python/eager/def_function.py?line=888'>889</a>\u001b[0m \u001b[39melse\u001b[39;00m:\n\u001b[0;32m    <a href='file:///c%3A/Users/32mor/anaconda3/envs/proper_tf_natixis/lib/site-packages/tensorflow/python/eager/def_function.py?line=889'>890</a>\u001b[0m   _, _, _, filtered_flat_args \u001b[39m=\u001b[39m \\\n\u001b[0;32m    <a href='file:///c%3A/Users/32mor/anaconda3/envs/proper_tf_natixis/lib/site-packages/tensorflow/python/eager/def_function.py?line=890'>891</a>\u001b[0m       \u001b[39mself\u001b[39m\u001b[39m.\u001b[39m_stateful_fn\u001b[39m.\u001b[39m_function_spec\u001b[39m.\u001b[39mcanonicalize_function_inputs(  \u001b[39m# pylint: disable=protected-access\u001b[39;00m\n\u001b[0;32m    <a href='file:///c%3A/Users/32mor/anaconda3/envs/proper_tf_natixis/lib/site-packages/tensorflow/python/eager/def_function.py?line=891'>892</a>\u001b[0m           \u001b[39m*\u001b[39margs, \u001b[39m*\u001b[39m\u001b[39m*\u001b[39mkwds)\n",
      "File \u001b[1;32m~\\anaconda3\\envs\\proper_tf_natixis\\lib\\site-packages\\tensorflow\\python\\eager\\function.py:2941\u001b[0m, in \u001b[0;36mFunction.__call__\u001b[1;34m(self, *args, **kwargs)\u001b[0m\n\u001b[0;32m   <a href='file:///c%3A/Users/32mor/anaconda3/envs/proper_tf_natixis/lib/site-packages/tensorflow/python/eager/function.py?line=2937'>2938</a>\u001b[0m \u001b[39m\"\"\"Calls a graph function specialized to the inputs.\"\"\"\u001b[39;00m\n\u001b[0;32m   <a href='file:///c%3A/Users/32mor/anaconda3/envs/proper_tf_natixis/lib/site-packages/tensorflow/python/eager/function.py?line=2938'>2939</a>\u001b[0m \u001b[39mwith\u001b[39;00m \u001b[39mself\u001b[39m\u001b[39m.\u001b[39m_lock:\n\u001b[0;32m   <a href='file:///c%3A/Users/32mor/anaconda3/envs/proper_tf_natixis/lib/site-packages/tensorflow/python/eager/function.py?line=2939'>2940</a>\u001b[0m   (graph_function,\n\u001b[1;32m-> <a href='file:///c%3A/Users/32mor/anaconda3/envs/proper_tf_natixis/lib/site-packages/tensorflow/python/eager/function.py?line=2940'>2941</a>\u001b[0m    filtered_flat_args) \u001b[39m=\u001b[39m \u001b[39mself\u001b[39;49m\u001b[39m.\u001b[39;49m_maybe_define_function(args, kwargs)\n\u001b[0;32m   <a href='file:///c%3A/Users/32mor/anaconda3/envs/proper_tf_natixis/lib/site-packages/tensorflow/python/eager/function.py?line=2941'>2942</a>\u001b[0m \u001b[39mreturn\u001b[39;00m graph_function\u001b[39m.\u001b[39m_call_flat(\n\u001b[0;32m   <a href='file:///c%3A/Users/32mor/anaconda3/envs/proper_tf_natixis/lib/site-packages/tensorflow/python/eager/function.py?line=2942'>2943</a>\u001b[0m     filtered_flat_args, captured_inputs\u001b[39m=\u001b[39mgraph_function\u001b[39m.\u001b[39mcaptured_inputs)\n",
      "File \u001b[1;32m~\\anaconda3\\envs\\proper_tf_natixis\\lib\\site-packages\\tensorflow\\python\\eager\\function.py:3361\u001b[0m, in \u001b[0;36mFunction._maybe_define_function\u001b[1;34m(self, args, kwargs)\u001b[0m\n\u001b[0;32m   <a href='file:///c%3A/Users/32mor/anaconda3/envs/proper_tf_natixis/lib/site-packages/tensorflow/python/eager/function.py?line=3356'>3357</a>\u001b[0m   \u001b[39mreturn\u001b[39;00m \u001b[39mself\u001b[39m\u001b[39m.\u001b[39m_define_function_with_shape_relaxation(\n\u001b[0;32m   <a href='file:///c%3A/Users/32mor/anaconda3/envs/proper_tf_natixis/lib/site-packages/tensorflow/python/eager/function.py?line=3357'>3358</a>\u001b[0m       args, kwargs, flat_args, filtered_flat_args, cache_key_context)\n\u001b[0;32m   <a href='file:///c%3A/Users/32mor/anaconda3/envs/proper_tf_natixis/lib/site-packages/tensorflow/python/eager/function.py?line=3359'>3360</a>\u001b[0m \u001b[39mself\u001b[39m\u001b[39m.\u001b[39m_function_cache\u001b[39m.\u001b[39mmissed\u001b[39m.\u001b[39madd(call_context_key)\n\u001b[1;32m-> <a href='file:///c%3A/Users/32mor/anaconda3/envs/proper_tf_natixis/lib/site-packages/tensorflow/python/eager/function.py?line=3360'>3361</a>\u001b[0m graph_function \u001b[39m=\u001b[39m \u001b[39mself\u001b[39;49m\u001b[39m.\u001b[39;49m_create_graph_function(args, kwargs)\n\u001b[0;32m   <a href='file:///c%3A/Users/32mor/anaconda3/envs/proper_tf_natixis/lib/site-packages/tensorflow/python/eager/function.py?line=3361'>3362</a>\u001b[0m \u001b[39mself\u001b[39m\u001b[39m.\u001b[39m_function_cache\u001b[39m.\u001b[39mprimary[cache_key] \u001b[39m=\u001b[39m graph_function\n\u001b[0;32m   <a href='file:///c%3A/Users/32mor/anaconda3/envs/proper_tf_natixis/lib/site-packages/tensorflow/python/eager/function.py?line=3363'>3364</a>\u001b[0m \u001b[39mreturn\u001b[39;00m graph_function, filtered_flat_args\n",
      "File \u001b[1;32m~\\anaconda3\\envs\\proper_tf_natixis\\lib\\site-packages\\tensorflow\\python\\eager\\function.py:3196\u001b[0m, in \u001b[0;36mFunction._create_graph_function\u001b[1;34m(self, args, kwargs, override_flat_arg_shapes)\u001b[0m\n\u001b[0;32m   <a href='file:///c%3A/Users/32mor/anaconda3/envs/proper_tf_natixis/lib/site-packages/tensorflow/python/eager/function.py?line=3190'>3191</a>\u001b[0m missing_arg_names \u001b[39m=\u001b[39m [\n\u001b[0;32m   <a href='file:///c%3A/Users/32mor/anaconda3/envs/proper_tf_natixis/lib/site-packages/tensorflow/python/eager/function.py?line=3191'>3192</a>\u001b[0m     \u001b[39m\"\u001b[39m\u001b[39m%s\u001b[39;00m\u001b[39m_\u001b[39m\u001b[39m%d\u001b[39;00m\u001b[39m\"\u001b[39m \u001b[39m%\u001b[39m (arg, i) \u001b[39mfor\u001b[39;00m i, arg \u001b[39min\u001b[39;00m \u001b[39menumerate\u001b[39m(missing_arg_names)\n\u001b[0;32m   <a href='file:///c%3A/Users/32mor/anaconda3/envs/proper_tf_natixis/lib/site-packages/tensorflow/python/eager/function.py?line=3192'>3193</a>\u001b[0m ]\n\u001b[0;32m   <a href='file:///c%3A/Users/32mor/anaconda3/envs/proper_tf_natixis/lib/site-packages/tensorflow/python/eager/function.py?line=3193'>3194</a>\u001b[0m arg_names \u001b[39m=\u001b[39m base_arg_names \u001b[39m+\u001b[39m missing_arg_names\n\u001b[0;32m   <a href='file:///c%3A/Users/32mor/anaconda3/envs/proper_tf_natixis/lib/site-packages/tensorflow/python/eager/function.py?line=3194'>3195</a>\u001b[0m graph_function \u001b[39m=\u001b[39m ConcreteFunction(\n\u001b[1;32m-> <a href='file:///c%3A/Users/32mor/anaconda3/envs/proper_tf_natixis/lib/site-packages/tensorflow/python/eager/function.py?line=3195'>3196</a>\u001b[0m     func_graph_module\u001b[39m.\u001b[39;49mfunc_graph_from_py_func(\n\u001b[0;32m   <a href='file:///c%3A/Users/32mor/anaconda3/envs/proper_tf_natixis/lib/site-packages/tensorflow/python/eager/function.py?line=3196'>3197</a>\u001b[0m         \u001b[39mself\u001b[39;49m\u001b[39m.\u001b[39;49m_name,\n\u001b[0;32m   <a href='file:///c%3A/Users/32mor/anaconda3/envs/proper_tf_natixis/lib/site-packages/tensorflow/python/eager/function.py?line=3197'>3198</a>\u001b[0m         \u001b[39mself\u001b[39;49m\u001b[39m.\u001b[39;49m_python_function,\n\u001b[0;32m   <a href='file:///c%3A/Users/32mor/anaconda3/envs/proper_tf_natixis/lib/site-packages/tensorflow/python/eager/function.py?line=3198'>3199</a>\u001b[0m         args,\n\u001b[0;32m   <a href='file:///c%3A/Users/32mor/anaconda3/envs/proper_tf_natixis/lib/site-packages/tensorflow/python/eager/function.py?line=3199'>3200</a>\u001b[0m         kwargs,\n\u001b[0;32m   <a href='file:///c%3A/Users/32mor/anaconda3/envs/proper_tf_natixis/lib/site-packages/tensorflow/python/eager/function.py?line=3200'>3201</a>\u001b[0m         \u001b[39mself\u001b[39;49m\u001b[39m.\u001b[39;49minput_signature,\n\u001b[0;32m   <a href='file:///c%3A/Users/32mor/anaconda3/envs/proper_tf_natixis/lib/site-packages/tensorflow/python/eager/function.py?line=3201'>3202</a>\u001b[0m         autograph\u001b[39m=\u001b[39;49m\u001b[39mself\u001b[39;49m\u001b[39m.\u001b[39;49m_autograph,\n\u001b[0;32m   <a href='file:///c%3A/Users/32mor/anaconda3/envs/proper_tf_natixis/lib/site-packages/tensorflow/python/eager/function.py?line=3202'>3203</a>\u001b[0m         autograph_options\u001b[39m=\u001b[39;49m\u001b[39mself\u001b[39;49m\u001b[39m.\u001b[39;49m_autograph_options,\n\u001b[0;32m   <a href='file:///c%3A/Users/32mor/anaconda3/envs/proper_tf_natixis/lib/site-packages/tensorflow/python/eager/function.py?line=3203'>3204</a>\u001b[0m         arg_names\u001b[39m=\u001b[39;49marg_names,\n\u001b[0;32m   <a href='file:///c%3A/Users/32mor/anaconda3/envs/proper_tf_natixis/lib/site-packages/tensorflow/python/eager/function.py?line=3204'>3205</a>\u001b[0m         override_flat_arg_shapes\u001b[39m=\u001b[39;49moverride_flat_arg_shapes,\n\u001b[0;32m   <a href='file:///c%3A/Users/32mor/anaconda3/envs/proper_tf_natixis/lib/site-packages/tensorflow/python/eager/function.py?line=3205'>3206</a>\u001b[0m         capture_by_value\u001b[39m=\u001b[39;49m\u001b[39mself\u001b[39;49m\u001b[39m.\u001b[39;49m_capture_by_value),\n\u001b[0;32m   <a href='file:///c%3A/Users/32mor/anaconda3/envs/proper_tf_natixis/lib/site-packages/tensorflow/python/eager/function.py?line=3206'>3207</a>\u001b[0m     \u001b[39mself\u001b[39m\u001b[39m.\u001b[39m_function_attributes,\n\u001b[0;32m   <a href='file:///c%3A/Users/32mor/anaconda3/envs/proper_tf_natixis/lib/site-packages/tensorflow/python/eager/function.py?line=3207'>3208</a>\u001b[0m     function_spec\u001b[39m=\u001b[39m\u001b[39mself\u001b[39m\u001b[39m.\u001b[39mfunction_spec,\n\u001b[0;32m   <a href='file:///c%3A/Users/32mor/anaconda3/envs/proper_tf_natixis/lib/site-packages/tensorflow/python/eager/function.py?line=3208'>3209</a>\u001b[0m     \u001b[39m# Tell the ConcreteFunction to clean up its graph once it goes out of\u001b[39;00m\n\u001b[0;32m   <a href='file:///c%3A/Users/32mor/anaconda3/envs/proper_tf_natixis/lib/site-packages/tensorflow/python/eager/function.py?line=3209'>3210</a>\u001b[0m     \u001b[39m# scope. This is not the default behavior since it gets used in some\u001b[39;00m\n\u001b[0;32m   <a href='file:///c%3A/Users/32mor/anaconda3/envs/proper_tf_natixis/lib/site-packages/tensorflow/python/eager/function.py?line=3210'>3211</a>\u001b[0m     \u001b[39m# places (like Keras) where the FuncGraph lives longer than the\u001b[39;00m\n\u001b[0;32m   <a href='file:///c%3A/Users/32mor/anaconda3/envs/proper_tf_natixis/lib/site-packages/tensorflow/python/eager/function.py?line=3211'>3212</a>\u001b[0m     \u001b[39m# ConcreteFunction.\u001b[39;00m\n\u001b[0;32m   <a href='file:///c%3A/Users/32mor/anaconda3/envs/proper_tf_natixis/lib/site-packages/tensorflow/python/eager/function.py?line=3212'>3213</a>\u001b[0m     shared_func_graph\u001b[39m=\u001b[39m\u001b[39mFalse\u001b[39;00m)\n\u001b[0;32m   <a href='file:///c%3A/Users/32mor/anaconda3/envs/proper_tf_natixis/lib/site-packages/tensorflow/python/eager/function.py?line=3213'>3214</a>\u001b[0m \u001b[39mreturn\u001b[39;00m graph_function\n",
      "File \u001b[1;32m~\\anaconda3\\envs\\proper_tf_natixis\\lib\\site-packages\\tensorflow\\python\\framework\\func_graph.py:990\u001b[0m, in \u001b[0;36mfunc_graph_from_py_func\u001b[1;34m(name, python_func, args, kwargs, signature, func_graph, autograph, autograph_options, add_control_dependencies, arg_names, op_return_value, collections, capture_by_value, override_flat_arg_shapes)\u001b[0m\n\u001b[0;32m    <a href='file:///c%3A/Users/32mor/anaconda3/envs/proper_tf_natixis/lib/site-packages/tensorflow/python/framework/func_graph.py?line=986'>987</a>\u001b[0m \u001b[39melse\u001b[39;00m:\n\u001b[0;32m    <a href='file:///c%3A/Users/32mor/anaconda3/envs/proper_tf_natixis/lib/site-packages/tensorflow/python/framework/func_graph.py?line=987'>988</a>\u001b[0m   _, original_func \u001b[39m=\u001b[39m tf_decorator\u001b[39m.\u001b[39munwrap(python_func)\n\u001b[1;32m--> <a href='file:///c%3A/Users/32mor/anaconda3/envs/proper_tf_natixis/lib/site-packages/tensorflow/python/framework/func_graph.py?line=989'>990</a>\u001b[0m func_outputs \u001b[39m=\u001b[39m python_func(\u001b[39m*\u001b[39;49mfunc_args, \u001b[39m*\u001b[39;49m\u001b[39m*\u001b[39;49mfunc_kwargs)\n\u001b[0;32m    <a href='file:///c%3A/Users/32mor/anaconda3/envs/proper_tf_natixis/lib/site-packages/tensorflow/python/framework/func_graph.py?line=991'>992</a>\u001b[0m \u001b[39m# invariant: `func_outputs` contains only Tensors, CompositeTensors,\u001b[39;00m\n\u001b[0;32m    <a href='file:///c%3A/Users/32mor/anaconda3/envs/proper_tf_natixis/lib/site-packages/tensorflow/python/framework/func_graph.py?line=992'>993</a>\u001b[0m \u001b[39m# TensorArrays and `None`s.\u001b[39;00m\n\u001b[0;32m    <a href='file:///c%3A/Users/32mor/anaconda3/envs/proper_tf_natixis/lib/site-packages/tensorflow/python/framework/func_graph.py?line=993'>994</a>\u001b[0m func_outputs \u001b[39m=\u001b[39m nest\u001b[39m.\u001b[39mmap_structure(convert, func_outputs,\n\u001b[0;32m    <a href='file:///c%3A/Users/32mor/anaconda3/envs/proper_tf_natixis/lib/site-packages/tensorflow/python/framework/func_graph.py?line=994'>995</a>\u001b[0m                                   expand_composites\u001b[39m=\u001b[39m\u001b[39mTrue\u001b[39;00m)\n",
      "File \u001b[1;32m~\\anaconda3\\envs\\proper_tf_natixis\\lib\\site-packages\\tensorflow\\python\\eager\\def_function.py:634\u001b[0m, in \u001b[0;36mFunction._defun_with_scope.<locals>.wrapped_fn\u001b[1;34m(*args, **kwds)\u001b[0m\n\u001b[0;32m    <a href='file:///c%3A/Users/32mor/anaconda3/envs/proper_tf_natixis/lib/site-packages/tensorflow/python/eager/def_function.py?line=631'>632</a>\u001b[0m     xla_context\u001b[39m.\u001b[39mExit()\n\u001b[0;32m    <a href='file:///c%3A/Users/32mor/anaconda3/envs/proper_tf_natixis/lib/site-packages/tensorflow/python/eager/def_function.py?line=632'>633</a>\u001b[0m \u001b[39melse\u001b[39;00m:\n\u001b[1;32m--> <a href='file:///c%3A/Users/32mor/anaconda3/envs/proper_tf_natixis/lib/site-packages/tensorflow/python/eager/def_function.py?line=633'>634</a>\u001b[0m   out \u001b[39m=\u001b[39m weak_wrapped_fn()\u001b[39m.\u001b[39;49m__wrapped__(\u001b[39m*\u001b[39;49margs, \u001b[39m*\u001b[39;49m\u001b[39m*\u001b[39;49mkwds)\n\u001b[0;32m    <a href='file:///c%3A/Users/32mor/anaconda3/envs/proper_tf_natixis/lib/site-packages/tensorflow/python/eager/def_function.py?line=634'>635</a>\u001b[0m \u001b[39mreturn\u001b[39;00m out\n",
      "File \u001b[1;32m~\\anaconda3\\envs\\proper_tf_natixis\\lib\\site-packages\\tensorflow\\python\\framework\\func_graph.py:966\u001b[0m, in \u001b[0;36mfunc_graph_from_py_func.<locals>.wrapper\u001b[1;34m(*args, **kwargs)\u001b[0m\n\u001b[0;32m    <a href='file:///c%3A/Users/32mor/anaconda3/envs/proper_tf_natixis/lib/site-packages/tensorflow/python/framework/func_graph.py?line=963'>964</a>\u001b[0m \u001b[39m# TODO(mdan): Push this block higher in tf.function's call stack.\u001b[39;00m\n\u001b[0;32m    <a href='file:///c%3A/Users/32mor/anaconda3/envs/proper_tf_natixis/lib/site-packages/tensorflow/python/framework/func_graph.py?line=964'>965</a>\u001b[0m \u001b[39mtry\u001b[39;00m:\n\u001b[1;32m--> <a href='file:///c%3A/Users/32mor/anaconda3/envs/proper_tf_natixis/lib/site-packages/tensorflow/python/framework/func_graph.py?line=965'>966</a>\u001b[0m   \u001b[39mreturn\u001b[39;00m autograph\u001b[39m.\u001b[39;49mconverted_call(\n\u001b[0;32m    <a href='file:///c%3A/Users/32mor/anaconda3/envs/proper_tf_natixis/lib/site-packages/tensorflow/python/framework/func_graph.py?line=966'>967</a>\u001b[0m       original_func,\n\u001b[0;32m    <a href='file:///c%3A/Users/32mor/anaconda3/envs/proper_tf_natixis/lib/site-packages/tensorflow/python/framework/func_graph.py?line=967'>968</a>\u001b[0m       args,\n\u001b[0;32m    <a href='file:///c%3A/Users/32mor/anaconda3/envs/proper_tf_natixis/lib/site-packages/tensorflow/python/framework/func_graph.py?line=968'>969</a>\u001b[0m       kwargs,\n\u001b[0;32m    <a href='file:///c%3A/Users/32mor/anaconda3/envs/proper_tf_natixis/lib/site-packages/tensorflow/python/framework/func_graph.py?line=969'>970</a>\u001b[0m       options\u001b[39m=\u001b[39;49mautograph\u001b[39m.\u001b[39;49mConversionOptions(\n\u001b[0;32m    <a href='file:///c%3A/Users/32mor/anaconda3/envs/proper_tf_natixis/lib/site-packages/tensorflow/python/framework/func_graph.py?line=970'>971</a>\u001b[0m           recursive\u001b[39m=\u001b[39;49m\u001b[39mTrue\u001b[39;49;00m,\n\u001b[0;32m    <a href='file:///c%3A/Users/32mor/anaconda3/envs/proper_tf_natixis/lib/site-packages/tensorflow/python/framework/func_graph.py?line=971'>972</a>\u001b[0m           optional_features\u001b[39m=\u001b[39;49mautograph_options,\n\u001b[0;32m    <a href='file:///c%3A/Users/32mor/anaconda3/envs/proper_tf_natixis/lib/site-packages/tensorflow/python/framework/func_graph.py?line=972'>973</a>\u001b[0m           user_requested\u001b[39m=\u001b[39;49m\u001b[39mTrue\u001b[39;49;00m,\n\u001b[0;32m    <a href='file:///c%3A/Users/32mor/anaconda3/envs/proper_tf_natixis/lib/site-packages/tensorflow/python/framework/func_graph.py?line=973'>974</a>\u001b[0m       ))\n\u001b[0;32m    <a href='file:///c%3A/Users/32mor/anaconda3/envs/proper_tf_natixis/lib/site-packages/tensorflow/python/framework/func_graph.py?line=974'>975</a>\u001b[0m \u001b[39mexcept\u001b[39;00m \u001b[39mException\u001b[39;00m \u001b[39mas\u001b[39;00m e:  \u001b[39m# pylint:disable=broad-except\u001b[39;00m\n\u001b[0;32m    <a href='file:///c%3A/Users/32mor/anaconda3/envs/proper_tf_natixis/lib/site-packages/tensorflow/python/framework/func_graph.py?line=975'>976</a>\u001b[0m   \u001b[39mif\u001b[39;00m \u001b[39mhasattr\u001b[39m(e, \u001b[39m\"\u001b[39m\u001b[39mag_error_metadata\u001b[39m\u001b[39m\"\u001b[39m):\n",
      "File \u001b[1;32m~\\anaconda3\\envs\\proper_tf_natixis\\lib\\site-packages\\tensorflow\\python\\autograph\\impl\\api.py:459\u001b[0m, in \u001b[0;36mconverted_call\u001b[1;34m(f, args, kwargs, caller_fn_scope, options)\u001b[0m\n\u001b[0;32m    <a href='file:///c%3A/Users/32mor/anaconda3/envs/proper_tf_natixis/lib/site-packages/tensorflow/python/autograph/impl/api.py?line=456'>457</a>\u001b[0m \u001b[39mtry\u001b[39;00m:\n\u001b[0;32m    <a href='file:///c%3A/Users/32mor/anaconda3/envs/proper_tf_natixis/lib/site-packages/tensorflow/python/autograph/impl/api.py?line=457'>458</a>\u001b[0m   \u001b[39mif\u001b[39;00m kwargs \u001b[39mis\u001b[39;00m \u001b[39mnot\u001b[39;00m \u001b[39mNone\u001b[39;00m:\n\u001b[1;32m--> <a href='file:///c%3A/Users/32mor/anaconda3/envs/proper_tf_natixis/lib/site-packages/tensorflow/python/autograph/impl/api.py?line=458'>459</a>\u001b[0m     result \u001b[39m=\u001b[39m converted_f(\u001b[39m*\u001b[39;49meffective_args, \u001b[39m*\u001b[39;49m\u001b[39m*\u001b[39;49mkwargs)\n\u001b[0;32m    <a href='file:///c%3A/Users/32mor/anaconda3/envs/proper_tf_natixis/lib/site-packages/tensorflow/python/autograph/impl/api.py?line=459'>460</a>\u001b[0m   \u001b[39melse\u001b[39;00m:\n\u001b[0;32m    <a href='file:///c%3A/Users/32mor/anaconda3/envs/proper_tf_natixis/lib/site-packages/tensorflow/python/autograph/impl/api.py?line=460'>461</a>\u001b[0m     result \u001b[39m=\u001b[39m converted_f(\u001b[39m*\u001b[39meffective_args)\n",
      "File \u001b[1;32m~\\AppData\\Local\\Temp\\tmp379llt8s.py:16\u001b[0m, in \u001b[0;36mouter_factory.<locals>.inner_factory.<locals>.tf__train_function\u001b[1;34m(iterator)\u001b[0m\n\u001b[0;32m     <a href='file:///c%3A/Users/32mor/AppData/Local/Temp/tmp379llt8s.py?line=13'>14</a>\u001b[0m \u001b[39mtry\u001b[39;00m:\n\u001b[0;32m     <a href='file:///c%3A/Users/32mor/AppData/Local/Temp/tmp379llt8s.py?line=14'>15</a>\u001b[0m     do_return \u001b[39m=\u001b[39m \u001b[39mTrue\u001b[39;00m\n\u001b[1;32m---> <a href='file:///c%3A/Users/32mor/AppData/Local/Temp/tmp379llt8s.py?line=15'>16</a>\u001b[0m     retval_ \u001b[39m=\u001b[39m ag__\u001b[39m.\u001b[39;49mconverted_call(ag__\u001b[39m.\u001b[39;49mld(step_function), (ag__\u001b[39m.\u001b[39;49mld(\u001b[39mself\u001b[39;49m), ag__\u001b[39m.\u001b[39;49mld(iterator)), \u001b[39mNone\u001b[39;49;00m, fscope)\n\u001b[0;32m     <a href='file:///c%3A/Users/32mor/AppData/Local/Temp/tmp379llt8s.py?line=16'>17</a>\u001b[0m \u001b[39mexcept\u001b[39;00m:\n\u001b[0;32m     <a href='file:///c%3A/Users/32mor/AppData/Local/Temp/tmp379llt8s.py?line=17'>18</a>\u001b[0m     do_return \u001b[39m=\u001b[39m \u001b[39mFalse\u001b[39;00m\n",
      "File \u001b[1;32m~\\anaconda3\\envs\\proper_tf_natixis\\lib\\site-packages\\tensorflow\\python\\autograph\\impl\\api.py:350\u001b[0m, in \u001b[0;36mconverted_call\u001b[1;34m(f, args, kwargs, caller_fn_scope, options)\u001b[0m\n\u001b[0;32m    <a href='file:///c%3A/Users/32mor/anaconda3/envs/proper_tf_natixis/lib/site-packages/tensorflow/python/autograph/impl/api.py?line=347'>348</a>\u001b[0m \u001b[39mif\u001b[39;00m conversion\u001b[39m.\u001b[39mis_in_allowlist_cache(f, options):\n\u001b[0;32m    <a href='file:///c%3A/Users/32mor/anaconda3/envs/proper_tf_natixis/lib/site-packages/tensorflow/python/autograph/impl/api.py?line=348'>349</a>\u001b[0m   logging\u001b[39m.\u001b[39mlog(\u001b[39m2\u001b[39m, \u001b[39m'\u001b[39m\u001b[39mAllowlisted \u001b[39m\u001b[39m%s\u001b[39;00m\u001b[39m: from cache\u001b[39m\u001b[39m'\u001b[39m, f)\n\u001b[1;32m--> <a href='file:///c%3A/Users/32mor/anaconda3/envs/proper_tf_natixis/lib/site-packages/tensorflow/python/autograph/impl/api.py?line=349'>350</a>\u001b[0m   \u001b[39mreturn\u001b[39;00m _call_unconverted(f, args, kwargs, options, \u001b[39mFalse\u001b[39;49;00m)\n\u001b[0;32m    <a href='file:///c%3A/Users/32mor/anaconda3/envs/proper_tf_natixis/lib/site-packages/tensorflow/python/autograph/impl/api.py?line=351'>352</a>\u001b[0m \u001b[39mif\u001b[39;00m ag_ctx\u001b[39m.\u001b[39mcontrol_status_ctx()\u001b[39m.\u001b[39mstatus \u001b[39m==\u001b[39m ag_ctx\u001b[39m.\u001b[39mStatus\u001b[39m.\u001b[39mDISABLED:\n\u001b[0;32m    <a href='file:///c%3A/Users/32mor/anaconda3/envs/proper_tf_natixis/lib/site-packages/tensorflow/python/autograph/impl/api.py?line=352'>353</a>\u001b[0m   logging\u001b[39m.\u001b[39mlog(\u001b[39m2\u001b[39m, \u001b[39m'\u001b[39m\u001b[39mAllowlisted: \u001b[39m\u001b[39m%s\u001b[39;00m\u001b[39m: AutoGraph is disabled in context\u001b[39m\u001b[39m'\u001b[39m, f)\n",
      "File \u001b[1;32m~\\anaconda3\\envs\\proper_tf_natixis\\lib\\site-packages\\tensorflow\\python\\autograph\\impl\\api.py:479\u001b[0m, in \u001b[0;36m_call_unconverted\u001b[1;34m(f, args, kwargs, options, update_cache)\u001b[0m\n\u001b[0;32m    <a href='file:///c%3A/Users/32mor/anaconda3/envs/proper_tf_natixis/lib/site-packages/tensorflow/python/autograph/impl/api.py?line=476'>477</a>\u001b[0m \u001b[39mif\u001b[39;00m kwargs \u001b[39mis\u001b[39;00m \u001b[39mnot\u001b[39;00m \u001b[39mNone\u001b[39;00m:\n\u001b[0;32m    <a href='file:///c%3A/Users/32mor/anaconda3/envs/proper_tf_natixis/lib/site-packages/tensorflow/python/autograph/impl/api.py?line=477'>478</a>\u001b[0m   \u001b[39mreturn\u001b[39;00m f(\u001b[39m*\u001b[39margs, \u001b[39m*\u001b[39m\u001b[39m*\u001b[39mkwargs)\n\u001b[1;32m--> <a href='file:///c%3A/Users/32mor/anaconda3/envs/proper_tf_natixis/lib/site-packages/tensorflow/python/autograph/impl/api.py?line=478'>479</a>\u001b[0m \u001b[39mreturn\u001b[39;00m f(\u001b[39m*\u001b[39;49margs)\n",
      "File \u001b[1;32m~\\anaconda3\\envs\\proper_tf_natixis\\lib\\site-packages\\tensorflow\\python\\keras\\engine\\training.py:795\u001b[0m, in \u001b[0;36mModel.make_train_function.<locals>.step_function\u001b[1;34m(model, iterator)\u001b[0m\n\u001b[0;32m    <a href='file:///c%3A/Users/32mor/anaconda3/envs/proper_tf_natixis/lib/site-packages/tensorflow/python/keras/engine/training.py?line=791'>792</a>\u001b[0m   \u001b[39mreturn\u001b[39;00m outputs\n\u001b[0;32m    <a href='file:///c%3A/Users/32mor/anaconda3/envs/proper_tf_natixis/lib/site-packages/tensorflow/python/keras/engine/training.py?line=793'>794</a>\u001b[0m data \u001b[39m=\u001b[39m \u001b[39mnext\u001b[39m(iterator)\n\u001b[1;32m--> <a href='file:///c%3A/Users/32mor/anaconda3/envs/proper_tf_natixis/lib/site-packages/tensorflow/python/keras/engine/training.py?line=794'>795</a>\u001b[0m outputs \u001b[39m=\u001b[39m model\u001b[39m.\u001b[39;49mdistribute_strategy\u001b[39m.\u001b[39;49mrun(run_step, args\u001b[39m=\u001b[39;49m(data,))\n\u001b[0;32m    <a href='file:///c%3A/Users/32mor/anaconda3/envs/proper_tf_natixis/lib/site-packages/tensorflow/python/keras/engine/training.py?line=795'>796</a>\u001b[0m outputs \u001b[39m=\u001b[39m reduce_per_replica(\n\u001b[0;32m    <a href='file:///c%3A/Users/32mor/anaconda3/envs/proper_tf_natixis/lib/site-packages/tensorflow/python/keras/engine/training.py?line=796'>797</a>\u001b[0m     outputs, \u001b[39mself\u001b[39m\u001b[39m.\u001b[39mdistribute_strategy, reduction\u001b[39m=\u001b[39m\u001b[39m'\u001b[39m\u001b[39mfirst\u001b[39m\u001b[39m'\u001b[39m)\n\u001b[0;32m    <a href='file:///c%3A/Users/32mor/anaconda3/envs/proper_tf_natixis/lib/site-packages/tensorflow/python/keras/engine/training.py?line=797'>798</a>\u001b[0m write_scalar_summaries(outputs, step\u001b[39m=\u001b[39mmodel\u001b[39m.\u001b[39m_train_counter)  \u001b[39m# pylint: disable=protected-access\u001b[39;00m\n",
      "File \u001b[1;32m~\\anaconda3\\envs\\proper_tf_natixis\\lib\\site-packages\\tensorflow\\python\\distribute\\distribute_lib.py:1259\u001b[0m, in \u001b[0;36mStrategyBase.run\u001b[1;34m(***failed resolving arguments***)\u001b[0m\n\u001b[0;32m   <a href='file:///c%3A/Users/32mor/anaconda3/envs/proper_tf_natixis/lib/site-packages/tensorflow/python/distribute/distribute_lib.py?line=1253'>1254</a>\u001b[0m \u001b[39mwith\u001b[39;00m \u001b[39mself\u001b[39m\u001b[39m.\u001b[39mscope():\n\u001b[0;32m   <a href='file:///c%3A/Users/32mor/anaconda3/envs/proper_tf_natixis/lib/site-packages/tensorflow/python/distribute/distribute_lib.py?line=1254'>1255</a>\u001b[0m   \u001b[39m# tf.distribute supports Eager functions, so AutoGraph should not be\u001b[39;00m\n\u001b[0;32m   <a href='file:///c%3A/Users/32mor/anaconda3/envs/proper_tf_natixis/lib/site-packages/tensorflow/python/distribute/distribute_lib.py?line=1255'>1256</a>\u001b[0m   \u001b[39m# applied when when the caller is also in Eager mode.\u001b[39;00m\n\u001b[0;32m   <a href='file:///c%3A/Users/32mor/anaconda3/envs/proper_tf_natixis/lib/site-packages/tensorflow/python/distribute/distribute_lib.py?line=1256'>1257</a>\u001b[0m   fn \u001b[39m=\u001b[39m autograph\u001b[39m.\u001b[39mtf_convert(\n\u001b[0;32m   <a href='file:///c%3A/Users/32mor/anaconda3/envs/proper_tf_natixis/lib/site-packages/tensorflow/python/distribute/distribute_lib.py?line=1257'>1258</a>\u001b[0m       fn, autograph_ctx\u001b[39m.\u001b[39mcontrol_status_ctx(), convert_by_default\u001b[39m=\u001b[39m\u001b[39mFalse\u001b[39;00m)\n\u001b[1;32m-> <a href='file:///c%3A/Users/32mor/anaconda3/envs/proper_tf_natixis/lib/site-packages/tensorflow/python/distribute/distribute_lib.py?line=1258'>1259</a>\u001b[0m   \u001b[39mreturn\u001b[39;00m \u001b[39mself\u001b[39;49m\u001b[39m.\u001b[39;49m_extended\u001b[39m.\u001b[39;49mcall_for_each_replica(fn, args\u001b[39m=\u001b[39;49margs, kwargs\u001b[39m=\u001b[39;49mkwargs)\n",
      "File \u001b[1;32m~\\anaconda3\\envs\\proper_tf_natixis\\lib\\site-packages\\tensorflow\\python\\distribute\\distribute_lib.py:2730\u001b[0m, in \u001b[0;36mStrategyExtendedV1.call_for_each_replica\u001b[1;34m(self, fn, args, kwargs)\u001b[0m\n\u001b[0;32m   <a href='file:///c%3A/Users/32mor/anaconda3/envs/proper_tf_natixis/lib/site-packages/tensorflow/python/distribute/distribute_lib.py?line=2727'>2728</a>\u001b[0m   kwargs \u001b[39m=\u001b[39m {}\n\u001b[0;32m   <a href='file:///c%3A/Users/32mor/anaconda3/envs/proper_tf_natixis/lib/site-packages/tensorflow/python/distribute/distribute_lib.py?line=2728'>2729</a>\u001b[0m \u001b[39mwith\u001b[39;00m \u001b[39mself\u001b[39m\u001b[39m.\u001b[39m_container_strategy()\u001b[39m.\u001b[39mscope():\n\u001b[1;32m-> <a href='file:///c%3A/Users/32mor/anaconda3/envs/proper_tf_natixis/lib/site-packages/tensorflow/python/distribute/distribute_lib.py?line=2729'>2730</a>\u001b[0m   \u001b[39mreturn\u001b[39;00m \u001b[39mself\u001b[39;49m\u001b[39m.\u001b[39;49m_call_for_each_replica(fn, args, kwargs)\n",
      "File \u001b[1;32m~\\anaconda3\\envs\\proper_tf_natixis\\lib\\site-packages\\tensorflow\\python\\distribute\\distribute_lib.py:3417\u001b[0m, in \u001b[0;36m_DefaultDistributionExtended._call_for_each_replica\u001b[1;34m(self, fn, args, kwargs)\u001b[0m\n\u001b[0;32m   <a href='file:///c%3A/Users/32mor/anaconda3/envs/proper_tf_natixis/lib/site-packages/tensorflow/python/distribute/distribute_lib.py?line=3414'>3415</a>\u001b[0m \u001b[39mdef\u001b[39;00m \u001b[39m_call_for_each_replica\u001b[39m(\u001b[39mself\u001b[39m, fn, args, kwargs):\n\u001b[0;32m   <a href='file:///c%3A/Users/32mor/anaconda3/envs/proper_tf_natixis/lib/site-packages/tensorflow/python/distribute/distribute_lib.py?line=3415'>3416</a>\u001b[0m   \u001b[39mwith\u001b[39;00m ReplicaContext(\u001b[39mself\u001b[39m\u001b[39m.\u001b[39m_container_strategy(), replica_id_in_sync_group\u001b[39m=\u001b[39m\u001b[39m0\u001b[39m):\n\u001b[1;32m-> <a href='file:///c%3A/Users/32mor/anaconda3/envs/proper_tf_natixis/lib/site-packages/tensorflow/python/distribute/distribute_lib.py?line=3416'>3417</a>\u001b[0m     \u001b[39mreturn\u001b[39;00m fn(\u001b[39m*\u001b[39;49margs, \u001b[39m*\u001b[39;49m\u001b[39m*\u001b[39;49mkwargs)\n",
      "File \u001b[1;32m~\\anaconda3\\envs\\proper_tf_natixis\\lib\\site-packages\\tensorflow\\python\\autograph\\impl\\api.py:667\u001b[0m, in \u001b[0;36mconvert.<locals>.decorator.<locals>.wrapper\u001b[1;34m(*args, **kwargs)\u001b[0m\n\u001b[0;32m    <a href='file:///c%3A/Users/32mor/anaconda3/envs/proper_tf_natixis/lib/site-packages/tensorflow/python/autograph/impl/api.py?line=664'>665</a>\u001b[0m \u001b[39mtry\u001b[39;00m:\n\u001b[0;32m    <a href='file:///c%3A/Users/32mor/anaconda3/envs/proper_tf_natixis/lib/site-packages/tensorflow/python/autograph/impl/api.py?line=665'>666</a>\u001b[0m   \u001b[39mwith\u001b[39;00m conversion_ctx:\n\u001b[1;32m--> <a href='file:///c%3A/Users/32mor/anaconda3/envs/proper_tf_natixis/lib/site-packages/tensorflow/python/autograph/impl/api.py?line=666'>667</a>\u001b[0m     \u001b[39mreturn\u001b[39;00m converted_call(f, args, kwargs, options\u001b[39m=\u001b[39;49moptions)\n\u001b[0;32m    <a href='file:///c%3A/Users/32mor/anaconda3/envs/proper_tf_natixis/lib/site-packages/tensorflow/python/autograph/impl/api.py?line=667'>668</a>\u001b[0m \u001b[39mexcept\u001b[39;00m \u001b[39mException\u001b[39;00m \u001b[39mas\u001b[39;00m e:  \u001b[39m# pylint:disable=broad-except\u001b[39;00m\n\u001b[0;32m    <a href='file:///c%3A/Users/32mor/anaconda3/envs/proper_tf_natixis/lib/site-packages/tensorflow/python/autograph/impl/api.py?line=668'>669</a>\u001b[0m   \u001b[39mif\u001b[39;00m \u001b[39mhasattr\u001b[39m(e, \u001b[39m'\u001b[39m\u001b[39mag_error_metadata\u001b[39m\u001b[39m'\u001b[39m):\n",
      "File \u001b[1;32m~\\anaconda3\\envs\\proper_tf_natixis\\lib\\site-packages\\tensorflow\\python\\autograph\\impl\\api.py:396\u001b[0m, in \u001b[0;36mconverted_call\u001b[1;34m(f, args, kwargs, caller_fn_scope, options)\u001b[0m\n\u001b[0;32m    <a href='file:///c%3A/Users/32mor/anaconda3/envs/proper_tf_natixis/lib/site-packages/tensorflow/python/autograph/impl/api.py?line=392'>393</a>\u001b[0m   \u001b[39mreturn\u001b[39;00m _call_unconverted(f, args, kwargs, options)\n\u001b[0;32m    <a href='file:///c%3A/Users/32mor/anaconda3/envs/proper_tf_natixis/lib/site-packages/tensorflow/python/autograph/impl/api.py?line=394'>395</a>\u001b[0m \u001b[39mif\u001b[39;00m \u001b[39mnot\u001b[39;00m options\u001b[39m.\u001b[39muser_requested \u001b[39mand\u001b[39;00m conversion\u001b[39m.\u001b[39mis_allowlisted(f):\n\u001b[1;32m--> <a href='file:///c%3A/Users/32mor/anaconda3/envs/proper_tf_natixis/lib/site-packages/tensorflow/python/autograph/impl/api.py?line=395'>396</a>\u001b[0m   \u001b[39mreturn\u001b[39;00m _call_unconverted(f, args, kwargs, options)\n\u001b[0;32m    <a href='file:///c%3A/Users/32mor/anaconda3/envs/proper_tf_natixis/lib/site-packages/tensorflow/python/autograph/impl/api.py?line=397'>398</a>\u001b[0m \u001b[39m# internal_convert_user_code is for example turned off when issuing a dynamic\u001b[39;00m\n\u001b[0;32m    <a href='file:///c%3A/Users/32mor/anaconda3/envs/proper_tf_natixis/lib/site-packages/tensorflow/python/autograph/impl/api.py?line=398'>399</a>\u001b[0m \u001b[39m# call conversion from generated code while in nonrecursive mode. In that\u001b[39;00m\n\u001b[0;32m    <a href='file:///c%3A/Users/32mor/anaconda3/envs/proper_tf_natixis/lib/site-packages/tensorflow/python/autograph/impl/api.py?line=399'>400</a>\u001b[0m \u001b[39m# case we evidently don't want to recurse, but we still have to convert\u001b[39;00m\n\u001b[0;32m    <a href='file:///c%3A/Users/32mor/anaconda3/envs/proper_tf_natixis/lib/site-packages/tensorflow/python/autograph/impl/api.py?line=400'>401</a>\u001b[0m \u001b[39m# things like builtins.\u001b[39;00m\n\u001b[0;32m    <a href='file:///c%3A/Users/32mor/anaconda3/envs/proper_tf_natixis/lib/site-packages/tensorflow/python/autograph/impl/api.py?line=401'>402</a>\u001b[0m \u001b[39mif\u001b[39;00m \u001b[39mnot\u001b[39;00m options\u001b[39m.\u001b[39minternal_convert_user_code:\n",
      "File \u001b[1;32m~\\anaconda3\\envs\\proper_tf_natixis\\lib\\site-packages\\tensorflow\\python\\autograph\\impl\\api.py:478\u001b[0m, in \u001b[0;36m_call_unconverted\u001b[1;34m(f, args, kwargs, options, update_cache)\u001b[0m\n\u001b[0;32m    <a href='file:///c%3A/Users/32mor/anaconda3/envs/proper_tf_natixis/lib/site-packages/tensorflow/python/autograph/impl/api.py?line=474'>475</a>\u001b[0m   \u001b[39mreturn\u001b[39;00m f\u001b[39m.\u001b[39m\u001b[39m__self__\u001b[39m\u001b[39m.\u001b[39mcall(args, kwargs)\n\u001b[0;32m    <a href='file:///c%3A/Users/32mor/anaconda3/envs/proper_tf_natixis/lib/site-packages/tensorflow/python/autograph/impl/api.py?line=476'>477</a>\u001b[0m \u001b[39mif\u001b[39;00m kwargs \u001b[39mis\u001b[39;00m \u001b[39mnot\u001b[39;00m \u001b[39mNone\u001b[39;00m:\n\u001b[1;32m--> <a href='file:///c%3A/Users/32mor/anaconda3/envs/proper_tf_natixis/lib/site-packages/tensorflow/python/autograph/impl/api.py?line=477'>478</a>\u001b[0m   \u001b[39mreturn\u001b[39;00m f(\u001b[39m*\u001b[39;49margs, \u001b[39m*\u001b[39;49m\u001b[39m*\u001b[39;49mkwargs)\n\u001b[0;32m    <a href='file:///c%3A/Users/32mor/anaconda3/envs/proper_tf_natixis/lib/site-packages/tensorflow/python/autograph/impl/api.py?line=478'>479</a>\u001b[0m \u001b[39mreturn\u001b[39;00m f(\u001b[39m*\u001b[39margs)\n",
      "File \u001b[1;32m~\\anaconda3\\envs\\proper_tf_natixis\\lib\\site-packages\\tensorflow\\python\\keras\\engine\\training.py:788\u001b[0m, in \u001b[0;36mModel.make_train_function.<locals>.step_function.<locals>.run_step\u001b[1;34m(data)\u001b[0m\n\u001b[0;32m    <a href='file:///c%3A/Users/32mor/anaconda3/envs/proper_tf_natixis/lib/site-packages/tensorflow/python/keras/engine/training.py?line=786'>787</a>\u001b[0m \u001b[39mdef\u001b[39;00m \u001b[39mrun_step\u001b[39m(data):\n\u001b[1;32m--> <a href='file:///c%3A/Users/32mor/anaconda3/envs/proper_tf_natixis/lib/site-packages/tensorflow/python/keras/engine/training.py?line=787'>788</a>\u001b[0m   outputs \u001b[39m=\u001b[39m model\u001b[39m.\u001b[39;49mtrain_step(data)\n\u001b[0;32m    <a href='file:///c%3A/Users/32mor/anaconda3/envs/proper_tf_natixis/lib/site-packages/tensorflow/python/keras/engine/training.py?line=788'>789</a>\u001b[0m   \u001b[39m# Ensure counter is updated only if `train_step` succeeds.\u001b[39;00m\n\u001b[0;32m    <a href='file:///c%3A/Users/32mor/anaconda3/envs/proper_tf_natixis/lib/site-packages/tensorflow/python/keras/engine/training.py?line=789'>790</a>\u001b[0m   \u001b[39mwith\u001b[39;00m ops\u001b[39m.\u001b[39mcontrol_dependencies(_minimum_control_deps(outputs)):\n",
      "File \u001b[1;32m~\\anaconda3\\envs\\proper_tf_natixis\\lib\\site-packages\\tensorflow\\python\\keras\\engine\\training.py:757\u001b[0m, in \u001b[0;36mModel.train_step\u001b[1;34m(self, data)\u001b[0m\n\u001b[0;32m    <a href='file:///c%3A/Users/32mor/anaconda3/envs/proper_tf_natixis/lib/site-packages/tensorflow/python/keras/engine/training.py?line=753'>754</a>\u001b[0m   y_pred \u001b[39m=\u001b[39m \u001b[39mself\u001b[39m(x, training\u001b[39m=\u001b[39m\u001b[39mTrue\u001b[39;00m)\n\u001b[0;32m    <a href='file:///c%3A/Users/32mor/anaconda3/envs/proper_tf_natixis/lib/site-packages/tensorflow/python/keras/engine/training.py?line=754'>755</a>\u001b[0m   loss \u001b[39m=\u001b[39m \u001b[39mself\u001b[39m\u001b[39m.\u001b[39mcompiled_loss(\n\u001b[0;32m    <a href='file:///c%3A/Users/32mor/anaconda3/envs/proper_tf_natixis/lib/site-packages/tensorflow/python/keras/engine/training.py?line=755'>756</a>\u001b[0m       y, y_pred, sample_weight, regularization_losses\u001b[39m=\u001b[39m\u001b[39mself\u001b[39m\u001b[39m.\u001b[39mlosses)\n\u001b[1;32m--> <a href='file:///c%3A/Users/32mor/anaconda3/envs/proper_tf_natixis/lib/site-packages/tensorflow/python/keras/engine/training.py?line=756'>757</a>\u001b[0m \u001b[39mself\u001b[39;49m\u001b[39m.\u001b[39;49moptimizer\u001b[39m.\u001b[39;49mminimize(loss, \u001b[39mself\u001b[39;49m\u001b[39m.\u001b[39;49mtrainable_variables, tape\u001b[39m=\u001b[39;49mtape)\n\u001b[0;32m    <a href='file:///c%3A/Users/32mor/anaconda3/envs/proper_tf_natixis/lib/site-packages/tensorflow/python/keras/engine/training.py?line=757'>758</a>\u001b[0m \u001b[39mself\u001b[39m\u001b[39m.\u001b[39mcompiled_metrics\u001b[39m.\u001b[39mupdate_state(y, y_pred, sample_weight)\n\u001b[0;32m    <a href='file:///c%3A/Users/32mor/anaconda3/envs/proper_tf_natixis/lib/site-packages/tensorflow/python/keras/engine/training.py?line=758'>759</a>\u001b[0m \u001b[39mreturn\u001b[39;00m {m\u001b[39m.\u001b[39mname: m\u001b[39m.\u001b[39mresult() \u001b[39mfor\u001b[39;00m m \u001b[39min\u001b[39;00m \u001b[39mself\u001b[39m\u001b[39m.\u001b[39mmetrics}\n",
      "File \u001b[1;32m~\\anaconda3\\envs\\proper_tf_natixis\\lib\\site-packages\\tensorflow\\python\\keras\\optimizer_v2\\optimizer_v2.py:496\u001b[0m, in \u001b[0;36mOptimizerV2.minimize\u001b[1;34m(self, loss, var_list, grad_loss, name, tape)\u001b[0m\n\u001b[0;32m    <a href='file:///c%3A/Users/32mor/anaconda3/envs/proper_tf_natixis/lib/site-packages/tensorflow/python/keras/optimizer_v2/optimizer_v2.py?line=464'>465</a>\u001b[0m \u001b[39mdef\u001b[39;00m \u001b[39mminimize\u001b[39m(\u001b[39mself\u001b[39m, loss, var_list, grad_loss\u001b[39m=\u001b[39m\u001b[39mNone\u001b[39;00m, name\u001b[39m=\u001b[39m\u001b[39mNone\u001b[39;00m, tape\u001b[39m=\u001b[39m\u001b[39mNone\u001b[39;00m):\n\u001b[0;32m    <a href='file:///c%3A/Users/32mor/anaconda3/envs/proper_tf_natixis/lib/site-packages/tensorflow/python/keras/optimizer_v2/optimizer_v2.py?line=465'>466</a>\u001b[0m   \u001b[39m\"\"\"Minimize `loss` by updating `var_list`.\u001b[39;00m\n\u001b[0;32m    <a href='file:///c%3A/Users/32mor/anaconda3/envs/proper_tf_natixis/lib/site-packages/tensorflow/python/keras/optimizer_v2/optimizer_v2.py?line=466'>467</a>\u001b[0m \n\u001b[0;32m    <a href='file:///c%3A/Users/32mor/anaconda3/envs/proper_tf_natixis/lib/site-packages/tensorflow/python/keras/optimizer_v2/optimizer_v2.py?line=467'>468</a>\u001b[0m \u001b[39m  This method simply computes gradient using `tf.GradientTape` and calls\u001b[39;00m\n\u001b[1;32m   (...)\u001b[0m\n\u001b[0;32m    <a href='file:///c%3A/Users/32mor/anaconda3/envs/proper_tf_natixis/lib/site-packages/tensorflow/python/keras/optimizer_v2/optimizer_v2.py?line=493'>494</a>\u001b[0m \n\u001b[0;32m    <a href='file:///c%3A/Users/32mor/anaconda3/envs/proper_tf_natixis/lib/site-packages/tensorflow/python/keras/optimizer_v2/optimizer_v2.py?line=494'>495</a>\u001b[0m \u001b[39m  \"\"\"\u001b[39;00m\n\u001b[1;32m--> <a href='file:///c%3A/Users/32mor/anaconda3/envs/proper_tf_natixis/lib/site-packages/tensorflow/python/keras/optimizer_v2/optimizer_v2.py?line=495'>496</a>\u001b[0m   grads_and_vars \u001b[39m=\u001b[39m \u001b[39mself\u001b[39;49m\u001b[39m.\u001b[39;49m_compute_gradients(\n\u001b[0;32m    <a href='file:///c%3A/Users/32mor/anaconda3/envs/proper_tf_natixis/lib/site-packages/tensorflow/python/keras/optimizer_v2/optimizer_v2.py?line=496'>497</a>\u001b[0m       loss, var_list\u001b[39m=\u001b[39;49mvar_list, grad_loss\u001b[39m=\u001b[39;49mgrad_loss, tape\u001b[39m=\u001b[39;49mtape)\n\u001b[0;32m    <a href='file:///c%3A/Users/32mor/anaconda3/envs/proper_tf_natixis/lib/site-packages/tensorflow/python/keras/optimizer_v2/optimizer_v2.py?line=497'>498</a>\u001b[0m   \u001b[39mreturn\u001b[39;00m \u001b[39mself\u001b[39m\u001b[39m.\u001b[39mapply_gradients(grads_and_vars, name\u001b[39m=\u001b[39mname)\n",
      "File \u001b[1;32m~\\anaconda3\\envs\\proper_tf_natixis\\lib\\site-packages\\tensorflow\\python\\keras\\optimizer_v2\\optimizer_v2.py:548\u001b[0m, in \u001b[0;36mOptimizerV2._compute_gradients\u001b[1;34m(self, loss, var_list, grad_loss, tape)\u001b[0m\n\u001b[0;32m    <a href='file:///c%3A/Users/32mor/anaconda3/envs/proper_tf_natixis/lib/site-packages/tensorflow/python/keras/optimizer_v2/optimizer_v2.py?line=545'>546</a>\u001b[0m var_list \u001b[39m=\u001b[39m nest\u001b[39m.\u001b[39mflatten(var_list)\n\u001b[0;32m    <a href='file:///c%3A/Users/32mor/anaconda3/envs/proper_tf_natixis/lib/site-packages/tensorflow/python/keras/optimizer_v2/optimizer_v2.py?line=546'>547</a>\u001b[0m \u001b[39mwith\u001b[39;00m ops\u001b[39m.\u001b[39mname_scope_v2(\u001b[39mself\u001b[39m\u001b[39m.\u001b[39m_name \u001b[39m+\u001b[39m \u001b[39m\"\u001b[39m\u001b[39m/gradients\u001b[39m\u001b[39m\"\u001b[39m):\n\u001b[1;32m--> <a href='file:///c%3A/Users/32mor/anaconda3/envs/proper_tf_natixis/lib/site-packages/tensorflow/python/keras/optimizer_v2/optimizer_v2.py?line=547'>548</a>\u001b[0m   grads_and_vars \u001b[39m=\u001b[39m \u001b[39mself\u001b[39;49m\u001b[39m.\u001b[39;49m_get_gradients(tape, loss, var_list, grad_loss)\n\u001b[0;32m    <a href='file:///c%3A/Users/32mor/anaconda3/envs/proper_tf_natixis/lib/site-packages/tensorflow/python/keras/optimizer_v2/optimizer_v2.py?line=549'>550</a>\u001b[0m \u001b[39mself\u001b[39m\u001b[39m.\u001b[39m_assert_valid_dtypes([\n\u001b[0;32m    <a href='file:///c%3A/Users/32mor/anaconda3/envs/proper_tf_natixis/lib/site-packages/tensorflow/python/keras/optimizer_v2/optimizer_v2.py?line=550'>551</a>\u001b[0m     v \u001b[39mfor\u001b[39;00m g, v \u001b[39min\u001b[39;00m grads_and_vars\n\u001b[0;32m    <a href='file:///c%3A/Users/32mor/anaconda3/envs/proper_tf_natixis/lib/site-packages/tensorflow/python/keras/optimizer_v2/optimizer_v2.py?line=551'>552</a>\u001b[0m     \u001b[39mif\u001b[39;00m g \u001b[39mis\u001b[39;00m \u001b[39mnot\u001b[39;00m \u001b[39mNone\u001b[39;00m \u001b[39mand\u001b[39;00m v\u001b[39m.\u001b[39mdtype \u001b[39m!=\u001b[39m dtypes\u001b[39m.\u001b[39mresource\n\u001b[0;32m    <a href='file:///c%3A/Users/32mor/anaconda3/envs/proper_tf_natixis/lib/site-packages/tensorflow/python/keras/optimizer_v2/optimizer_v2.py?line=552'>553</a>\u001b[0m ])\n\u001b[0;32m    <a href='file:///c%3A/Users/32mor/anaconda3/envs/proper_tf_natixis/lib/site-packages/tensorflow/python/keras/optimizer_v2/optimizer_v2.py?line=554'>555</a>\u001b[0m \u001b[39mreturn\u001b[39;00m grads_and_vars\n",
      "File \u001b[1;32m~\\anaconda3\\envs\\proper_tf_natixis\\lib\\site-packages\\tensorflow\\python\\keras\\optimizer_v2\\optimizer_v2.py:441\u001b[0m, in \u001b[0;36mOptimizerV2._get_gradients\u001b[1;34m(self, tape, loss, var_list, grad_loss)\u001b[0m\n\u001b[0;32m    <a href='file:///c%3A/Users/32mor/anaconda3/envs/proper_tf_natixis/lib/site-packages/tensorflow/python/keras/optimizer_v2/optimizer_v2.py?line=438'>439</a>\u001b[0m \u001b[39mdef\u001b[39;00m \u001b[39m_get_gradients\u001b[39m(\u001b[39mself\u001b[39m, tape, loss, var_list, grad_loss\u001b[39m=\u001b[39m\u001b[39mNone\u001b[39;00m):\n\u001b[0;32m    <a href='file:///c%3A/Users/32mor/anaconda3/envs/proper_tf_natixis/lib/site-packages/tensorflow/python/keras/optimizer_v2/optimizer_v2.py?line=439'>440</a>\u001b[0m   \u001b[39m\"\"\"Called in `minimize` to compute gradients from loss.\"\"\"\u001b[39;00m\n\u001b[1;32m--> <a href='file:///c%3A/Users/32mor/anaconda3/envs/proper_tf_natixis/lib/site-packages/tensorflow/python/keras/optimizer_v2/optimizer_v2.py?line=440'>441</a>\u001b[0m   grads \u001b[39m=\u001b[39m tape\u001b[39m.\u001b[39;49mgradient(loss, var_list, grad_loss)\n\u001b[0;32m    <a href='file:///c%3A/Users/32mor/anaconda3/envs/proper_tf_natixis/lib/site-packages/tensorflow/python/keras/optimizer_v2/optimizer_v2.py?line=441'>442</a>\u001b[0m   \u001b[39mreturn\u001b[39;00m \u001b[39mlist\u001b[39m(\u001b[39mzip\u001b[39m(grads, var_list))\n",
      "File \u001b[1;32m~\\anaconda3\\envs\\proper_tf_natixis\\lib\\site-packages\\tensorflow\\python\\eager\\backprop.py:1080\u001b[0m, in \u001b[0;36mGradientTape.gradient\u001b[1;34m(self, target, sources, output_gradients, unconnected_gradients)\u001b[0m\n\u001b[0;32m   <a href='file:///c%3A/Users/32mor/anaconda3/envs/proper_tf_natixis/lib/site-packages/tensorflow/python/eager/backprop.py?line=1075'>1076</a>\u001b[0m \u001b[39mif\u001b[39;00m output_gradients \u001b[39mis\u001b[39;00m \u001b[39mnot\u001b[39;00m \u001b[39mNone\u001b[39;00m:\n\u001b[0;32m   <a href='file:///c%3A/Users/32mor/anaconda3/envs/proper_tf_natixis/lib/site-packages/tensorflow/python/eager/backprop.py?line=1076'>1077</a>\u001b[0m   output_gradients \u001b[39m=\u001b[39m [\u001b[39mNone\u001b[39;00m \u001b[39mif\u001b[39;00m x \u001b[39mis\u001b[39;00m \u001b[39mNone\u001b[39;00m \u001b[39melse\u001b[39;00m ops\u001b[39m.\u001b[39mconvert_to_tensor(x)\n\u001b[0;32m   <a href='file:///c%3A/Users/32mor/anaconda3/envs/proper_tf_natixis/lib/site-packages/tensorflow/python/eager/backprop.py?line=1077'>1078</a>\u001b[0m                       \u001b[39mfor\u001b[39;00m x \u001b[39min\u001b[39;00m nest\u001b[39m.\u001b[39mflatten(output_gradients)]\n\u001b[1;32m-> <a href='file:///c%3A/Users/32mor/anaconda3/envs/proper_tf_natixis/lib/site-packages/tensorflow/python/eager/backprop.py?line=1079'>1080</a>\u001b[0m flat_grad \u001b[39m=\u001b[39m imperative_grad\u001b[39m.\u001b[39;49mimperative_grad(\n\u001b[0;32m   <a href='file:///c%3A/Users/32mor/anaconda3/envs/proper_tf_natixis/lib/site-packages/tensorflow/python/eager/backprop.py?line=1080'>1081</a>\u001b[0m     \u001b[39mself\u001b[39;49m\u001b[39m.\u001b[39;49m_tape,\n\u001b[0;32m   <a href='file:///c%3A/Users/32mor/anaconda3/envs/proper_tf_natixis/lib/site-packages/tensorflow/python/eager/backprop.py?line=1081'>1082</a>\u001b[0m     flat_targets,\n\u001b[0;32m   <a href='file:///c%3A/Users/32mor/anaconda3/envs/proper_tf_natixis/lib/site-packages/tensorflow/python/eager/backprop.py?line=1082'>1083</a>\u001b[0m     flat_sources,\n\u001b[0;32m   <a href='file:///c%3A/Users/32mor/anaconda3/envs/proper_tf_natixis/lib/site-packages/tensorflow/python/eager/backprop.py?line=1083'>1084</a>\u001b[0m     output_gradients\u001b[39m=\u001b[39;49moutput_gradients,\n\u001b[0;32m   <a href='file:///c%3A/Users/32mor/anaconda3/envs/proper_tf_natixis/lib/site-packages/tensorflow/python/eager/backprop.py?line=1084'>1085</a>\u001b[0m     sources_raw\u001b[39m=\u001b[39;49mflat_sources_raw,\n\u001b[0;32m   <a href='file:///c%3A/Users/32mor/anaconda3/envs/proper_tf_natixis/lib/site-packages/tensorflow/python/eager/backprop.py?line=1085'>1086</a>\u001b[0m     unconnected_gradients\u001b[39m=\u001b[39;49munconnected_gradients)\n\u001b[0;32m   <a href='file:///c%3A/Users/32mor/anaconda3/envs/proper_tf_natixis/lib/site-packages/tensorflow/python/eager/backprop.py?line=1087'>1088</a>\u001b[0m \u001b[39mif\u001b[39;00m \u001b[39mnot\u001b[39;00m \u001b[39mself\u001b[39m\u001b[39m.\u001b[39m_persistent:\n\u001b[0;32m   <a href='file:///c%3A/Users/32mor/anaconda3/envs/proper_tf_natixis/lib/site-packages/tensorflow/python/eager/backprop.py?line=1088'>1089</a>\u001b[0m   \u001b[39m# Keep track of watched variables before setting tape to None\u001b[39;00m\n\u001b[0;32m   <a href='file:///c%3A/Users/32mor/anaconda3/envs/proper_tf_natixis/lib/site-packages/tensorflow/python/eager/backprop.py?line=1089'>1090</a>\u001b[0m   \u001b[39mself\u001b[39m\u001b[39m.\u001b[39m_watched_variables \u001b[39m=\u001b[39m \u001b[39mself\u001b[39m\u001b[39m.\u001b[39m_tape\u001b[39m.\u001b[39mwatched_variables()\n",
      "File \u001b[1;32m~\\anaconda3\\envs\\proper_tf_natixis\\lib\\site-packages\\tensorflow\\python\\eager\\imperative_grad.py:71\u001b[0m, in \u001b[0;36mimperative_grad\u001b[1;34m(tape, target, sources, output_gradients, sources_raw, unconnected_gradients)\u001b[0m\n\u001b[0;32m     <a href='file:///c%3A/Users/32mor/anaconda3/envs/proper_tf_natixis/lib/site-packages/tensorflow/python/eager/imperative_grad.py?line=66'>67</a>\u001b[0m \u001b[39mexcept\u001b[39;00m \u001b[39mValueError\u001b[39;00m:\n\u001b[0;32m     <a href='file:///c%3A/Users/32mor/anaconda3/envs/proper_tf_natixis/lib/site-packages/tensorflow/python/eager/imperative_grad.py?line=67'>68</a>\u001b[0m   \u001b[39mraise\u001b[39;00m \u001b[39mValueError\u001b[39;00m(\n\u001b[0;32m     <a href='file:///c%3A/Users/32mor/anaconda3/envs/proper_tf_natixis/lib/site-packages/tensorflow/python/eager/imperative_grad.py?line=68'>69</a>\u001b[0m       \u001b[39m\"\u001b[39m\u001b[39mUnknown value for unconnected_gradients: \u001b[39m\u001b[39m%r\u001b[39;00m\u001b[39m\"\u001b[39m \u001b[39m%\u001b[39m unconnected_gradients)\n\u001b[1;32m---> <a href='file:///c%3A/Users/32mor/anaconda3/envs/proper_tf_natixis/lib/site-packages/tensorflow/python/eager/imperative_grad.py?line=70'>71</a>\u001b[0m \u001b[39mreturn\u001b[39;00m pywrap_tfe\u001b[39m.\u001b[39;49mTFE_Py_TapeGradient(\n\u001b[0;32m     <a href='file:///c%3A/Users/32mor/anaconda3/envs/proper_tf_natixis/lib/site-packages/tensorflow/python/eager/imperative_grad.py?line=71'>72</a>\u001b[0m     tape\u001b[39m.\u001b[39;49m_tape,  \u001b[39m# pylint: disable=protected-access\u001b[39;49;00m\n\u001b[0;32m     <a href='file:///c%3A/Users/32mor/anaconda3/envs/proper_tf_natixis/lib/site-packages/tensorflow/python/eager/imperative_grad.py?line=72'>73</a>\u001b[0m     target,\n\u001b[0;32m     <a href='file:///c%3A/Users/32mor/anaconda3/envs/proper_tf_natixis/lib/site-packages/tensorflow/python/eager/imperative_grad.py?line=73'>74</a>\u001b[0m     sources,\n\u001b[0;32m     <a href='file:///c%3A/Users/32mor/anaconda3/envs/proper_tf_natixis/lib/site-packages/tensorflow/python/eager/imperative_grad.py?line=74'>75</a>\u001b[0m     output_gradients,\n\u001b[0;32m     <a href='file:///c%3A/Users/32mor/anaconda3/envs/proper_tf_natixis/lib/site-packages/tensorflow/python/eager/imperative_grad.py?line=75'>76</a>\u001b[0m     sources_raw,\n\u001b[0;32m     <a href='file:///c%3A/Users/32mor/anaconda3/envs/proper_tf_natixis/lib/site-packages/tensorflow/python/eager/imperative_grad.py?line=76'>77</a>\u001b[0m     compat\u001b[39m.\u001b[39;49mas_str(unconnected_gradients\u001b[39m.\u001b[39;49mvalue))\n",
      "File \u001b[1;32m~\\anaconda3\\envs\\proper_tf_natixis\\lib\\site-packages\\tensorflow\\python\\eager\\function.py:807\u001b[0m, in \u001b[0;36m_DelayedRewriteGradientFunctions._backward.<locals>._backward_function\u001b[1;34m(*args)\u001b[0m\n\u001b[0;32m    <a href='file:///c%3A/Users/32mor/anaconda3/envs/proper_tf_natixis/lib/site-packages/tensorflow/python/eager/function.py?line=804'>805</a>\u001b[0m \u001b[39mdef\u001b[39;00m \u001b[39m_backward_function\u001b[39m(\u001b[39m*\u001b[39margs):\n\u001b[0;32m    <a href='file:///c%3A/Users/32mor/anaconda3/envs/proper_tf_natixis/lib/site-packages/tensorflow/python/eager/function.py?line=805'>806</a>\u001b[0m   call_op \u001b[39m=\u001b[39m outputs[\u001b[39m0\u001b[39m]\u001b[39m.\u001b[39mop\n\u001b[1;32m--> <a href='file:///c%3A/Users/32mor/anaconda3/envs/proper_tf_natixis/lib/site-packages/tensorflow/python/eager/function.py?line=806'>807</a>\u001b[0m   \u001b[39mreturn\u001b[39;00m \u001b[39mself\u001b[39;49m\u001b[39m.\u001b[39;49m_rewrite_forward_and_call_backward(call_op, \u001b[39m*\u001b[39;49margs)\n",
      "File \u001b[1;32m~\\anaconda3\\envs\\proper_tf_natixis\\lib\\site-packages\\tensorflow\\python\\eager\\function.py:722\u001b[0m, in \u001b[0;36m_DelayedRewriteGradientFunctions._rewrite_forward_and_call_backward\u001b[1;34m(self, op, *doutputs)\u001b[0m\n\u001b[0;32m    <a href='file:///c%3A/Users/32mor/anaconda3/envs/proper_tf_natixis/lib/site-packages/tensorflow/python/eager/function.py?line=719'>720</a>\u001b[0m \u001b[39mdef\u001b[39;00m \u001b[39m_rewrite_forward_and_call_backward\u001b[39m(\u001b[39mself\u001b[39m, op, \u001b[39m*\u001b[39mdoutputs):\n\u001b[0;32m    <a href='file:///c%3A/Users/32mor/anaconda3/envs/proper_tf_natixis/lib/site-packages/tensorflow/python/eager/function.py?line=720'>721</a>\u001b[0m   \u001b[39m\"\"\"Add outputs to the forward call and feed them to the grad function.\"\"\"\u001b[39;00m\n\u001b[1;32m--> <a href='file:///c%3A/Users/32mor/anaconda3/envs/proper_tf_natixis/lib/site-packages/tensorflow/python/eager/function.py?line=721'>722</a>\u001b[0m   forward_function, backwards_function \u001b[39m=\u001b[39m \u001b[39mself\u001b[39;49m\u001b[39m.\u001b[39;49mforward_backward(\u001b[39mlen\u001b[39;49m(doutputs))\n\u001b[0;32m    <a href='file:///c%3A/Users/32mor/anaconda3/envs/proper_tf_natixis/lib/site-packages/tensorflow/python/eager/function.py?line=722'>723</a>\u001b[0m   \u001b[39mif\u001b[39;00m \u001b[39mnot\u001b[39;00m backwards_function\u001b[39m.\u001b[39moutputs:\n\u001b[0;32m    <a href='file:///c%3A/Users/32mor/anaconda3/envs/proper_tf_natixis/lib/site-packages/tensorflow/python/eager/function.py?line=723'>724</a>\u001b[0m     \u001b[39mreturn\u001b[39;00m backwards_function\u001b[39m.\u001b[39mstructured_outputs\n",
      "File \u001b[1;32m~\\anaconda3\\envs\\proper_tf_natixis\\lib\\site-packages\\tensorflow\\python\\eager\\function.py:631\u001b[0m, in \u001b[0;36m_DelayedRewriteGradientFunctions.forward_backward\u001b[1;34m(self, num_doutputs)\u001b[0m\n\u001b[0;32m    <a href='file:///c%3A/Users/32mor/anaconda3/envs/proper_tf_natixis/lib/site-packages/tensorflow/python/eager/function.py?line=628'>629</a>\u001b[0m \u001b[39mif\u001b[39;00m forward_backward \u001b[39mis\u001b[39;00m \u001b[39mnot\u001b[39;00m \u001b[39mNone\u001b[39;00m:\n\u001b[0;32m    <a href='file:///c%3A/Users/32mor/anaconda3/envs/proper_tf_natixis/lib/site-packages/tensorflow/python/eager/function.py?line=629'>630</a>\u001b[0m   \u001b[39mreturn\u001b[39;00m forward_backward\n\u001b[1;32m--> <a href='file:///c%3A/Users/32mor/anaconda3/envs/proper_tf_natixis/lib/site-packages/tensorflow/python/eager/function.py?line=630'>631</a>\u001b[0m forward, backward \u001b[39m=\u001b[39m \u001b[39mself\u001b[39;49m\u001b[39m.\u001b[39;49m_construct_forward_backward(num_doutputs)\n\u001b[0;32m    <a href='file:///c%3A/Users/32mor/anaconda3/envs/proper_tf_natixis/lib/site-packages/tensorflow/python/eager/function.py?line=631'>632</a>\u001b[0m \u001b[39mself\u001b[39m\u001b[39m.\u001b[39m_cached_function_pairs[num_doutputs] \u001b[39m=\u001b[39m (forward, backward)\n\u001b[0;32m    <a href='file:///c%3A/Users/32mor/anaconda3/envs/proper_tf_natixis/lib/site-packages/tensorflow/python/eager/function.py?line=632'>633</a>\u001b[0m \u001b[39mreturn\u001b[39;00m forward, backward\n",
      "File \u001b[1;32m~\\anaconda3\\envs\\proper_tf_natixis\\lib\\site-packages\\tensorflow\\python\\eager\\function.py:674\u001b[0m, in \u001b[0;36m_DelayedRewriteGradientFunctions._construct_forward_backward\u001b[1;34m(self, num_doutputs)\u001b[0m\n\u001b[0;32m    <a href='file:///c%3A/Users/32mor/anaconda3/envs/proper_tf_natixis/lib/site-packages/tensorflow/python/eager/function.py?line=670'>671</a>\u001b[0m \u001b[39mwith\u001b[39;00m \u001b[39mself\u001b[39m\u001b[39m.\u001b[39m_func_graph\u001b[39m.\u001b[39mas_default():\n\u001b[0;32m    <a href='file:///c%3A/Users/32mor/anaconda3/envs/proper_tf_natixis/lib/site-packages/tensorflow/python/eager/function.py?line=671'>672</a>\u001b[0m   backwards_graph \u001b[39m=\u001b[39m func_graph_module\u001b[39m.\u001b[39mFuncGraph(\n\u001b[0;32m    <a href='file:///c%3A/Users/32mor/anaconda3/envs/proper_tf_natixis/lib/site-packages/tensorflow/python/eager/function.py?line=672'>673</a>\u001b[0m       _backward_name(\u001b[39mself\u001b[39m\u001b[39m.\u001b[39m_func_graph\u001b[39m.\u001b[39mname))\n\u001b[1;32m--> <a href='file:///c%3A/Users/32mor/anaconda3/envs/proper_tf_natixis/lib/site-packages/tensorflow/python/eager/function.py?line=673'>674</a>\u001b[0m   func_graph_module\u001b[39m.\u001b[39;49mfunc_graph_from_py_func(\n\u001b[0;32m    <a href='file:///c%3A/Users/32mor/anaconda3/envs/proper_tf_natixis/lib/site-packages/tensorflow/python/eager/function.py?line=674'>675</a>\u001b[0m       name\u001b[39m=\u001b[39;49mbackwards_graph\u001b[39m.\u001b[39;49mname,\n\u001b[0;32m    <a href='file:///c%3A/Users/32mor/anaconda3/envs/proper_tf_natixis/lib/site-packages/tensorflow/python/eager/function.py?line=675'>676</a>\u001b[0m       python_func\u001b[39m=\u001b[39;49m_backprop_function,\n\u001b[0;32m    <a href='file:///c%3A/Users/32mor/anaconda3/envs/proper_tf_natixis/lib/site-packages/tensorflow/python/eager/function.py?line=676'>677</a>\u001b[0m       args\u001b[39m=\u001b[39;49m[], kwargs\u001b[39m=\u001b[39;49m{},\n\u001b[0;32m    <a href='file:///c%3A/Users/32mor/anaconda3/envs/proper_tf_natixis/lib/site-packages/tensorflow/python/eager/function.py?line=677'>678</a>\u001b[0m       signature\u001b[39m=\u001b[39;49msignature,\n\u001b[0;32m    <a href='file:///c%3A/Users/32mor/anaconda3/envs/proper_tf_natixis/lib/site-packages/tensorflow/python/eager/function.py?line=678'>679</a>\u001b[0m       func_graph\u001b[39m=\u001b[39;49mbackwards_graph)\n\u001b[0;32m    <a href='file:///c%3A/Users/32mor/anaconda3/envs/proper_tf_natixis/lib/site-packages/tensorflow/python/eager/function.py?line=679'>680</a>\u001b[0m   backwards_graph_captures \u001b[39m=\u001b[39m backwards_graph\u001b[39m.\u001b[39mexternal_captures\n\u001b[0;32m    <a href='file:///c%3A/Users/32mor/anaconda3/envs/proper_tf_natixis/lib/site-packages/tensorflow/python/eager/function.py?line=680'>681</a>\u001b[0m   captures_from_forward \u001b[39m=\u001b[39m [\n\u001b[0;32m    <a href='file:///c%3A/Users/32mor/anaconda3/envs/proper_tf_natixis/lib/site-packages/tensorflow/python/eager/function.py?line=681'>682</a>\u001b[0m       c \u001b[39mfor\u001b[39;00m c \u001b[39min\u001b[39;00m backwards_graph_captures \u001b[39mif\u001b[39;00m\n\u001b[0;32m    <a href='file:///c%3A/Users/32mor/anaconda3/envs/proper_tf_natixis/lib/site-packages/tensorflow/python/eager/function.py?line=682'>683</a>\u001b[0m       \u001b[39mnot\u001b[39;00m \u001b[39misinstance\u001b[39m(c, ops\u001b[39m.\u001b[39mEagerTensor) \u001b[39mand\u001b[39;00m c\u001b[39m.\u001b[39mgraph \u001b[39mis\u001b[39;00m \u001b[39mself\u001b[39m\u001b[39m.\u001b[39m_func_graph]\n",
      "File \u001b[1;32m~\\anaconda3\\envs\\proper_tf_natixis\\lib\\site-packages\\tensorflow\\python\\framework\\func_graph.py:990\u001b[0m, in \u001b[0;36mfunc_graph_from_py_func\u001b[1;34m(name, python_func, args, kwargs, signature, func_graph, autograph, autograph_options, add_control_dependencies, arg_names, op_return_value, collections, capture_by_value, override_flat_arg_shapes)\u001b[0m\n\u001b[0;32m    <a href='file:///c%3A/Users/32mor/anaconda3/envs/proper_tf_natixis/lib/site-packages/tensorflow/python/framework/func_graph.py?line=986'>987</a>\u001b[0m \u001b[39melse\u001b[39;00m:\n\u001b[0;32m    <a href='file:///c%3A/Users/32mor/anaconda3/envs/proper_tf_natixis/lib/site-packages/tensorflow/python/framework/func_graph.py?line=987'>988</a>\u001b[0m   _, original_func \u001b[39m=\u001b[39m tf_decorator\u001b[39m.\u001b[39munwrap(python_func)\n\u001b[1;32m--> <a href='file:///c%3A/Users/32mor/anaconda3/envs/proper_tf_natixis/lib/site-packages/tensorflow/python/framework/func_graph.py?line=989'>990</a>\u001b[0m func_outputs \u001b[39m=\u001b[39m python_func(\u001b[39m*\u001b[39;49mfunc_args, \u001b[39m*\u001b[39;49m\u001b[39m*\u001b[39;49mfunc_kwargs)\n\u001b[0;32m    <a href='file:///c%3A/Users/32mor/anaconda3/envs/proper_tf_natixis/lib/site-packages/tensorflow/python/framework/func_graph.py?line=991'>992</a>\u001b[0m \u001b[39m# invariant: `func_outputs` contains only Tensors, CompositeTensors,\u001b[39;00m\n\u001b[0;32m    <a href='file:///c%3A/Users/32mor/anaconda3/envs/proper_tf_natixis/lib/site-packages/tensorflow/python/framework/func_graph.py?line=992'>993</a>\u001b[0m \u001b[39m# TensorArrays and `None`s.\u001b[39;00m\n\u001b[0;32m    <a href='file:///c%3A/Users/32mor/anaconda3/envs/proper_tf_natixis/lib/site-packages/tensorflow/python/framework/func_graph.py?line=993'>994</a>\u001b[0m func_outputs \u001b[39m=\u001b[39m nest\u001b[39m.\u001b[39mmap_structure(convert, func_outputs,\n\u001b[0;32m    <a href='file:///c%3A/Users/32mor/anaconda3/envs/proper_tf_natixis/lib/site-packages/tensorflow/python/framework/func_graph.py?line=994'>995</a>\u001b[0m                                   expand_composites\u001b[39m=\u001b[39m\u001b[39mTrue\u001b[39;00m)\n",
      "File \u001b[1;32m~\\anaconda3\\envs\\proper_tf_natixis\\lib\\site-packages\\tensorflow\\python\\eager\\function.py:665\u001b[0m, in \u001b[0;36m_DelayedRewriteGradientFunctions._construct_forward_backward.<locals>._backprop_function\u001b[1;34m(*grad_ys)\u001b[0m\n\u001b[0;32m    <a href='file:///c%3A/Users/32mor/anaconda3/envs/proper_tf_natixis/lib/site-packages/tensorflow/python/eager/function.py?line=662'>663</a>\u001b[0m \u001b[39mdef\u001b[39;00m \u001b[39m_backprop_function\u001b[39m(\u001b[39m*\u001b[39mgrad_ys):\n\u001b[0;32m    <a href='file:///c%3A/Users/32mor/anaconda3/envs/proper_tf_natixis/lib/site-packages/tensorflow/python/eager/function.py?line=663'>664</a>\u001b[0m   \u001b[39mwith\u001b[39;00m ops\u001b[39m.\u001b[39mdevice(\u001b[39mNone\u001b[39;00m):\n\u001b[1;32m--> <a href='file:///c%3A/Users/32mor/anaconda3/envs/proper_tf_natixis/lib/site-packages/tensorflow/python/eager/function.py?line=664'>665</a>\u001b[0m     \u001b[39mreturn\u001b[39;00m gradients_util\u001b[39m.\u001b[39;49m_GradientsHelper(  \u001b[39m# pylint: disable=protected-access\u001b[39;49;00m\n\u001b[0;32m    <a href='file:///c%3A/Users/32mor/anaconda3/envs/proper_tf_natixis/lib/site-packages/tensorflow/python/eager/function.py?line=665'>666</a>\u001b[0m         trainable_outputs,\n\u001b[0;32m    <a href='file:///c%3A/Users/32mor/anaconda3/envs/proper_tf_natixis/lib/site-packages/tensorflow/python/eager/function.py?line=666'>667</a>\u001b[0m         \u001b[39mself\u001b[39;49m\u001b[39m.\u001b[39;49m_func_graph\u001b[39m.\u001b[39;49minputs,\n\u001b[0;32m    <a href='file:///c%3A/Users/32mor/anaconda3/envs/proper_tf_natixis/lib/site-packages/tensorflow/python/eager/function.py?line=667'>668</a>\u001b[0m         grad_ys\u001b[39m=\u001b[39;49mgrad_ys,\n\u001b[0;32m    <a href='file:///c%3A/Users/32mor/anaconda3/envs/proper_tf_natixis/lib/site-packages/tensorflow/python/eager/function.py?line=668'>669</a>\u001b[0m         src_graph\u001b[39m=\u001b[39;49m\u001b[39mself\u001b[39;49m\u001b[39m.\u001b[39;49m_func_graph)\n",
      "File \u001b[1;32m~\\anaconda3\\envs\\proper_tf_natixis\\lib\\site-packages\\tensorflow\\python\\ops\\gradients_util.py:683\u001b[0m, in \u001b[0;36m_GradientsHelper\u001b[1;34m(ys, xs, grad_ys, name, colocate_gradients_with_ops, gate_gradients, aggregation_method, stop_gradients, unconnected_gradients, src_graph)\u001b[0m\n\u001b[0;32m    <a href='file:///c%3A/Users/32mor/anaconda3/envs/proper_tf_natixis/lib/site-packages/tensorflow/python/ops/gradients_util.py?line=677'>678</a>\u001b[0m \u001b[39mwith\u001b[39;00m src_graph\u001b[39m.\u001b[39m_original_op(op):\n\u001b[0;32m    <a href='file:///c%3A/Users/32mor/anaconda3/envs/proper_tf_natixis/lib/site-packages/tensorflow/python/ops/gradients_util.py?line=678'>679</a>\u001b[0m   \u001b[39m# pylint: enable=protected-access\u001b[39;00m\n\u001b[0;32m    <a href='file:///c%3A/Users/32mor/anaconda3/envs/proper_tf_natixis/lib/site-packages/tensorflow/python/ops/gradients_util.py?line=679'>680</a>\u001b[0m   \u001b[39mif\u001b[39;00m grad_fn:\n\u001b[0;32m    <a href='file:///c%3A/Users/32mor/anaconda3/envs/proper_tf_natixis/lib/site-packages/tensorflow/python/ops/gradients_util.py?line=680'>681</a>\u001b[0m     \u001b[39m# If grad_fn was found, do not use SymbolicGradient even for\u001b[39;00m\n\u001b[0;32m    <a href='file:///c%3A/Users/32mor/anaconda3/envs/proper_tf_natixis/lib/site-packages/tensorflow/python/ops/gradients_util.py?line=681'>682</a>\u001b[0m     \u001b[39m# functions.\u001b[39;00m\n\u001b[1;32m--> <a href='file:///c%3A/Users/32mor/anaconda3/envs/proper_tf_natixis/lib/site-packages/tensorflow/python/ops/gradients_util.py?line=682'>683</a>\u001b[0m     in_grads \u001b[39m=\u001b[39m _MaybeCompile(grad_scope, op, func_call,\n\u001b[0;32m    <a href='file:///c%3A/Users/32mor/anaconda3/envs/proper_tf_natixis/lib/site-packages/tensorflow/python/ops/gradients_util.py?line=683'>684</a>\u001b[0m                              \u001b[39mlambda\u001b[39;49;00m: grad_fn(op, \u001b[39m*\u001b[39;49mout_grads))\n\u001b[0;32m    <a href='file:///c%3A/Users/32mor/anaconda3/envs/proper_tf_natixis/lib/site-packages/tensorflow/python/ops/gradients_util.py?line=684'>685</a>\u001b[0m   \u001b[39melse\u001b[39;00m:\n\u001b[0;32m    <a href='file:///c%3A/Users/32mor/anaconda3/envs/proper_tf_natixis/lib/site-packages/tensorflow/python/ops/gradients_util.py?line=685'>686</a>\u001b[0m     \u001b[39m# For function call ops, we add a 'SymbolicGradient'\u001b[39;00m\n\u001b[0;32m    <a href='file:///c%3A/Users/32mor/anaconda3/envs/proper_tf_natixis/lib/site-packages/tensorflow/python/ops/gradients_util.py?line=686'>687</a>\u001b[0m     \u001b[39m# node to the graph to compute gradients.\u001b[39;00m\n\u001b[0;32m    <a href='file:///c%3A/Users/32mor/anaconda3/envs/proper_tf_natixis/lib/site-packages/tensorflow/python/ops/gradients_util.py?line=687'>688</a>\u001b[0m     in_grads \u001b[39m=\u001b[39m _MaybeCompile(grad_scope, op, func_call,\n\u001b[0;32m    <a href='file:///c%3A/Users/32mor/anaconda3/envs/proper_tf_natixis/lib/site-packages/tensorflow/python/ops/gradients_util.py?line=688'>689</a>\u001b[0m                              \u001b[39mlambda\u001b[39;00m: _SymGrad(op, out_grads))\n",
      "File \u001b[1;32m~\\anaconda3\\envs\\proper_tf_natixis\\lib\\site-packages\\tensorflow\\python\\ops\\gradients_util.py:340\u001b[0m, in \u001b[0;36m_MaybeCompile\u001b[1;34m(scope, op, func, grad_fn)\u001b[0m\n\u001b[0;32m    <a href='file:///c%3A/Users/32mor/anaconda3/envs/proper_tf_natixis/lib/site-packages/tensorflow/python/ops/gradients_util.py?line=336'>337</a>\u001b[0m     xla_compile \u001b[39m=\u001b[39m \u001b[39mFalse\u001b[39;00m\n\u001b[0;32m    <a href='file:///c%3A/Users/32mor/anaconda3/envs/proper_tf_natixis/lib/site-packages/tensorflow/python/ops/gradients_util.py?line=338'>339</a>\u001b[0m \u001b[39mif\u001b[39;00m \u001b[39mnot\u001b[39;00m xla_compile:\n\u001b[1;32m--> <a href='file:///c%3A/Users/32mor/anaconda3/envs/proper_tf_natixis/lib/site-packages/tensorflow/python/ops/gradients_util.py?line=339'>340</a>\u001b[0m   \u001b[39mreturn\u001b[39;00m grad_fn()  \u001b[39m# Exit early\u001b[39;00m\n\u001b[0;32m    <a href='file:///c%3A/Users/32mor/anaconda3/envs/proper_tf_natixis/lib/site-packages/tensorflow/python/ops/gradients_util.py?line=341'>342</a>\u001b[0m \u001b[39m# If the gradients are supposed to be compiled separately, we give them a\u001b[39;00m\n\u001b[0;32m    <a href='file:///c%3A/Users/32mor/anaconda3/envs/proper_tf_natixis/lib/site-packages/tensorflow/python/ops/gradients_util.py?line=342'>343</a>\u001b[0m \u001b[39m# _XlaScope name that is based on the name_scope of the gradients.  Otherwise\u001b[39;00m\n\u001b[0;32m    <a href='file:///c%3A/Users/32mor/anaconda3/envs/proper_tf_natixis/lib/site-packages/tensorflow/python/ops/gradients_util.py?line=343'>344</a>\u001b[0m \u001b[39m# they just inherit the existing _XlaScope name, which lets them be merged\u001b[39;00m\n\u001b[0;32m    <a href='file:///c%3A/Users/32mor/anaconda3/envs/proper_tf_natixis/lib/site-packages/tensorflow/python/ops/gradients_util.py?line=344'>345</a>\u001b[0m \u001b[39m# together with the non-gradient computation.\u001b[39;00m\n\u001b[0;32m    <a href='file:///c%3A/Users/32mor/anaconda3/envs/proper_tf_natixis/lib/site-packages/tensorflow/python/ops/gradients_util.py?line=345'>346</a>\u001b[0m \u001b[39mif\u001b[39;00m xla_separate_compiled_gradients:\n",
      "File \u001b[1;32m~\\anaconda3\\envs\\proper_tf_natixis\\lib\\site-packages\\tensorflow\\python\\ops\\gradients_util.py:684\u001b[0m, in \u001b[0;36m_GradientsHelper.<locals>.<lambda>\u001b[1;34m()\u001b[0m\n\u001b[0;32m    <a href='file:///c%3A/Users/32mor/anaconda3/envs/proper_tf_natixis/lib/site-packages/tensorflow/python/ops/gradients_util.py?line=677'>678</a>\u001b[0m \u001b[39mwith\u001b[39;00m src_graph\u001b[39m.\u001b[39m_original_op(op):\n\u001b[0;32m    <a href='file:///c%3A/Users/32mor/anaconda3/envs/proper_tf_natixis/lib/site-packages/tensorflow/python/ops/gradients_util.py?line=678'>679</a>\u001b[0m   \u001b[39m# pylint: enable=protected-access\u001b[39;00m\n\u001b[0;32m    <a href='file:///c%3A/Users/32mor/anaconda3/envs/proper_tf_natixis/lib/site-packages/tensorflow/python/ops/gradients_util.py?line=679'>680</a>\u001b[0m   \u001b[39mif\u001b[39;00m grad_fn:\n\u001b[0;32m    <a href='file:///c%3A/Users/32mor/anaconda3/envs/proper_tf_natixis/lib/site-packages/tensorflow/python/ops/gradients_util.py?line=680'>681</a>\u001b[0m     \u001b[39m# If grad_fn was found, do not use SymbolicGradient even for\u001b[39;00m\n\u001b[0;32m    <a href='file:///c%3A/Users/32mor/anaconda3/envs/proper_tf_natixis/lib/site-packages/tensorflow/python/ops/gradients_util.py?line=681'>682</a>\u001b[0m     \u001b[39m# functions.\u001b[39;00m\n\u001b[0;32m    <a href='file:///c%3A/Users/32mor/anaconda3/envs/proper_tf_natixis/lib/site-packages/tensorflow/python/ops/gradients_util.py?line=682'>683</a>\u001b[0m     in_grads \u001b[39m=\u001b[39m _MaybeCompile(grad_scope, op, func_call,\n\u001b[1;32m--> <a href='file:///c%3A/Users/32mor/anaconda3/envs/proper_tf_natixis/lib/site-packages/tensorflow/python/ops/gradients_util.py?line=683'>684</a>\u001b[0m                              \u001b[39mlambda\u001b[39;00m: grad_fn(op, \u001b[39m*\u001b[39;49mout_grads))\n\u001b[0;32m    <a href='file:///c%3A/Users/32mor/anaconda3/envs/proper_tf_natixis/lib/site-packages/tensorflow/python/ops/gradients_util.py?line=684'>685</a>\u001b[0m   \u001b[39melse\u001b[39;00m:\n\u001b[0;32m    <a href='file:///c%3A/Users/32mor/anaconda3/envs/proper_tf_natixis/lib/site-packages/tensorflow/python/ops/gradients_util.py?line=685'>686</a>\u001b[0m     \u001b[39m# For function call ops, we add a 'SymbolicGradient'\u001b[39;00m\n\u001b[0;32m    <a href='file:///c%3A/Users/32mor/anaconda3/envs/proper_tf_natixis/lib/site-packages/tensorflow/python/ops/gradients_util.py?line=686'>687</a>\u001b[0m     \u001b[39m# node to the graph to compute gradients.\u001b[39;00m\n\u001b[0;32m    <a href='file:///c%3A/Users/32mor/anaconda3/envs/proper_tf_natixis/lib/site-packages/tensorflow/python/ops/gradients_util.py?line=687'>688</a>\u001b[0m     in_grads \u001b[39m=\u001b[39m _MaybeCompile(grad_scope, op, func_call,\n\u001b[0;32m    <a href='file:///c%3A/Users/32mor/anaconda3/envs/proper_tf_natixis/lib/site-packages/tensorflow/python/ops/gradients_util.py?line=688'>689</a>\u001b[0m                              \u001b[39mlambda\u001b[39;00m: _SymGrad(op, out_grads))\n",
      "File \u001b[1;32m~\\anaconda3\\envs\\proper_tf_natixis\\lib\\site-packages\\tensorflow\\python\\ops\\while_v2.py:356\u001b[0m, in \u001b[0;36m_WhileGrad\u001b[1;34m(op, *grads)\u001b[0m\n\u001b[0;32m    <a href='file:///c%3A/Users/32mor/anaconda3/envs/proper_tf_natixis/lib/site-packages/tensorflow/python/ops/while_v2.py?line=349'>350</a>\u001b[0m \u001b[39m# We compute the gradient for the sub-graph between trainable ys and xs\u001b[39;00m\n\u001b[0;32m    <a href='file:///c%3A/Users/32mor/anaconda3/envs/proper_tf_natixis/lib/site-packages/tensorflow/python/ops/while_v2.py?line=350'>351</a>\u001b[0m \u001b[39m# with non-None incoming gradients. We later pad the None's to the list of\u001b[39;00m\n\u001b[0;32m    <a href='file:///c%3A/Users/32mor/anaconda3/envs/proper_tf_natixis/lib/site-packages/tensorflow/python/ops/while_v2.py?line=351'>352</a>\u001b[0m \u001b[39m# outputs.\u001b[39;00m\n\u001b[0;32m    <a href='file:///c%3A/Users/32mor/anaconda3/envs/proper_tf_natixis/lib/site-packages/tensorflow/python/ops/while_v2.py?line=352'>353</a>\u001b[0m ys, xs, non_none_grads \u001b[39m=\u001b[39m \u001b[39mzip\u001b[39m(\u001b[39m*\u001b[39m[(y, x, grad) \u001b[39mfor\u001b[39;00m (y, x, grad) \u001b[39min\u001b[39;00m \u001b[39mzip\u001b[39m(\n\u001b[0;32m    <a href='file:///c%3A/Users/32mor/anaconda3/envs/proper_tf_natixis/lib/site-packages/tensorflow/python/ops/while_v2.py?line=353'>354</a>\u001b[0m     body_graph\u001b[39m.\u001b[39moutputs, body_graph\u001b[39m.\u001b[39minputs, grads) \u001b[39mif\u001b[39;00m grad \u001b[39mis\u001b[39;00m \u001b[39mnot\u001b[39;00m \u001b[39mNone\u001b[39;00m])\n\u001b[1;32m--> <a href='file:///c%3A/Users/32mor/anaconda3/envs/proper_tf_natixis/lib/site-packages/tensorflow/python/ops/while_v2.py?line=355'>356</a>\u001b[0m body_grad_graph, args \u001b[39m=\u001b[39m _create_grad_func(\n\u001b[0;32m    <a href='file:///c%3A/Users/32mor/anaconda3/envs/proper_tf_natixis/lib/site-packages/tensorflow/python/ops/while_v2.py?line=356'>357</a>\u001b[0m     ys, xs, non_none_grads, cond_graph, body_graph,\n\u001b[0;32m    <a href='file:///c%3A/Users/32mor/anaconda3/envs/proper_tf_natixis/lib/site-packages/tensorflow/python/ops/while_v2.py?line=357'>358</a>\u001b[0m     util\u001b[39m.\u001b[39;49munique_grad_fn_name(body_graph\u001b[39m.\u001b[39;49mname), op, maximum_iterations)\n\u001b[0;32m    <a href='file:///c%3A/Users/32mor/anaconda3/envs/proper_tf_natixis/lib/site-packages/tensorflow/python/ops/while_v2.py?line=359'>360</a>\u001b[0m \u001b[39mif\u001b[39;00m body_grad_graph\u001b[39m.\u001b[39mwhile_op_needs_rewrite:\n\u001b[0;32m    <a href='file:///c%3A/Users/32mor/anaconda3/envs/proper_tf_natixis/lib/site-packages/tensorflow/python/ops/while_v2.py?line=360'>361</a>\u001b[0m   \u001b[39m# Modify 'op' to output the intermediate accumulators needed by the grad\u001b[39;00m\n\u001b[0;32m    <a href='file:///c%3A/Users/32mor/anaconda3/envs/proper_tf_natixis/lib/site-packages/tensorflow/python/ops/while_v2.py?line=361'>362</a>\u001b[0m   \u001b[39m# function.\u001b[39;00m\n\u001b[0;32m    <a href='file:///c%3A/Users/32mor/anaconda3/envs/proper_tf_natixis/lib/site-packages/tensorflow/python/ops/while_v2.py?line=362'>363</a>\u001b[0m   \u001b[39m# NOTE(skyewm): if there are any active sessions, this modification to `op`\u001b[39;00m\n\u001b[0;32m    <a href='file:///c%3A/Users/32mor/anaconda3/envs/proper_tf_natixis/lib/site-packages/tensorflow/python/ops/while_v2.py?line=363'>364</a>\u001b[0m   \u001b[39m# may make them unrunnable!\u001b[39;00m\n\u001b[0;32m    <a href='file:///c%3A/Users/32mor/anaconda3/envs/proper_tf_natixis/lib/site-packages/tensorflow/python/ops/while_v2.py?line=365'>366</a>\u001b[0m   cond_graph\u001b[39m.\u001b[39mname \u001b[39m+\u001b[39m\u001b[39m=\u001b[39m \u001b[39m\"\u001b[39m\u001b[39m_rewritten\u001b[39m\u001b[39m\"\u001b[39m\n",
      "File \u001b[1;32m~\\anaconda3\\envs\\proper_tf_natixis\\lib\\site-packages\\tensorflow\\python\\ops\\while_v2.py:630\u001b[0m, in \u001b[0;36m_create_grad_func\u001b[1;34m(ys, xs, grads, cond_graph, body_graph, name, while_op, maximum_iterations)\u001b[0m\n\u001b[0;32m    <a href='file:///c%3A/Users/32mor/anaconda3/envs/proper_tf_natixis/lib/site-packages/tensorflow/python/ops/while_v2.py?line=626'>627</a>\u001b[0m args \u001b[39m=\u001b[39m [counter, maximum_iterations, total_iters] \u001b[39m+\u001b[39m \u001b[39mlist\u001b[39m(grads)\n\u001b[0;32m    <a href='file:///c%3A/Users/32mor/anaconda3/envs/proper_tf_natixis/lib/site-packages/tensorflow/python/ops/while_v2.py?line=627'>628</a>\u001b[0m \u001b[39m# Note: The returned function does not have `args` in the list of\u001b[39;00m\n\u001b[0;32m    <a href='file:///c%3A/Users/32mor/anaconda3/envs/proper_tf_natixis/lib/site-packages/tensorflow/python/ops/while_v2.py?line=628'>629</a>\u001b[0m \u001b[39m# `external_captures`.\u001b[39;00m\n\u001b[1;32m--> <a href='file:///c%3A/Users/32mor/anaconda3/envs/proper_tf_natixis/lib/site-packages/tensorflow/python/ops/while_v2.py?line=629'>630</a>\u001b[0m grad_func_graph \u001b[39m=\u001b[39m func_graph_module\u001b[39m.\u001b[39;49mfunc_graph_from_py_func(\n\u001b[0;32m    <a href='file:///c%3A/Users/32mor/anaconda3/envs/proper_tf_natixis/lib/site-packages/tensorflow/python/ops/while_v2.py?line=630'>631</a>\u001b[0m     name,\n\u001b[0;32m    <a href='file:///c%3A/Users/32mor/anaconda3/envs/proper_tf_natixis/lib/site-packages/tensorflow/python/ops/while_v2.py?line=631'>632</a>\u001b[0m     \u001b[39mlambda\u001b[39;49;00m \u001b[39m*\u001b[39;49margs: _grad_fn(ys, xs, args, body_graph),\n\u001b[0;32m    <a href='file:///c%3A/Users/32mor/anaconda3/envs/proper_tf_natixis/lib/site-packages/tensorflow/python/ops/while_v2.py?line=632'>633</a>\u001b[0m     args, {},\n\u001b[0;32m    <a href='file:///c%3A/Users/32mor/anaconda3/envs/proper_tf_natixis/lib/site-packages/tensorflow/python/ops/while_v2.py?line=633'>634</a>\u001b[0m     func_graph\u001b[39m=\u001b[39;49m_WhileBodyGradFuncGraph(name, cond_graph, body_graph,\n\u001b[0;32m    <a href='file:///c%3A/Users/32mor/anaconda3/envs/proper_tf_natixis/lib/site-packages/tensorflow/python/ops/while_v2.py?line=634'>635</a>\u001b[0m                                        maximum_iterations, while_op,\n\u001b[0;32m    <a href='file:///c%3A/Users/32mor/anaconda3/envs/proper_tf_natixis/lib/site-packages/tensorflow/python/ops/while_v2.py?line=635'>636</a>\u001b[0m                                        body_graph_inputs, body_graph_outputs))\n\u001b[0;32m    <a href='file:///c%3A/Users/32mor/anaconda3/envs/proper_tf_natixis/lib/site-packages/tensorflow/python/ops/while_v2.py?line=637'>638</a>\u001b[0m \u001b[39m# Update the list of outputs with tensors corresponding to the captured\u001b[39;00m\n\u001b[0;32m    <a href='file:///c%3A/Users/32mor/anaconda3/envs/proper_tf_natixis/lib/site-packages/tensorflow/python/ops/while_v2.py?line=638'>639</a>\u001b[0m \u001b[39m# tensors. We capture 3 types of tensors when building the grad fn:\u001b[39;00m\n\u001b[0;32m    <a href='file:///c%3A/Users/32mor/anaconda3/envs/proper_tf_natixis/lib/site-packages/tensorflow/python/ops/while_v2.py?line=639'>640</a>\u001b[0m \u001b[39m# 1. Accumulators for forward graph intermediates which are not loop\u001b[39;00m\n\u001b[1;32m   (...)\u001b[0m\n\u001b[0;32m    <a href='file:///c%3A/Users/32mor/anaconda3/envs/proper_tf_natixis/lib/site-packages/tensorflow/python/ops/while_v2.py?line=642'>643</a>\u001b[0m \u001b[39m# 2. Resources, which are output as is.\u001b[39;00m\n\u001b[0;32m    <a href='file:///c%3A/Users/32mor/anaconda3/envs/proper_tf_natixis/lib/site-packages/tensorflow/python/ops/while_v2.py?line=643'>644</a>\u001b[0m \u001b[39m# 3. Forward graph loop invariants, which are output as is.\u001b[39;00m\n\u001b[0;32m    <a href='file:///c%3A/Users/32mor/anaconda3/envs/proper_tf_natixis/lib/site-packages/tensorflow/python/ops/while_v2.py?line=644'>645</a>\u001b[0m \u001b[39mfor\u001b[39;00m external_capture, internal_capture \u001b[39min\u001b[39;00m grad_func_graph\u001b[39m.\u001b[39mcaptures:\n",
      "File \u001b[1;32m~\\anaconda3\\envs\\proper_tf_natixis\\lib\\site-packages\\tensorflow\\python\\framework\\func_graph.py:990\u001b[0m, in \u001b[0;36mfunc_graph_from_py_func\u001b[1;34m(name, python_func, args, kwargs, signature, func_graph, autograph, autograph_options, add_control_dependencies, arg_names, op_return_value, collections, capture_by_value, override_flat_arg_shapes)\u001b[0m\n\u001b[0;32m    <a href='file:///c%3A/Users/32mor/anaconda3/envs/proper_tf_natixis/lib/site-packages/tensorflow/python/framework/func_graph.py?line=986'>987</a>\u001b[0m \u001b[39melse\u001b[39;00m:\n\u001b[0;32m    <a href='file:///c%3A/Users/32mor/anaconda3/envs/proper_tf_natixis/lib/site-packages/tensorflow/python/framework/func_graph.py?line=987'>988</a>\u001b[0m   _, original_func \u001b[39m=\u001b[39m tf_decorator\u001b[39m.\u001b[39munwrap(python_func)\n\u001b[1;32m--> <a href='file:///c%3A/Users/32mor/anaconda3/envs/proper_tf_natixis/lib/site-packages/tensorflow/python/framework/func_graph.py?line=989'>990</a>\u001b[0m func_outputs \u001b[39m=\u001b[39m python_func(\u001b[39m*\u001b[39;49mfunc_args, \u001b[39m*\u001b[39;49m\u001b[39m*\u001b[39;49mfunc_kwargs)\n\u001b[0;32m    <a href='file:///c%3A/Users/32mor/anaconda3/envs/proper_tf_natixis/lib/site-packages/tensorflow/python/framework/func_graph.py?line=991'>992</a>\u001b[0m \u001b[39m# invariant: `func_outputs` contains only Tensors, CompositeTensors,\u001b[39;00m\n\u001b[0;32m    <a href='file:///c%3A/Users/32mor/anaconda3/envs/proper_tf_natixis/lib/site-packages/tensorflow/python/framework/func_graph.py?line=992'>993</a>\u001b[0m \u001b[39m# TensorArrays and `None`s.\u001b[39;00m\n\u001b[0;32m    <a href='file:///c%3A/Users/32mor/anaconda3/envs/proper_tf_natixis/lib/site-packages/tensorflow/python/framework/func_graph.py?line=993'>994</a>\u001b[0m func_outputs \u001b[39m=\u001b[39m nest\u001b[39m.\u001b[39mmap_structure(convert, func_outputs,\n\u001b[0;32m    <a href='file:///c%3A/Users/32mor/anaconda3/envs/proper_tf_natixis/lib/site-packages/tensorflow/python/framework/func_graph.py?line=994'>995</a>\u001b[0m                                   expand_composites\u001b[39m=\u001b[39m\u001b[39mTrue\u001b[39;00m)\n",
      "File \u001b[1;32m~\\anaconda3\\envs\\proper_tf_natixis\\lib\\site-packages\\tensorflow\\python\\ops\\while_v2.py:632\u001b[0m, in \u001b[0;36m_create_grad_func.<locals>.<lambda>\u001b[1;34m(*args)\u001b[0m\n\u001b[0;32m    <a href='file:///c%3A/Users/32mor/anaconda3/envs/proper_tf_natixis/lib/site-packages/tensorflow/python/ops/while_v2.py?line=626'>627</a>\u001b[0m args \u001b[39m=\u001b[39m [counter, maximum_iterations, total_iters] \u001b[39m+\u001b[39m \u001b[39mlist\u001b[39m(grads)\n\u001b[0;32m    <a href='file:///c%3A/Users/32mor/anaconda3/envs/proper_tf_natixis/lib/site-packages/tensorflow/python/ops/while_v2.py?line=627'>628</a>\u001b[0m \u001b[39m# Note: The returned function does not have `args` in the list of\u001b[39;00m\n\u001b[0;32m    <a href='file:///c%3A/Users/32mor/anaconda3/envs/proper_tf_natixis/lib/site-packages/tensorflow/python/ops/while_v2.py?line=628'>629</a>\u001b[0m \u001b[39m# `external_captures`.\u001b[39;00m\n\u001b[0;32m    <a href='file:///c%3A/Users/32mor/anaconda3/envs/proper_tf_natixis/lib/site-packages/tensorflow/python/ops/while_v2.py?line=629'>630</a>\u001b[0m grad_func_graph \u001b[39m=\u001b[39m func_graph_module\u001b[39m.\u001b[39mfunc_graph_from_py_func(\n\u001b[0;32m    <a href='file:///c%3A/Users/32mor/anaconda3/envs/proper_tf_natixis/lib/site-packages/tensorflow/python/ops/while_v2.py?line=630'>631</a>\u001b[0m     name,\n\u001b[1;32m--> <a href='file:///c%3A/Users/32mor/anaconda3/envs/proper_tf_natixis/lib/site-packages/tensorflow/python/ops/while_v2.py?line=631'>632</a>\u001b[0m     \u001b[39mlambda\u001b[39;00m \u001b[39m*\u001b[39margs: _grad_fn(ys, xs, args, body_graph),\n\u001b[0;32m    <a href='file:///c%3A/Users/32mor/anaconda3/envs/proper_tf_natixis/lib/site-packages/tensorflow/python/ops/while_v2.py?line=632'>633</a>\u001b[0m     args, {},\n\u001b[0;32m    <a href='file:///c%3A/Users/32mor/anaconda3/envs/proper_tf_natixis/lib/site-packages/tensorflow/python/ops/while_v2.py?line=633'>634</a>\u001b[0m     func_graph\u001b[39m=\u001b[39m_WhileBodyGradFuncGraph(name, cond_graph, body_graph,\n\u001b[0;32m    <a href='file:///c%3A/Users/32mor/anaconda3/envs/proper_tf_natixis/lib/site-packages/tensorflow/python/ops/while_v2.py?line=634'>635</a>\u001b[0m                                        maximum_iterations, while_op,\n\u001b[0;32m    <a href='file:///c%3A/Users/32mor/anaconda3/envs/proper_tf_natixis/lib/site-packages/tensorflow/python/ops/while_v2.py?line=635'>636</a>\u001b[0m                                        body_graph_inputs, body_graph_outputs))\n\u001b[0;32m    <a href='file:///c%3A/Users/32mor/anaconda3/envs/proper_tf_natixis/lib/site-packages/tensorflow/python/ops/while_v2.py?line=637'>638</a>\u001b[0m \u001b[39m# Update the list of outputs with tensors corresponding to the captured\u001b[39;00m\n\u001b[0;32m    <a href='file:///c%3A/Users/32mor/anaconda3/envs/proper_tf_natixis/lib/site-packages/tensorflow/python/ops/while_v2.py?line=638'>639</a>\u001b[0m \u001b[39m# tensors. We capture 3 types of tensors when building the grad fn:\u001b[39;00m\n\u001b[0;32m    <a href='file:///c%3A/Users/32mor/anaconda3/envs/proper_tf_natixis/lib/site-packages/tensorflow/python/ops/while_v2.py?line=639'>640</a>\u001b[0m \u001b[39m# 1. Accumulators for forward graph intermediates which are not loop\u001b[39;00m\n\u001b[1;32m   (...)\u001b[0m\n\u001b[0;32m    <a href='file:///c%3A/Users/32mor/anaconda3/envs/proper_tf_natixis/lib/site-packages/tensorflow/python/ops/while_v2.py?line=642'>643</a>\u001b[0m \u001b[39m# 2. Resources, which are output as is.\u001b[39;00m\n\u001b[0;32m    <a href='file:///c%3A/Users/32mor/anaconda3/envs/proper_tf_natixis/lib/site-packages/tensorflow/python/ops/while_v2.py?line=643'>644</a>\u001b[0m \u001b[39m# 3. Forward graph loop invariants, which are output as is.\u001b[39;00m\n\u001b[0;32m    <a href='file:///c%3A/Users/32mor/anaconda3/envs/proper_tf_natixis/lib/site-packages/tensorflow/python/ops/while_v2.py?line=644'>645</a>\u001b[0m \u001b[39mfor\u001b[39;00m external_capture, internal_capture \u001b[39min\u001b[39;00m grad_func_graph\u001b[39m.\u001b[39mcaptures:\n",
      "File \u001b[1;32m~\\anaconda3\\envs\\proper_tf_natixis\\lib\\site-packages\\tensorflow\\python\\ops\\while_v2.py:690\u001b[0m, in \u001b[0;36m_grad_fn\u001b[1;34m(ys, xs, args, func_graph)\u001b[0m\n\u001b[0;32m    <a href='file:///c%3A/Users/32mor/anaconda3/envs/proper_tf_natixis/lib/site-packages/tensorflow/python/ops/while_v2.py?line=682'>683</a>\u001b[0m grad_ys \u001b[39m=\u001b[39m args[\u001b[39m3\u001b[39m:]\n\u001b[0;32m    <a href='file:///c%3A/Users/32mor/anaconda3/envs/proper_tf_natixis/lib/site-packages/tensorflow/python/ops/while_v2.py?line=684'>685</a>\u001b[0m \u001b[39m# Build the gradient graph. Note that this builds the gradient computation of\u001b[39;00m\n\u001b[0;32m    <a href='file:///c%3A/Users/32mor/anaconda3/envs/proper_tf_natixis/lib/site-packages/tensorflow/python/ops/while_v2.py?line=685'>686</a>\u001b[0m \u001b[39m# func_graph in the current graph, which requires capturing tensors from\u001b[39;00m\n\u001b[0;32m    <a href='file:///c%3A/Users/32mor/anaconda3/envs/proper_tf_natixis/lib/site-packages/tensorflow/python/ops/while_v2.py?line=686'>687</a>\u001b[0m \u001b[39m# func_graph. The captured func_graph tensors are resolved to external tensors\u001b[39;00m\n\u001b[0;32m    <a href='file:///c%3A/Users/32mor/anaconda3/envs/proper_tf_natixis/lib/site-packages/tensorflow/python/ops/while_v2.py?line=687'>688</a>\u001b[0m \u001b[39m# after the forward While op has been rewritten in _resolve_grad_captures.\u001b[39;00m\n\u001b[0;32m    <a href='file:///c%3A/Users/32mor/anaconda3/envs/proper_tf_natixis/lib/site-packages/tensorflow/python/ops/while_v2.py?line=688'>689</a>\u001b[0m \u001b[39m# TODO(srbs): Mark GradientsHelper as public?\u001b[39;00m\n\u001b[1;32m--> <a href='file:///c%3A/Users/32mor/anaconda3/envs/proper_tf_natixis/lib/site-packages/tensorflow/python/ops/while_v2.py?line=689'>690</a>\u001b[0m grad_outs \u001b[39m=\u001b[39m gradients_util\u001b[39m.\u001b[39;49m_GradientsHelper(\n\u001b[0;32m    <a href='file:///c%3A/Users/32mor/anaconda3/envs/proper_tf_natixis/lib/site-packages/tensorflow/python/ops/while_v2.py?line=690'>691</a>\u001b[0m     ys, xs, grad_ys\u001b[39m=\u001b[39;49mgrad_ys, src_graph\u001b[39m=\u001b[39;49mfunc_graph,\n\u001b[0;32m    <a href='file:///c%3A/Users/32mor/anaconda3/envs/proper_tf_natixis/lib/site-packages/tensorflow/python/ops/while_v2.py?line=691'>692</a>\u001b[0m     unconnected_gradients\u001b[39m=\u001b[39;49m\u001b[39m\"\u001b[39;49m\u001b[39mzero\u001b[39;49m\u001b[39m\"\u001b[39;49m)\n\u001b[0;32m    <a href='file:///c%3A/Users/32mor/anaconda3/envs/proper_tf_natixis/lib/site-packages/tensorflow/python/ops/while_v2.py?line=693'>694</a>\u001b[0m \u001b[39m# TODO(b/118712257): Handle the case when grad_outs has None's e.g. when there\u001b[39;00m\n\u001b[0;32m    <a href='file:///c%3A/Users/32mor/anaconda3/envs/proper_tf_natixis/lib/site-packages/tensorflow/python/ops/while_v2.py?line=694'>695</a>\u001b[0m \u001b[39m# is a tf.StopGradient in the loop body.\u001b[39;00m\n\u001b[0;32m    <a href='file:///c%3A/Users/32mor/anaconda3/envs/proper_tf_natixis/lib/site-packages/tensorflow/python/ops/while_v2.py?line=695'>696</a>\u001b[0m \u001b[39massert\u001b[39;00m \u001b[39mall\u001b[39m(g \u001b[39mis\u001b[39;00m \u001b[39mnot\u001b[39;00m \u001b[39mNone\u001b[39;00m \u001b[39mfor\u001b[39;00m g \u001b[39min\u001b[39;00m grad_outs)\n",
      "File \u001b[1;32m~\\anaconda3\\envs\\proper_tf_natixis\\lib\\site-packages\\tensorflow\\python\\ops\\gradients_util.py:683\u001b[0m, in \u001b[0;36m_GradientsHelper\u001b[1;34m(ys, xs, grad_ys, name, colocate_gradients_with_ops, gate_gradients, aggregation_method, stop_gradients, unconnected_gradients, src_graph)\u001b[0m\n\u001b[0;32m    <a href='file:///c%3A/Users/32mor/anaconda3/envs/proper_tf_natixis/lib/site-packages/tensorflow/python/ops/gradients_util.py?line=677'>678</a>\u001b[0m \u001b[39mwith\u001b[39;00m src_graph\u001b[39m.\u001b[39m_original_op(op):\n\u001b[0;32m    <a href='file:///c%3A/Users/32mor/anaconda3/envs/proper_tf_natixis/lib/site-packages/tensorflow/python/ops/gradients_util.py?line=678'>679</a>\u001b[0m   \u001b[39m# pylint: enable=protected-access\u001b[39;00m\n\u001b[0;32m    <a href='file:///c%3A/Users/32mor/anaconda3/envs/proper_tf_natixis/lib/site-packages/tensorflow/python/ops/gradients_util.py?line=679'>680</a>\u001b[0m   \u001b[39mif\u001b[39;00m grad_fn:\n\u001b[0;32m    <a href='file:///c%3A/Users/32mor/anaconda3/envs/proper_tf_natixis/lib/site-packages/tensorflow/python/ops/gradients_util.py?line=680'>681</a>\u001b[0m     \u001b[39m# If grad_fn was found, do not use SymbolicGradient even for\u001b[39;00m\n\u001b[0;32m    <a href='file:///c%3A/Users/32mor/anaconda3/envs/proper_tf_natixis/lib/site-packages/tensorflow/python/ops/gradients_util.py?line=681'>682</a>\u001b[0m     \u001b[39m# functions.\u001b[39;00m\n\u001b[1;32m--> <a href='file:///c%3A/Users/32mor/anaconda3/envs/proper_tf_natixis/lib/site-packages/tensorflow/python/ops/gradients_util.py?line=682'>683</a>\u001b[0m     in_grads \u001b[39m=\u001b[39m _MaybeCompile(grad_scope, op, func_call,\n\u001b[0;32m    <a href='file:///c%3A/Users/32mor/anaconda3/envs/proper_tf_natixis/lib/site-packages/tensorflow/python/ops/gradients_util.py?line=683'>684</a>\u001b[0m                              \u001b[39mlambda\u001b[39;49;00m: grad_fn(op, \u001b[39m*\u001b[39;49mout_grads))\n\u001b[0;32m    <a href='file:///c%3A/Users/32mor/anaconda3/envs/proper_tf_natixis/lib/site-packages/tensorflow/python/ops/gradients_util.py?line=684'>685</a>\u001b[0m   \u001b[39melse\u001b[39;00m:\n\u001b[0;32m    <a href='file:///c%3A/Users/32mor/anaconda3/envs/proper_tf_natixis/lib/site-packages/tensorflow/python/ops/gradients_util.py?line=685'>686</a>\u001b[0m     \u001b[39m# For function call ops, we add a 'SymbolicGradient'\u001b[39;00m\n\u001b[0;32m    <a href='file:///c%3A/Users/32mor/anaconda3/envs/proper_tf_natixis/lib/site-packages/tensorflow/python/ops/gradients_util.py?line=686'>687</a>\u001b[0m     \u001b[39m# node to the graph to compute gradients.\u001b[39;00m\n\u001b[0;32m    <a href='file:///c%3A/Users/32mor/anaconda3/envs/proper_tf_natixis/lib/site-packages/tensorflow/python/ops/gradients_util.py?line=687'>688</a>\u001b[0m     in_grads \u001b[39m=\u001b[39m _MaybeCompile(grad_scope, op, func_call,\n\u001b[0;32m    <a href='file:///c%3A/Users/32mor/anaconda3/envs/proper_tf_natixis/lib/site-packages/tensorflow/python/ops/gradients_util.py?line=688'>689</a>\u001b[0m                              \u001b[39mlambda\u001b[39;00m: _SymGrad(op, out_grads))\n",
      "File \u001b[1;32m~\\anaconda3\\envs\\proper_tf_natixis\\lib\\site-packages\\tensorflow\\python\\ops\\gradients_util.py:340\u001b[0m, in \u001b[0;36m_MaybeCompile\u001b[1;34m(scope, op, func, grad_fn)\u001b[0m\n\u001b[0;32m    <a href='file:///c%3A/Users/32mor/anaconda3/envs/proper_tf_natixis/lib/site-packages/tensorflow/python/ops/gradients_util.py?line=336'>337</a>\u001b[0m     xla_compile \u001b[39m=\u001b[39m \u001b[39mFalse\u001b[39;00m\n\u001b[0;32m    <a href='file:///c%3A/Users/32mor/anaconda3/envs/proper_tf_natixis/lib/site-packages/tensorflow/python/ops/gradients_util.py?line=338'>339</a>\u001b[0m \u001b[39mif\u001b[39;00m \u001b[39mnot\u001b[39;00m xla_compile:\n\u001b[1;32m--> <a href='file:///c%3A/Users/32mor/anaconda3/envs/proper_tf_natixis/lib/site-packages/tensorflow/python/ops/gradients_util.py?line=339'>340</a>\u001b[0m   \u001b[39mreturn\u001b[39;00m grad_fn()  \u001b[39m# Exit early\u001b[39;00m\n\u001b[0;32m    <a href='file:///c%3A/Users/32mor/anaconda3/envs/proper_tf_natixis/lib/site-packages/tensorflow/python/ops/gradients_util.py?line=341'>342</a>\u001b[0m \u001b[39m# If the gradients are supposed to be compiled separately, we give them a\u001b[39;00m\n\u001b[0;32m    <a href='file:///c%3A/Users/32mor/anaconda3/envs/proper_tf_natixis/lib/site-packages/tensorflow/python/ops/gradients_util.py?line=342'>343</a>\u001b[0m \u001b[39m# _XlaScope name that is based on the name_scope of the gradients.  Otherwise\u001b[39;00m\n\u001b[0;32m    <a href='file:///c%3A/Users/32mor/anaconda3/envs/proper_tf_natixis/lib/site-packages/tensorflow/python/ops/gradients_util.py?line=343'>344</a>\u001b[0m \u001b[39m# they just inherit the existing _XlaScope name, which lets them be merged\u001b[39;00m\n\u001b[0;32m    <a href='file:///c%3A/Users/32mor/anaconda3/envs/proper_tf_natixis/lib/site-packages/tensorflow/python/ops/gradients_util.py?line=344'>345</a>\u001b[0m \u001b[39m# together with the non-gradient computation.\u001b[39;00m\n\u001b[0;32m    <a href='file:///c%3A/Users/32mor/anaconda3/envs/proper_tf_natixis/lib/site-packages/tensorflow/python/ops/gradients_util.py?line=345'>346</a>\u001b[0m \u001b[39mif\u001b[39;00m xla_separate_compiled_gradients:\n",
      "File \u001b[1;32m~\\anaconda3\\envs\\proper_tf_natixis\\lib\\site-packages\\tensorflow\\python\\ops\\gradients_util.py:684\u001b[0m, in \u001b[0;36m_GradientsHelper.<locals>.<lambda>\u001b[1;34m()\u001b[0m\n\u001b[0;32m    <a href='file:///c%3A/Users/32mor/anaconda3/envs/proper_tf_natixis/lib/site-packages/tensorflow/python/ops/gradients_util.py?line=677'>678</a>\u001b[0m \u001b[39mwith\u001b[39;00m src_graph\u001b[39m.\u001b[39m_original_op(op):\n\u001b[0;32m    <a href='file:///c%3A/Users/32mor/anaconda3/envs/proper_tf_natixis/lib/site-packages/tensorflow/python/ops/gradients_util.py?line=678'>679</a>\u001b[0m   \u001b[39m# pylint: enable=protected-access\u001b[39;00m\n\u001b[0;32m    <a href='file:///c%3A/Users/32mor/anaconda3/envs/proper_tf_natixis/lib/site-packages/tensorflow/python/ops/gradients_util.py?line=679'>680</a>\u001b[0m   \u001b[39mif\u001b[39;00m grad_fn:\n\u001b[0;32m    <a href='file:///c%3A/Users/32mor/anaconda3/envs/proper_tf_natixis/lib/site-packages/tensorflow/python/ops/gradients_util.py?line=680'>681</a>\u001b[0m     \u001b[39m# If grad_fn was found, do not use SymbolicGradient even for\u001b[39;00m\n\u001b[0;32m    <a href='file:///c%3A/Users/32mor/anaconda3/envs/proper_tf_natixis/lib/site-packages/tensorflow/python/ops/gradients_util.py?line=681'>682</a>\u001b[0m     \u001b[39m# functions.\u001b[39;00m\n\u001b[0;32m    <a href='file:///c%3A/Users/32mor/anaconda3/envs/proper_tf_natixis/lib/site-packages/tensorflow/python/ops/gradients_util.py?line=682'>683</a>\u001b[0m     in_grads \u001b[39m=\u001b[39m _MaybeCompile(grad_scope, op, func_call,\n\u001b[1;32m--> <a href='file:///c%3A/Users/32mor/anaconda3/envs/proper_tf_natixis/lib/site-packages/tensorflow/python/ops/gradients_util.py?line=683'>684</a>\u001b[0m                              \u001b[39mlambda\u001b[39;00m: grad_fn(op, \u001b[39m*\u001b[39;49mout_grads))\n\u001b[0;32m    <a href='file:///c%3A/Users/32mor/anaconda3/envs/proper_tf_natixis/lib/site-packages/tensorflow/python/ops/gradients_util.py?line=684'>685</a>\u001b[0m   \u001b[39melse\u001b[39;00m:\n\u001b[0;32m    <a href='file:///c%3A/Users/32mor/anaconda3/envs/proper_tf_natixis/lib/site-packages/tensorflow/python/ops/gradients_util.py?line=685'>686</a>\u001b[0m     \u001b[39m# For function call ops, we add a 'SymbolicGradient'\u001b[39;00m\n\u001b[0;32m    <a href='file:///c%3A/Users/32mor/anaconda3/envs/proper_tf_natixis/lib/site-packages/tensorflow/python/ops/gradients_util.py?line=686'>687</a>\u001b[0m     \u001b[39m# node to the graph to compute gradients.\u001b[39;00m\n\u001b[0;32m    <a href='file:///c%3A/Users/32mor/anaconda3/envs/proper_tf_natixis/lib/site-packages/tensorflow/python/ops/gradients_util.py?line=687'>688</a>\u001b[0m     in_grads \u001b[39m=\u001b[39m _MaybeCompile(grad_scope, op, func_call,\n\u001b[0;32m    <a href='file:///c%3A/Users/32mor/anaconda3/envs/proper_tf_natixis/lib/site-packages/tensorflow/python/ops/gradients_util.py?line=688'>689</a>\u001b[0m                              \u001b[39mlambda\u001b[39;00m: _SymGrad(op, out_grads))\n",
      "File \u001b[1;32m~\\anaconda3\\envs\\proper_tf_natixis\\lib\\site-packages\\tensorflow\\python\\ops\\math_grad.py:1328\u001b[0m, in \u001b[0;36m_MulGrad\u001b[1;34m(op, grad)\u001b[0m\n\u001b[0;32m   <a href='file:///c%3A/Users/32mor/anaconda3/envs/proper_tf_natixis/lib/site-packages/tensorflow/python/ops/math_grad.py?line=1323'>1324</a>\u001b[0m   \u001b[39mreturn\u001b[39;00m gen_math_ops\u001b[39m.\u001b[39mmul(grad, y), gen_math_ops\u001b[39m.\u001b[39mmul(grad, x)\n\u001b[0;32m   <a href='file:///c%3A/Users/32mor/anaconda3/envs/proper_tf_natixis/lib/site-packages/tensorflow/python/ops/math_grad.py?line=1324'>1325</a>\u001b[0m \u001b[39massert\u001b[39;00m x\u001b[39m.\u001b[39mdtype\u001b[39m.\u001b[39mbase_dtype \u001b[39m==\u001b[39m y\u001b[39m.\u001b[39mdtype\u001b[39m.\u001b[39mbase_dtype, (x\u001b[39m.\u001b[39mdtype, \u001b[39m\"\u001b[39m\u001b[39m vs. \u001b[39m\u001b[39m\"\u001b[39m, y\u001b[39m.\u001b[39mdtype)\n\u001b[0;32m   <a href='file:///c%3A/Users/32mor/anaconda3/envs/proper_tf_natixis/lib/site-packages/tensorflow/python/ops/math_grad.py?line=1326'>1327</a>\u001b[0m (sx, rx, must_reduce_x), (sy, ry, must_reduce_y) \u001b[39m=\u001b[39m (\n\u001b[1;32m-> <a href='file:///c%3A/Users/32mor/anaconda3/envs/proper_tf_natixis/lib/site-packages/tensorflow/python/ops/math_grad.py?line=1327'>1328</a>\u001b[0m     SmartBroadcastGradientArgs(x, y, grad))\n\u001b[0;32m   <a href='file:///c%3A/Users/32mor/anaconda3/envs/proper_tf_natixis/lib/site-packages/tensorflow/python/ops/math_grad.py?line=1328'>1329</a>\u001b[0m x \u001b[39m=\u001b[39m math_ops\u001b[39m.\u001b[39mconj(x)\n\u001b[0;32m   <a href='file:///c%3A/Users/32mor/anaconda3/envs/proper_tf_natixis/lib/site-packages/tensorflow/python/ops/math_grad.py?line=1329'>1330</a>\u001b[0m y \u001b[39m=\u001b[39m math_ops\u001b[39m.\u001b[39mconj(y)\n",
      "File \u001b[1;32m~\\anaconda3\\envs\\proper_tf_natixis\\lib\\site-packages\\tensorflow\\python\\ops\\math_grad.py:109\u001b[0m, in \u001b[0;36mSmartBroadcastGradientArgs\u001b[1;34m(x, y, grad)\u001b[0m\n\u001b[0;32m    <a href='file:///c%3A/Users/32mor/anaconda3/envs/proper_tf_natixis/lib/site-packages/tensorflow/python/ops/math_grad.py?line=106'>107</a>\u001b[0m   sx \u001b[39m=\u001b[39m array_ops\u001b[39m.\u001b[39mshape_internal(x, optimize\u001b[39m=\u001b[39m\u001b[39mFalse\u001b[39;00m)\n\u001b[0;32m    <a href='file:///c%3A/Users/32mor/anaconda3/envs/proper_tf_natixis/lib/site-packages/tensorflow/python/ops/math_grad.py?line=107'>108</a>\u001b[0m   sy \u001b[39m=\u001b[39m array_ops\u001b[39m.\u001b[39mshape_internal(y, optimize\u001b[39m=\u001b[39m\u001b[39mFalse\u001b[39;00m)\n\u001b[1;32m--> <a href='file:///c%3A/Users/32mor/anaconda3/envs/proper_tf_natixis/lib/site-packages/tensorflow/python/ops/math_grad.py?line=108'>109</a>\u001b[0m   rx, ry \u001b[39m=\u001b[39m gen_array_ops\u001b[39m.\u001b[39;49mbroadcast_gradient_args(sx, sy)\n\u001b[0;32m    <a href='file:///c%3A/Users/32mor/anaconda3/envs/proper_tf_natixis/lib/site-packages/tensorflow/python/ops/math_grad.py?line=109'>110</a>\u001b[0m   \u001b[39mreturn\u001b[39;00m (sx, rx, \u001b[39mTrue\u001b[39;00m), (sy, ry, \u001b[39mTrue\u001b[39;00m)\n\u001b[0;32m    <a href='file:///c%3A/Users/32mor/anaconda3/envs/proper_tf_natixis/lib/site-packages/tensorflow/python/ops/math_grad.py?line=111'>112</a>\u001b[0m x_needs_reduction \u001b[39m=\u001b[39m x_shape_tuple \u001b[39m!=\u001b[39m grad_shape_tuple\n",
      "File \u001b[1;32m~\\anaconda3\\envs\\proper_tf_natixis\\lib\\site-packages\\tensorflow\\python\\ops\\gen_array_ops.py:748\u001b[0m, in \u001b[0;36mbroadcast_gradient_args\u001b[1;34m(s0, s1, name)\u001b[0m\n\u001b[0;32m    <a href='file:///c%3A/Users/32mor/anaconda3/envs/proper_tf_natixis/lib/site-packages/tensorflow/python/ops/gen_array_ops.py?line=745'>746</a>\u001b[0m     \u001b[39mpass\u001b[39;00m  \u001b[39m# Add nodes to the TensorFlow graph.\u001b[39;00m\n\u001b[0;32m    <a href='file:///c%3A/Users/32mor/anaconda3/envs/proper_tf_natixis/lib/site-packages/tensorflow/python/ops/gen_array_ops.py?line=746'>747</a>\u001b[0m \u001b[39m# Add nodes to the TensorFlow graph.\u001b[39;00m\n\u001b[1;32m--> <a href='file:///c%3A/Users/32mor/anaconda3/envs/proper_tf_natixis/lib/site-packages/tensorflow/python/ops/gen_array_ops.py?line=747'>748</a>\u001b[0m _, _, _op, _outputs \u001b[39m=\u001b[39m _op_def_library\u001b[39m.\u001b[39;49m_apply_op_helper(\n\u001b[0;32m    <a href='file:///c%3A/Users/32mor/anaconda3/envs/proper_tf_natixis/lib/site-packages/tensorflow/python/ops/gen_array_ops.py?line=748'>749</a>\u001b[0m       \u001b[39m\"\u001b[39;49m\u001b[39mBroadcastGradientArgs\u001b[39;49m\u001b[39m\"\u001b[39;49m, s0\u001b[39m=\u001b[39;49ms0, s1\u001b[39m=\u001b[39;49ms1, name\u001b[39m=\u001b[39;49mname)\n\u001b[0;32m    <a href='file:///c%3A/Users/32mor/anaconda3/envs/proper_tf_natixis/lib/site-packages/tensorflow/python/ops/gen_array_ops.py?line=749'>750</a>\u001b[0m _result \u001b[39m=\u001b[39m _outputs[:]\n\u001b[0;32m    <a href='file:///c%3A/Users/32mor/anaconda3/envs/proper_tf_natixis/lib/site-packages/tensorflow/python/ops/gen_array_ops.py?line=750'>751</a>\u001b[0m \u001b[39mif\u001b[39;00m _execute\u001b[39m.\u001b[39mmust_record_gradient():\n",
      "File \u001b[1;32m~\\anaconda3\\envs\\proper_tf_natixis\\lib\\site-packages\\tensorflow\\python\\framework\\op_def_library.py:748\u001b[0m, in \u001b[0;36m_apply_op_helper\u001b[1;34m(op_type_name, name, **keywords)\u001b[0m\n\u001b[0;32m    <a href='file:///c%3A/Users/32mor/anaconda3/envs/proper_tf_natixis/lib/site-packages/tensorflow/python/framework/op_def_library.py?line=742'>743</a>\u001b[0m must_colocate_inputs \u001b[39m=\u001b[39m [val \u001b[39mfor\u001b[39;00m arg, val \u001b[39min\u001b[39;00m \u001b[39mzip\u001b[39m(op_def\u001b[39m.\u001b[39minput_arg, inputs)\n\u001b[0;32m    <a href='file:///c%3A/Users/32mor/anaconda3/envs/proper_tf_natixis/lib/site-packages/tensorflow/python/framework/op_def_library.py?line=743'>744</a>\u001b[0m                         \u001b[39mif\u001b[39;00m arg\u001b[39m.\u001b[39mis_ref]\n\u001b[0;32m    <a href='file:///c%3A/Users/32mor/anaconda3/envs/proper_tf_natixis/lib/site-packages/tensorflow/python/framework/op_def_library.py?line=744'>745</a>\u001b[0m \u001b[39mwith\u001b[39;00m _MaybeColocateWith(must_colocate_inputs):\n\u001b[0;32m    <a href='file:///c%3A/Users/32mor/anaconda3/envs/proper_tf_natixis/lib/site-packages/tensorflow/python/framework/op_def_library.py?line=745'>746</a>\u001b[0m   \u001b[39m# Add Op to graph\u001b[39;00m\n\u001b[0;32m    <a href='file:///c%3A/Users/32mor/anaconda3/envs/proper_tf_natixis/lib/site-packages/tensorflow/python/framework/op_def_library.py?line=746'>747</a>\u001b[0m   \u001b[39m# pylint: disable=protected-access\u001b[39;00m\n\u001b[1;32m--> <a href='file:///c%3A/Users/32mor/anaconda3/envs/proper_tf_natixis/lib/site-packages/tensorflow/python/framework/op_def_library.py?line=747'>748</a>\u001b[0m   op \u001b[39m=\u001b[39m g\u001b[39m.\u001b[39;49m_create_op_internal(op_type_name, inputs, dtypes\u001b[39m=\u001b[39;49m\u001b[39mNone\u001b[39;49;00m,\n\u001b[0;32m    <a href='file:///c%3A/Users/32mor/anaconda3/envs/proper_tf_natixis/lib/site-packages/tensorflow/python/framework/op_def_library.py?line=748'>749</a>\u001b[0m                              name\u001b[39m=\u001b[39;49mscope, input_types\u001b[39m=\u001b[39;49minput_types,\n\u001b[0;32m    <a href='file:///c%3A/Users/32mor/anaconda3/envs/proper_tf_natixis/lib/site-packages/tensorflow/python/framework/op_def_library.py?line=749'>750</a>\u001b[0m                              attrs\u001b[39m=\u001b[39;49mattr_protos, op_def\u001b[39m=\u001b[39;49mop_def)\n\u001b[0;32m    <a href='file:///c%3A/Users/32mor/anaconda3/envs/proper_tf_natixis/lib/site-packages/tensorflow/python/framework/op_def_library.py?line=751'>752</a>\u001b[0m \u001b[39m# `outputs` is returned as a separate return value so that the output\u001b[39;00m\n\u001b[0;32m    <a href='file:///c%3A/Users/32mor/anaconda3/envs/proper_tf_natixis/lib/site-packages/tensorflow/python/framework/op_def_library.py?line=752'>753</a>\u001b[0m \u001b[39m# tensors can the `op` per se can be decoupled so that the\u001b[39;00m\n\u001b[0;32m    <a href='file:///c%3A/Users/32mor/anaconda3/envs/proper_tf_natixis/lib/site-packages/tensorflow/python/framework/op_def_library.py?line=753'>754</a>\u001b[0m \u001b[39m# `op_callbacks` can function properly. See framework/op_callbacks.py\u001b[39;00m\n\u001b[0;32m    <a href='file:///c%3A/Users/32mor/anaconda3/envs/proper_tf_natixis/lib/site-packages/tensorflow/python/framework/op_def_library.py?line=754'>755</a>\u001b[0m \u001b[39m# for more details.\u001b[39;00m\n\u001b[0;32m    <a href='file:///c%3A/Users/32mor/anaconda3/envs/proper_tf_natixis/lib/site-packages/tensorflow/python/framework/op_def_library.py?line=755'>756</a>\u001b[0m outputs \u001b[39m=\u001b[39m op\u001b[39m.\u001b[39moutputs\n",
      "File \u001b[1;32m~\\anaconda3\\envs\\proper_tf_natixis\\lib\\site-packages\\tensorflow\\python\\ops\\while_v2.py:971\u001b[0m, in \u001b[0;36m_WhileBodyGradFuncGraph._create_op_internal\u001b[1;34m(self, op_type, inputs, dtypes, input_types, name, attrs, op_def, compute_device)\u001b[0m\n\u001b[0;32m    <a href='file:///c%3A/Users/32mor/anaconda3/envs/proper_tf_natixis/lib/site-packages/tensorflow/python/ops/while_v2.py?line=959'>960</a>\u001b[0m     result \u001b[39m=\u001b[39m \u001b[39mself\u001b[39m\u001b[39m.\u001b[39m_forward_graph\u001b[39m.\u001b[39m_create_op_internal(\n\u001b[0;32m    <a href='file:///c%3A/Users/32mor/anaconda3/envs/proper_tf_natixis/lib/site-packages/tensorflow/python/ops/while_v2.py?line=960'>961</a>\u001b[0m         op_type,\n\u001b[0;32m    <a href='file:///c%3A/Users/32mor/anaconda3/envs/proper_tf_natixis/lib/site-packages/tensorflow/python/ops/while_v2.py?line=961'>962</a>\u001b[0m         inputs,\n\u001b[1;32m   (...)\u001b[0m\n\u001b[0;32m    <a href='file:///c%3A/Users/32mor/anaconda3/envs/proper_tf_natixis/lib/site-packages/tensorflow/python/ops/while_v2.py?line=966'>967</a>\u001b[0m         op_def\u001b[39m=\u001b[39mop_def,\n\u001b[0;32m    <a href='file:///c%3A/Users/32mor/anaconda3/envs/proper_tf_natixis/lib/site-packages/tensorflow/python/ops/while_v2.py?line=967'>968</a>\u001b[0m         compute_device\u001b[39m=\u001b[39mcompute_device)\n\u001b[0;32m    <a href='file:///c%3A/Users/32mor/anaconda3/envs/proper_tf_natixis/lib/site-packages/tensorflow/python/ops/while_v2.py?line=968'>969</a>\u001b[0m     \u001b[39mreturn\u001b[39;00m result\n\u001b[1;32m--> <a href='file:///c%3A/Users/32mor/anaconda3/envs/proper_tf_natixis/lib/site-packages/tensorflow/python/ops/while_v2.py?line=970'>971</a>\u001b[0m \u001b[39mreturn\u001b[39;00m \u001b[39msuper\u001b[39;49m(_WhileBodyGradFuncGraph, \u001b[39mself\u001b[39;49m)\u001b[39m.\u001b[39;49m_create_op_internal(\n\u001b[0;32m    <a href='file:///c%3A/Users/32mor/anaconda3/envs/proper_tf_natixis/lib/site-packages/tensorflow/python/ops/while_v2.py?line=971'>972</a>\u001b[0m     op_type,\n\u001b[0;32m    <a href='file:///c%3A/Users/32mor/anaconda3/envs/proper_tf_natixis/lib/site-packages/tensorflow/python/ops/while_v2.py?line=972'>973</a>\u001b[0m     inputs,\n\u001b[0;32m    <a href='file:///c%3A/Users/32mor/anaconda3/envs/proper_tf_natixis/lib/site-packages/tensorflow/python/ops/while_v2.py?line=973'>974</a>\u001b[0m     dtypes\u001b[39m=\u001b[39;49mdtypes,\n\u001b[0;32m    <a href='file:///c%3A/Users/32mor/anaconda3/envs/proper_tf_natixis/lib/site-packages/tensorflow/python/ops/while_v2.py?line=974'>975</a>\u001b[0m     input_types\u001b[39m=\u001b[39;49minput_types,\n\u001b[0;32m    <a href='file:///c%3A/Users/32mor/anaconda3/envs/proper_tf_natixis/lib/site-packages/tensorflow/python/ops/while_v2.py?line=975'>976</a>\u001b[0m     name\u001b[39m=\u001b[39;49mname,\n\u001b[0;32m    <a href='file:///c%3A/Users/32mor/anaconda3/envs/proper_tf_natixis/lib/site-packages/tensorflow/python/ops/while_v2.py?line=976'>977</a>\u001b[0m     attrs\u001b[39m=\u001b[39;49mattrs,\n\u001b[0;32m    <a href='file:///c%3A/Users/32mor/anaconda3/envs/proper_tf_natixis/lib/site-packages/tensorflow/python/ops/while_v2.py?line=977'>978</a>\u001b[0m     op_def\u001b[39m=\u001b[39;49mop_def,\n\u001b[0;32m    <a href='file:///c%3A/Users/32mor/anaconda3/envs/proper_tf_natixis/lib/site-packages/tensorflow/python/ops/while_v2.py?line=978'>979</a>\u001b[0m     compute_device\u001b[39m=\u001b[39;49mcompute_device)\n",
      "File \u001b[1;32m~\\anaconda3\\envs\\proper_tf_natixis\\lib\\site-packages\\tensorflow\\python\\framework\\func_graph.py:588\u001b[0m, in \u001b[0;36mFuncGraph._create_op_internal\u001b[1;34m(self, op_type, inputs, dtypes, input_types, name, attrs, op_def, compute_device)\u001b[0m\n\u001b[0;32m    <a href='file:///c%3A/Users/32mor/anaconda3/envs/proper_tf_natixis/lib/site-packages/tensorflow/python/framework/func_graph.py?line=585'>586</a>\u001b[0m   \u001b[39mif\u001b[39;00m ctxt \u001b[39mis\u001b[39;00m \u001b[39mnot\u001b[39;00m \u001b[39mNone\u001b[39;00m \u001b[39mand\u001b[39;00m \u001b[39mhasattr\u001b[39m(ctxt, \u001b[39m\"\u001b[39m\u001b[39mAddValue\u001b[39m\u001b[39m\"\u001b[39m):\n\u001b[0;32m    <a href='file:///c%3A/Users/32mor/anaconda3/envs/proper_tf_natixis/lib/site-packages/tensorflow/python/framework/func_graph.py?line=586'>587</a>\u001b[0m     inp \u001b[39m=\u001b[39m ctxt\u001b[39m.\u001b[39mAddValue(inp)\n\u001b[1;32m--> <a href='file:///c%3A/Users/32mor/anaconda3/envs/proper_tf_natixis/lib/site-packages/tensorflow/python/framework/func_graph.py?line=587'>588</a>\u001b[0m   inp \u001b[39m=\u001b[39m \u001b[39mself\u001b[39;49m\u001b[39m.\u001b[39;49mcapture(inp)\n\u001b[0;32m    <a href='file:///c%3A/Users/32mor/anaconda3/envs/proper_tf_natixis/lib/site-packages/tensorflow/python/framework/func_graph.py?line=588'>589</a>\u001b[0m   captured_inputs\u001b[39m.\u001b[39mappend(inp)\n\u001b[0;32m    <a href='file:///c%3A/Users/32mor/anaconda3/envs/proper_tf_natixis/lib/site-packages/tensorflow/python/framework/func_graph.py?line=589'>590</a>\u001b[0m \u001b[39mreturn\u001b[39;00m \u001b[39msuper\u001b[39m(FuncGraph, \u001b[39mself\u001b[39m)\u001b[39m.\u001b[39m_create_op_internal(  \u001b[39m# pylint: disable=protected-access\u001b[39;00m\n\u001b[0;32m    <a href='file:///c%3A/Users/32mor/anaconda3/envs/proper_tf_natixis/lib/site-packages/tensorflow/python/framework/func_graph.py?line=590'>591</a>\u001b[0m     op_type, captured_inputs, dtypes, input_types, name, attrs, op_def,\n\u001b[0;32m    <a href='file:///c%3A/Users/32mor/anaconda3/envs/proper_tf_natixis/lib/site-packages/tensorflow/python/framework/func_graph.py?line=591'>592</a>\u001b[0m     compute_device)\n",
      "File \u001b[1;32m~\\anaconda3\\envs\\proper_tf_natixis\\lib\\site-packages\\tensorflow\\python\\ops\\while_v2.py:1013\u001b[0m, in \u001b[0;36m_WhileBodyGradFuncGraph.capture\u001b[1;34m(self, tensor, name, allowlisted)\u001b[0m\n\u001b[0;32m   <a href='file:///c%3A/Users/32mor/anaconda3/envs/proper_tf_natixis/lib/site-packages/tensorflow/python/ops/while_v2.py?line=1009'>1010</a>\u001b[0m     \u001b[39mif\u001b[39;00m \u001b[39mnot\u001b[39;00m already_captured:\n\u001b[0;32m   <a href='file:///c%3A/Users/32mor/anaconda3/envs/proper_tf_natixis/lib/site-packages/tensorflow/python/ops/while_v2.py?line=1010'>1011</a>\u001b[0m       \u001b[39mself\u001b[39m\u001b[39m.\u001b[39m_forward_graph\u001b[39m.\u001b[39moutputs\u001b[39m.\u001b[39mappend(tensor)\n\u001b[1;32m-> <a href='file:///c%3A/Users/32mor/anaconda3/envs/proper_tf_natixis/lib/site-packages/tensorflow/python/ops/while_v2.py?line=1012'>1013</a>\u001b[0m \u001b[39mreturn\u001b[39;00m \u001b[39msuper\u001b[39;49m(_WhileBodyGradFuncGraph, \u001b[39mself\u001b[39;49m)\u001b[39m.\u001b[39;49mcapture(tensor, name)\n",
      "File \u001b[1;32m~\\anaconda3\\envs\\proper_tf_natixis\\lib\\site-packages\\tensorflow\\python\\framework\\func_graph.py:640\u001b[0m, in \u001b[0;36mFuncGraph.capture\u001b[1;34m(self, tensor, name, shape)\u001b[0m\n\u001b[0;32m    <a href='file:///c%3A/Users/32mor/anaconda3/envs/proper_tf_natixis/lib/site-packages/tensorflow/python/framework/func_graph.py?line=632'>633</a>\u001b[0m       \u001b[39mraise\u001b[39;00m errors\u001b[39m.\u001b[39mInaccessibleTensorError(\n\u001b[0;32m    <a href='file:///c%3A/Users/32mor/anaconda3/envs/proper_tf_natixis/lib/site-packages/tensorflow/python/framework/func_graph.py?line=633'>634</a>\u001b[0m           \u001b[39m\"\u001b[39m\u001b[39mThe tensor \u001b[39m\u001b[39m'\u001b[39m\u001b[39m%s\u001b[39;00m\u001b[39m'\u001b[39m\u001b[39m cannot be accessed here: it is defined\u001b[39m\u001b[39m\"\u001b[39m\n\u001b[0;32m    <a href='file:///c%3A/Users/32mor/anaconda3/envs/proper_tf_natixis/lib/site-packages/tensorflow/python/framework/func_graph.py?line=634'>635</a>\u001b[0m           \u001b[39m\"\u001b[39m\u001b[39m in another function or code block. Use return values,\u001b[39m\u001b[39m\"\u001b[39m\n\u001b[0;32m    <a href='file:///c%3A/Users/32mor/anaconda3/envs/proper_tf_natixis/lib/site-packages/tensorflow/python/framework/func_graph.py?line=635'>636</a>\u001b[0m           \u001b[39m\"\u001b[39m\u001b[39m explicit Python locals or TensorFlow collections to access\u001b[39m\u001b[39m\"\u001b[39m\n\u001b[0;32m    <a href='file:///c%3A/Users/32mor/anaconda3/envs/proper_tf_natixis/lib/site-packages/tensorflow/python/framework/func_graph.py?line=636'>637</a>\u001b[0m           \u001b[39m\"\u001b[39m\u001b[39m it. Defined in: \u001b[39m\u001b[39m%s\u001b[39;00m\u001b[39m; accessed from: \u001b[39m\u001b[39m%s\u001b[39;00m\u001b[39m.\u001b[39m\u001b[39m\\n\u001b[39;00m\u001b[39m\"\u001b[39m\n\u001b[0;32m    <a href='file:///c%3A/Users/32mor/anaconda3/envs/proper_tf_natixis/lib/site-packages/tensorflow/python/framework/func_graph.py?line=637'>638</a>\u001b[0m           \u001b[39m%\u001b[39m (tensor, tensor\u001b[39m.\u001b[39mgraph, \u001b[39mself\u001b[39m))\n\u001b[0;32m    <a href='file:///c%3A/Users/32mor/anaconda3/envs/proper_tf_natixis/lib/site-packages/tensorflow/python/framework/func_graph.py?line=638'>639</a>\u001b[0m     inner_graph \u001b[39m=\u001b[39m inner_graph\u001b[39m.\u001b[39mouter_graph\n\u001b[1;32m--> <a href='file:///c%3A/Users/32mor/anaconda3/envs/proper_tf_natixis/lib/site-packages/tensorflow/python/framework/func_graph.py?line=639'>640</a>\u001b[0m   \u001b[39mreturn\u001b[39;00m \u001b[39mself\u001b[39;49m\u001b[39m.\u001b[39;49m_capture_helper(tensor, name)\n\u001b[0;32m    <a href='file:///c%3A/Users/32mor/anaconda3/envs/proper_tf_natixis/lib/site-packages/tensorflow/python/framework/func_graph.py?line=640'>641</a>\u001b[0m \u001b[39mreturn\u001b[39;00m tensor\n",
      "File \u001b[1;32m~\\anaconda3\\envs\\proper_tf_natixis\\lib\\site-packages\\tensorflow\\python\\ops\\while_v2.py:1102\u001b[0m, in \u001b[0;36m_WhileBodyGradFuncGraph._capture_helper\u001b[1;34m(self, tensor, name)\u001b[0m\n\u001b[0;32m   <a href='file:///c%3A/Users/32mor/anaconda3/envs/proper_tf_natixis/lib/site-packages/tensorflow/python/ops/while_v2.py?line=1098'>1099</a>\u001b[0m   \u001b[39m# Capture in the cond graph as well so the forward cond and body inputs\u001b[39;00m\n\u001b[0;32m   <a href='file:///c%3A/Users/32mor/anaconda3/envs/proper_tf_natixis/lib/site-packages/tensorflow/python/ops/while_v2.py?line=1099'>1100</a>\u001b[0m   \u001b[39m# match.\u001b[39;00m\n\u001b[0;32m   <a href='file:///c%3A/Users/32mor/anaconda3/envs/proper_tf_natixis/lib/site-packages/tensorflow/python/ops/while_v2.py?line=1100'>1101</a>\u001b[0m   \u001b[39mwith\u001b[39;00m \u001b[39mself\u001b[39m\u001b[39m.\u001b[39m_forward_cond_graph\u001b[39m.\u001b[39mas_default():\n\u001b[1;32m-> <a href='file:///c%3A/Users/32mor/anaconda3/envs/proper_tf_natixis/lib/site-packages/tensorflow/python/ops/while_v2.py?line=1101'>1102</a>\u001b[0m     \u001b[39mself\u001b[39;49m\u001b[39m.\u001b[39;49m_forward_cond_graph\u001b[39m.\u001b[39;49mcapture(tensor_list)\n\u001b[0;32m   <a href='file:///c%3A/Users/32mor/anaconda3/envs/proper_tf_natixis/lib/site-packages/tensorflow/python/ops/while_v2.py?line=1103'>1104</a>\u001b[0m \u001b[39m# Capture the accumulator tensor list in the gradient graph directly from\u001b[39;00m\n\u001b[0;32m   <a href='file:///c%3A/Users/32mor/anaconda3/envs/proper_tf_natixis/lib/site-packages/tensorflow/python/ops/while_v2.py?line=1104'>1105</a>\u001b[0m \u001b[39m# the forward graph -- we'll later modify this to capture the final list\u001b[39;00m\n\u001b[0;32m   <a href='file:///c%3A/Users/32mor/anaconda3/envs/proper_tf_natixis/lib/site-packages/tensorflow/python/ops/while_v2.py?line=1105'>1106</a>\u001b[0m \u001b[39m# output by the forward While op instead.\u001b[39;00m\n\u001b[0;32m   <a href='file:///c%3A/Users/32mor/anaconda3/envs/proper_tf_natixis/lib/site-packages/tensorflow/python/ops/while_v2.py?line=1106'>1107</a>\u001b[0m captured_accumulator \u001b[39m=\u001b[39m \u001b[39msuper\u001b[39m(_WhileBodyGradFuncGraph, \u001b[39mself\u001b[39m)\u001b[39m.\u001b[39m_capture_helper(\n\u001b[0;32m   <a href='file:///c%3A/Users/32mor/anaconda3/envs/proper_tf_natixis/lib/site-packages/tensorflow/python/ops/while_v2.py?line=1107'>1108</a>\u001b[0m     accumulator, name)\n",
      "File \u001b[1;32m~\\anaconda3\\envs\\proper_tf_natixis\\lib\\site-packages\\tensorflow\\python\\framework\\func_graph.py:640\u001b[0m, in \u001b[0;36mFuncGraph.capture\u001b[1;34m(self, tensor, name, shape)\u001b[0m\n\u001b[0;32m    <a href='file:///c%3A/Users/32mor/anaconda3/envs/proper_tf_natixis/lib/site-packages/tensorflow/python/framework/func_graph.py?line=632'>633</a>\u001b[0m       \u001b[39mraise\u001b[39;00m errors\u001b[39m.\u001b[39mInaccessibleTensorError(\n\u001b[0;32m    <a href='file:///c%3A/Users/32mor/anaconda3/envs/proper_tf_natixis/lib/site-packages/tensorflow/python/framework/func_graph.py?line=633'>634</a>\u001b[0m           \u001b[39m\"\u001b[39m\u001b[39mThe tensor \u001b[39m\u001b[39m'\u001b[39m\u001b[39m%s\u001b[39;00m\u001b[39m'\u001b[39m\u001b[39m cannot be accessed here: it is defined\u001b[39m\u001b[39m\"\u001b[39m\n\u001b[0;32m    <a href='file:///c%3A/Users/32mor/anaconda3/envs/proper_tf_natixis/lib/site-packages/tensorflow/python/framework/func_graph.py?line=634'>635</a>\u001b[0m           \u001b[39m\"\u001b[39m\u001b[39m in another function or code block. Use return values,\u001b[39m\u001b[39m\"\u001b[39m\n\u001b[0;32m    <a href='file:///c%3A/Users/32mor/anaconda3/envs/proper_tf_natixis/lib/site-packages/tensorflow/python/framework/func_graph.py?line=635'>636</a>\u001b[0m           \u001b[39m\"\u001b[39m\u001b[39m explicit Python locals or TensorFlow collections to access\u001b[39m\u001b[39m\"\u001b[39m\n\u001b[0;32m    <a href='file:///c%3A/Users/32mor/anaconda3/envs/proper_tf_natixis/lib/site-packages/tensorflow/python/framework/func_graph.py?line=636'>637</a>\u001b[0m           \u001b[39m\"\u001b[39m\u001b[39m it. Defined in: \u001b[39m\u001b[39m%s\u001b[39;00m\u001b[39m; accessed from: \u001b[39m\u001b[39m%s\u001b[39;00m\u001b[39m.\u001b[39m\u001b[39m\\n\u001b[39;00m\u001b[39m\"\u001b[39m\n\u001b[0;32m    <a href='file:///c%3A/Users/32mor/anaconda3/envs/proper_tf_natixis/lib/site-packages/tensorflow/python/framework/func_graph.py?line=637'>638</a>\u001b[0m           \u001b[39m%\u001b[39m (tensor, tensor\u001b[39m.\u001b[39mgraph, \u001b[39mself\u001b[39m))\n\u001b[0;32m    <a href='file:///c%3A/Users/32mor/anaconda3/envs/proper_tf_natixis/lib/site-packages/tensorflow/python/framework/func_graph.py?line=638'>639</a>\u001b[0m     inner_graph \u001b[39m=\u001b[39m inner_graph\u001b[39m.\u001b[39mouter_graph\n\u001b[1;32m--> <a href='file:///c%3A/Users/32mor/anaconda3/envs/proper_tf_natixis/lib/site-packages/tensorflow/python/framework/func_graph.py?line=639'>640</a>\u001b[0m   \u001b[39mreturn\u001b[39;00m \u001b[39mself\u001b[39;49m\u001b[39m.\u001b[39;49m_capture_helper(tensor, name)\n\u001b[0;32m    <a href='file:///c%3A/Users/32mor/anaconda3/envs/proper_tf_natixis/lib/site-packages/tensorflow/python/framework/func_graph.py?line=640'>641</a>\u001b[0m \u001b[39mreturn\u001b[39;00m tensor\n",
      "File \u001b[1;32m~\\anaconda3\\envs\\proper_tf_natixis\\lib\\site-packages\\tensorflow\\python\\framework\\func_graph.py:646\u001b[0m, in \u001b[0;36mFuncGraph._capture_helper\u001b[1;34m(self, tensor, name, shape)\u001b[0m\n\u001b[0;32m    <a href='file:///c%3A/Users/32mor/anaconda3/envs/proper_tf_natixis/lib/site-packages/tensorflow/python/framework/func_graph.py?line=643'>644</a>\u001b[0m capture \u001b[39m=\u001b[39m \u001b[39mself\u001b[39m\u001b[39m.\u001b[39m_captures\u001b[39m.\u001b[39mget(\u001b[39mid\u001b[39m(tensor))\n\u001b[0;32m    <a href='file:///c%3A/Users/32mor/anaconda3/envs/proper_tf_natixis/lib/site-packages/tensorflow/python/framework/func_graph.py?line=644'>645</a>\u001b[0m \u001b[39mif\u001b[39;00m capture \u001b[39mis\u001b[39;00m \u001b[39mNone\u001b[39;00m:\n\u001b[1;32m--> <a href='file:///c%3A/Users/32mor/anaconda3/envs/proper_tf_natixis/lib/site-packages/tensorflow/python/framework/func_graph.py?line=645'>646</a>\u001b[0m   placeholder \u001b[39m=\u001b[39m _create_substitute_placeholder(\n\u001b[0;32m    <a href='file:///c%3A/Users/32mor/anaconda3/envs/proper_tf_natixis/lib/site-packages/tensorflow/python/framework/func_graph.py?line=646'>647</a>\u001b[0m       tensor, name\u001b[39m=\u001b[39;49mname, dtype\u001b[39m=\u001b[39;49mtensor\u001b[39m.\u001b[39;49mdtype, shape\u001b[39m=\u001b[39;49mshape)\n\u001b[0;32m    <a href='file:///c%3A/Users/32mor/anaconda3/envs/proper_tf_natixis/lib/site-packages/tensorflow/python/framework/func_graph.py?line=647'>648</a>\u001b[0m   \u001b[39m# Record the composite device as an attribute to the placeholder.\u001b[39;00m\n\u001b[0;32m    <a href='file:///c%3A/Users/32mor/anaconda3/envs/proper_tf_natixis/lib/site-packages/tensorflow/python/framework/func_graph.py?line=648'>649</a>\u001b[0m   \u001b[39m# This attribute would be propogated into the arg_attr of the FunctionDef.\u001b[39;00m\n\u001b[0;32m    <a href='file:///c%3A/Users/32mor/anaconda3/envs/proper_tf_natixis/lib/site-packages/tensorflow/python/framework/func_graph.py?line=649'>650</a>\u001b[0m   \u001b[39m# Currently, a packed eager tensor is always placed on a CompositeDevice.\u001b[39;00m\n\u001b[0;32m    <a href='file:///c%3A/Users/32mor/anaconda3/envs/proper_tf_natixis/lib/site-packages/tensorflow/python/framework/func_graph.py?line=650'>651</a>\u001b[0m   \u001b[39mif\u001b[39;00m \u001b[39misinstance\u001b[39m(tensor, ops\u001b[39m.\u001b[39mEagerTensor) \u001b[39mand\u001b[39;00m tensor\u001b[39m.\u001b[39mis_packed:\n",
      "File \u001b[1;32m~\\anaconda3\\envs\\proper_tf_natixis\\lib\\site-packages\\tensorflow\\python\\framework\\func_graph.py:1134\u001b[0m, in \u001b[0;36m_create_substitute_placeholder\u001b[1;34m(value, name, dtype, shape)\u001b[0m\n\u001b[0;32m   <a href='file:///c%3A/Users/32mor/anaconda3/envs/proper_tf_natixis/lib/site-packages/tensorflow/python/framework/func_graph.py?line=1131'>1132</a>\u001b[0m   shape \u001b[39m=\u001b[39m value\u001b[39m.\u001b[39mshape\n\u001b[0;32m   <a href='file:///c%3A/Users/32mor/anaconda3/envs/proper_tf_natixis/lib/site-packages/tensorflow/python/framework/func_graph.py?line=1132'>1133</a>\u001b[0m \u001b[39mwith\u001b[39;00m ops\u001b[39m.\u001b[39mcontrol_dependencies(\u001b[39mNone\u001b[39;00m):\n\u001b[1;32m-> <a href='file:///c%3A/Users/32mor/anaconda3/envs/proper_tf_natixis/lib/site-packages/tensorflow/python/framework/func_graph.py?line=1133'>1134</a>\u001b[0m   placeholder \u001b[39m=\u001b[39m graph_placeholder(\n\u001b[0;32m   <a href='file:///c%3A/Users/32mor/anaconda3/envs/proper_tf_natixis/lib/site-packages/tensorflow/python/framework/func_graph.py?line=1134'>1135</a>\u001b[0m       dtype\u001b[39m=\u001b[39;49mdtype \u001b[39mor\u001b[39;49;00m value\u001b[39m.\u001b[39;49mdtype, shape\u001b[39m=\u001b[39;49mshape, name\u001b[39m=\u001b[39;49mname)\n\u001b[0;32m   <a href='file:///c%3A/Users/32mor/anaconda3/envs/proper_tf_natixis/lib/site-packages/tensorflow/python/framework/func_graph.py?line=1135'>1136</a>\u001b[0m custom_gradient\u001b[39m.\u001b[39mcopy_handle_data(value, placeholder)\n\u001b[0;32m   <a href='file:///c%3A/Users/32mor/anaconda3/envs/proper_tf_natixis/lib/site-packages/tensorflow/python/framework/func_graph.py?line=1136'>1137</a>\u001b[0m \u001b[39mreturn\u001b[39;00m placeholder\n",
      "File \u001b[1;32m~\\anaconda3\\envs\\proper_tf_natixis\\lib\\site-packages\\tensorflow\\python\\eager\\graph_only_ops.py:38\u001b[0m, in \u001b[0;36mgraph_placeholder\u001b[1;34m(dtype, shape, name)\u001b[0m\n\u001b[0;32m     <a href='file:///c%3A/Users/32mor/anaconda3/envs/proper_tf_natixis/lib/site-packages/tensorflow/python/eager/graph_only_ops.py?line=35'>36</a>\u001b[0m g \u001b[39m=\u001b[39m ops\u001b[39m.\u001b[39mget_default_graph()\n\u001b[0;32m     <a href='file:///c%3A/Users/32mor/anaconda3/envs/proper_tf_natixis/lib/site-packages/tensorflow/python/eager/graph_only_ops.py?line=36'>37</a>\u001b[0m attrs \u001b[39m=\u001b[39m {\u001b[39m\"\u001b[39m\u001b[39mdtype\u001b[39m\u001b[39m\"\u001b[39m: dtype_value, \u001b[39m\"\u001b[39m\u001b[39mshape\u001b[39m\u001b[39m\"\u001b[39m: shape}\n\u001b[1;32m---> <a href='file:///c%3A/Users/32mor/anaconda3/envs/proper_tf_natixis/lib/site-packages/tensorflow/python/eager/graph_only_ops.py?line=37'>38</a>\u001b[0m op \u001b[39m=\u001b[39m g\u001b[39m.\u001b[39;49m_create_op_internal(  \u001b[39m# pylint: disable=protected-access\u001b[39;49;00m\n\u001b[0;32m     <a href='file:///c%3A/Users/32mor/anaconda3/envs/proper_tf_natixis/lib/site-packages/tensorflow/python/eager/graph_only_ops.py?line=38'>39</a>\u001b[0m     \u001b[39m\"\u001b[39;49m\u001b[39mPlaceholder\u001b[39;49m\u001b[39m\"\u001b[39;49m, [], [dtype], input_types\u001b[39m=\u001b[39;49m[],\n\u001b[0;32m     <a href='file:///c%3A/Users/32mor/anaconda3/envs/proper_tf_natixis/lib/site-packages/tensorflow/python/eager/graph_only_ops.py?line=39'>40</a>\u001b[0m     attrs\u001b[39m=\u001b[39;49mattrs, name\u001b[39m=\u001b[39;49mname)\n\u001b[0;32m     <a href='file:///c%3A/Users/32mor/anaconda3/envs/proper_tf_natixis/lib/site-packages/tensorflow/python/eager/graph_only_ops.py?line=40'>41</a>\u001b[0m result, \u001b[39m=\u001b[39m op\u001b[39m.\u001b[39moutputs\n\u001b[0;32m     <a href='file:///c%3A/Users/32mor/anaconda3/envs/proper_tf_natixis/lib/site-packages/tensorflow/python/eager/graph_only_ops.py?line=41'>42</a>\u001b[0m \u001b[39mif\u001b[39;00m op_callbacks\u001b[39m.\u001b[39mshould_invoke_op_callbacks():\n\u001b[0;32m     <a href='file:///c%3A/Users/32mor/anaconda3/envs/proper_tf_natixis/lib/site-packages/tensorflow/python/eager/graph_only_ops.py?line=42'>43</a>\u001b[0m   \u001b[39m# TODO(b/147670703): Once the special-op creation code paths\u001b[39;00m\n\u001b[0;32m     <a href='file:///c%3A/Users/32mor/anaconda3/envs/proper_tf_natixis/lib/site-packages/tensorflow/python/eager/graph_only_ops.py?line=43'>44</a>\u001b[0m   \u001b[39m# are unified. Remove this `if` block.\u001b[39;00m\n",
      "File \u001b[1;32m~\\anaconda3\\envs\\proper_tf_natixis\\lib\\site-packages\\tensorflow\\python\\framework\\func_graph.py:590\u001b[0m, in \u001b[0;36mFuncGraph._create_op_internal\u001b[1;34m(self, op_type, inputs, dtypes, input_types, name, attrs, op_def, compute_device)\u001b[0m\n\u001b[0;32m    <a href='file:///c%3A/Users/32mor/anaconda3/envs/proper_tf_natixis/lib/site-packages/tensorflow/python/framework/func_graph.py?line=587'>588</a>\u001b[0m   inp \u001b[39m=\u001b[39m \u001b[39mself\u001b[39m\u001b[39m.\u001b[39mcapture(inp)\n\u001b[0;32m    <a href='file:///c%3A/Users/32mor/anaconda3/envs/proper_tf_natixis/lib/site-packages/tensorflow/python/framework/func_graph.py?line=588'>589</a>\u001b[0m   captured_inputs\u001b[39m.\u001b[39mappend(inp)\n\u001b[1;32m--> <a href='file:///c%3A/Users/32mor/anaconda3/envs/proper_tf_natixis/lib/site-packages/tensorflow/python/framework/func_graph.py?line=589'>590</a>\u001b[0m \u001b[39mreturn\u001b[39;00m \u001b[39msuper\u001b[39;49m(FuncGraph, \u001b[39mself\u001b[39;49m)\u001b[39m.\u001b[39;49m_create_op_internal(  \u001b[39m# pylint: disable=protected-access\u001b[39;49;00m\n\u001b[0;32m    <a href='file:///c%3A/Users/32mor/anaconda3/envs/proper_tf_natixis/lib/site-packages/tensorflow/python/framework/func_graph.py?line=590'>591</a>\u001b[0m     op_type, captured_inputs, dtypes, input_types, name, attrs, op_def,\n\u001b[0;32m    <a href='file:///c%3A/Users/32mor/anaconda3/envs/proper_tf_natixis/lib/site-packages/tensorflow/python/framework/func_graph.py?line=591'>592</a>\u001b[0m     compute_device)\n",
      "File \u001b[1;32m~\\anaconda3\\envs\\proper_tf_natixis\\lib\\site-packages\\tensorflow\\python\\framework\\ops.py:3528\u001b[0m, in \u001b[0;36mGraph._create_op_internal\u001b[1;34m(self, op_type, inputs, dtypes, input_types, name, attrs, op_def, compute_device)\u001b[0m\n\u001b[0;32m   <a href='file:///c%3A/Users/32mor/anaconda3/envs/proper_tf_natixis/lib/site-packages/tensorflow/python/framework/ops.py?line=3524'>3525</a>\u001b[0m \u001b[39m# _create_op_helper mutates the new Operation. `_mutation_lock` ensures a\u001b[39;00m\n\u001b[0;32m   <a href='file:///c%3A/Users/32mor/anaconda3/envs/proper_tf_natixis/lib/site-packages/tensorflow/python/framework/ops.py?line=3525'>3526</a>\u001b[0m \u001b[39m# Session.run call cannot occur between creating and mutating the op.\u001b[39;00m\n\u001b[0;32m   <a href='file:///c%3A/Users/32mor/anaconda3/envs/proper_tf_natixis/lib/site-packages/tensorflow/python/framework/ops.py?line=3526'>3527</a>\u001b[0m \u001b[39mwith\u001b[39;00m \u001b[39mself\u001b[39m\u001b[39m.\u001b[39m_mutation_lock():\n\u001b[1;32m-> <a href='file:///c%3A/Users/32mor/anaconda3/envs/proper_tf_natixis/lib/site-packages/tensorflow/python/framework/ops.py?line=3527'>3528</a>\u001b[0m   ret \u001b[39m=\u001b[39m Operation(\n\u001b[0;32m   <a href='file:///c%3A/Users/32mor/anaconda3/envs/proper_tf_natixis/lib/site-packages/tensorflow/python/framework/ops.py?line=3528'>3529</a>\u001b[0m       node_def,\n\u001b[0;32m   <a href='file:///c%3A/Users/32mor/anaconda3/envs/proper_tf_natixis/lib/site-packages/tensorflow/python/framework/ops.py?line=3529'>3530</a>\u001b[0m       \u001b[39mself\u001b[39;49m,\n\u001b[0;32m   <a href='file:///c%3A/Users/32mor/anaconda3/envs/proper_tf_natixis/lib/site-packages/tensorflow/python/framework/ops.py?line=3530'>3531</a>\u001b[0m       inputs\u001b[39m=\u001b[39;49minputs,\n\u001b[0;32m   <a href='file:///c%3A/Users/32mor/anaconda3/envs/proper_tf_natixis/lib/site-packages/tensorflow/python/framework/ops.py?line=3531'>3532</a>\u001b[0m       output_types\u001b[39m=\u001b[39;49mdtypes,\n\u001b[0;32m   <a href='file:///c%3A/Users/32mor/anaconda3/envs/proper_tf_natixis/lib/site-packages/tensorflow/python/framework/ops.py?line=3532'>3533</a>\u001b[0m       control_inputs\u001b[39m=\u001b[39;49mcontrol_inputs,\n\u001b[0;32m   <a href='file:///c%3A/Users/32mor/anaconda3/envs/proper_tf_natixis/lib/site-packages/tensorflow/python/framework/ops.py?line=3533'>3534</a>\u001b[0m       input_types\u001b[39m=\u001b[39;49minput_types,\n\u001b[0;32m   <a href='file:///c%3A/Users/32mor/anaconda3/envs/proper_tf_natixis/lib/site-packages/tensorflow/python/framework/ops.py?line=3534'>3535</a>\u001b[0m       original_op\u001b[39m=\u001b[39;49m\u001b[39mself\u001b[39;49m\u001b[39m.\u001b[39;49m_default_original_op,\n\u001b[0;32m   <a href='file:///c%3A/Users/32mor/anaconda3/envs/proper_tf_natixis/lib/site-packages/tensorflow/python/framework/ops.py?line=3535'>3536</a>\u001b[0m       op_def\u001b[39m=\u001b[39;49mop_def)\n\u001b[0;32m   <a href='file:///c%3A/Users/32mor/anaconda3/envs/proper_tf_natixis/lib/site-packages/tensorflow/python/framework/ops.py?line=3536'>3537</a>\u001b[0m   \u001b[39mself\u001b[39m\u001b[39m.\u001b[39m_create_op_helper(ret, compute_device\u001b[39m=\u001b[39mcompute_device)\n\u001b[0;32m   <a href='file:///c%3A/Users/32mor/anaconda3/envs/proper_tf_natixis/lib/site-packages/tensorflow/python/framework/ops.py?line=3537'>3538</a>\u001b[0m \u001b[39mreturn\u001b[39;00m ret\n",
      "File \u001b[1;32m~\\anaconda3\\envs\\proper_tf_natixis\\lib\\site-packages\\tensorflow\\python\\framework\\ops.py:2015\u001b[0m, in \u001b[0;36mOperation.__init__\u001b[1;34m(self, node_def, g, inputs, output_types, control_inputs, input_types, original_op, op_def)\u001b[0m\n\u001b[0;32m   <a href='file:///c%3A/Users/32mor/anaconda3/envs/proper_tf_natixis/lib/site-packages/tensorflow/python/framework/ops.py?line=2012'>2013</a>\u001b[0m   \u001b[39mif\u001b[39;00m op_def \u001b[39mis\u001b[39;00m \u001b[39mNone\u001b[39;00m:\n\u001b[0;32m   <a href='file:///c%3A/Users/32mor/anaconda3/envs/proper_tf_natixis/lib/site-packages/tensorflow/python/framework/ops.py?line=2013'>2014</a>\u001b[0m     op_def \u001b[39m=\u001b[39m \u001b[39mself\u001b[39m\u001b[39m.\u001b[39m_graph\u001b[39m.\u001b[39m_get_op_def(node_def\u001b[39m.\u001b[39mop)\n\u001b[1;32m-> <a href='file:///c%3A/Users/32mor/anaconda3/envs/proper_tf_natixis/lib/site-packages/tensorflow/python/framework/ops.py?line=2014'>2015</a>\u001b[0m   \u001b[39mself\u001b[39m\u001b[39m.\u001b[39m_c_op \u001b[39m=\u001b[39m _create_c_op(\u001b[39mself\u001b[39;49m\u001b[39m.\u001b[39;49m_graph, node_def, inputs,\n\u001b[0;32m   <a href='file:///c%3A/Users/32mor/anaconda3/envs/proper_tf_natixis/lib/site-packages/tensorflow/python/framework/ops.py?line=2015'>2016</a>\u001b[0m                             control_input_ops, op_def)\n\u001b[0;32m   <a href='file:///c%3A/Users/32mor/anaconda3/envs/proper_tf_natixis/lib/site-packages/tensorflow/python/framework/ops.py?line=2016'>2017</a>\u001b[0m   name \u001b[39m=\u001b[39m compat\u001b[39m.\u001b[39mas_str(node_def\u001b[39m.\u001b[39mname)\n\u001b[0;32m   <a href='file:///c%3A/Users/32mor/anaconda3/envs/proper_tf_natixis/lib/site-packages/tensorflow/python/framework/ops.py?line=2017'>2018</a>\u001b[0m \u001b[39m# pylint: enable=protected-access\u001b[39;00m\n",
      "File \u001b[1;32m~\\anaconda3\\envs\\proper_tf_natixis\\lib\\site-packages\\tensorflow\\python\\framework\\ops.py:1853\u001b[0m, in \u001b[0;36m_create_c_op\u001b[1;34m(graph, node_def, inputs, control_inputs, op_def)\u001b[0m\n\u001b[0;32m   <a href='file:///c%3A/Users/32mor/anaconda3/envs/proper_tf_natixis/lib/site-packages/tensorflow/python/framework/ops.py?line=1848'>1849</a>\u001b[0m   pywrap_tf_session\u001b[39m.\u001b[39mTF_SetAttrValueProto(op_desc, compat\u001b[39m.\u001b[39mas_str(name),\n\u001b[0;32m   <a href='file:///c%3A/Users/32mor/anaconda3/envs/proper_tf_natixis/lib/site-packages/tensorflow/python/framework/ops.py?line=1849'>1850</a>\u001b[0m                                          serialized)\n\u001b[0;32m   <a href='file:///c%3A/Users/32mor/anaconda3/envs/proper_tf_natixis/lib/site-packages/tensorflow/python/framework/ops.py?line=1851'>1852</a>\u001b[0m \u001b[39mtry\u001b[39;00m:\n\u001b[1;32m-> <a href='file:///c%3A/Users/32mor/anaconda3/envs/proper_tf_natixis/lib/site-packages/tensorflow/python/framework/ops.py?line=1852'>1853</a>\u001b[0m   c_op \u001b[39m=\u001b[39m pywrap_tf_session\u001b[39m.\u001b[39;49mTF_FinishOperation(op_desc)\n\u001b[0;32m   <a href='file:///c%3A/Users/32mor/anaconda3/envs/proper_tf_natixis/lib/site-packages/tensorflow/python/framework/ops.py?line=1853'>1854</a>\u001b[0m \u001b[39mexcept\u001b[39;00m errors\u001b[39m.\u001b[39mInvalidArgumentError \u001b[39mas\u001b[39;00m e:\n\u001b[0;32m   <a href='file:///c%3A/Users/32mor/anaconda3/envs/proper_tf_natixis/lib/site-packages/tensorflow/python/framework/ops.py?line=1854'>1855</a>\u001b[0m   \u001b[39m# Convert to ValueError for backwards compatibility.\u001b[39;00m\n\u001b[0;32m   <a href='file:///c%3A/Users/32mor/anaconda3/envs/proper_tf_natixis/lib/site-packages/tensorflow/python/framework/ops.py?line=1855'>1856</a>\u001b[0m   \u001b[39mraise\u001b[39;00m \u001b[39mValueError\u001b[39;00m(\u001b[39mstr\u001b[39m(e))\n",
      "\u001b[1;31mKeyboardInterrupt\u001b[0m: "
     ]
    }
   ],
   "source": [
    "study = optuna.create_study(direction=\"maximize\")\n",
    "study.optimize(objective_full, n_trials=10, timeout=None)\n",
    "\n",
    "print(\"Number of finished trials: {}\".format(len(study.trials)))\n",
    "\n",
    "print(\"Best trial:\")\n",
    "trial = study.best_trial"
   ]
  },
  {
   "cell_type": "code",
   "execution_count": 69,
   "metadata": {},
   "outputs": [],
   "source": [
    "import datetime"
   ]
  },
  {
   "cell_type": "code",
   "execution_count": 70,
   "metadata": {},
   "outputs": [],
   "source": [
    "# model=multi_input_output_lstm_full(lstm_shape, shape_num)\n",
    "# early_stop = EarlyStopping(monitor='val_loss', patience=3)\n",
    "# log_dir = \"logs/fit/\" + datetime.datetime.now().strftime(\"%Y%m%d-%H%M%S\")\n",
    "# tensorboard_callback = TensorBoard(log_dir=log_dir, histogram_freq=1)\n",
    "# optimizer = Adam(learning_rate=0.0001)\n",
    "# model.compile(loss=['mse',tf.keras.losses.binary_crossentropy], optimizer=optimizer)"
   ]
  },
  {
   "cell_type": "code",
   "execution_count": 29,
   "metadata": {},
   "outputs": [],
   "source": [
    "# history = model.fit([X_fed_lstm_train, X_ecb_lstm_train, X_num_train], [y_train_reg,y_train_cat], epochs=50, batch_size=128, verbose=2,\n",
    "        #  callbacks=[early_stop, tensorboard_callback, ], validation_split=0.2)"
   ]
  },
  {
   "cell_type": "code",
   "execution_count": 72,
   "metadata": {},
   "outputs": [
    {
     "data": {
      "text/plain": [
       "[<matplotlib.lines.Line2D at 0x2203c46e9a0>]"
      ]
     },
     "execution_count": 72,
     "metadata": {},
     "output_type": "execute_result"
    },
    {
     "data": {
      "image/png": "[encoded data removed]",
      "text/plain": [
       "<Figure size 432x288 with 1 Axes>"
      ]
     },
     "metadata": {
      "needs_background": "light"
     },
     "output_type": "display_data"
    }
   ],
   "source": [
    "# plt.plot(history.history['loss'])\n",
    "# plt.plot(history.history['val_loss'])"
   ]
  },
  {
   "cell_type": "code",
   "execution_count": 86,
   "metadata": {},
   "outputs": [
    {
     "name": "stderr",
     "output_type": "stream",
     "text": [
      "WARNING:absl:Found untraced functions such as lstm_cell_15_layer_call_fn, lstm_cell_15_layer_call_and_return_conditional_losses, lstm_cell_17_layer_call_fn, lstm_cell_17_layer_call_and_return_conditional_losses, lstm_cell_16_layer_call_fn while saving (showing 5 of 25). These functions will not be directly callable after loading.\n",
      "WARNING:absl:Found untraced functions such as lstm_cell_15_layer_call_fn, lstm_cell_15_layer_call_and_return_conditional_losses, lstm_cell_17_layer_call_fn, lstm_cell_17_layer_call_and_return_conditional_losses, lstm_cell_16_layer_call_fn while saving (showing 5 of 25). These functions will not be directly callable after loading.\n"
     ]
    },
    {
     "name": "stdout",
     "output_type": "stream",
     "text": [
      "INFO:tensorflow:Assets written to: mutli_inouts_outputs_model\\assets\n"
     ]
    },
    {
     "name": "stderr",
     "output_type": "stream",
     "text": [
      "INFO:tensorflow:Assets written to: mutli_inouts_outputs_model\\assets\n"
     ]
    }
   ],
   "source": [
    "model.save(\"mutli_inouts_outputs_model\")"
   ]
  },
  {
   "cell_type": "code",
   "execution_count": 30,
   "metadata": {},
   "outputs": [],
   "source": [
    "def multi_input_class_lstm_full(shape_nlp, shape_num):\n",
    "    input_nlp_fed = Input(shape=(shape_nlp[0], shape_nlp[1]))\n",
    "    input_nlp_bce = Input(shape=(shape_nlp[0], shape_nlp[1]))\n",
    "    input_num = Input(shape=(shape_num, 1))\n",
    "\n",
    "\n",
    "    w = LSTM(100, return_sequences=True)(input_nlp_fed)\n",
    "    w = Dropout(0.3)(w)\n",
    "    #w = BatchNormalization()(w)\n",
    "    w = LSTM(40, return_sequences=False)(w)\n",
    "    w = Dropout(0.3)(w)\n",
    "    w = Model(inputs=input_nlp_fed, outputs=w)\n",
    "\n",
    "\n",
    "    x = LSTM(100, return_sequences=True)(input_nlp_bce)\n",
    "    x = Dropout(0.3)(x)\n",
    "    #x = BatchNormalization()(x)\n",
    "    x = LSTM(40, return_sequences=False)(x)\n",
    "    #x = Dropout(0.3)(x)\n",
    "    x = Model(inputs=input_nlp_bce, outputs=x)\n",
    "\n",
    "    # the second branch opreates on the second input\n",
    "    y = LSTM(100, return_sequences=False)(input_num)\n",
    "    y = Dropout(0.3)(y)\n",
    "    #y = BatchNormalization()(y)\n",
    "    # y = LSTM(40, return_sequences=False)(y)\n",
    "    # y = Dropout(0.3)(y)\n",
    "    y = Model(inputs=input_num, outputs=y)\n",
    "    # combine the output of the two branches\n",
    "    combined = concatenate([w.output, x.output, y.output])\n",
    "\n",
    "    z = Dense(64, activation='relu')(combined)\n",
    "    z = Dropout(0.3)(z)\n",
    "    classi = BatchNormalization()(z)\n",
    "    classi = Dense(64)(classi)\n",
    "    classi = LeakyReLU(0.3)(classi)\n",
    "    classi = Dropout(0.5)(classi)\n",
    "    z = Dense(64, activation='relu')(z)\n",
    "    z = Dropout(0.3)(z)\n",
    "    out_reg = Dense(1, activation='linear')(z)\n",
    "    \n",
    "    out_class = Dense(1, activation = 'sigmoid')(z)\n",
    "    model = Model(inputs=[w.input, x.input, y.input], outputs=out_class)\n",
    "\n",
    "    return model"
   ]
  },
  {
   "cell_type": "code",
   "execution_count": 31,
   "metadata": {},
   "outputs": [],
   "source": [
    "def objective_class(trial):\n",
    "    # Clear clutter from previous Keras session graphs.\n",
    "    clear_session()\n",
    "    model = multi_input_class_lstm_full()\n",
    "\n",
    "    # We compile our model with a sampled learning rate.\n",
    "    learning_rate = trial.suggest_float(\"learning_rate\", 1e-5, 1e-1, log=True)\n",
    "    model=multi_input_output_lstm_full(lstm_shape, shape_num)\n",
    "\n",
    "    early_stop = EarlyStopping(monitor='val_loss', patience=3)\n",
    "    log_dir = \"logs/fit/\" + datetime.datetime.now().strftime(\"%Y%m%d-%H%M%S\")\n",
    "    tensorboard_callback = TensorBoard(log_dir=log_dir, histogram_freq=1)\n",
    "    learning_rate = trial.suggest_float(\"learning_rate\", 1e-5, 1e-1, log=True)\n",
    "    optimizer = Adam(learning_rate=learning_rate)\n",
    "    model.compile(loss=['mse',tf.keras.losses.binary_crossentropy], \n",
    "                    optimizer=optimizer)\n",
    "\n",
    "    history = model.fit([X_fed_lstm_train, X_ecb_lstm_train, X_num_train], \n",
    "                        [y_train_reg,y_train_cat], \n",
    "                        epochs=50, \n",
    "                        batch_size=128, verbose=2,\n",
    "                        callbacks=[early_stop, tensorboard_callback, ], \n",
    "                        validation_data=([X_fed_lstm_val,X_ecb_lstm_val, X_num_val],[y_val_reg,y_val_cat]))\n",
    "\n",
    "\n",
    "    # Evaluate the model accuracy on the validation set.\n",
    "    score = model.evaluate([X_fed_lstm_val,X_ecb_lstm_val, X_num_val],y_val_cat, verbose=2)\n",
    "    return score[1]\n"
   ]
  },
  {
   "cell_type": "code",
   "execution_count": 32,
   "metadata": {},
   "outputs": [
    {
     "name": "stderr",
     "output_type": "stream",
     "text": [
      "\u001b[32m[I 2022-03-27 22:43:23,857]\u001b[0m A new study created in memory with name: no-name-82ca58d1-44c7-44a0-bbf2-aaf2012921aa\u001b[0m\n"
     ]
    },
    {
     "name": "stdout",
     "output_type": "stream",
     "text": [
      "Epoch 1/50\n",
      "8/8 - 17s - loss: 1.9949 - dense_1_loss: 1.0899 - dense_2_loss: 0.9050 - val_loss: 2.2631 - val_dense_1_loss: 1.5757 - val_dense_2_loss: 0.6874\n",
      "Epoch 2/50\n",
      "8/8 - 3s - loss: 1.9565 - dense_1_loss: 1.0790 - dense_2_loss: 0.8775 - val_loss: 2.2509 - val_dense_1_loss: 1.5633 - val_dense_2_loss: 0.6876\n",
      "Epoch 3/50\n",
      "8/8 - 3s - loss: 1.9595 - dense_1_loss: 1.0892 - dense_2_loss: 0.8703 - val_loss: 2.2397 - val_dense_1_loss: 1.5520 - val_dense_2_loss: 0.6877\n",
      "Epoch 4/50\n",
      "8/8 - 3s - loss: 1.9367 - dense_1_loss: 1.0575 - dense_2_loss: 0.8792 - val_loss: 2.2287 - val_dense_1_loss: 1.5408 - val_dense_2_loss: 0.6879\n",
      "Epoch 5/50\n",
      "8/8 - 3s - loss: 1.9244 - dense_1_loss: 1.0464 - dense_2_loss: 0.8780 - val_loss: 2.2174 - val_dense_1_loss: 1.5294 - val_dense_2_loss: 0.6881\n",
      "Epoch 6/50\n",
      "8/8 - 3s - loss: 1.9062 - dense_1_loss: 1.0482 - dense_2_loss: 0.8580 - val_loss: 2.2065 - val_dense_1_loss: 1.5182 - val_dense_2_loss: 0.6883\n",
      "Epoch 7/50\n",
      "8/8 - 3s - loss: 1.8595 - dense_1_loss: 1.0365 - dense_2_loss: 0.8230 - val_loss: 2.1958 - val_dense_1_loss: 1.5073 - val_dense_2_loss: 0.6885\n",
      "Epoch 8/50\n",
      "8/8 - 3s - loss: 1.8480 - dense_1_loss: 1.0167 - dense_2_loss: 0.8313 - val_loss: 2.1851 - val_dense_1_loss: 1.4964 - val_dense_2_loss: 0.6887\n",
      "Epoch 9/50\n",
      "8/8 - 3s - loss: 1.8704 - dense_1_loss: 1.0298 - dense_2_loss: 0.8407 - val_loss: 2.1740 - val_dense_1_loss: 1.4852 - val_dense_2_loss: 0.6888\n",
      "Epoch 10/50\n",
      "8/8 - 3s - loss: 1.8702 - dense_1_loss: 1.0238 - dense_2_loss: 0.8464 - val_loss: 2.1625 - val_dense_1_loss: 1.4736 - val_dense_2_loss: 0.6889\n",
      "Epoch 11/50\n",
      "8/8 - 3s - loss: 1.8100 - dense_1_loss: 1.0010 - dense_2_loss: 0.8090 - val_loss: 2.1519 - val_dense_1_loss: 1.4629 - val_dense_2_loss: 0.6890\n",
      "Epoch 12/50\n",
      "8/8 - 3s - loss: 1.8438 - dense_1_loss: 1.0009 - dense_2_loss: 0.8430 - val_loss: 2.1402 - val_dense_1_loss: 1.4510 - val_dense_2_loss: 0.6893\n",
      "Epoch 13/50\n",
      "8/8 - 3s - loss: 1.8352 - dense_1_loss: 0.9915 - dense_2_loss: 0.8437 - val_loss: 2.1298 - val_dense_1_loss: 1.4403 - val_dense_2_loss: 0.6895\n",
      "Epoch 14/50\n",
      "8/8 - 3s - loss: 1.7921 - dense_1_loss: 0.9664 - dense_2_loss: 0.8256 - val_loss: 2.1198 - val_dense_1_loss: 1.4299 - val_dense_2_loss: 0.6898\n",
      "Epoch 15/50\n",
      "8/8 - 3s - loss: 1.7906 - dense_1_loss: 0.9768 - dense_2_loss: 0.8138 - val_loss: 2.1074 - val_dense_1_loss: 1.4172 - val_dense_2_loss: 0.6902\n",
      "Epoch 16/50\n",
      "8/8 - 3s - loss: 1.7431 - dense_1_loss: 0.9473 - dense_2_loss: 0.7958 - val_loss: 2.0947 - val_dense_1_loss: 1.4042 - val_dense_2_loss: 0.6905\n",
      "Epoch 17/50\n",
      "8/8 - 3s - loss: 1.7868 - dense_1_loss: 0.9527 - dense_2_loss: 0.8341 - val_loss: 2.0825 - val_dense_1_loss: 1.3917 - val_dense_2_loss: 0.6908\n",
      "Epoch 18/50\n",
      "8/8 - 3s - loss: 1.7538 - dense_1_loss: 0.9490 - dense_2_loss: 0.8048 - val_loss: 2.0715 - val_dense_1_loss: 1.3804 - val_dense_2_loss: 0.6910\n",
      "Epoch 19/50\n",
      "8/8 - 3s - loss: 1.7078 - dense_1_loss: 0.9183 - dense_2_loss: 0.7895 - val_loss: 2.0614 - val_dense_1_loss: 1.3701 - val_dense_2_loss: 0.6912\n",
      "Epoch 20/50\n",
      "8/8 - 3s - loss: 1.7527 - dense_1_loss: 0.9355 - dense_2_loss: 0.8172 - val_loss: 2.0510 - val_dense_1_loss: 1.3594 - val_dense_2_loss: 0.6916\n",
      "Epoch 21/50\n",
      "8/8 - 3s - loss: 1.7209 - dense_1_loss: 0.9187 - dense_2_loss: 0.8022 - val_loss: 2.0403 - val_dense_1_loss: 1.3486 - val_dense_2_loss: 0.6918\n",
      "Epoch 22/50\n",
      "8/8 - 3s - loss: 1.7275 - dense_1_loss: 0.9168 - dense_2_loss: 0.8107 - val_loss: 2.0286 - val_dense_1_loss: 1.3363 - val_dense_2_loss: 0.6922\n",
      "Epoch 23/50\n",
      "8/8 - 3s - loss: 1.6759 - dense_1_loss: 0.9080 - dense_2_loss: 0.7679 - val_loss: 2.0172 - val_dense_1_loss: 1.3244 - val_dense_2_loss: 0.6927\n",
      "Epoch 24/50\n",
      "8/8 - 3s - loss: 1.6785 - dense_1_loss: 0.8962 - dense_2_loss: 0.7823 - val_loss: 2.0055 - val_dense_1_loss: 1.3124 - val_dense_2_loss: 0.6931\n",
      "Epoch 25/50\n",
      "8/8 - 3s - loss: 1.6669 - dense_1_loss: 0.8840 - dense_2_loss: 0.7830 - val_loss: 1.9943 - val_dense_1_loss: 1.3011 - val_dense_2_loss: 0.6932\n",
      "Epoch 26/50\n",
      "8/8 - 3s - loss: 1.6783 - dense_1_loss: 0.8851 - dense_2_loss: 0.7932 - val_loss: 1.9827 - val_dense_1_loss: 1.2892 - val_dense_2_loss: 0.6935\n",
      "Epoch 27/50\n",
      "8/8 - 3s - loss: 1.6225 - dense_1_loss: 0.8355 - dense_2_loss: 0.7870 - val_loss: 1.9710 - val_dense_1_loss: 1.2771 - val_dense_2_loss: 0.6939\n",
      "Epoch 28/50\n",
      "8/8 - 3s - loss: 1.6577 - dense_1_loss: 0.8658 - dense_2_loss: 0.7919 - val_loss: 1.9599 - val_dense_1_loss: 1.2656 - val_dense_2_loss: 0.6944\n",
      "Epoch 29/50\n",
      "8/8 - 3s - loss: 1.6458 - dense_1_loss: 0.8419 - dense_2_loss: 0.8039 - val_loss: 1.9493 - val_dense_1_loss: 1.2543 - val_dense_2_loss: 0.6950\n",
      "Epoch 30/50\n",
      "8/8 - 3s - loss: 1.6256 - dense_1_loss: 0.8513 - dense_2_loss: 0.7743 - val_loss: 1.9393 - val_dense_1_loss: 1.2433 - val_dense_2_loss: 0.6960\n",
      "Epoch 31/50\n",
      "8/8 - 3s - loss: 1.6134 - dense_1_loss: 0.8318 - dense_2_loss: 0.7816 - val_loss: 1.9288 - val_dense_1_loss: 1.2318 - val_dense_2_loss: 0.6969\n",
      "Epoch 32/50\n",
      "8/8 - 3s - loss: 1.5939 - dense_1_loss: 0.8212 - dense_2_loss: 0.7727 - val_loss: 1.9169 - val_dense_1_loss: 1.2189 - val_dense_2_loss: 0.6979\n",
      "Epoch 33/50\n",
      "8/8 - 3s - loss: 1.6257 - dense_1_loss: 0.8158 - dense_2_loss: 0.8099 - val_loss: 1.9063 - val_dense_1_loss: 1.2078 - val_dense_2_loss: 0.6985\n",
      "Epoch 34/50\n",
      "8/8 - 3s - loss: 1.5958 - dense_1_loss: 0.7935 - dense_2_loss: 0.8023 - val_loss: 1.8961 - val_dense_1_loss: 1.1968 - val_dense_2_loss: 0.6993\n",
      "Epoch 35/50\n",
      "8/8 - 3s - loss: 1.5912 - dense_1_loss: 0.8157 - dense_2_loss: 0.7755 - val_loss: 1.8832 - val_dense_1_loss: 1.1833 - val_dense_2_loss: 0.6998\n",
      "Epoch 36/50\n",
      "8/8 - 3s - loss: 1.5889 - dense_1_loss: 0.8139 - dense_2_loss: 0.7750 - val_loss: 1.8723 - val_dense_1_loss: 1.1719 - val_dense_2_loss: 0.7004\n",
      "Epoch 37/50\n",
      "8/8 - 3s - loss: 1.5140 - dense_1_loss: 0.7698 - dense_2_loss: 0.7441 - val_loss: 1.8612 - val_dense_1_loss: 1.1605 - val_dense_2_loss: 0.7007\n",
      "Epoch 38/50\n",
      "8/8 - 3s - loss: 1.5614 - dense_1_loss: 0.7891 - dense_2_loss: 0.7722 - val_loss: 1.8496 - val_dense_1_loss: 1.1489 - val_dense_2_loss: 0.7007\n",
      "Epoch 39/50\n",
      "8/8 - 3s - loss: 1.5115 - dense_1_loss: 0.7751 - dense_2_loss: 0.7363 - val_loss: 1.8383 - val_dense_1_loss: 1.1373 - val_dense_2_loss: 0.7010\n",
      "Epoch 40/50\n",
      "8/8 - 3s - loss: 1.5224 - dense_1_loss: 0.7748 - dense_2_loss: 0.7475 - val_loss: 1.8265 - val_dense_1_loss: 1.1251 - val_dense_2_loss: 0.7014\n",
      "Epoch 41/50\n",
      "8/8 - 3s - loss: 1.5217 - dense_1_loss: 0.7601 - dense_2_loss: 0.7616 - val_loss: 1.8158 - val_dense_1_loss: 1.1137 - val_dense_2_loss: 0.7021\n",
      "Epoch 42/50\n",
      "8/8 - 3s - loss: 1.4627 - dense_1_loss: 0.7331 - dense_2_loss: 0.7296 - val_loss: 1.8049 - val_dense_1_loss: 1.1019 - val_dense_2_loss: 0.7030\n",
      "Epoch 43/50\n",
      "8/8 - 3s - loss: 1.4993 - dense_1_loss: 0.7292 - dense_2_loss: 0.7701 - val_loss: 1.7931 - val_dense_1_loss: 1.0894 - val_dense_2_loss: 0.7036\n",
      "Epoch 44/50\n",
      "8/8 - 3s - loss: 1.4989 - dense_1_loss: 0.7497 - dense_2_loss: 0.7492 - val_loss: 1.7820 - val_dense_1_loss: 1.0780 - val_dense_2_loss: 0.7039\n",
      "Epoch 45/50\n",
      "8/8 - 3s - loss: 1.4515 - dense_1_loss: 0.7248 - dense_2_loss: 0.7266 - val_loss: 1.7702 - val_dense_1_loss: 1.0654 - val_dense_2_loss: 0.7048\n",
      "Epoch 46/50\n",
      "8/8 - 3s - loss: 1.4472 - dense_1_loss: 0.6998 - dense_2_loss: 0.7473 - val_loss: 1.7572 - val_dense_1_loss: 1.0511 - val_dense_2_loss: 0.7061\n",
      "Epoch 47/50\n",
      "8/8 - 3s - loss: 1.4294 - dense_1_loss: 0.6783 - dense_2_loss: 0.7511 - val_loss: 1.7452 - val_dense_1_loss: 1.0384 - val_dense_2_loss: 0.7068\n",
      "Epoch 48/50\n",
      "8/8 - 3s - loss: 1.4250 - dense_1_loss: 0.6925 - dense_2_loss: 0.7325 - val_loss: 1.7327 - val_dense_1_loss: 1.0251 - val_dense_2_loss: 0.7076\n",
      "Epoch 49/50\n",
      "8/8 - 3s - loss: 1.4541 - dense_1_loss: 0.6975 - dense_2_loss: 0.7566 - val_loss: 1.7210 - val_dense_1_loss: 1.0125 - val_dense_2_loss: 0.7085\n",
      "Epoch 50/50\n",
      "8/8 - 3s - loss: 1.4389 - dense_1_loss: 0.6913 - dense_2_loss: 0.7476 - val_loss: 1.7066 - val_dense_1_loss: 0.9969 - val_dense_2_loss: 0.7097\n"
     ]
    },
    {
     "name": "stderr",
     "output_type": "stream",
     "text": [
      "\u001b[32m[I 2022-03-27 22:46:07,549]\u001b[0m Trial 0 finished with value: 0.9969102740287781 and parameters: {'learning_rate': 1.3149657790934066e-05}. Best is trial 0 with value: 0.9969102740287781.\u001b[0m\n"
     ]
    },
    {
     "name": "stdout",
     "output_type": "stream",
     "text": [
      "Epoch 1/50\n",
      "8/8 - 17s - loss: 3.6103 - dense_1_loss: 2.7962 - dense_2_loss: 0.8141 - val_loss: 0.9918 - val_dense_1_loss: 0.2998 - val_dense_2_loss: 0.6920\n",
      "Epoch 2/50\n",
      "8/8 - 3s - loss: 1.0887 - dense_1_loss: 0.3814 - dense_2_loss: 0.7073 - val_loss: 0.9339 - val_dense_1_loss: 0.2512 - val_dense_2_loss: 0.6827\n",
      "Epoch 3/50\n",
      "8/8 - 3s - loss: 1.0797 - dense_1_loss: 0.3656 - dense_2_loss: 0.7141 - val_loss: 0.9795 - val_dense_1_loss: 0.2955 - val_dense_2_loss: 0.6840\n",
      "Epoch 4/50\n",
      "8/8 - 3s - loss: 0.9557 - dense_1_loss: 0.2743 - dense_2_loss: 0.6814 - val_loss: 1.0879 - val_dense_1_loss: 0.3976 - val_dense_2_loss: 0.6903\n",
      "Epoch 5/50\n",
      "8/8 - 3s - loss: 1.0216 - dense_1_loss: 0.3364 - dense_2_loss: 0.6852 - val_loss: 0.8997 - val_dense_1_loss: 0.2152 - val_dense_2_loss: 0.6845\n",
      "Epoch 6/50\n",
      "8/8 - 3s - loss: 1.0127 - dense_1_loss: 0.3302 - dense_2_loss: 0.6825 - val_loss: 1.1543 - val_dense_1_loss: 0.4712 - val_dense_2_loss: 0.6830\n",
      "Epoch 7/50\n",
      "8/8 - 3s - loss: 0.9925 - dense_1_loss: 0.3245 - dense_2_loss: 0.6680 - val_loss: 1.1166 - val_dense_1_loss: 0.4352 - val_dense_2_loss: 0.6814\n",
      "Epoch 8/50\n",
      "8/8 - 3s - loss: 0.9948 - dense_1_loss: 0.3256 - dense_2_loss: 0.6691 - val_loss: 0.9252 - val_dense_1_loss: 0.2512 - val_dense_2_loss: 0.6740\n"
     ]
    },
    {
     "name": "stderr",
     "output_type": "stream",
     "text": [
      "\u001b[32m[I 2022-03-27 22:46:47,671]\u001b[0m Trial 1 finished with value: 0.2512170374393463 and parameters: {'learning_rate': 0.03723820326346621}. Best is trial 0 with value: 0.9969102740287781.\u001b[0m\n"
     ]
    },
    {
     "name": "stdout",
     "output_type": "stream",
     "text": [
      "Epoch 1/50\n",
      "8/8 - 16s - loss: 1.4560 - dense_1_loss: 0.6251 - dense_2_loss: 0.8309 - val_loss: 1.0533 - val_dense_1_loss: 0.3651 - val_dense_2_loss: 0.6882\n",
      "Epoch 2/50\n",
      "8/8 - 3s - loss: 0.9550 - dense_1_loss: 0.2873 - dense_2_loss: 0.6677 - val_loss: 0.9069 - val_dense_1_loss: 0.2134 - val_dense_2_loss: 0.6935\n",
      "Epoch 3/50\n",
      "8/8 - 3s - loss: 0.8386 - dense_1_loss: 0.2210 - dense_2_loss: 0.6177 - val_loss: 1.0348 - val_dense_1_loss: 0.3484 - val_dense_2_loss: 0.6863\n",
      "Epoch 4/50\n",
      "8/8 - 3s - loss: 0.6924 - dense_1_loss: 0.1873 - dense_2_loss: 0.5052 - val_loss: 1.0425 - val_dense_1_loss: 0.3275 - val_dense_2_loss: 0.7150\n",
      "Epoch 5/50\n",
      "8/8 - 4s - loss: 0.5399 - dense_1_loss: 0.2051 - dense_2_loss: 0.3349 - val_loss: 1.0949 - val_dense_1_loss: 0.2742 - val_dense_2_loss: 0.8206\n"
     ]
    },
    {
     "name": "stderr",
     "output_type": "stream",
     "text": [
      "\u001b[32m[I 2022-03-27 22:47:20,669]\u001b[0m Trial 2 finished with value: 0.2742353677749634 and parameters: {'learning_rate': 0.01049604206064004}. Best is trial 0 with value: 0.9969102740287781.\u001b[0m\n"
     ]
    },
    {
     "name": "stdout",
     "output_type": "stream",
     "text": [
      "Epoch 1/50\n",
      "8/8 - 15s - loss: 1.8023 - dense_1_loss: 0.9652 - dense_2_loss: 0.8371 - val_loss: 2.0328 - val_dense_1_loss: 1.3382 - val_dense_2_loss: 0.6946\n",
      "Epoch 2/50\n",
      "8/8 - 3s - loss: 1.6243 - dense_1_loss: 0.8566 - dense_2_loss: 0.7677 - val_loss: 1.8947 - val_dense_1_loss: 1.1993 - val_dense_2_loss: 0.6954\n",
      "Epoch 3/50\n",
      "8/8 - 3s - loss: 1.5390 - dense_1_loss: 0.7656 - dense_2_loss: 0.7734 - val_loss: 1.7679 - val_dense_1_loss: 1.0723 - val_dense_2_loss: 0.6956\n",
      "Epoch 4/50\n",
      "8/8 - 3s - loss: 1.4156 - dense_1_loss: 0.6621 - dense_2_loss: 0.7535 - val_loss: 1.6485 - val_dense_1_loss: 0.9524 - val_dense_2_loss: 0.6962\n",
      "Epoch 5/50\n",
      "8/8 - 3s - loss: 1.2861 - dense_1_loss: 0.5578 - dense_2_loss: 0.7283 - val_loss: 1.5369 - val_dense_1_loss: 0.8407 - val_dense_2_loss: 0.6962\n",
      "Epoch 6/50\n",
      "8/8 - 3s - loss: 1.2082 - dense_1_loss: 0.4967 - dense_2_loss: 0.7115 - val_loss: 1.4327 - val_dense_1_loss: 0.7371 - val_dense_2_loss: 0.6957\n",
      "Epoch 7/50\n",
      "8/8 - 3s - loss: 1.1505 - dense_1_loss: 0.4396 - dense_2_loss: 0.7110 - val_loss: 1.3258 - val_dense_1_loss: 0.6296 - val_dense_2_loss: 0.6962\n",
      "Epoch 8/50\n",
      "8/8 - 3s - loss: 1.0227 - dense_1_loss: 0.3641 - dense_2_loss: 0.6586 - val_loss: 1.2155 - val_dense_1_loss: 0.5183 - val_dense_2_loss: 0.6972\n",
      "Epoch 9/50\n",
      "8/8 - 3s - loss: 1.0009 - dense_1_loss: 0.3200 - dense_2_loss: 0.6809 - val_loss: 1.1353 - val_dense_1_loss: 0.4367 - val_dense_2_loss: 0.6986\n",
      "Epoch 10/50\n",
      "8/8 - 3s - loss: 0.9493 - dense_1_loss: 0.2846 - dense_2_loss: 0.6647 - val_loss: 1.0780 - val_dense_1_loss: 0.3781 - val_dense_2_loss: 0.6999\n",
      "Epoch 11/50\n",
      "8/8 - 3s - loss: 0.9034 - dense_1_loss: 0.2488 - dense_2_loss: 0.6546 - val_loss: 1.0456 - val_dense_1_loss: 0.3466 - val_dense_2_loss: 0.6989\n",
      "Epoch 12/50\n",
      "8/8 - 3s - loss: 0.8737 - dense_1_loss: 0.2365 - dense_2_loss: 0.6372 - val_loss: 1.0437 - val_dense_1_loss: 0.3463 - val_dense_2_loss: 0.6974\n",
      "Epoch 13/50\n",
      "8/8 - 3s - loss: 0.8708 - dense_1_loss: 0.2464 - dense_2_loss: 0.6244 - val_loss: 1.0335 - val_dense_1_loss: 0.3375 - val_dense_2_loss: 0.6960\n",
      "Epoch 14/50\n",
      "8/8 - 3s - loss: 0.8423 - dense_1_loss: 0.2447 - dense_2_loss: 0.5976 - val_loss: 1.0245 - val_dense_1_loss: 0.3295 - val_dense_2_loss: 0.6950\n",
      "Epoch 15/50\n",
      "8/8 - 3s - loss: 0.8079 - dense_1_loss: 0.2197 - dense_2_loss: 0.5882 - val_loss: 1.0090 - val_dense_1_loss: 0.3146 - val_dense_2_loss: 0.6944\n",
      "Epoch 16/50\n",
      "8/8 - 3s - loss: 0.7861 - dense_1_loss: 0.1979 - dense_2_loss: 0.5882 - val_loss: 0.9882 - val_dense_1_loss: 0.2941 - val_dense_2_loss: 0.6940\n",
      "Epoch 17/50\n",
      "8/8 - 3s - loss: 0.7860 - dense_1_loss: 0.2204 - dense_2_loss: 0.5656 - val_loss: 0.9820 - val_dense_1_loss: 0.2889 - val_dense_2_loss: 0.6930\n",
      "Epoch 18/50\n",
      "8/8 - 3s - loss: 0.7720 - dense_1_loss: 0.2135 - dense_2_loss: 0.5585 - val_loss: 0.9781 - val_dense_1_loss: 0.2879 - val_dense_2_loss: 0.6902\n",
      "Epoch 19/50\n",
      "8/8 - 3s - loss: 0.7450 - dense_1_loss: 0.1856 - dense_2_loss: 0.5593 - val_loss: 0.9677 - val_dense_1_loss: 0.2794 - val_dense_2_loss: 0.6883\n",
      "Epoch 20/50\n",
      "8/8 - 4s - loss: 0.7529 - dense_1_loss: 0.2123 - dense_2_loss: 0.5406 - val_loss: 0.9582 - val_dense_1_loss: 0.2703 - val_dense_2_loss: 0.6879\n",
      "Epoch 21/50\n",
      "8/8 - 3s - loss: 0.7473 - dense_1_loss: 0.2071 - dense_2_loss: 0.5402 - val_loss: 0.9556 - val_dense_1_loss: 0.2670 - val_dense_2_loss: 0.6886\n",
      "Epoch 22/50\n",
      "8/8 - 3s - loss: 0.6948 - dense_1_loss: 0.1861 - dense_2_loss: 0.5087 - val_loss: 0.9560 - val_dense_1_loss: 0.2661 - val_dense_2_loss: 0.6899\n",
      "Epoch 23/50\n",
      "8/8 - 3s - loss: 0.6958 - dense_1_loss: 0.1970 - dense_2_loss: 0.4988 - val_loss: 0.9549 - val_dense_1_loss: 0.2644 - val_dense_2_loss: 0.6906\n",
      "Epoch 24/50\n",
      "8/8 - 3s - loss: 0.6646 - dense_1_loss: 0.1809 - dense_2_loss: 0.4838 - val_loss: 0.9580 - val_dense_1_loss: 0.2671 - val_dense_2_loss: 0.6910\n",
      "Epoch 25/50\n",
      "8/8 - 3s - loss: 0.6728 - dense_1_loss: 0.1897 - dense_2_loss: 0.4831 - val_loss: 0.9598 - val_dense_1_loss: 0.2679 - val_dense_2_loss: 0.6919\n",
      "Epoch 26/50\n",
      "8/8 - 3s - loss: 0.6561 - dense_1_loss: 0.1650 - dense_2_loss: 0.4911 - val_loss: 0.9640 - val_dense_1_loss: 0.2716 - val_dense_2_loss: 0.6924\n"
     ]
    },
    {
     "name": "stderr",
     "output_type": "stream",
     "text": [
      "\u001b[32m[I 2022-03-27 22:48:53,454]\u001b[0m Trial 3 finished with value: 0.27157944440841675 and parameters: {'learning_rate': 0.0001226878773495378}. Best is trial 0 with value: 0.9969102740287781.\u001b[0m\n"
     ]
    },
    {
     "name": "stdout",
     "output_type": "stream",
     "text": [
      "Epoch 1/50\n",
      "8/8 - 15s - loss: 3.2253 - dense_1_loss: 2.4517 - dense_2_loss: 0.7736 - val_loss: 2.1814 - val_dense_1_loss: 1.4599 - val_dense_2_loss: 0.7215\n",
      "Epoch 2/50\n",
      "8/8 - 3s - loss: 1.4118 - dense_1_loss: 0.7056 - dense_2_loss: 0.7063 - val_loss: 1.1375 - val_dense_1_loss: 0.4426 - val_dense_2_loss: 0.6948\n",
      "Epoch 3/50\n",
      "8/8 - 3s - loss: 1.1606 - dense_1_loss: 0.4682 - dense_2_loss: 0.6924 - val_loss: 1.0142 - val_dense_1_loss: 0.3278 - val_dense_2_loss: 0.6864\n",
      "Epoch 4/50\n",
      "8/8 - 3s - loss: 1.0450 - dense_1_loss: 0.3631 - dense_2_loss: 0.6818 - val_loss: 0.9509 - val_dense_1_loss: 0.2560 - val_dense_2_loss: 0.6948\n",
      "Epoch 5/50\n",
      "8/8 - 3s - loss: 0.9847 - dense_1_loss: 0.2914 - dense_2_loss: 0.6933 - val_loss: 1.0830 - val_dense_1_loss: 0.3942 - val_dense_2_loss: 0.6888\n",
      "Epoch 6/50\n",
      "8/8 - 3s - loss: 0.9395 - dense_1_loss: 0.2674 - dense_2_loss: 0.6721 - val_loss: 0.9136 - val_dense_1_loss: 0.2187 - val_dense_2_loss: 0.6948\n",
      "Epoch 7/50\n",
      "8/8 - 3s - loss: 0.9213 - dense_1_loss: 0.2528 - dense_2_loss: 0.6685 - val_loss: 0.8889 - val_dense_1_loss: 0.1952 - val_dense_2_loss: 0.6937\n",
      "Epoch 8/50\n",
      "8/8 - 3s - loss: 0.8700 - dense_1_loss: 0.2123 - dense_2_loss: 0.6577 - val_loss: 1.0013 - val_dense_1_loss: 0.2982 - val_dense_2_loss: 0.7031\n",
      "Epoch 9/50\n",
      "8/8 - 3s - loss: 0.8640 - dense_1_loss: 0.2186 - dense_2_loss: 0.6454 - val_loss: 1.1054 - val_dense_1_loss: 0.3798 - val_dense_2_loss: 0.7255\n",
      "Epoch 10/50\n",
      "8/8 - 3s - loss: 0.8630 - dense_1_loss: 0.2352 - dense_2_loss: 0.6278 - val_loss: 1.1050 - val_dense_1_loss: 0.3676 - val_dense_2_loss: 0.7374\n"
     ]
    },
    {
     "name": "stderr",
     "output_type": "stream",
     "text": [
      "\u001b[32m[I 2022-03-27 22:49:39,832]\u001b[0m Trial 4 finished with value: 0.367603600025177 and parameters: {'learning_rate': 0.029620001052595994}. Best is trial 0 with value: 0.9969102740287781.\u001b[0m\n"
     ]
    },
    {
     "name": "stdout",
     "output_type": "stream",
     "text": [
      "Epoch 1/50\n",
      "8/8 - 16s - loss: 1.2909 - dense_1_loss: 0.4820 - dense_2_loss: 0.8089 - val_loss: 1.0097 - val_dense_1_loss: 0.3212 - val_dense_2_loss: 0.6885\n",
      "Epoch 2/50\n",
      "8/8 - 3s - loss: 0.9106 - dense_1_loss: 0.2301 - dense_2_loss: 0.6805 - val_loss: 0.9805 - val_dense_1_loss: 0.2937 - val_dense_2_loss: 0.6868\n",
      "Epoch 3/50\n",
      "8/8 - 3s - loss: 0.7461 - dense_1_loss: 0.2013 - dense_2_loss: 0.5448 - val_loss: 0.8913 - val_dense_1_loss: 0.2102 - val_dense_2_loss: 0.6811\n",
      "Epoch 4/50\n",
      "8/8 - 3s - loss: 0.5191 - dense_1_loss: 0.1684 - dense_2_loss: 0.3507 - val_loss: 0.9377 - val_dense_1_loss: 0.2461 - val_dense_2_loss: 0.6916\n",
      "Epoch 5/50\n",
      "8/8 - 3s - loss: 0.4550 - dense_1_loss: 0.1616 - dense_2_loss: 0.2934 - val_loss: 1.0227 - val_dense_1_loss: 0.2877 - val_dense_2_loss: 0.7350\n",
      "Epoch 6/50\n",
      "8/8 - 3s - loss: 0.4092 - dense_1_loss: 0.1629 - dense_2_loss: 0.2463 - val_loss: 1.0767 - val_dense_1_loss: 0.2373 - val_dense_2_loss: 0.8394\n"
     ]
    },
    {
     "name": "stderr",
     "output_type": "stream",
     "text": [
      "\u001b[32m[I 2022-03-27 22:50:15,721]\u001b[0m Trial 5 finished with value: 0.2372877448797226 and parameters: {'learning_rate': 0.006097930345107062}. Best is trial 0 with value: 0.9969102740287781.\u001b[0m\n"
     ]
    },
    {
     "name": "stdout",
     "output_type": "stream",
     "text": [
      "Epoch 1/50\n",
      "8/8 - 16s - loss: 1.8260 - dense_1_loss: 0.9658 - dense_2_loss: 0.8602 - val_loss: 1.8271 - val_dense_1_loss: 1.1268 - val_dense_2_loss: 0.7002\n",
      "Epoch 2/50\n",
      "8/8 - 3s - loss: 1.3321 - dense_1_loss: 0.6654 - dense_2_loss: 0.6666 - val_loss: 1.4565 - val_dense_1_loss: 0.7579 - val_dense_2_loss: 0.6986\n",
      "Epoch 3/50\n",
      "8/8 - 3s - loss: 1.0437 - dense_1_loss: 0.4061 - dense_2_loss: 0.6376 - val_loss: 1.1770 - val_dense_1_loss: 0.4718 - val_dense_2_loss: 0.7052\n",
      "Epoch 4/50\n",
      "8/8 - 3s - loss: 0.9003 - dense_1_loss: 0.2743 - dense_2_loss: 0.6260 - val_loss: 1.0606 - val_dense_1_loss: 0.3580 - val_dense_2_loss: 0.7027\n",
      "Epoch 5/50\n",
      "8/8 - 3s - loss: 0.8684 - dense_1_loss: 0.2666 - dense_2_loss: 0.6018 - val_loss: 0.9991 - val_dense_1_loss: 0.3008 - val_dense_2_loss: 0.6983\n",
      "Epoch 6/50\n",
      "8/8 - 3s - loss: 0.7696 - dense_1_loss: 0.1999 - dense_2_loss: 0.5698 - val_loss: 0.9685 - val_dense_1_loss: 0.2655 - val_dense_2_loss: 0.7030\n",
      "Epoch 7/50\n",
      "8/8 - 3s - loss: 0.7064 - dense_1_loss: 0.1835 - dense_2_loss: 0.5229 - val_loss: 0.9737 - val_dense_1_loss: 0.2740 - val_dense_2_loss: 0.6997\n",
      "Epoch 8/50\n",
      "8/8 - 3s - loss: 0.6520 - dense_1_loss: 0.1875 - dense_2_loss: 0.4645 - val_loss: 0.9383 - val_dense_1_loss: 0.2388 - val_dense_2_loss: 0.6994\n",
      "Epoch 9/50\n",
      "8/8 - 3s - loss: 0.6239 - dense_1_loss: 0.1833 - dense_2_loss: 0.4406 - val_loss: 0.9351 - val_dense_1_loss: 0.2311 - val_dense_2_loss: 0.7040\n",
      "Epoch 10/50\n",
      "8/8 - 3s - loss: 0.5812 - dense_1_loss: 0.1717 - dense_2_loss: 0.4095 - val_loss: 0.9677 - val_dense_1_loss: 0.2599 - val_dense_2_loss: 0.7078\n",
      "Epoch 11/50\n",
      "8/8 - 3s - loss: 0.5171 - dense_1_loss: 0.1615 - dense_2_loss: 0.3556 - val_loss: 1.0021 - val_dense_1_loss: 0.2843 - val_dense_2_loss: 0.7177\n",
      "Epoch 12/50\n",
      "8/8 - 3s - loss: 0.4717 - dense_1_loss: 0.1616 - dense_2_loss: 0.3101 - val_loss: 0.9869 - val_dense_1_loss: 0.2611 - val_dense_2_loss: 0.7258\n"
     ]
    },
    {
     "name": "stderr",
     "output_type": "stream",
     "text": [
      "\u001b[32m[I 2022-03-27 22:51:07,210]\u001b[0m Trial 6 finished with value: 0.26107850670814514 and parameters: {'learning_rate': 0.0006779378020947304}. Best is trial 0 with value: 0.9969102740287781.\u001b[0m\n"
     ]
    },
    {
     "name": "stdout",
     "output_type": "stream",
     "text": [
      "Epoch 1/50\n",
      "8/8 - 16s - loss: 14.2060 - dense_1_loss: 13.4269 - dense_2_loss: 0.7791 - val_loss: 2.2119 - val_dense_1_loss: 1.5241 - val_dense_2_loss: 0.6878\n",
      "Epoch 2/50\n",
      "8/8 - 3s - loss: 1.7409 - dense_1_loss: 1.0242 - dense_2_loss: 0.7167 - val_loss: 2.2391 - val_dense_1_loss: 1.5349 - val_dense_2_loss: 0.7042\n",
      "Epoch 3/50\n",
      "8/8 - 3s - loss: 1.7327 - dense_1_loss: 1.0409 - dense_2_loss: 0.6918 - val_loss: 2.2312 - val_dense_1_loss: 1.5406 - val_dense_2_loss: 0.6906\n",
      "Epoch 4/50\n",
      "8/8 - 3s - loss: 1.7298 - dense_1_loss: 1.0403 - dense_2_loss: 0.6895 - val_loss: 2.2326 - val_dense_1_loss: 1.5425 - val_dense_2_loss: 0.6902\n"
     ]
    },
    {
     "name": "stderr",
     "output_type": "stream",
     "text": [
      "\u001b[32m[I 2022-03-27 22:51:36,333]\u001b[0m Trial 7 finished with value: 1.5424590110778809 and parameters: {'learning_rate': 0.06443157589194881}. Best is trial 7 with value: 1.5424590110778809.\u001b[0m\n"
     ]
    },
    {
     "name": "stdout",
     "output_type": "stream",
     "text": [
      "Epoch 1/50\n",
      "8/8 - 16s - loss: 1.7089 - dense_1_loss: 0.8761 - dense_2_loss: 0.8328 - val_loss: 1.6417 - val_dense_1_loss: 0.9523 - val_dense_2_loss: 0.6894\n",
      "Epoch 2/50\n",
      "8/8 - 3s - loss: 1.2827 - dense_1_loss: 0.5199 - dense_2_loss: 0.7628 - val_loss: 1.3132 - val_dense_1_loss: 0.6242 - val_dense_2_loss: 0.6890\n",
      "Epoch 3/50\n",
      "8/8 - 4s - loss: 1.0794 - dense_1_loss: 0.3811 - dense_2_loss: 0.6983 - val_loss: 1.0895 - val_dense_1_loss: 0.3994 - val_dense_2_loss: 0.6901\n",
      "Epoch 4/50\n",
      "8/8 - 3s - loss: 0.9207 - dense_1_loss: 0.2643 - dense_2_loss: 0.6565 - val_loss: 1.0169 - val_dense_1_loss: 0.3255 - val_dense_2_loss: 0.6914\n",
      "Epoch 5/50\n",
      "8/8 - 3s - loss: 0.8595 - dense_1_loss: 0.2226 - dense_2_loss: 0.6369 - val_loss: 0.9947 - val_dense_1_loss: 0.3010 - val_dense_2_loss: 0.6938\n",
      "Epoch 6/50\n",
      "8/8 - 3s - loss: 0.8747 - dense_1_loss: 0.2427 - dense_2_loss: 0.6320 - val_loss: 0.9778 - val_dense_1_loss: 0.2841 - val_dense_2_loss: 0.6937\n",
      "Epoch 7/50\n",
      "8/8 - 3s - loss: 0.8067 - dense_1_loss: 0.2416 - dense_2_loss: 0.5652 - val_loss: 0.9730 - val_dense_1_loss: 0.2808 - val_dense_2_loss: 0.6922\n",
      "Epoch 8/50\n",
      "8/8 - 3s - loss: 0.7862 - dense_1_loss: 0.2158 - dense_2_loss: 0.5705 - val_loss: 0.9737 - val_dense_1_loss: 0.2813 - val_dense_2_loss: 0.6924\n",
      "Epoch 9/50\n",
      "8/8 - 3s - loss: 0.7244 - dense_1_loss: 0.2087 - dense_2_loss: 0.5157 - val_loss: 0.9690 - val_dense_1_loss: 0.2742 - val_dense_2_loss: 0.6947\n",
      "Epoch 10/50\n",
      "8/8 - 3s - loss: 0.7013 - dense_1_loss: 0.2005 - dense_2_loss: 0.5008 - val_loss: 0.9345 - val_dense_1_loss: 0.2376 - val_dense_2_loss: 0.6969\n",
      "Epoch 11/50\n",
      "8/8 - 3s - loss: 0.6784 - dense_1_loss: 0.2138 - dense_2_loss: 0.4646 - val_loss: 0.9325 - val_dense_1_loss: 0.2347 - val_dense_2_loss: 0.6978\n",
      "Epoch 12/50\n",
      "8/8 - 3s - loss: 0.6446 - dense_1_loss: 0.1999 - dense_2_loss: 0.4447 - val_loss: 0.9541 - val_dense_1_loss: 0.2534 - val_dense_2_loss: 0.7007\n",
      "Epoch 13/50\n",
      "8/8 - 3s - loss: 0.6250 - dense_1_loss: 0.2051 - dense_2_loss: 0.4199 - val_loss: 0.9505 - val_dense_1_loss: 0.2469 - val_dense_2_loss: 0.7036\n",
      "Epoch 14/50\n",
      "8/8 - 3s - loss: 0.5842 - dense_1_loss: 0.2008 - dense_2_loss: 0.3833 - val_loss: 0.9483 - val_dense_1_loss: 0.2360 - val_dense_2_loss: 0.7123\n"
     ]
    },
    {
     "name": "stderr",
     "output_type": "stream",
     "text": [
      "\u001b[32m[I 2022-03-27 22:52:35,074]\u001b[0m Trial 8 finished with value: 0.2360457479953766 and parameters: {'learning_rate': 0.0003259139633276217}. Best is trial 7 with value: 1.5424590110778809.\u001b[0m\n"
     ]
    },
    {
     "name": "stdout",
     "output_type": "stream",
     "text": [
      "Epoch 1/50\n",
      "8/8 - 16s - loss: 2.6619 - dense_1_loss: 1.8694 - dense_2_loss: 0.7925 - val_loss: 1.7538 - val_dense_1_loss: 1.0536 - val_dense_2_loss: 0.7001\n",
      "Epoch 2/50\n",
      "8/8 - 3s - loss: 1.4100 - dense_1_loss: 0.7241 - dense_2_loss: 0.6859 - val_loss: 1.5644 - val_dense_1_loss: 0.8643 - val_dense_2_loss: 0.7001\n",
      "Epoch 3/50\n",
      "8/8 - 3s - loss: 1.0947 - dense_1_loss: 0.4057 - dense_2_loss: 0.6890 - val_loss: 0.9791 - val_dense_1_loss: 0.2748 - val_dense_2_loss: 0.7043\n",
      "Epoch 4/50\n",
      "8/8 - 4s - loss: 0.9842 - dense_1_loss: 0.3010 - dense_2_loss: 0.6832 - val_loss: 0.9139 - val_dense_1_loss: 0.2262 - val_dense_2_loss: 0.6877\n",
      "Epoch 5/50\n",
      "8/8 - 3s - loss: 0.9357 - dense_1_loss: 0.2659 - dense_2_loss: 0.6698 - val_loss: 0.9600 - val_dense_1_loss: 0.2715 - val_dense_2_loss: 0.6885\n",
      "Epoch 6/50\n",
      "8/8 - 3s - loss: 0.8931 - dense_1_loss: 0.2317 - dense_2_loss: 0.6614 - val_loss: 0.9274 - val_dense_1_loss: 0.2366 - val_dense_2_loss: 0.6908\n",
      "Epoch 7/50\n",
      "8/8 - 3s - loss: 0.8768 - dense_1_loss: 0.2457 - dense_2_loss: 0.6311 - val_loss: 1.1512 - val_dense_1_loss: 0.3940 - val_dense_2_loss: 0.7573\n"
     ]
    },
    {
     "name": "stderr",
     "output_type": "stream",
     "text": [
      "\u001b[32m[I 2022-03-27 22:53:12,972]\u001b[0m Trial 9 finished with value: 0.3939872980117798 and parameters: {'learning_rate': 0.027321639456618554}. Best is trial 7 with value: 1.5424590110778809.\u001b[0m\n"
     ]
    },
    {
     "name": "stdout",
     "output_type": "stream",
     "text": [
      "Number of finished trials: 10\n",
      "Best trial:\n"
     ]
    }
   ],
   "source": [
    "study = optuna.create_study(direction=\"maximize\")\n",
    "study.optimize(objective_full, n_trials=10, timeout=None)\n",
    "\n",
    "print(\"Number of finished trials: {}\".format(len(study.trials)))\n",
    "\n",
    "print(\"Best trial:\")\n",
    "trial = study.best_trial"
   ]
  },
  {
   "cell_type": "code",
   "execution_count": 33,
   "metadata": {},
   "outputs": [
    {
     "name": "stdout",
     "output_type": "stream",
     "text": [
      "  Value: 1.5424590110778809\n",
      "  Params: \n",
      "    learning_rate: 0.06443157589194881\n"
     ]
    }
   ],
   "source": [
    "print(\"  Value: {}\".format(trial.value))\n",
    "\n",
    "print(\"  Params: \")\n",
    "for key, value in trial.params.items():\n",
    "    print(\"    {}: {}\".format(key, value))"
   ]
  },
  {
   "cell_type": "code",
   "execution_count": 35,
   "metadata": {},
   "outputs": [
    {
     "ename": "TypeError",
     "evalue": "'dict_items' object is not subscriptable",
     "output_type": "error",
     "traceback": [
      "\u001b[1;31m---------------------------------------------------------------------------\u001b[0m",
      "\u001b[1;31mTypeError\u001b[0m                                 Traceback (most recent call last)",
      "\u001b[1;32mc:\\Users\\32mor\\OneDrive\\Documents\\Polytechnique\\NLP & Natixis\\natixis\\starting_kit\\clean_models.ipynb Cell 20'\u001b[0m in \u001b[0;36m<cell line: 1>\u001b[1;34m()\u001b[0m\n\u001b[1;32m----> <a href='vscode-notebook-cell:/c%3A/Users/32mor/OneDrive/Documents/Polytechnique/NLP%20%26%20Natixis/natixis/starting_kit/clean_models.ipynb#ch0000038?line=0'>1</a>\u001b[0m learning_rate \u001b[39m=\u001b[39m trial\u001b[39m.\u001b[39;49mparams\u001b[39m.\u001b[39;49mitems()[\u001b[39m'\u001b[39;49m\u001b[39mlearning_rate\u001b[39;49m\u001b[39m'\u001b[39;49m]\n",
      "\u001b[1;31mTypeError\u001b[0m: 'dict_items' object is not subscriptable"
     ]
    }
   ],
   "source": [
    "learning_rate = trial.params.items()['learning_rate']"
   ]
  },
  {
   "cell_type": "code",
   "execution_count": 81,
   "metadata": {},
   "outputs": [
    {
     "name": "stdout",
     "output_type": "stream",
     "text": [
      "Epoch 1/50\n",
      "8/8 - 23s - loss: 0.2495 - val_loss: 0.2478\n",
      "Epoch 2/50\n",
      "8/8 - 3s - loss: 0.2468 - val_loss: 0.2472\n",
      "Epoch 3/50\n",
      "8/8 - 3s - loss: 0.2475 - val_loss: 0.2470\n",
      "Epoch 4/50\n",
      "8/8 - 3s - loss: 0.2455 - val_loss: 0.2464\n",
      "Epoch 5/50\n",
      "8/8 - 3s - loss: 0.2452 - val_loss: 0.2461\n",
      "Epoch 6/50\n",
      "8/8 - 3s - loss: 0.2439 - val_loss: 0.2459\n",
      "Epoch 7/50\n",
      "8/8 - 4s - loss: 0.2434 - val_loss: 0.2456\n",
      "Epoch 8/50\n",
      "8/8 - 3s - loss: 0.2426 - val_loss: 0.2453\n",
      "Epoch 9/50\n",
      "8/8 - 4s - loss: 0.2414 - val_loss: 0.2451\n",
      "Epoch 10/50\n",
      "8/8 - 3s - loss: 0.2419 - val_loss: 0.2451\n",
      "Epoch 11/50\n",
      "8/8 - 3s - loss: 0.2402 - val_loss: 0.2450\n",
      "Epoch 12/50\n",
      "8/8 - 3s - loss: 0.2398 - val_loss: 0.2448\n",
      "Epoch 13/50\n",
      "8/8 - 3s - loss: 0.2395 - val_loss: 0.2447\n",
      "Epoch 14/50\n",
      "8/8 - 3s - loss: 0.2374 - val_loss: 0.2447\n",
      "Epoch 15/50\n",
      "8/8 - 3s - loss: 0.2375 - val_loss: 0.2447\n",
      "Epoch 16/50\n",
      "8/8 - 3s - loss: 0.2378 - val_loss: 0.2447\n"
     ]
    }
   ],
   "source": [
    "# model_cat=multi_input_class_lstm_full(lstm_shape, shape_num)\n",
    "# early_stop = EarlyStopping(monitor='val_loss', patience=3)\n",
    "# log_dir = \"logs/fit/\" + datetime.datetime.now().strftime(\"%Y%m%d-%H%M%S\")\n",
    "# tensorboard_callback = TensorBoard(log_dir=log_dir, histogram_freq=1)\n",
    "# optimizer = Adam(learning_rate=0.0001)\n",
    "# model_cat.compile(loss=['mse'], optimizer=optimizer)\n",
    "# history = model_cat.fit([X_fed_lstm_train, X_ecb_lstm_train, X_num_train], y_train_cat, epochs=50, batch_size=128, verbose=2,\n",
    "#     validation_data = ([X_fed_lstm_val, X_ecb_lstm_val, X_num_val], y_val_cat), callbacks=[early_stop, tensorboard_callback, ])"
   ]
  },
  {
   "cell_type": "code",
   "execution_count": 82,
   "metadata": {},
   "outputs": [
    {
     "data": {
      "text/plain": [
       "[<matplotlib.lines.Line2D at 0x2215f6e0340>]"
      ]
     },
     "execution_count": 82,
     "metadata": {},
     "output_type": "execute_result"
    },
    {
     "data": {
      "image/png": "[encoded data removed]",
      "text/plain": [
       "<Figure size 432x288 with 1 Axes>"
      ]
     },
     "metadata": {
      "needs_background": "light"
     },
     "output_type": "display_data"
    }
   ],
   "source": [
    "plt.plot(history.history['loss'])\n",
    "plt.plot(history.history['val_loss'])"
   ]
  },
  {
   "cell_type": "code",
   "execution_count": 87,
   "metadata": {},
   "outputs": [
    {
     "name": "stderr",
     "output_type": "stream",
     "text": [
      "WARNING:absl:Found untraced functions such as lstm_cell_45_layer_call_fn, lstm_cell_45_layer_call_and_return_conditional_losses, lstm_cell_47_layer_call_fn, lstm_cell_47_layer_call_and_return_conditional_losses, lstm_cell_46_layer_call_fn while saving (showing 5 of 25). These functions will not be directly callable after loading.\n",
      "WARNING:absl:Found untraced functions such as lstm_cell_45_layer_call_fn, lstm_cell_45_layer_call_and_return_conditional_losses, lstm_cell_47_layer_call_fn, lstm_cell_47_layer_call_and_return_conditional_losses, lstm_cell_46_layer_call_fn while saving (showing 5 of 25). These functions will not be directly callable after loading.\n"
     ]
    },
    {
     "name": "stdout",
     "output_type": "stream",
     "text": [
      "INFO:tensorflow:Assets written to: multi_inputs_class_model\\assets\n"
     ]
    },
    {
     "name": "stderr",
     "output_type": "stream",
     "text": [
      "INFO:tensorflow:Assets written to: multi_inputs_class_model\\assets\n"
     ]
    }
   ],
   "source": [
    "# model_cat.save(\"multi_inputs_class_model\")"
   ]
  },
  {
   "cell_type": "code",
   "execution_count": 83,
   "metadata": {},
   "outputs": [],
   "source": [
    "def multi_input_reg_lstm_full(shape_nlp, shape_num):\n",
    "    input_nlp_fed = Input(shape=(shape_nlp[0], shape_nlp[1]))\n",
    "    input_nlp_bce = Input(shape=(shape_nlp[0], shape_nlp[1]))\n",
    "    input_num = Input(shape=(shape_num, 1))\n",
    "\n",
    "\n",
    "    w = LSTM(100, return_sequences=True)(input_nlp_fed)\n",
    "    w = Dropout(0.3)(w)\n",
    "    #w = BatchNormalization()(w)\n",
    "    w = LSTM(40, return_sequences=False)(w)\n",
    "    w = Dropout(0.3)(w)\n",
    "    w = Model(inputs=input_nlp_fed, outputs=w)\n",
    "\n",
    "\n",
    "    x = LSTM(100, return_sequences=True)(input_nlp_bce)\n",
    "    x = Dropout(0.3)(x)\n",
    "    #x = BatchNormalization()(x)\n",
    "    x = LSTM(40, return_sequences=False)(x)\n",
    "    #x = Dropout(0.3)(x)\n",
    "    x = Model(inputs=input_nlp_bce, outputs=x)\n",
    "\n",
    "    # the second branch opreates on the second input\n",
    "    y = LSTM(100, return_sequences=False)(input_num)\n",
    "    y = Dropout(0.3)(y)\n",
    "    #y = BatchNormalization()(y)\n",
    "    # y = LSTM(40, return_sequences=False)(y)\n",
    "    # y = Dropout(0.3)(y)\n",
    "    y = Model(inputs=input_num, outputs=y)\n",
    "    # combine the output of the two branches\n",
    "    combined = concatenate([w.output, x.output, y.output])\n",
    "\n",
    "    z = Dense(64, activation='relu')(combined)\n",
    "    z = Dropout(0.3)(z)\n",
    "    # classi = BatchNormalization()(z)\n",
    "    # classi = Dense(64)(classi)\n",
    "    # classi = LeakyReLU(0.3)(classi)\n",
    "    # classi = Dropout(0.5)(classi)\n",
    "    z = Dense(64, activation='relu')(z)\n",
    "    z = Dropout(0.3)(z)\n",
    "    out_reg = Dense(1, activation='linear')(z)\n",
    "    \n",
    "    # out_class = Dense(1, activation = 'sigmoid')(z)\n",
    "    model = Model(inputs=[w.input, x.input, y.input], outputs=out_reg)\n",
    "\n",
    "    return model"
   ]
  },
  {
   "cell_type": "code",
   "execution_count": 84,
   "metadata": {},
   "outputs": [
    {
     "name": "stdout",
     "output_type": "stream",
     "text": [
      "Epoch 1/50\n",
      "8/8 - 19s - loss: 0.9947 - val_loss: 1.4107\n",
      "Epoch 2/50\n",
      "8/8 - 4s - loss: 0.9405 - val_loss: 1.3444\n",
      "Epoch 3/50\n",
      "8/8 - 3s - loss: 0.8848 - val_loss: 1.2822\n",
      "Epoch 4/50\n",
      "8/8 - 3s - loss: 0.8316 - val_loss: 1.2173\n",
      "Epoch 5/50\n",
      "8/8 - 3s - loss: 0.7848 - val_loss: 1.1421\n",
      "Epoch 6/50\n",
      "8/8 - 3s - loss: 0.7432 - val_loss: 1.0573\n",
      "Epoch 7/50\n",
      "8/8 - 3s - loss: 0.6736 - val_loss: 0.9643\n",
      "Epoch 8/50\n",
      "8/8 - 3s - loss: 0.6141 - val_loss: 0.8688\n",
      "Epoch 9/50\n",
      "8/8 - 8s - loss: 0.5224 - val_loss: 0.7745\n",
      "Epoch 10/50\n",
      "8/8 - 3s - loss: 0.5019 - val_loss: 0.6827\n",
      "Epoch 11/50\n",
      "8/8 - 3s - loss: 0.4174 - val_loss: 0.5981\n",
      "Epoch 12/50\n",
      "8/8 - 3s - loss: 0.3840 - val_loss: 0.5229\n",
      "Epoch 13/50\n",
      "8/8 - 3s - loss: 0.3579 - val_loss: 0.4702\n",
      "Epoch 14/50\n",
      "8/8 - 3s - loss: 0.3563 - val_loss: 0.4424\n",
      "Epoch 15/50\n",
      "8/8 - 3s - loss: 0.3322 - val_loss: 0.4360\n",
      "Epoch 16/50\n",
      "8/8 - 3s - loss: 0.2972 - val_loss: 0.4202\n",
      "Epoch 17/50\n",
      "8/8 - 3s - loss: 0.3189 - val_loss: 0.4011\n",
      "Epoch 18/50\n",
      "8/8 - 3s - loss: 0.2856 - val_loss: 0.3812\n",
      "Epoch 19/50\n",
      "8/8 - 3s - loss: 0.2869 - val_loss: 0.3686\n",
      "Epoch 20/50\n",
      "8/8 - 3s - loss: 0.2558 - val_loss: 0.3628\n",
      "Epoch 21/50\n",
      "8/8 - 3s - loss: 0.2515 - val_loss: 0.3537\n",
      "Epoch 22/50\n",
      "8/8 - 3s - loss: 0.2278 - val_loss: 0.3301\n",
      "Epoch 23/50\n",
      "8/8 - 3s - loss: 0.2484 - val_loss: 0.3265\n",
      "Epoch 24/50\n",
      "8/8 - 3s - loss: 0.2360 - val_loss: 0.3249\n",
      "Epoch 25/50\n",
      "8/8 - 3s - loss: 0.2178 - val_loss: 0.3282\n",
      "Epoch 26/50\n",
      "8/8 - 3s - loss: 0.2409 - val_loss: 0.3204\n",
      "Epoch 27/50\n",
      "8/8 - 3s - loss: 0.2176 - val_loss: 0.3068\n",
      "Epoch 28/50\n",
      "8/8 - 3s - loss: 0.2219 - val_loss: 0.2988\n",
      "Epoch 29/50\n",
      "8/8 - 3s - loss: 0.2018 - val_loss: 0.2907\n",
      "Epoch 30/50\n",
      "8/8 - 3s - loss: 0.2266 - val_loss: 0.2909\n",
      "Epoch 31/50\n",
      "8/8 - 3s - loss: 0.2178 - val_loss: 0.2861\n",
      "Epoch 32/50\n",
      "8/8 - 3s - loss: 0.2073 - val_loss: 0.2832\n",
      "Epoch 33/50\n",
      "8/8 - 3s - loss: 0.1890 - val_loss: 0.2797\n",
      "Epoch 34/50\n",
      "8/8 - 3s - loss: 0.2298 - val_loss: 0.3068\n",
      "Epoch 35/50\n",
      "8/8 - 3s - loss: 0.2172 - val_loss: 0.3057\n",
      "Epoch 36/50\n",
      "8/8 - 3s - loss: 0.2016 - val_loss: 0.2860\n"
     ]
    }
   ],
   "source": [
    "model_reg=multi_input_reg_lstm_full(lstm_shape, shape_num)\n",
    "early_stop = EarlyStopping(monitor='val_loss', patience=3)\n",
    "log_dir = \"logs/fit/\" + datetime.datetime.now().strftime(\"%Y%m%d-%H%M%S\")\n",
    "tensorboard_callback = TensorBoard(log_dir=log_dir, histogram_freq=1)\n",
    "optimizer = Adam(learning_rate=0.0001)\n",
    "model_reg.compile(loss=['mse'], optimizer=optimizer)\n",
    "history = model_reg.fit([X_fed_lstm_train, X_ecb_lstm_train, X_num_train], y_train_reg, epochs=50, batch_size=128, verbose=2,\n",
    "    validation_data = ([X_fed_lstm_val, X_ecb_lstm_val, X_num_val], y_val_reg), callbacks=[early_stop, tensorboard_callback, ])"
   ]
  },
  {
   "cell_type": "code",
   "execution_count": 85,
   "metadata": {},
   "outputs": [
    {
     "data": {
      "text/plain": [
       "[<matplotlib.lines.Line2D at 0x2215f9a3d90>]"
      ]
     },
     "execution_count": 85,
     "metadata": {},
     "output_type": "execute_result"
    },
    {
     "data": {
      "image/png": "[encoded data removed]",
      "text/plain": [
       "<Figure size 432x288 with 1 Axes>"
      ]
     },
     "metadata": {
      "needs_background": "light"
     },
     "output_type": "display_data"
    }
   ],
   "source": [
    "plt.plot(history.history['loss'])\n",
    "plt.plot(history.history['val_loss'])"
   ]
  },
  {
   "cell_type": "code",
   "execution_count": 88,
   "metadata": {},
   "outputs": [
    {
     "name": "stderr",
     "output_type": "stream",
     "text": [
      "WARNING:absl:Found untraced functions such as lstm_cell_50_layer_call_fn, lstm_cell_50_layer_call_and_return_conditional_losses, lstm_cell_52_layer_call_fn, lstm_cell_52_layer_call_and_return_conditional_losses, lstm_cell_51_layer_call_fn while saving (showing 5 of 25). These functions will not be directly callable after loading.\n",
      "WARNING:absl:Found untraced functions such as lstm_cell_50_layer_call_fn, lstm_cell_50_layer_call_and_return_conditional_losses, lstm_cell_52_layer_call_fn, lstm_cell_52_layer_call_and_return_conditional_losses, lstm_cell_51_layer_call_fn while saving (showing 5 of 25). These functions will not be directly callable after loading.\n"
     ]
    },
    {
     "name": "stdout",
     "output_type": "stream",
     "text": [
      "INFO:tensorflow:Assets written to: multi_inputs_reg_model\\assets\n"
     ]
    },
    {
     "name": "stderr",
     "output_type": "stream",
     "text": [
      "INFO:tensorflow:Assets written to: multi_inputs_reg_model\\assets\n"
     ]
    }
   ],
   "source": [
    "model_reg.save(\"multi_inputs_reg_model\")"
   ]
  },
  {
   "cell_type": "code",
   "execution_count": null,
   "metadata": {},
   "outputs": [],
   "source": [
    "mean_squared_error(y_train_reg, model.predict([X_fed_lstm_train, X_ecb_lstm_train, X_num_train]))**(1/2)"
   ]
  },
  {
   "cell_type": "code",
   "execution_count": null,
   "metadata": {},
   "outputs": [],
   "source": []
  },
  {
   "cell_type": "code",
   "execution_count": null,
   "metadata": {},
   "outputs": [],
   "source": []
  },
  {
   "cell_type": "code",
   "execution_count": null,
   "metadata": {},
   "outputs": [],
   "source": []
  },
  {
   "cell_type": "markdown",
   "metadata": {},
   "source": [
    "os.chdir('C:/Users/32mor/OneDrive/Documents/Polytechnique/NLP & Natixis/starting_kit/answer')\n",
    "\n",
    "np.savetxt(f'./{version}/pred_reg.txt', y_test_reg, fmt='%.3f')\n",
    "np.savetxt(f'./{version}/pred_classif.txt', y_test_class, fmt='%d')"
   ]
  },
  {
   "cell_type": "code",
   "execution_count": null,
   "metadata": {},
   "outputs": [],
   "source": []
  },
  {
   "cell_type": "code",
   "execution_count": null,
   "metadata": {},
   "outputs": [],
   "source": []
  },
  {
   "cell_type": "code",
   "execution_count": null,
   "metadata": {},
   "outputs": [],
   "source": []
  },
  {
   "cell_type": "code",
   "execution_count": null,
   "metadata": {},
   "outputs": [],
   "source": [
    "(y_test_class>0.5).sum()"
   ]
  },
  {
   "cell_type": "code",
   "execution_count": null,
   "metadata": {},
   "outputs": [],
   "source": [
    "os.chdir('..')\n",
    "print('zipping it...')\n",
    "shutil.make_archive('answer', 'zip', './answer/')\n",
    "shutil.rmtree('./answer/')\n",
    "os.chdir('../..')\n",
    "print('done!')"
   ]
  },
  {
   "cell_type": "code",
   "execution_count": null,
   "metadata": {},
   "outputs": [],
   "source": [
    "os.chdir('C:/Users/32mor/OneDrive/Documents/Polytechnique/NLP & Natixis/starting_kit/answer')"
   ]
  },
  {
   "cell_type": "code",
   "execution_count": null,
   "metadata": {},
   "outputs": [],
   "source": []
  }
 ],
 "metadata": {
  "interpreter": {
   "hash": "cef52191e58c18720989589d5b4ea8cc9868f5ede1a0d5b620ab4c0f06813bfa"
  },
  "kernelspec": {
   "display_name": "Python 3.8.0 ('tf_test')",
   "language": "python",
   "name": "python3"
  },
  "language_info": {
   "codemirror_mode": {
    "name": "ipython",
    "version": 3
   },
   "file_extension": ".py",
   "mimetype": "text/x-python",
   "name": "python",
   "nbconvert_exporter": "python",
   "pygments_lexer": "ipython3",
   "version": "3.8.0"
  },
  "orig_nbformat": 4
 },
 "nbformat": 4,
 "nbformat_minor": 2
}

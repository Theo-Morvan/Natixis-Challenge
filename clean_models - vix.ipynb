{
 "cells": [
  {
   "cell_type": "code",
   "execution_count": 2,
   "metadata": {},
   "outputs": [],
   "source": [
    "# from spacy_langdetect import LanguageDetector\n",
    "# from spacy.language import Language\n",
    "# import spacy\n",
    "import pandas as pd\n",
    "from frequentist_treatment_nlp import *\n",
    "import nltk\n",
    "import numpy as np\n",
    "import time\n",
    "import matplotlib.pyplot as plt\n",
    "import seaborn as sns\n",
    "import os\n",
    "import sys\n",
    "from sklearn.feature_extraction.text import TfidfVectorizer\n",
    "from sklearn.decomposition import PCA\n",
    "from sklearn.model_selection import train_test_split\n",
    "from sklearn.preprocessing import StandardScaler, MinMaxScaler\n",
    "from sklearn.metrics import accuracy_score, mean_squared_error\n",
    "from nltk.stem.snowball import SnowballStemmer\n",
    "import regex\n",
    "import re\n",
    "from tensorflow.keras.models import Sequential, Model\n",
    "from tensorflow.keras.layers import Dense,GRU,LSTM,Embedding, concatenate\n",
    "from tensorflow.keras.optimizers import Adam\n",
    "from tensorflow.keras.layers import SpatialDropout1D,Dropout,Bidirectional,Conv1D,GlobalMaxPooling1D, MaxPooling1D, LeakyReLU, Flatten, InputLayer, Input, BatchNormalization\n",
    "from tensorflow.keras.callbacks import ModelCheckpoint, TensorBoard, Callback, EarlyStopping, History\n",
    "import tensorflow as tf\n",
    "from sklearn.manifold import TSNE\n",
    "from tensorflow.keras.backend import clear_session"
   ]
  },
  {
   "cell_type": "code",
   "execution_count": 3,
   "metadata": {},
   "outputs": [
    {
     "name": "stdout",
     "output_type": "stream",
     "text": [
      "Num GPUs Available:  1\n"
     ]
    }
   ],
   "source": [
    "tf.config.list_physical_devices()\n",
    "print(\"Num GPUs Available: \", len(tf.config.list_physical_devices('GPU')))\n",
    "physical_devices = tf.config.list_physical_devices(\"GPU\")\n",
    "tf.config.experimental.set_memory_growth(physical_devices[0], True)"
   ]
  },
  {
   "cell_type": "code",
   "execution_count": null,
   "metadata": {},
   "outputs": [],
   "source": []
  },
  {
   "cell_type": "code",
   "execution_count": 4,
   "metadata": {},
   "outputs": [],
   "source": [
    "path = 'C:/Users/32mor/OneDrive/Documents/Polytechnique/NLP & Natixis/starting_kit/data'"
   ]
  },
  {
   "cell_type": "code",
   "execution_count": 5,
   "metadata": {},
   "outputs": [],
   "source": [
    "path = 'C:/Users/32mor/OneDrive/Documents/Polytechnique/NLP & Natixis/starting_kit/data'\n",
    "os.chdir(path)\n",
    "X, y_cat, y_reg = hx.data_expander(all_data=True,index='eur')\n",
    "y = pd.concat([y_cat,y_reg],axis=1)"
   ]
  },
  {
   "cell_type": "code",
   "execution_count": 7,
   "metadata": {},
   "outputs": [],
   "source": [
    "pipe_num = numerical_pipeline(ema=True, lstm=True)"
   ]
  },
  {
   "cell_type": "code",
   "execution_count": 11,
   "metadata": {},
   "outputs": [
    {
     "name": "stdout",
     "output_type": "stream",
     "text": [
      "unsaved\n"
     ]
    },
    {
     "name": "stderr",
     "output_type": "stream",
     "text": [
      "100%|██████████| 415/415 [00:00<00:00, 29637.43it/s]\n",
      "100%|██████████| 1243/1243 [00:00<00:00, 26540.15it/s]\n",
      "100%|██████████| 210/210 [00:00<00:00, 20915.25it/s]\n",
      "100%|██████████| 598/598 [00:00<00:00, 22851.41it/s]\n",
      "100%|██████████| 356/356 [00:00<00:00, 29680.02it/s]\n",
      "100%|██████████| 1050/1050 [00:00<00:00, 27037.10it/s]\n"
     ]
    }
   ],
   "source": [
    "unsaved  = True\n",
    "if unsaved:\n",
    "     print('unsaved')\n",
    "     X_train, X_test, y_train, y_test = train_test_split(X, y, test_size=0.2, random_state=42)\n",
    "     X_train, X_val, y_train, y_val = train_test_split(X_train, y_train, test_size=0.1, random_state=42)\n",
    "     pipe_ecb = Full_pipeline_nlp('ecb', 0.3, 300,translate=False)\n",
    "     pipe_fed = Full_pipeline_nlp('fed',0.3, 300, translate=False)\n",
    "     pipe_num = numerical_pipeline(ema=True, lstm=True)\n",
    "     test_pipe  = full_pipeline(pipe_fed, pipe_ecb, pipe_num)\n",
    "     X_fed_train, X_ecb_train, X_num_train = test_pipe.fit_transform(X_train)\n",
    "     X_fed_val, X_ecb_val, X_num_val = test_pipe.transform(X_val)\n",
    "     X_fed_test, X_ecb_test, X_num_test = test_pipe.transform(X_test)\n",
    "\n",
    "\n",
    "     y_train_reg = y_train.target_reg\n",
    "     y_train_cat = y_train.target_classif\n",
    "     y_test_reg = y_test.target_reg\n",
    "     y_test_cat = y_test.target_classif\n",
    "     y_val_reg = y_val.target_reg\n",
    "     y_val_cat = y_val.target_classif\n",
    "     os.chdir(path)\n",
    "     saves = [X_fed_train, X_fed_test, X_fed_val, X_ecb_train, X_ecb_test, \n",
    "                    X_ecb_val, X_num_train,X_num_test, X_num_val, y_test_cat,\n",
    "                    y_test_reg, y_train_reg, y_train_cat, y_val_cat, y_val_reg]\n",
    "     for element in saves:\n",
    "          vnames = [name for name in globals() if globals()[name] is element][0]\n",
    "          np.save(f'{vnames}_eurusd.npy',element)\n",
    "\n",
    "else:\n",
    "     print('saved')\n",
    "     for element in os.listdir():\n",
    "          if 'npy' in element :\n",
    "               if element not in ['element.npy','__.npy']:\n",
    "                    str = element\n",
    "                    globals()[str.split('.')[0]] = np.load(element)\n",
    "\n",
    "day_max = 20\n",
    "speeches_train = int(len(X_fed_train)/20)\n",
    "speeches_val = int(len(X_ecb_val)/20)\n",
    "speeches_test = int(len(X_ecb_test)/20)\n",
    "components = 300\n",
    "X_fed_lstm_train = X_fed_train.reshape((speeches_train, day_max, components))\n",
    "X_ecb_lstm_train = X_ecb_train.reshape((speeches_train, day_max, components))\n",
    "X_fed_lstm_test = X_fed_test.reshape((speeches_test, day_max, components))\n",
    "X_ecb_lstm_test = X_ecb_test.reshape((speeches_test, day_max, components))\n",
    "X_fed_lstm_val = X_fed_val.reshape((speeches_val, day_max, components))\n",
    "X_ecb_lstm_val = X_ecb_val.reshape((speeches_val, day_max, components))\n",
    "lstm_shape = (day_max, components)\n",
    "shape_num = day_max"
   ]
  },
  {
   "cell_type": "code",
   "execution_count": 12,
   "metadata": {},
   "outputs": [],
   "source": [
    "shape_num = (day_max,2)"
   ]
  },
  {
   "cell_type": "code",
   "execution_count": 13,
   "metadata": {},
   "outputs": [],
   "source": [
    "def multi_input_output_lstm_full(shape_nlp, shape_num):\n",
    "    input_nlp_fed = Input(shape=(shape_nlp[0], shape_nlp[1]))\n",
    "    input_nlp_bce = Input(shape=(shape_nlp[0], shape_nlp[1]))\n",
    "    input_num = Input(shape=(shape_num[0], shape_num[1]))\n",
    "\n",
    "\n",
    "    w = LSTM(100, return_sequences=True)(input_nlp_fed)\n",
    "    w = Dropout(0.3)(w)\n",
    "    #w = BatchNormalization()(w)\n",
    "    w = LSTM(40, return_sequences=False)(w)\n",
    "    w = Dropout(0.3)(w)\n",
    "    w = Model(inputs=input_nlp_fed, outputs=w)\n",
    "\n",
    "\n",
    "    x = LSTM(100, return_sequences=True)(input_nlp_bce)\n",
    "    x = Dropout(0.3)(x)\n",
    "    #x = BatchNormalization()(x)\n",
    "    x = LSTM(40, return_sequences=False)(x)\n",
    "    #x = Dropout(0.3)(x)\n",
    "    x = Model(inputs=input_nlp_bce, outputs=x)\n",
    "\n",
    "    # the second branch opreates on the second input\n",
    "    y = LSTM(100, return_sequences=False)(input_num)\n",
    "    y = Dropout(0.3)(y)\n",
    "    #y = BatchNormalization()(y)\n",
    "    # y = LSTM(40, return_sequences=False)(y)\n",
    "    # y = Dropout(0.3)(y)\n",
    "    y = Model(inputs=input_num, outputs=y)\n",
    "    # combine the output of the two branches\n",
    "    combined = concatenate([w.output, x.output, y.output])\n",
    "\n",
    "    z = Dense(64, activation='relu')(combined)\n",
    "    z = Dropout(0.3)(z)\n",
    "    \n",
    "\n",
    "    out_reg = Dense(1, activation='linear')(z)\n",
    "    \n",
    "\n",
    "    classi = BatchNormalization()(z)\n",
    "    out_class = Dense(1, activation = 'sigmoid')(classi)\n",
    "    model = Model(inputs=[w.input, x.input, y.input], outputs=[out_reg, out_class])\n",
    "\n",
    "    return model"
   ]
  },
  {
   "cell_type": "code",
   "execution_count": 18,
   "metadata": {},
   "outputs": [],
   "source": [
    "import optuna"
   ]
  },
  {
   "cell_type": "code",
   "execution_count": 19,
   "metadata": {},
   "outputs": [],
   "source": [
    "def objective_full(trial):\n",
    "    # Clear clutter from previous Keras session graphs.\n",
    "    clear_session()\n",
    "    # model = multi_input_output_lstm_full\n",
    "\n",
    "    # We compile our model with a sampled learning rate.\n",
    "    learning_rate = trial.suggest_float(\"learning_rate\", 1e-5, 1e-1, log=True)\n",
    "    model=multi_input_output_lstm_full(lstm_shape, shape_num)\n",
    "\n",
    "    early_stop = EarlyStopping(monitor='val_loss', patience=3)\n",
    "    log_dir = \"logs/fit/\" + datetime.datetime.now().strftime(\"%Y%m%d-%H%M%S\")\n",
    "    tensorboard_callback = TensorBoard(log_dir=log_dir, histogram_freq=1)\n",
    "    learning_rate = trial.suggest_float(\"learning_rate\", 1e-5, 1e-1, log=True)\n",
    "    optimizer = Adam(learning_rate=learning_rate)\n",
    "    model.compile(loss=['mse',tf.keras.losses.binary_crossentropy], \n",
    "                    optimizer=optimizer)\n",
    "\n",
    "    history = model.fit([X_fed_lstm_train, X_ecb_lstm_train, X_num_train], \n",
    "                        [y_train_reg,y_train_cat], \n",
    "                        epochs=50, \n",
    "                        batch_size=128, verbose=2,\n",
    "                        callbacks=[early_stop, tensorboard_callback, ], \n",
    "                        validation_data=([X_fed_lstm_val,X_ecb_lstm_val, X_num_val],[y_val_reg,y_val_cat]))\n",
    "\n",
    "\n",
    "    # Evaluate the model accuracy on the validation set.\n",
    "    score = model.evaluate([X_fed_lstm_val,X_ecb_lstm_val, X_num_val],[y_val_reg,y_val_cat], verbose=0)\n",
    "    return score[1]\n"
   ]
  },
  {
   "cell_type": "code",
   "execution_count": 20,
   "metadata": {},
   "outputs": [],
   "source": [
    "import datetime"
   ]
  },
  {
   "cell_type": "code",
   "execution_count": 21,
   "metadata": {},
   "outputs": [
    {
     "name": "stderr",
     "output_type": "stream",
     "text": [
      "\u001b[32m[I 2022-03-28 22:05:06,257]\u001b[0m A new study created in memory with name: no-name-a74bc54d-73a4-4fe4-b47b-48083777fdec\u001b[0m\n"
     ]
    },
    {
     "name": "stdout",
     "output_type": "stream",
     "text": [
      "Epoch 1/50\n",
      "8/8 - 23s - loss: 1.6017 - dense_1_loss: 0.7553 - dense_2_loss: 0.8463 - val_loss: 1.0597 - val_dense_1_loss: 0.3632 - val_dense_2_loss: 0.6966\n",
      "Epoch 2/50\n",
      "8/8 - 4s - loss: 1.0924 - dense_1_loss: 0.3809 - dense_2_loss: 0.7115 - val_loss: 0.9159 - val_dense_1_loss: 0.2222 - val_dense_2_loss: 0.6937\n",
      "Epoch 3/50\n",
      "8/8 - 3s - loss: 0.9542 - dense_1_loss: 0.3003 - dense_2_loss: 0.6540 - val_loss: 0.8976 - val_dense_1_loss: 0.2032 - val_dense_2_loss: 0.6944\n",
      "Epoch 4/50\n",
      "8/8 - 3s - loss: 0.8928 - dense_1_loss: 0.2590 - dense_2_loss: 0.6338 - val_loss: 0.8866 - val_dense_1_loss: 0.1866 - val_dense_2_loss: 0.7000\n",
      "Epoch 5/50\n",
      "8/8 - 3s - loss: 0.8054 - dense_1_loss: 0.2545 - dense_2_loss: 0.5509 - val_loss: 0.8888 - val_dense_1_loss: 0.1830 - val_dense_2_loss: 0.7058\n",
      "Epoch 6/50\n",
      "8/8 - 3s - loss: 0.7533 - dense_1_loss: 0.2516 - dense_2_loss: 0.5017 - val_loss: 0.8814 - val_dense_1_loss: 0.1804 - val_dense_2_loss: 0.7009\n",
      "Epoch 7/50\n",
      "8/8 - 3s - loss: 0.6882 - dense_1_loss: 0.2319 - dense_2_loss: 0.4563 - val_loss: 0.8957 - val_dense_1_loss: 0.1908 - val_dense_2_loss: 0.7050\n",
      "Epoch 8/50\n",
      "8/8 - 3s - loss: 0.6227 - dense_1_loss: 0.2292 - dense_2_loss: 0.3935 - val_loss: 0.9039 - val_dense_1_loss: 0.1886 - val_dense_2_loss: 0.7153\n",
      "Epoch 9/50\n",
      "8/8 - 3s - loss: 0.5260 - dense_1_loss: 0.1972 - dense_2_loss: 0.3288 - val_loss: 0.9391 - val_dense_1_loss: 0.1957 - val_dense_2_loss: 0.7435\n"
     ]
    },
    {
     "name": "stderr",
     "output_type": "stream",
     "text": [
      "\u001b[32m[I 2022-03-28 22:06:17,081]\u001b[0m Trial 0 finished with value: 0.1956726610660553 and parameters: {'learning_rate': 0.0007997737986483937}. Best is trial 0 with value: 0.1956726610660553.\u001b[0m\n"
     ]
    },
    {
     "name": "stdout",
     "output_type": "stream",
     "text": [
      "Epoch 1/50\n",
      "8/8 - 13s - loss: 1.7902 - dense_1_loss: 0.9655 - dense_2_loss: 0.8247 - val_loss: 1.1955 - val_dense_1_loss: 0.5036 - val_dense_2_loss: 0.6919\n",
      "Epoch 2/50\n",
      "8/8 - 2s - loss: 1.1867 - dense_1_loss: 0.4853 - dense_2_loss: 0.7014 - val_loss: 0.9698 - val_dense_1_loss: 0.2690 - val_dense_2_loss: 0.7008\n",
      "Epoch 3/50\n",
      "8/8 - 3s - loss: 1.0437 - dense_1_loss: 0.3280 - dense_2_loss: 0.7158 - val_loss: 0.9585 - val_dense_1_loss: 0.2563 - val_dense_2_loss: 0.7022\n",
      "Epoch 4/50\n",
      "8/8 - 2s - loss: 1.0009 - dense_1_loss: 0.3205 - dense_2_loss: 0.6804 - val_loss: 0.9141 - val_dense_1_loss: 0.2149 - val_dense_2_loss: 0.6992\n",
      "Epoch 5/50\n",
      "8/8 - 3s - loss: 0.9244 - dense_1_loss: 0.2854 - dense_2_loss: 0.6389 - val_loss: 0.8944 - val_dense_1_loss: 0.1960 - val_dense_2_loss: 0.6984\n",
      "Epoch 6/50\n",
      "8/8 - 3s - loss: 0.8893 - dense_1_loss: 0.2671 - dense_2_loss: 0.6222 - val_loss: 0.8832 - val_dense_1_loss: 0.1846 - val_dense_2_loss: 0.6985\n",
      "Epoch 7/50\n",
      "8/8 - 3s - loss: 0.7788 - dense_1_loss: 0.2316 - dense_2_loss: 0.5472 - val_loss: 0.8773 - val_dense_1_loss: 0.1784 - val_dense_2_loss: 0.6989\n",
      "Epoch 8/50\n",
      "8/8 - 3s - loss: 0.7620 - dense_1_loss: 0.2169 - dense_2_loss: 0.5450 - val_loss: 0.8720 - val_dense_1_loss: 0.1755 - val_dense_2_loss: 0.6965\n",
      "Epoch 9/50\n",
      "8/8 - 3s - loss: 0.7316 - dense_1_loss: 0.2386 - dense_2_loss: 0.4930 - val_loss: 0.8663 - val_dense_1_loss: 0.1726 - val_dense_2_loss: 0.6937\n",
      "Epoch 10/50\n",
      "8/8 - 3s - loss: 0.6763 - dense_1_loss: 0.2176 - dense_2_loss: 0.4587 - val_loss: 0.8798 - val_dense_1_loss: 0.1731 - val_dense_2_loss: 0.7066\n",
      "Epoch 11/50\n",
      "8/8 - 3s - loss: 0.6457 - dense_1_loss: 0.2318 - dense_2_loss: 0.4139 - val_loss: 0.8923 - val_dense_1_loss: 0.1822 - val_dense_2_loss: 0.7101\n",
      "Epoch 12/50\n",
      "8/8 - 3s - loss: 0.5903 - dense_1_loss: 0.2070 - dense_2_loss: 0.3833 - val_loss: 0.8923 - val_dense_1_loss: 0.1819 - val_dense_2_loss: 0.7104\n"
     ]
    },
    {
     "name": "stderr",
     "output_type": "stream",
     "text": [
      "\u001b[32m[I 2022-03-28 22:07:03,297]\u001b[0m Trial 1 finished with value: 0.18192340433597565 and parameters: {'learning_rate': 0.0005086025450915318}. Best is trial 0 with value: 0.1956726610660553.\u001b[0m\n"
     ]
    },
    {
     "name": "stdout",
     "output_type": "stream",
     "text": [
      "Epoch 1/50\n",
      "8/8 - 13s - loss: 1.8195 - dense_1_loss: 0.9873 - dense_2_loss: 0.8322 - val_loss: 1.4906 - val_dense_1_loss: 0.7998 - val_dense_2_loss: 0.6908\n",
      "Epoch 2/50\n",
      "8/8 - 3s - loss: 1.4901 - dense_1_loss: 0.7014 - dense_2_loss: 0.7887 - val_loss: 1.2877 - val_dense_1_loss: 0.5977 - val_dense_2_loss: 0.6900\n",
      "Epoch 3/50\n",
      "8/8 - 2s - loss: 1.3137 - dense_1_loss: 0.5907 - dense_2_loss: 0.7229 - val_loss: 1.1347 - val_dense_1_loss: 0.4425 - val_dense_2_loss: 0.6922\n",
      "Epoch 4/50\n",
      "8/8 - 3s - loss: 1.0984 - dense_1_loss: 0.4245 - dense_2_loss: 0.6738 - val_loss: 1.0191 - val_dense_1_loss: 0.3244 - val_dense_2_loss: 0.6947\n",
      "Epoch 5/50\n",
      "8/8 - 3s - loss: 1.0110 - dense_1_loss: 0.3338 - dense_2_loss: 0.6772 - val_loss: 0.9503 - val_dense_1_loss: 0.2532 - val_dense_2_loss: 0.6971\n",
      "Epoch 6/50\n",
      "8/8 - 2s - loss: 0.9492 - dense_1_loss: 0.2928 - dense_2_loss: 0.6563 - val_loss: 0.9273 - val_dense_1_loss: 0.2286 - val_dense_2_loss: 0.6987\n",
      "Epoch 7/50\n",
      "8/8 - 3s - loss: 0.9468 - dense_1_loss: 0.2871 - dense_2_loss: 0.6597 - val_loss: 0.9219 - val_dense_1_loss: 0.2208 - val_dense_2_loss: 0.7011\n",
      "Epoch 8/50\n",
      "8/8 - 3s - loss: 0.9097 - dense_1_loss: 0.2758 - dense_2_loss: 0.6339 - val_loss: 0.9205 - val_dense_1_loss: 0.2178 - val_dense_2_loss: 0.7027\n",
      "Epoch 9/50\n",
      "8/8 - 3s - loss: 0.9019 - dense_1_loss: 0.2825 - dense_2_loss: 0.6194 - val_loss: 0.9171 - val_dense_1_loss: 0.2129 - val_dense_2_loss: 0.7042\n",
      "Epoch 10/50\n",
      "8/8 - 2s - loss: 0.8481 - dense_1_loss: 0.2542 - dense_2_loss: 0.5939 - val_loss: 0.9149 - val_dense_1_loss: 0.2101 - val_dense_2_loss: 0.7048\n",
      "Epoch 11/50\n",
      "8/8 - 3s - loss: 0.8439 - dense_1_loss: 0.2536 - dense_2_loss: 0.5904 - val_loss: 0.9119 - val_dense_1_loss: 0.2063 - val_dense_2_loss: 0.7056\n",
      "Epoch 12/50\n",
      "8/8 - 3s - loss: 0.8410 - dense_1_loss: 0.2595 - dense_2_loss: 0.5816 - val_loss: 0.9086 - val_dense_1_loss: 0.2028 - val_dense_2_loss: 0.7058\n",
      "Epoch 13/50\n",
      "8/8 - 3s - loss: 0.7867 - dense_1_loss: 0.2421 - dense_2_loss: 0.5446 - val_loss: 0.9109 - val_dense_1_loss: 0.2021 - val_dense_2_loss: 0.7087\n",
      "Epoch 14/50\n",
      "8/8 - 3s - loss: 0.7511 - dense_1_loss: 0.2535 - dense_2_loss: 0.4976 - val_loss: 0.9131 - val_dense_1_loss: 0.1998 - val_dense_2_loss: 0.7133\n",
      "Epoch 15/50\n",
      "8/8 - 2s - loss: 0.7534 - dense_1_loss: 0.2256 - dense_2_loss: 0.5278 - val_loss: 0.9103 - val_dense_1_loss: 0.1962 - val_dense_2_loss: 0.7141\n"
     ]
    },
    {
     "name": "stderr",
     "output_type": "stream",
     "text": [
      "\u001b[32m[I 2022-03-28 22:07:56,746]\u001b[0m Trial 2 finished with value: 0.19617411494255066 and parameters: {'learning_rate': 0.00021663305093458883}. Best is trial 2 with value: 0.19617411494255066.\u001b[0m\n"
     ]
    },
    {
     "name": "stdout",
     "output_type": "stream",
     "text": [
      "Epoch 1/50\n",
      "8/8 - 12s - loss: 2.0862 - dense_1_loss: 1.1831 - dense_2_loss: 0.9031 - val_loss: 1.9673 - val_dense_1_loss: 1.2653 - val_dense_2_loss: 0.7019\n",
      "Epoch 2/50\n",
      "8/8 - 3s - loss: 2.0382 - dense_1_loss: 1.1522 - dense_2_loss: 0.8860 - val_loss: 1.9319 - val_dense_1_loss: 1.2302 - val_dense_2_loss: 0.7017\n",
      "Epoch 3/50\n",
      "8/8 - 3s - loss: 1.9886 - dense_1_loss: 1.1185 - dense_2_loss: 0.8701 - val_loss: 1.9010 - val_dense_1_loss: 1.1995 - val_dense_2_loss: 0.7014\n",
      "Epoch 4/50\n",
      "8/8 - 3s - loss: 1.9540 - dense_1_loss: 1.1017 - dense_2_loss: 0.8523 - val_loss: 1.8715 - val_dense_1_loss: 1.1702 - val_dense_2_loss: 0.7012\n",
      "Epoch 5/50\n",
      "8/8 - 3s - loss: 1.9548 - dense_1_loss: 1.1027 - dense_2_loss: 0.8521 - val_loss: 1.8433 - val_dense_1_loss: 1.1422 - val_dense_2_loss: 0.7011\n",
      "Epoch 6/50\n",
      "8/8 - 3s - loss: 1.9388 - dense_1_loss: 1.0743 - dense_2_loss: 0.8645 - val_loss: 1.8156 - val_dense_1_loss: 1.1148 - val_dense_2_loss: 0.7008\n",
      "Epoch 7/50\n",
      "8/8 - 3s - loss: 1.8452 - dense_1_loss: 1.0217 - dense_2_loss: 0.8235 - val_loss: 1.7887 - val_dense_1_loss: 1.0881 - val_dense_2_loss: 0.7006\n",
      "Epoch 8/50\n",
      "8/8 - 3s - loss: 1.8365 - dense_1_loss: 1.0216 - dense_2_loss: 0.8149 - val_loss: 1.7633 - val_dense_1_loss: 1.0630 - val_dense_2_loss: 0.7002\n",
      "Epoch 9/50\n",
      "8/8 - 3s - loss: 1.8266 - dense_1_loss: 1.0065 - dense_2_loss: 0.8201 - val_loss: 1.7393 - val_dense_1_loss: 1.0395 - val_dense_2_loss: 0.6998\n",
      "Epoch 10/50\n",
      "8/8 - 3s - loss: 1.8157 - dense_1_loss: 0.9687 - dense_2_loss: 0.8470 - val_loss: 1.7170 - val_dense_1_loss: 1.0174 - val_dense_2_loss: 0.6995\n",
      "Epoch 11/50\n",
      "8/8 - 2s - loss: 1.7697 - dense_1_loss: 0.9615 - dense_2_loss: 0.8082 - val_loss: 1.6958 - val_dense_1_loss: 0.9966 - val_dense_2_loss: 0.6992\n",
      "Epoch 12/50\n",
      "8/8 - 3s - loss: 1.7402 - dense_1_loss: 0.9221 - dense_2_loss: 0.8181 - val_loss: 1.6739 - val_dense_1_loss: 0.9750 - val_dense_2_loss: 0.6989\n",
      "Epoch 13/50\n",
      "8/8 - 2s - loss: 1.7619 - dense_1_loss: 0.9186 - dense_2_loss: 0.8433 - val_loss: 1.6512 - val_dense_1_loss: 0.9527 - val_dense_2_loss: 0.6985\n",
      "Epoch 14/50\n",
      "8/8 - 3s - loss: 1.7342 - dense_1_loss: 0.9396 - dense_2_loss: 0.7946 - val_loss: 1.6293 - val_dense_1_loss: 0.9308 - val_dense_2_loss: 0.6985\n",
      "Epoch 15/50\n",
      "8/8 - 3s - loss: 1.7257 - dense_1_loss: 0.9149 - dense_2_loss: 0.8108 - val_loss: 1.6083 - val_dense_1_loss: 0.9099 - val_dense_2_loss: 0.6984\n",
      "Epoch 16/50\n",
      "8/8 - 3s - loss: 1.6717 - dense_1_loss: 0.8697 - dense_2_loss: 0.8019 - val_loss: 1.5872 - val_dense_1_loss: 0.8889 - val_dense_2_loss: 0.6983\n",
      "Epoch 17/50\n",
      "8/8 - 3s - loss: 1.6696 - dense_1_loss: 0.8832 - dense_2_loss: 0.7864 - val_loss: 1.5677 - val_dense_1_loss: 0.8693 - val_dense_2_loss: 0.6984\n",
      "Epoch 18/50\n",
      "8/8 - 3s - loss: 1.6477 - dense_1_loss: 0.8699 - dense_2_loss: 0.7778 - val_loss: 1.5471 - val_dense_1_loss: 0.8487 - val_dense_2_loss: 0.6984\n",
      "Epoch 19/50\n",
      "8/8 - 3s - loss: 1.6022 - dense_1_loss: 0.8119 - dense_2_loss: 0.7902 - val_loss: 1.5282 - val_dense_1_loss: 0.8298 - val_dense_2_loss: 0.6984\n",
      "Epoch 20/50\n",
      "8/8 - 2s - loss: 1.6853 - dense_1_loss: 0.8536 - dense_2_loss: 0.8317 - val_loss: 1.5104 - val_dense_1_loss: 0.8122 - val_dense_2_loss: 0.6982\n",
      "Epoch 21/50\n",
      "8/8 - 3s - loss: 1.5473 - dense_1_loss: 0.8049 - dense_2_loss: 0.7423 - val_loss: 1.4899 - val_dense_1_loss: 0.7919 - val_dense_2_loss: 0.6980\n",
      "Epoch 22/50\n",
      "8/8 - 3s - loss: 1.5962 - dense_1_loss: 0.7772 - dense_2_loss: 0.8189 - val_loss: 1.4711 - val_dense_1_loss: 0.7734 - val_dense_2_loss: 0.6978\n",
      "Epoch 23/50\n",
      "8/8 - 3s - loss: 1.5311 - dense_1_loss: 0.7657 - dense_2_loss: 0.7654 - val_loss: 1.4541 - val_dense_1_loss: 0.7565 - val_dense_2_loss: 0.6976\n",
      "Epoch 24/50\n",
      "8/8 - 3s - loss: 1.5675 - dense_1_loss: 0.7778 - dense_2_loss: 0.7897 - val_loss: 1.4380 - val_dense_1_loss: 0.7405 - val_dense_2_loss: 0.6976\n",
      "Epoch 25/50\n",
      "8/8 - 2s - loss: 1.5597 - dense_1_loss: 0.7468 - dense_2_loss: 0.8129 - val_loss: 1.4225 - val_dense_1_loss: 0.7249 - val_dense_2_loss: 0.6976\n",
      "Epoch 26/50\n",
      "8/8 - 3s - loss: 1.5184 - dense_1_loss: 0.7365 - dense_2_loss: 0.7819 - val_loss: 1.4062 - val_dense_1_loss: 0.7088 - val_dense_2_loss: 0.6975\n",
      "Epoch 27/50\n",
      "8/8 - 2s - loss: 1.4818 - dense_1_loss: 0.7134 - dense_2_loss: 0.7684 - val_loss: 1.3914 - val_dense_1_loss: 0.6937 - val_dense_2_loss: 0.6976\n",
      "Epoch 28/50\n",
      "8/8 - 3s - loss: 1.4307 - dense_1_loss: 0.6891 - dense_2_loss: 0.7416 - val_loss: 1.3767 - val_dense_1_loss: 0.6788 - val_dense_2_loss: 0.6979\n",
      "Epoch 29/50\n",
      "8/8 - 3s - loss: 1.4483 - dense_1_loss: 0.6822 - dense_2_loss: 0.7661 - val_loss: 1.3622 - val_dense_1_loss: 0.6642 - val_dense_2_loss: 0.6980\n",
      "Epoch 30/50\n",
      "8/8 - 3s - loss: 1.4624 - dense_1_loss: 0.6721 - dense_2_loss: 0.7903 - val_loss: 1.3486 - val_dense_1_loss: 0.6507 - val_dense_2_loss: 0.6979\n",
      "Epoch 31/50\n",
      "8/8 - 2s - loss: 1.4430 - dense_1_loss: 0.6690 - dense_2_loss: 0.7741 - val_loss: 1.3351 - val_dense_1_loss: 0.6370 - val_dense_2_loss: 0.6981\n",
      "Epoch 32/50\n",
      "8/8 - 3s - loss: 1.4242 - dense_1_loss: 0.6499 - dense_2_loss: 0.7744 - val_loss: 1.3216 - val_dense_1_loss: 0.6235 - val_dense_2_loss: 0.6981\n",
      "Epoch 33/50\n",
      "8/8 - 3s - loss: 1.4496 - dense_1_loss: 0.6652 - dense_2_loss: 0.7845 - val_loss: 1.3086 - val_dense_1_loss: 0.6100 - val_dense_2_loss: 0.6986\n",
      "Epoch 34/50\n",
      "8/8 - 3s - loss: 1.4249 - dense_1_loss: 0.6309 - dense_2_loss: 0.7940 - val_loss: 1.2966 - val_dense_1_loss: 0.5976 - val_dense_2_loss: 0.6990\n",
      "Epoch 35/50\n",
      "8/8 - 3s - loss: 1.3683 - dense_1_loss: 0.6299 - dense_2_loss: 0.7384 - val_loss: 1.2854 - val_dense_1_loss: 0.5859 - val_dense_2_loss: 0.6995\n",
      "Epoch 36/50\n",
      "8/8 - 3s - loss: 1.3609 - dense_1_loss: 0.5974 - dense_2_loss: 0.7635 - val_loss: 1.2726 - val_dense_1_loss: 0.5724 - val_dense_2_loss: 0.7002\n",
      "Epoch 37/50\n",
      "8/8 - 3s - loss: 1.3748 - dense_1_loss: 0.6074 - dense_2_loss: 0.7675 - val_loss: 1.2615 - val_dense_1_loss: 0.5607 - val_dense_2_loss: 0.7008\n",
      "Epoch 38/50\n",
      "8/8 - 3s - loss: 1.3618 - dense_1_loss: 0.5901 - dense_2_loss: 0.7717 - val_loss: 1.2515 - val_dense_1_loss: 0.5502 - val_dense_2_loss: 0.7013\n",
      "Epoch 39/50\n",
      "8/8 - 2s - loss: 1.3073 - dense_1_loss: 0.5813 - dense_2_loss: 0.7261 - val_loss: 1.2411 - val_dense_1_loss: 0.5389 - val_dense_2_loss: 0.7021\n",
      "Epoch 40/50\n",
      "8/8 - 3s - loss: 1.3614 - dense_1_loss: 0.5714 - dense_2_loss: 0.7900 - val_loss: 1.2313 - val_dense_1_loss: 0.5286 - val_dense_2_loss: 0.7027\n",
      "Epoch 41/50\n",
      "8/8 - 2s - loss: 1.3007 - dense_1_loss: 0.5576 - dense_2_loss: 0.7431 - val_loss: 1.2201 - val_dense_1_loss: 0.5172 - val_dense_2_loss: 0.7029\n",
      "Epoch 42/50\n",
      "8/8 - 3s - loss: 1.3175 - dense_1_loss: 0.5557 - dense_2_loss: 0.7618 - val_loss: 1.2104 - val_dense_1_loss: 0.5075 - val_dense_2_loss: 0.7030\n",
      "Epoch 43/50\n",
      "8/8 - 3s - loss: 1.2623 - dense_1_loss: 0.5551 - dense_2_loss: 0.7072 - val_loss: 1.2008 - val_dense_1_loss: 0.4975 - val_dense_2_loss: 0.7034\n",
      "Epoch 44/50\n",
      "8/8 - 3s - loss: 1.3046 - dense_1_loss: 0.5535 - dense_2_loss: 0.7511 - val_loss: 1.1910 - val_dense_1_loss: 0.4874 - val_dense_2_loss: 0.7036\n",
      "Epoch 45/50\n",
      "8/8 - 4s - loss: 1.2415 - dense_1_loss: 0.5110 - dense_2_loss: 0.7304 - val_loss: 1.1824 - val_dense_1_loss: 0.4786 - val_dense_2_loss: 0.7038\n",
      "Epoch 46/50\n",
      "8/8 - 3s - loss: 1.2336 - dense_1_loss: 0.5024 - dense_2_loss: 0.7312 - val_loss: 1.1743 - val_dense_1_loss: 0.4701 - val_dense_2_loss: 0.7042\n",
      "Epoch 47/50\n",
      "8/8 - 3s - loss: 1.2516 - dense_1_loss: 0.5237 - dense_2_loss: 0.7279 - val_loss: 1.1659 - val_dense_1_loss: 0.4616 - val_dense_2_loss: 0.7042\n",
      "Epoch 48/50\n",
      "8/8 - 3s - loss: 1.2364 - dense_1_loss: 0.5030 - dense_2_loss: 0.7334 - val_loss: 1.1590 - val_dense_1_loss: 0.4541 - val_dense_2_loss: 0.7049\n",
      "Epoch 49/50\n",
      "8/8 - 3s - loss: 1.2311 - dense_1_loss: 0.5045 - dense_2_loss: 0.7266 - val_loss: 1.1516 - val_dense_1_loss: 0.4460 - val_dense_2_loss: 0.7056\n",
      "Epoch 50/50\n",
      "8/8 - 3s - loss: 1.2372 - dense_1_loss: 0.5128 - dense_2_loss: 0.7244 - val_loss: 1.1444 - val_dense_1_loss: 0.4382 - val_dense_2_loss: 0.7063\n"
     ]
    },
    {
     "name": "stderr",
     "output_type": "stream",
     "text": [
      "\u001b[32m[I 2022-03-28 22:10:28,733]\u001b[0m Trial 3 finished with value: 0.4381687045097351 and parameters: {'learning_rate': 1.4576432019147325e-05}. Best is trial 3 with value: 0.4381687045097351.\u001b[0m\n"
     ]
    },
    {
     "name": "stdout",
     "output_type": "stream",
     "text": [
      "Number of finished trials: 4\n",
      "Best trial:\n"
     ]
    }
   ],
   "source": [
    "study = optuna.create_study(direction=\"maximize\")\n",
    "study.optimize(objective_full, n_trials=4, timeout=None)\n",
    "\n",
    "print(\"Number of finished trials: {}\".format(len(study.trials)))\n",
    "\n",
    "print(\"Best trial:\")\n",
    "trial = study.best_trial"
   ]
  },
  {
   "cell_type": "code",
   "execution_count": 23,
   "metadata": {},
   "outputs": [
    {
     "name": "stdout",
     "output_type": "stream",
     "text": [
      "    learning_rate: 1.4576432019147325e-05\n"
     ]
    }
   ],
   "source": [
    "for key, value in trial.params.items():\n",
    "    print(\"    {}: {}\".format(key, value))\n",
    "    learning_rate = value"
   ]
  },
  {
   "cell_type": "code",
   "execution_count": null,
   "metadata": {},
   "outputs": [],
   "source": []
  },
  {
   "cell_type": "code",
   "execution_count": 25,
   "metadata": {},
   "outputs": [],
   "source": [
    "model=multi_input_output_lstm_full(lstm_shape, shape_num)\n",
    "early_stop = EarlyStopping(monitor='val_loss', patience=3)\n",
    "log_dir = \"logs/fit/\" + datetime.datetime.now().strftime(\"%Y%m%d-%H%M%S\")\n",
    "tensorboard_callback = TensorBoard(log_dir=log_dir, histogram_freq=1)\n",
    "optimizer = Adam(learning_rate=learning_rate)\n",
    "model.compile(loss=['mse',tf.keras.losses.binary_crossentropy], optimizer=optimizer)"
   ]
  },
  {
   "cell_type": "code",
   "execution_count": 26,
   "metadata": {},
   "outputs": [
    {
     "name": "stdout",
     "output_type": "stream",
     "text": [
      "Epoch 1/50\n",
      "4/4 - 16s - loss: 2.1561 - dense_4_loss: 1.2660 - dense_5_loss: 0.8902 - val_loss: 2.0176 - val_dense_4_loss: 1.3321 - val_dense_5_loss: 0.6855\n",
      "Epoch 2/50\n",
      "4/4 - 3s - loss: 2.0602 - dense_4_loss: 1.2154 - dense_5_loss: 0.8449 - val_loss: 1.9943 - val_dense_4_loss: 1.3088 - val_dense_5_loss: 0.6855\n",
      "Epoch 3/50\n",
      "4/4 - 3s - loss: 2.0785 - dense_4_loss: 1.1856 - dense_5_loss: 0.8930 - val_loss: 1.9720 - val_dense_4_loss: 1.2865 - val_dense_5_loss: 0.6855\n",
      "Epoch 4/50\n",
      "4/4 - 3s - loss: 2.0557 - dense_4_loss: 1.1816 - dense_5_loss: 0.8741 - val_loss: 1.9508 - val_dense_4_loss: 1.2653 - val_dense_5_loss: 0.6855\n",
      "Epoch 5/50\n",
      "4/4 - 3s - loss: 2.0015 - dense_4_loss: 1.1196 - dense_5_loss: 0.8819 - val_loss: 1.9299 - val_dense_4_loss: 1.2444 - val_dense_5_loss: 0.6855\n",
      "Epoch 6/50\n",
      "4/4 - 4s - loss: 1.9764 - dense_4_loss: 1.1321 - dense_5_loss: 0.8444 - val_loss: 1.9089 - val_dense_4_loss: 1.2235 - val_dense_5_loss: 0.6855\n",
      "Epoch 7/50\n",
      "4/4 - 3s - loss: 2.0222 - dense_4_loss: 1.1455 - dense_5_loss: 0.8766 - val_loss: 1.8884 - val_dense_4_loss: 1.2029 - val_dense_5_loss: 0.6855\n",
      "Epoch 8/50\n",
      "4/4 - 3s - loss: 1.9673 - dense_4_loss: 1.1108 - dense_5_loss: 0.8565 - val_loss: 1.8682 - val_dense_4_loss: 1.1827 - val_dense_5_loss: 0.6855\n",
      "Epoch 9/50\n",
      "4/4 - 3s - loss: 1.9321 - dense_4_loss: 1.0820 - dense_5_loss: 0.8501 - val_loss: 1.8488 - val_dense_4_loss: 1.1633 - val_dense_5_loss: 0.6855\n",
      "Epoch 10/50\n",
      "4/4 - 3s - loss: 1.9346 - dense_4_loss: 1.0548 - dense_5_loss: 0.8798 - val_loss: 1.8296 - val_dense_4_loss: 1.1442 - val_dense_5_loss: 0.6854\n",
      "Epoch 11/50\n",
      "4/4 - 3s - loss: 1.9049 - dense_4_loss: 1.0716 - dense_5_loss: 0.8333 - val_loss: 1.8110 - val_dense_4_loss: 1.1256 - val_dense_5_loss: 0.6854\n",
      "Epoch 12/50\n",
      "4/4 - 2s - loss: 1.8603 - dense_4_loss: 1.0138 - dense_5_loss: 0.8464 - val_loss: 1.7929 - val_dense_4_loss: 1.1076 - val_dense_5_loss: 0.6853\n",
      "Epoch 13/50\n",
      "4/4 - 2s - loss: 1.8708 - dense_4_loss: 1.0162 - dense_5_loss: 0.8546 - val_loss: 1.7753 - val_dense_4_loss: 1.0901 - val_dense_5_loss: 0.6853\n",
      "Epoch 14/50\n",
      "4/4 - 2s - loss: 1.8191 - dense_4_loss: 1.0282 - dense_5_loss: 0.7909 - val_loss: 1.7579 - val_dense_4_loss: 1.0727 - val_dense_5_loss: 0.6852\n",
      "Epoch 15/50\n",
      "4/4 - 2s - loss: 1.8585 - dense_4_loss: 1.0016 - dense_5_loss: 0.8569 - val_loss: 1.7411 - val_dense_4_loss: 1.0559 - val_dense_5_loss: 0.6852\n",
      "Epoch 16/50\n",
      "4/4 - 2s - loss: 1.8310 - dense_4_loss: 0.9919 - dense_5_loss: 0.8391 - val_loss: 1.7248 - val_dense_4_loss: 1.0396 - val_dense_5_loss: 0.6852\n",
      "Epoch 17/50\n",
      "4/4 - 2s - loss: 1.7882 - dense_4_loss: 0.9555 - dense_5_loss: 0.8326 - val_loss: 1.7091 - val_dense_4_loss: 1.0239 - val_dense_5_loss: 0.6852\n",
      "Epoch 18/50\n",
      "4/4 - 3s - loss: 1.7941 - dense_4_loss: 0.9760 - dense_5_loss: 0.8182 - val_loss: 1.6933 - val_dense_4_loss: 1.0081 - val_dense_5_loss: 0.6852\n",
      "Epoch 19/50\n",
      "4/4 - 3s - loss: 1.8152 - dense_4_loss: 0.9672 - dense_5_loss: 0.8479 - val_loss: 1.6777 - val_dense_4_loss: 0.9924 - val_dense_5_loss: 0.6852\n",
      "Epoch 20/50\n",
      "4/4 - 3s - loss: 1.7464 - dense_4_loss: 0.9339 - dense_5_loss: 0.8126 - val_loss: 1.6623 - val_dense_4_loss: 0.9770 - val_dense_5_loss: 0.6852\n",
      "Epoch 21/50\n",
      "4/4 - 3s - loss: 1.7551 - dense_4_loss: 0.9323 - dense_5_loss: 0.8228 - val_loss: 1.6472 - val_dense_4_loss: 0.9619 - val_dense_5_loss: 0.6853\n",
      "Epoch 22/50\n",
      "4/4 - 3s - loss: 1.7538 - dense_4_loss: 0.9100 - dense_5_loss: 0.8438 - val_loss: 1.6323 - val_dense_4_loss: 0.9470 - val_dense_5_loss: 0.6853\n",
      "Epoch 23/50\n",
      "4/4 - 3s - loss: 1.7594 - dense_4_loss: 0.8884 - dense_5_loss: 0.8711 - val_loss: 1.6175 - val_dense_4_loss: 0.9323 - val_dense_5_loss: 0.6853\n",
      "Epoch 24/50\n",
      "4/4 - 3s - loss: 1.7330 - dense_4_loss: 0.9076 - dense_5_loss: 0.8254 - val_loss: 1.6034 - val_dense_4_loss: 0.9182 - val_dense_5_loss: 0.6852\n",
      "Epoch 25/50\n",
      "4/4 - 3s - loss: 1.6607 - dense_4_loss: 0.8792 - dense_5_loss: 0.7815 - val_loss: 1.5894 - val_dense_4_loss: 0.9041 - val_dense_5_loss: 0.6852\n",
      "Epoch 26/50\n",
      "4/4 - 3s - loss: 1.6831 - dense_4_loss: 0.8727 - dense_5_loss: 0.8105 - val_loss: 1.5756 - val_dense_4_loss: 0.8903 - val_dense_5_loss: 0.6853\n",
      "Epoch 27/50\n",
      "4/4 - 3s - loss: 1.6421 - dense_4_loss: 0.8576 - dense_5_loss: 0.7845 - val_loss: 1.5622 - val_dense_4_loss: 0.8769 - val_dense_5_loss: 0.6854\n",
      "Epoch 28/50\n",
      "4/4 - 3s - loss: 1.6550 - dense_4_loss: 0.8653 - dense_5_loss: 0.7897 - val_loss: 1.5490 - val_dense_4_loss: 0.8636 - val_dense_5_loss: 0.6854\n",
      "Epoch 29/50\n",
      "4/4 - 3s - loss: 1.6421 - dense_4_loss: 0.8346 - dense_5_loss: 0.8075 - val_loss: 1.5356 - val_dense_4_loss: 0.8502 - val_dense_5_loss: 0.6854\n",
      "Epoch 30/50\n",
      "4/4 - 2s - loss: 1.6339 - dense_4_loss: 0.8439 - dense_5_loss: 0.7900 - val_loss: 1.5228 - val_dense_4_loss: 0.8373 - val_dense_5_loss: 0.6855\n",
      "Epoch 31/50\n",
      "4/4 - 3s - loss: 1.6226 - dense_4_loss: 0.8276 - dense_5_loss: 0.7951 - val_loss: 1.5106 - val_dense_4_loss: 0.8251 - val_dense_5_loss: 0.6855\n",
      "Epoch 32/50\n",
      "4/4 - 2s - loss: 1.5741 - dense_4_loss: 0.8053 - dense_5_loss: 0.7688 - val_loss: 1.4985 - val_dense_4_loss: 0.8130 - val_dense_5_loss: 0.6856\n",
      "Epoch 33/50\n",
      "4/4 - 3s - loss: 1.5883 - dense_4_loss: 0.7753 - dense_5_loss: 0.8130 - val_loss: 1.4862 - val_dense_4_loss: 0.8006 - val_dense_5_loss: 0.6856\n",
      "Epoch 34/50\n",
      "4/4 - 2s - loss: 1.5824 - dense_4_loss: 0.7942 - dense_5_loss: 0.7882 - val_loss: 1.4741 - val_dense_4_loss: 0.7886 - val_dense_5_loss: 0.6855\n",
      "Epoch 35/50\n",
      "4/4 - 3s - loss: 1.5319 - dense_4_loss: 0.7541 - dense_5_loss: 0.7777 - val_loss: 1.4622 - val_dense_4_loss: 0.7767 - val_dense_5_loss: 0.6855\n",
      "Epoch 36/50\n",
      "4/4 - 3s - loss: 1.5589 - dense_4_loss: 0.7710 - dense_5_loss: 0.7880 - val_loss: 1.4502 - val_dense_4_loss: 0.7648 - val_dense_5_loss: 0.6854\n",
      "Epoch 37/50\n",
      "4/4 - 3s - loss: 1.5321 - dense_4_loss: 0.7584 - dense_5_loss: 0.7737 - val_loss: 1.4385 - val_dense_4_loss: 0.7532 - val_dense_5_loss: 0.6853\n",
      "Epoch 38/50\n",
      "4/4 - 2s - loss: 1.5065 - dense_4_loss: 0.7183 - dense_5_loss: 0.7882 - val_loss: 1.4269 - val_dense_4_loss: 0.7416 - val_dense_5_loss: 0.6853\n",
      "Epoch 39/50\n",
      "4/4 - 2s - loss: 1.4911 - dense_4_loss: 0.7243 - dense_5_loss: 0.7668 - val_loss: 1.4153 - val_dense_4_loss: 0.7300 - val_dense_5_loss: 0.6853\n",
      "Epoch 40/50\n",
      "4/4 - 2s - loss: 1.4966 - dense_4_loss: 0.7292 - dense_5_loss: 0.7674 - val_loss: 1.4040 - val_dense_4_loss: 0.7188 - val_dense_5_loss: 0.6852\n",
      "Epoch 41/50\n",
      "4/4 - 2s - loss: 1.4513 - dense_4_loss: 0.7092 - dense_5_loss: 0.7420 - val_loss: 1.3930 - val_dense_4_loss: 0.7077 - val_dense_5_loss: 0.6853\n",
      "Epoch 42/50\n",
      "4/4 - 3s - loss: 1.5089 - dense_4_loss: 0.7400 - dense_5_loss: 0.7689 - val_loss: 1.3822 - val_dense_4_loss: 0.6970 - val_dense_5_loss: 0.6853\n",
      "Epoch 43/50\n",
      "4/4 - 3s - loss: 1.4701 - dense_4_loss: 0.6945 - dense_5_loss: 0.7755 - val_loss: 1.3714 - val_dense_4_loss: 0.6861 - val_dense_5_loss: 0.6853\n",
      "Epoch 44/50\n",
      "4/4 - 3s - loss: 1.4388 - dense_4_loss: 0.6907 - dense_5_loss: 0.7481 - val_loss: 1.3606 - val_dense_4_loss: 0.6755 - val_dense_5_loss: 0.6852\n",
      "Epoch 45/50\n",
      "4/4 - 2s - loss: 1.4576 - dense_4_loss: 0.6920 - dense_5_loss: 0.7656 - val_loss: 1.3499 - val_dense_4_loss: 0.6648 - val_dense_5_loss: 0.6851\n",
      "Epoch 46/50\n",
      "4/4 - 3s - loss: 1.3959 - dense_4_loss: 0.6345 - dense_5_loss: 0.7613 - val_loss: 1.3392 - val_dense_4_loss: 0.6541 - val_dense_5_loss: 0.6851\n",
      "Epoch 47/50\n",
      "4/4 - 2s - loss: 1.4057 - dense_4_loss: 0.6539 - dense_5_loss: 0.7518 - val_loss: 1.3289 - val_dense_4_loss: 0.6439 - val_dense_5_loss: 0.6850\n",
      "Epoch 48/50\n",
      "4/4 - 3s - loss: 1.3855 - dense_4_loss: 0.6562 - dense_5_loss: 0.7294 - val_loss: 1.3184 - val_dense_4_loss: 0.6334 - val_dense_5_loss: 0.6850\n",
      "Epoch 49/50\n",
      "4/4 - 2s - loss: 1.3674 - dense_4_loss: 0.6393 - dense_5_loss: 0.7280 - val_loss: 1.3085 - val_dense_4_loss: 0.6235 - val_dense_5_loss: 0.6850\n",
      "Epoch 50/50\n",
      "4/4 - 3s - loss: 1.3629 - dense_4_loss: 0.6321 - dense_5_loss: 0.7308 - val_loss: 1.2982 - val_dense_4_loss: 0.6132 - val_dense_5_loss: 0.6850\n"
     ]
    }
   ],
   "source": [
    "history = model.fit([X_fed_lstm_train, X_ecb_lstm_train, X_num_train], [y_train_reg,y_train_cat], epochs=50, batch_size=256, verbose=2,\n",
    "         callbacks=[early_stop, tensorboard_callback, ], \n",
    "         validation_data=([X_fed_lstm_val,X_ecb_lstm_val, X_num_val],[y_val_reg,y_val_cat]))"
   ]
  },
  {
   "cell_type": "code",
   "execution_count": 28,
   "metadata": {},
   "outputs": [
    {
     "data": {
      "text/plain": [
       "[1.298182725906372, 0.6132282018661499, 0.6849546432495117]"
      ]
     },
     "execution_count": 28,
     "metadata": {},
     "output_type": "execute_result"
    }
   ],
   "source": [
    "model.evaluate([X_fed_lstm_val,X_ecb_lstm_val, X_num_val],[y_val_reg,y_val_cat], verbose=0)"
   ]
  },
  {
   "cell_type": "code",
   "execution_count": null,
   "metadata": {},
   "outputs": [],
   "source": []
  },
  {
   "cell_type": "code",
   "execution_count": 27,
   "metadata": {},
   "outputs": [
    {
     "name": "stderr",
     "output_type": "stream",
     "text": [
      "WARNING:absl:Found untraced functions such as lstm_cell_5_layer_call_fn, lstm_cell_5_layer_call_and_return_conditional_losses, lstm_cell_7_layer_call_fn, lstm_cell_7_layer_call_and_return_conditional_losses, lstm_cell_6_layer_call_fn while saving (showing 5 of 25). These functions will not be directly callable after loading.\n",
      "WARNING:absl:Found untraced functions such as lstm_cell_5_layer_call_fn, lstm_cell_5_layer_call_and_return_conditional_losses, lstm_cell_7_layer_call_fn, lstm_cell_7_layer_call_and_return_conditional_losses, lstm_cell_6_layer_call_fn while saving (showing 5 of 25). These functions will not be directly callable after loading.\n"
     ]
    },
    {
     "name": "stdout",
     "output_type": "stream",
     "text": [
      "INFO:tensorflow:Assets written to: mutli_inouts_outputs_model_eurusd\\assets\n"
     ]
    },
    {
     "name": "stderr",
     "output_type": "stream",
     "text": [
      "INFO:tensorflow:Assets written to: mutli_inouts_outputs_model_eurusd\\assets\n"
     ]
    }
   ],
   "source": [
    "model.save(\"mutli_inouts_outputs_model_eurusd\")"
   ]
  },
  {
   "cell_type": "code",
   "execution_count": 37,
   "metadata": {},
   "outputs": [],
   "source": [
    "def multi_input_class_lstm_full(shape_nlp, shape_num):\n",
    "    input_nlp_fed = Input(shape=(shape_nlp[0], shape_nlp[1]))\n",
    "    input_nlp_bce = Input(shape=(shape_nlp[0], shape_nlp[1]))\n",
    "    input_num = Input(shape=shape_num)\n",
    "\n",
    "\n",
    "    w = LSTM(100, return_sequences=True)(input_nlp_fed)\n",
    "    w = Dropout(0.3)(w)\n",
    "    #w = BatchNormalization()(w)\n",
    "    w = LSTM(40, return_sequences=False)(w)\n",
    "    w = Dropout(0.3)(w)\n",
    "    w = Model(inputs=input_nlp_fed, outputs=w)\n",
    "\n",
    "\n",
    "    x = LSTM(100, return_sequences=True)(input_nlp_bce)\n",
    "    x = Dropout(0.3)(x)\n",
    "    #x = BatchNormalization()(x)\n",
    "    x = LSTM(40, return_sequences=False)(x)\n",
    "    #x = Dropout(0.3)(x)\n",
    "    x = Model(inputs=input_nlp_bce, outputs=x)\n",
    "\n",
    "    # the second branch opreates on the second input\n",
    "    y = LSTM(100, return_sequences=False)(input_num)\n",
    "    y = Dropout(0.3)(y)\n",
    "    #y = BatchNormalization()(y)\n",
    "    # y = LSTM(40, return_sequences=False)(y)\n",
    "    # y = Dropout(0.3)(y)\n",
    "    y = Model(inputs=input_num, outputs=y)\n",
    "    # combine the output of the two branches\n",
    "    combined = concatenate([w.output, x.output, y.output])\n",
    "\n",
    "    z = Dense(64, activation='relu')(combined)\n",
    "    z = Dropout(0.3)(z)\n",
    "    classi = BatchNormalization()(z)\n",
    "    classi = Dense(64)(classi)\n",
    "    classi = LeakyReLU(0.3)(classi)\n",
    "    classi = Dropout(0.5)(classi)\n",
    "    z = Dense(64, activation='relu')(z)\n",
    "    z = Dropout(0.3)(z)\n",
    "    out_reg = Dense(1, activation='linear')(z)\n",
    "    \n",
    "    out_class = Dense(1, activation = 'sigmoid')(z)\n",
    "    model = Model(inputs=[w.input, x.input, y.input], outputs=out_class)\n",
    "\n",
    "    return model"
   ]
  },
  {
   "cell_type": "code",
   "execution_count": 46,
   "metadata": {},
   "outputs": [],
   "source": [
    "from sklearn.metrics import accuracy_score"
   ]
  },
  {
   "cell_type": "code",
   "execution_count": 68,
   "metadata": {},
   "outputs": [],
   "source": [
    "def objective_class(trial):\n",
    "    # Clear clutter from previous Keras session graphs.\n",
    "    clear_session()\n",
    "\n",
    "    # We compile our model with a sampled learning rate.\n",
    "    learning_rate = trial.suggest_float(\"learning_rate\", 1e-5, 1e-1, log=True)\n",
    "    model=multi_input_class_lstm_full(lstm_shape, shape_num)\n",
    "\n",
    "    early_stop = EarlyStopping(monitor='val_loss', patience=3)\n",
    "    log_dir = \"logs/fit/\" + datetime.datetime.now().strftime(\"%Y%m%d-%H%M%S\")\n",
    "    tensorboard_callback = TensorBoard(log_dir=log_dir, histogram_freq=1)\n",
    "    learning_rate = trial.suggest_float(\"learning_rate\", 1e-5, 1e-1, log=True)\n",
    "    optimizer = Adam(learning_rate=learning_rate)\n",
    "    model.compile(loss=tf.keras.losses.binary_crossentropy, \n",
    "                    optimizer=optimizer)\n",
    "\n",
    "    history = model.fit([X_fed_lstm_train, X_ecb_lstm_train, X_num_train], \n",
    "                        y_train_cat,\n",
    "                        epochs=50, \n",
    "                        batch_size=128, verbose=2,\n",
    "                        callbacks=[early_stop, tensorboard_callback, ], \n",
    "                        validation_data=([X_fed_lstm_val,X_ecb_lstm_val, X_num_val],y_val_cat))\n",
    "\n",
    "\n",
    "    # Evaluate the model accuracy on the validation set.\n",
    "    y_pred = model.predict([X_fed_lstm_test,X_ecb_lstm_test, X_num_test])\n",
    "    score = accuracy_score(y_test_cat, (y_pred)>=0.5)\n",
    "    return score\n"
   ]
  },
  {
   "cell_type": "code",
   "execution_count": 69,
   "metadata": {},
   "outputs": [
    {
     "name": "stderr",
     "output_type": "stream",
     "text": [
      "\u001b[32m[I 2022-03-28 22:42:26,212]\u001b[0m A new study created in memory with name: no-name-d29fea1d-47ac-4863-9da9-5045ac6b6b79\u001b[0m\n"
     ]
    },
    {
     "name": "stdout",
     "output_type": "stream",
     "text": [
      "Epoch 1/50\n",
      "8/8 - 14s - loss: 0.7065 - val_loss: 0.6912\n",
      "Epoch 2/50\n",
      "8/8 - 3s - loss: 0.6937 - val_loss: 0.7211\n",
      "Epoch 3/50\n",
      "8/8 - 3s - loss: 0.6863 - val_loss: 0.7823\n",
      "Epoch 4/50\n",
      "8/8 - 3s - loss: 0.6860 - val_loss: 0.7066\n"
     ]
    },
    {
     "name": "stderr",
     "output_type": "stream",
     "text": [
      "\u001b[32m[I 2022-03-28 22:42:55,068]\u001b[0m Trial 0 finished with value: 0.5537848605577689 and parameters: {'learning_rate': 0.013049696474121502}. Best is trial 0 with value: 0.5537848605577689.\u001b[0m\n"
     ]
    },
    {
     "name": "stdout",
     "output_type": "stream",
     "text": [
      "Epoch 1/50\n",
      "8/8 - 14s - loss: 0.6894 - val_loss: 0.7019\n",
      "Epoch 2/50\n",
      "8/8 - 3s - loss: 0.6717 - val_loss: 0.7082\n",
      "Epoch 3/50\n",
      "8/8 - 3s - loss: 0.6581 - val_loss: 0.7003\n",
      "Epoch 4/50\n",
      "8/8 - 3s - loss: 0.6331 - val_loss: 0.7240\n",
      "Epoch 5/50\n",
      "8/8 - 3s - loss: 0.5500 - val_loss: 0.8024\n",
      "Epoch 6/50\n",
      "8/8 - 3s - loss: 0.4491 - val_loss: 1.0177\n"
     ]
    },
    {
     "name": "stderr",
     "output_type": "stream",
     "text": [
      "\u001b[32m[I 2022-03-28 22:43:28,735]\u001b[0m Trial 1 finished with value: 0.5378486055776892 and parameters: {'learning_rate': 0.0012744188353801748}. Best is trial 0 with value: 0.5537848605577689.\u001b[0m\n"
     ]
    },
    {
     "name": "stdout",
     "output_type": "stream",
     "text": [
      "Epoch 1/50\n",
      "8/8 - 13s - loss: 0.6820 - val_loss: 0.7054\n",
      "Epoch 2/50\n",
      "8/8 - 3s - loss: 0.6790 - val_loss: 0.6987\n",
      "Epoch 3/50\n",
      "8/8 - 3s - loss: 0.6641 - val_loss: 0.6964\n",
      "Epoch 4/50\n",
      "8/8 - 3s - loss: 0.6566 - val_loss: 0.6906\n",
      "Epoch 5/50\n",
      "8/8 - 3s - loss: 0.6481 - val_loss: 0.6931\n",
      "Epoch 6/50\n",
      "8/8 - 3s - loss: 0.6259 - val_loss: 0.6939\n",
      "Epoch 7/50\n",
      "8/8 - 2s - loss: 0.5926 - val_loss: 0.7132\n"
     ]
    },
    {
     "name": "stderr",
     "output_type": "stream",
     "text": [
      "\u001b[32m[I 2022-03-28 22:44:03,374]\u001b[0m Trial 2 finished with value: 0.5537848605577689 and parameters: {'learning_rate': 0.0006421828924535239}. Best is trial 0 with value: 0.5537848605577689.\u001b[0m\n"
     ]
    },
    {
     "name": "stdout",
     "output_type": "stream",
     "text": [
      "Epoch 1/50\n",
      "8/8 - 14s - loss: 0.6985 - val_loss: 0.6915\n",
      "Epoch 2/50\n",
      "8/8 - 3s - loss: 0.6856 - val_loss: 0.7229\n",
      "Epoch 3/50\n",
      "8/8 - 3s - loss: 0.6807 - val_loss: 0.6959\n",
      "Epoch 4/50\n",
      "8/8 - 3s - loss: 0.6303 - val_loss: 0.8052\n"
     ]
    },
    {
     "name": "stderr",
     "output_type": "stream",
     "text": [
      "\u001b[32m[I 2022-03-28 22:44:31,735]\u001b[0m Trial 3 finished with value: 0.5856573705179283 and parameters: {'learning_rate': 0.0047346144099486035}. Best is trial 3 with value: 0.5856573705179283.\u001b[0m\n"
     ]
    },
    {
     "name": "stdout",
     "output_type": "stream",
     "text": [
      "Number of finished trials: 4\n",
      "Best trial:\n"
     ]
    }
   ],
   "source": [
    "study = optuna.create_study(direction=\"maximize\")\n",
    "study.optimize(objective_class, n_trials=4, timeout=None)\n",
    "\n",
    "print(\"Number of finished trials: {}\".format(len(study.trials)))\n",
    "\n",
    "print(\"Best trial:\")\n",
    "trial = study.best_trial"
   ]
  },
  {
   "cell_type": "code",
   "execution_count": 70,
   "metadata": {},
   "outputs": [
    {
     "name": "stdout",
     "output_type": "stream",
     "text": [
      "  Value: 0.5856573705179283\n",
      "  Params: \n",
      "    learning_rate: 0.0047346144099486035\n"
     ]
    }
   ],
   "source": [
    "print(\"  Value: {}\".format(trial.value))\n",
    "\n",
    "print(\"  Params: \")\n",
    "for key, value in trial.params.items():\n",
    "    print(\"    {}: {}\".format(key, value))\n",
    "    learning_rate = value"
   ]
  },
  {
   "cell_type": "code",
   "execution_count": 71,
   "metadata": {},
   "outputs": [
    {
     "name": "stdout",
     "output_type": "stream",
     "text": [
      "Epoch 1/50\n",
      "8/8 - 17s - loss: 0.7038 - val_loss: 0.6964\n",
      "Epoch 2/50\n",
      "8/8 - 3s - loss: 0.6823 - val_loss: 0.6907\n",
      "Epoch 3/50\n",
      "8/8 - 3s - loss: 0.6683 - val_loss: 0.6884\n",
      "Epoch 4/50\n",
      "8/8 - 3s - loss: 0.6084 - val_loss: 0.9618\n",
      "Epoch 5/50\n",
      "8/8 - 3s - loss: 0.4827 - val_loss: 0.9019\n",
      "Epoch 6/50\n",
      "8/8 - 3s - loss: 0.4098 - val_loss: 1.0448\n"
     ]
    }
   ],
   "source": [
    "model_cat=multi_input_class_lstm_full(lstm_shape, shape_num)\n",
    "early_stop = EarlyStopping(monitor='val_loss', patience=3)\n",
    "log_dir = \"logs/fit/\" + datetime.datetime.now().strftime(\"%Y%m%d-%H%M%S\")\n",
    "tensorboard_callback = TensorBoard(log_dir=log_dir, histogram_freq=1)\n",
    "optimizer = Adam(learning_rate=learning_rate)\n",
    "model_cat.compile(loss=tf.keras.losses.binary_crossentropy, optimizer=optimizer)\n",
    "history = model_cat.fit([X_fed_lstm_train, X_ecb_lstm_train, X_num_train], y_train_cat, epochs=50, batch_size=128, verbose=2,\n",
    "    validation_data = ([X_fed_lstm_val, X_ecb_lstm_val, X_num_val], y_val_cat), callbacks=[early_stop, tensorboard_callback, ])"
   ]
  },
  {
   "cell_type": "code",
   "execution_count": 72,
   "metadata": {},
   "outputs": [
    {
     "name": "stderr",
     "output_type": "stream",
     "text": [
      "WARNING:absl:Found untraced functions such as lstm_cell_5_layer_call_fn, lstm_cell_5_layer_call_and_return_conditional_losses, lstm_cell_7_layer_call_fn, lstm_cell_7_layer_call_and_return_conditional_losses, lstm_cell_6_layer_call_fn while saving (showing 5 of 25). These functions will not be directly callable after loading.\n",
      "WARNING:absl:Found untraced functions such as lstm_cell_5_layer_call_fn, lstm_cell_5_layer_call_and_return_conditional_losses, lstm_cell_7_layer_call_fn, lstm_cell_7_layer_call_and_return_conditional_losses, lstm_cell_6_layer_call_fn while saving (showing 5 of 25). These functions will not be directly callable after loading.\n"
     ]
    },
    {
     "name": "stdout",
     "output_type": "stream",
     "text": [
      "INFO:tensorflow:Assets written to: multi_inputs_class_model_eurusd\\assets\n"
     ]
    },
    {
     "name": "stderr",
     "output_type": "stream",
     "text": [
      "INFO:tensorflow:Assets written to: multi_inputs_class_model_eurusd\\assets\n"
     ]
    }
   ],
   "source": [
    "model_cat.save(\"multi_inputs_class_model_eurusd\")"
   ]
  },
  {
   "cell_type": "code",
   "execution_count": 75,
   "metadata": {},
   "outputs": [],
   "source": [
    "def multi_input_reg_lstm_full(shape_nlp, shape_num):\n",
    "    input_nlp_fed = Input(shape=(shape_nlp[0], shape_nlp[1]))\n",
    "    input_nlp_bce = Input(shape=(shape_nlp[0], shape_nlp[1]))\n",
    "    input_num = Input(shape=shape_num)\n",
    "\n",
    "\n",
    "    w = LSTM(100, return_sequences=True)(input_nlp_fed)\n",
    "    w = Dropout(0.3)(w)\n",
    "    #w = BatchNormalization()(w)\n",
    "    w = LSTM(40, return_sequences=False)(w)\n",
    "    w = Dropout(0.3)(w)\n",
    "    w = Model(inputs=input_nlp_fed, outputs=w)\n",
    "\n",
    "\n",
    "    x = LSTM(100, return_sequences=True)(input_nlp_bce)\n",
    "    x = Dropout(0.3)(x)\n",
    "    #x = BatchNormalization()(x)\n",
    "    x = LSTM(40, return_sequences=False)(x)\n",
    "    #x = Dropout(0.3)(x)\n",
    "    x = Model(inputs=input_nlp_bce, outputs=x)\n",
    "\n",
    "    # the second branch opreates on the second input\n",
    "    y = LSTM(100, return_sequences=False)(input_num)\n",
    "    y = Dropout(0.3)(y)\n",
    "    #y = BatchNormalization()(y)\n",
    "    # y = LSTM(40, return_sequences=False)(y)\n",
    "    # y = Dropout(0.3)(y)\n",
    "    y = Model(inputs=input_num, outputs=y)\n",
    "    # combine the output of the two branches\n",
    "    combined = concatenate([w.output, x.output, y.output])\n",
    "\n",
    "    z = Dense(64, activation='relu')(combined)\n",
    "    z = Dropout(0.3)(z)\n",
    "    # classi = BatchNormalization()(z)\n",
    "    # classi = Dense(64)(classi)\n",
    "    # classi = LeakyReLU(0.3)(classi)\n",
    "    # classi = Dropout(0.5)(classi)\n",
    "    z = Dense(64, activation='relu')(z)\n",
    "    z = Dropout(0.3)(z)\n",
    "    out_reg = Dense(1, activation='linear')(z)\n",
    "    \n",
    "    # out_class = Dense(1, activation = 'sigmoid')(z)\n",
    "    model = Model(inputs=[w.input, x.input, y.input], outputs=out_reg)\n",
    "\n",
    "    return model"
   ]
  },
  {
   "cell_type": "code",
   "execution_count": 76,
   "metadata": {},
   "outputs": [],
   "source": [
    "from sklearn.metrics import mean_squared_error"
   ]
  },
  {
   "cell_type": "code",
   "execution_count": 77,
   "metadata": {},
   "outputs": [],
   "source": [
    "def objective_reg(trial):\n",
    "    # Clear clutter from previous Keras session graphs.\n",
    "    clear_session()\n",
    "\n",
    "    # We compile our model with a sampled learning rate.\n",
    "    learning_rate = trial.suggest_float(\"learning_rate\", 1e-5, 1e-1, log=True)\n",
    "    model=multi_input_reg_lstm_full(lstm_shape, shape_num)\n",
    "\n",
    "    early_stop = EarlyStopping(monitor='val_loss', patience=3)\n",
    "    log_dir = \"logs/fit/\" + datetime.datetime.now().strftime(\"%Y%m%d-%H%M%S\")\n",
    "    tensorboard_callback = TensorBoard(log_dir=log_dir, histogram_freq=1)\n",
    "    learning_rate = trial.suggest_float(\"learning_rate\", 1e-5, 1e-1, log=True)\n",
    "    optimizer = Adam(learning_rate=learning_rate)\n",
    "    model.compile(loss=['mse'], \n",
    "                    optimizer=optimizer)\n",
    "\n",
    "    history = model.fit([X_fed_lstm_train, X_ecb_lstm_train, X_num_train], \n",
    "                        y_train_reg, \n",
    "                        epochs=50, \n",
    "                        batch_size=128, verbose=2,\n",
    "                        callbacks=[early_stop, tensorboard_callback, ], \n",
    "                        validation_data=([X_fed_lstm_val,X_ecb_lstm_val, X_num_val],y_val_reg))\n",
    "\n",
    "\n",
    "    # Evaluate the model accuracy on the validation set.\n",
    "    y_pred = model.predict([X_fed_lstm_test,X_ecb_lstm_test, X_num_test])\n",
    "    score = mean_squared_error(y_test_reg, y_pred)**(1/2)\n",
    "    return -score\n"
   ]
  },
  {
   "cell_type": "code",
   "execution_count": 78,
   "metadata": {},
   "outputs": [
    {
     "name": "stderr",
     "output_type": "stream",
     "text": [
      "\u001b[32m[I 2022-03-28 22:45:44,918]\u001b[0m A new study created in memory with name: no-name-bc23b58a-a762-404b-ac76-4f829ae06ec3\u001b[0m\n"
     ]
    },
    {
     "name": "stdout",
     "output_type": "stream",
     "text": [
      "Epoch 1/50\n",
      "8/8 - 18s - loss: 0.6833 - val_loss: 0.6984\n",
      "Epoch 2/50\n",
      "8/8 - 3s - loss: 0.6768 - val_loss: 0.6941\n",
      "Epoch 3/50\n",
      "8/8 - 3s - loss: 0.6699 - val_loss: 0.6978\n",
      "Epoch 4/50\n",
      "8/8 - 3s - loss: 0.6541 - val_loss: 0.7143\n",
      "Epoch 5/50\n",
      "8/8 - 3s - loss: 0.6263 - val_loss: 0.7089\n"
     ]
    },
    {
     "name": "stderr",
     "output_type": "stream",
     "text": [
      "\u001b[32m[I 2022-03-28 22:46:20,305]\u001b[0m Trial 0 finished with value: 0.5617529880478087 and parameters: {'learning_rate': 0.0009633256677424558}. Best is trial 0 with value: 0.5617529880478087.\u001b[0m\n"
     ]
    },
    {
     "name": "stdout",
     "output_type": "stream",
     "text": [
      "Epoch 1/50\n",
      "8/8 - 16s - loss: 3.1618 - val_loss: 0.7401\n",
      "Epoch 2/50\n",
      "8/8 - 3s - loss: 0.7455 - val_loss: 0.7226\n",
      "Epoch 3/50\n",
      "8/8 - 3s - loss: 0.7237 - val_loss: 0.7037\n",
      "Epoch 4/50\n",
      "8/8 - 3s - loss: 0.7035 - val_loss: 0.7010\n",
      "Epoch 5/50\n",
      "8/8 - 3s - loss: 0.6870 - val_loss: 0.6982\n",
      "Epoch 6/50\n",
      "8/8 - 3s - loss: 0.6947 - val_loss: 0.6962\n",
      "Epoch 7/50\n",
      "8/8 - 3s - loss: 0.6890 - val_loss: 0.6986\n",
      "Epoch 8/50\n",
      "8/8 - 2s - loss: 0.6864 - val_loss: 0.6988\n",
      "Epoch 9/50\n",
      "8/8 - 2s - loss: 0.6850 - val_loss: 0.6999\n"
     ]
    },
    {
     "name": "stderr",
     "output_type": "stream",
     "text": [
      "\u001b[32m[I 2022-03-28 22:47:03,373]\u001b[0m Trial 1 finished with value: 0.5657370517928287 and parameters: {'learning_rate': 0.09360889900063225}. Best is trial 1 with value: 0.5657370517928287.\u001b[0m\n"
     ]
    },
    {
     "name": "stdout",
     "output_type": "stream",
     "text": [
      "Epoch 1/50\n",
      "8/8 - 20s - loss: 0.6978 - val_loss: 0.6940\n",
      "Epoch 2/50\n",
      "8/8 - 3s - loss: 0.6890 - val_loss: 0.6956\n",
      "Epoch 3/50\n",
      "8/8 - 3s - loss: 0.6839 - val_loss: 0.6962\n",
      "Epoch 4/50\n",
      "8/8 - 3s - loss: 0.6766 - val_loss: 0.6968\n"
     ]
    },
    {
     "name": "stderr",
     "output_type": "stream",
     "text": [
      "\u001b[32m[I 2022-03-28 22:47:36,797]\u001b[0m Trial 2 finished with value: 0.5657370517928287 and parameters: {'learning_rate': 0.0002386596872395553}. Best is trial 1 with value: 0.5657370517928287.\u001b[0m\n"
     ]
    },
    {
     "name": "stdout",
     "output_type": "stream",
     "text": [
      "Epoch 1/50\n",
      "8/8 - 13s - loss: 0.6921 - val_loss: 0.6960\n",
      "Epoch 2/50\n",
      "8/8 - 3s - loss: 0.6839 - val_loss: 0.6982\n",
      "Epoch 3/50\n",
      "8/8 - 3s - loss: 0.6755 - val_loss: 0.6999\n",
      "Epoch 4/50\n",
      "8/8 - 3s - loss: 0.6702 - val_loss: 0.6986\n"
     ]
    },
    {
     "name": "stderr",
     "output_type": "stream",
     "text": [
      "\u001b[32m[I 2022-03-28 22:48:04,213]\u001b[0m Trial 3 finished with value: 0.5697211155378487 and parameters: {'learning_rate': 0.0004007283356744439}. Best is trial 3 with value: 0.5697211155378487.\u001b[0m\n"
     ]
    },
    {
     "name": "stdout",
     "output_type": "stream",
     "text": [
      "Number of finished trials: 4\n",
      "Best trial:\n"
     ]
    }
   ],
   "source": [
    "study = optuna.create_study(direction=\"maximize\")\n",
    "study.optimize(objective_class, n_trials=4, timeout=None)\n",
    "\n",
    "print(\"Number of finished trials: {}\".format(len(study.trials)))\n",
    "\n",
    "print(\"Best trial:\")\n",
    "trial = study.best_trial"
   ]
  },
  {
   "cell_type": "code",
   "execution_count": null,
   "metadata": {},
   "outputs": [],
   "source": [
    "print(\"  Value: {}\".format(trial.value))\n",
    "\n",
    "print(\"  Params: \")\n",
    "for key, value in trial.params.items():\n",
    "    print(\"    {}: {}\".format(key, value))\n",
    "    learning_rate = value"
   ]
  },
  {
   "cell_type": "code",
   "execution_count": 79,
   "metadata": {},
   "outputs": [],
   "source": [
    "model_reg=multi_input_reg_lstm_full(lstm_shape, shape_num)\n",
    "early_stop = EarlyStopping(monitor='val_loss', patience=3)\n",
    "log_dir = \"logs/fit/\" + datetime.datetime.now().strftime(\"%Y%m%d-%H%M%S\")\n",
    "tensorboard_callback = TensorBoard(log_dir=log_dir, histogram_freq=1)\n",
    "optimizer = Adam(learning_rate=learning_rate)\n",
    "model_reg.compile(loss=['mse'], optimizer=optimizer)\n",
    "history = model_reg.fit([X_fed_lstm_train, X_ecb_lstm_train, X_num_train], y_train_reg, epochs=50, batch_size=128, verbose=0,\n",
    "    validation_data = ([X_fed_lstm_val, X_ecb_lstm_val, X_num_val], y_val_reg), callbacks=[early_stop, tensorboard_callback, ])"
   ]
  },
  {
   "cell_type": "code",
   "execution_count": 80,
   "metadata": {},
   "outputs": [
    {
     "data": {
      "text/plain": [
       "[<matplotlib.lines.Line2D at 0x211e8e56b50>]"
      ]
     },
     "execution_count": 80,
     "metadata": {},
     "output_type": "execute_result"
    },
    {
     "data": {
      "image/png": "[encoded data removed]",
      "text/plain": [
       "<Figure size 432x288 with 1 Axes>"
      ]
     },
     "metadata": {
      "needs_background": "light"
     },
     "output_type": "display_data"
    }
   ],
   "source": [
    "plt.plot(history.history['loss'])\n",
    "plt.plot(history.history['val_loss'])"
   ]
  },
  {
   "cell_type": "code",
   "execution_count": 81,
   "metadata": {},
   "outputs": [
    {
     "name": "stderr",
     "output_type": "stream",
     "text": [
      "WARNING:absl:Found untraced functions such as lstm_cell_5_layer_call_fn, lstm_cell_5_layer_call_and_return_conditional_losses, lstm_cell_7_layer_call_fn, lstm_cell_7_layer_call_and_return_conditional_losses, lstm_cell_6_layer_call_fn while saving (showing 5 of 25). These functions will not be directly callable after loading.\n",
      "WARNING:absl:Found untraced functions such as lstm_cell_5_layer_call_fn, lstm_cell_5_layer_call_and_return_conditional_losses, lstm_cell_7_layer_call_fn, lstm_cell_7_layer_call_and_return_conditional_losses, lstm_cell_6_layer_call_fn while saving (showing 5 of 25). These functions will not be directly callable after loading.\n"
     ]
    },
    {
     "name": "stdout",
     "output_type": "stream",
     "text": [
      "INFO:tensorflow:Assets written to: multi_inputs_reg_model\\assets\n"
     ]
    },
    {
     "name": "stderr",
     "output_type": "stream",
     "text": [
      "INFO:tensorflow:Assets written to: multi_inputs_reg_model\\assets\n"
     ]
    }
   ],
   "source": [
    "model_reg.save(\"multi_inputs_reg_model\")"
   ]
  },
  {
   "cell_type": "code",
   "execution_count": 85,
   "metadata": {},
   "outputs": [
    {
     "data": {
      "text/plain": [
       "(902, 20, 2)"
      ]
     },
     "execution_count": 85,
     "metadata": {},
     "output_type": "execute_result"
    }
   ],
   "source": [
    "X_num_train.shape"
   ]
  },
  {
   "cell_type": "code",
   "execution_count": 86,
   "metadata": {},
   "outputs": [
    {
     "data": {
      "text/plain": [
       "(902, 20, 300)"
      ]
     },
     "execution_count": 86,
     "metadata": {},
     "output_type": "execute_result"
    }
   ],
   "source": [
    "X_fed_lstm_train.shape"
   ]
  },
  {
   "cell_type": "code",
   "execution_count": 92,
   "metadata": {},
   "outputs": [
    {
     "data": {
      "text/plain": [
       "0.4482039670720707"
      ]
     },
     "execution_count": 92,
     "metadata": {},
     "output_type": "execute_result"
    }
   ],
   "source": [
    "mean_squared_error(y_test_reg, model_reg.predict([X_fed_lstm_test, X_ecb_lstm_test, X_num_test]))**(1/2)"
   ]
  },
  {
   "cell_type": "code",
   "execution_count": null,
   "metadata": {},
   "outputs": [],
   "source": [
    "os.chdir('C:/Users/32mor/OneDrive/Documents/Polytechnique/NLP & Natixis/starting_kit/answer')"
   ]
  },
  {
   "cell_type": "code",
   "execution_count": 93,
   "metadata": {},
   "outputs": [],
   "source": [
    "def data_expander(\n",
    "    index='vix', task='classification', test_size=0, \n",
    "    price_data=True, speech_data = True, all_data=False,\n",
    "    validation = False):\n",
    "    \n",
    "    if index == 'vix':\n",
    "        df = pd.read_json('./data/test/VIX_1w.json')\n",
    "    else: \n",
    "        df = pd.read_json('./data/test/EURUSDV1M_1w.json')\n",
    "    \n",
    "    # Creation of a df with all the input variables \n",
    "\n",
    "    X = pd.DataFrame(index=df.index)\n",
    "\n",
    "    prices = pd.DataFrame(\n",
    "            df['stock'].to_list(),\n",
    "            columns=['price' + str(i) for i in range(1,21)]\n",
    "            )\n",
    "\n",
    "    speeches = pd.DataFrame(df['speech'].values.tolist())\n",
    "    speech_cols = pd.DataFrame(index=speeches.index)\n",
    "\n",
    "    for i in range(len(speeches.columns)):\n",
    "        daily = pd.DataFrame(speeches[i].values.tolist())\n",
    "        daily.columns = [f'ecb{i+1}', f'fed{i+1}']\n",
    "        speech_cols = speech_cols.join(daily)\n",
    "\n",
    "    speech_cols = speech_cols.applymap(unpack)\n",
    "\n",
    "    if price_data:\n",
    "        X = X.join(prices)\n",
    "    if speech_data:\n",
    "        X = X.join(speech_cols)\n",
    "    \n",
    "    # Target variable\n",
    "\n",
    "    if task == 'classification':\n",
    "        y = df['target_classif']\n",
    "    else:\n",
    "        y = df['target_reg']\n",
    "\n",
    "    # Return entire frame\n",
    "\n",
    "    if all_data:\n",
    "        return X, df['target_classif'], df['target_reg']\n",
    "\n",
    "    # Validation data, stay away\n",
    "\n",
    "    X_train, X_validation, y_train, y_validation = train_test_split(\n",
    "            X, y, test_size=0.2, random_state=1)\n",
    "\n",
    "    if validation:\n",
    "        return X_train, X_validation, y_train, y_validation\n",
    "\n",
    "    # Train-test split\n",
    "    \n",
    "    if test_size > 0:\n",
    "        X_train, X_test, y_train, y_test = train_test_split(\n",
    "            X_train, y_train, test_size=test_size, random_state=1)\n",
    "        return X_train, X_test, y_train, y_test\n",
    "    else:\n",
    "        return X_train, y_train"
   ]
  },
  {
   "cell_type": "code",
   "execution_count": 94,
   "metadata": {},
   "outputs": [],
   "source": [
    "path = 'C:/Users/32mor/OneDrive/Documents/Polytechnique/NLP & Natixis/starting_kit/data'\n",
    "os.chdir(path)\n",
    "X, y_cat, y_reg = hx.data_expander(all_data=True,index='eur')\n",
    "y = pd.concat([y_cat,y_reg],axis=1)"
   ]
  },
  {
   "cell_type": "code",
   "execution_count": 95,
   "metadata": {},
   "outputs": [
    {
     "name": "stderr",
     "output_type": "stream",
     "text": [
      "100%|██████████| 417/417 [00:00<00:00, 18129.87it/s]\n",
      "100%|██████████| 1262/1262 [00:00<00:00, 15389.97it/s]\n"
     ]
    }
   ],
   "source": [
    "X_fed_test_final, X_ecb_test_final, X_num_test_final = test_pipe.transform(X)"
   ]
  },
  {
   "cell_type": "code",
   "execution_count": 98,
   "metadata": {},
   "outputs": [],
   "source": [
    "speeches_test = int(len(X_ecb_test_final)/20)\n",
    "components = 300\n",
    "X_fed_lstm_test_final = X_fed_test_final.reshape((speeches_test, day_max, components))\n",
    "X_ecb_lstm_test_final = X_ecb_test_final.reshape((speeches_test, day_max, components))"
   ]
  },
  {
   "cell_type": "code",
   "execution_count": 99,
   "metadata": {},
   "outputs": [],
   "source": [
    "y_final_cat_eurusd = model_cat.predict([X_fed_lstm_test_final, X_ecb_lstm_test_final, X_num_test_final])\n",
    "y_final_reg_eurusd = model_reg.predict([X_fed_lstm_test_final, X_ecb_lstm_test_final, X_num_test_final])"
   ]
  },
  {
   "cell_type": "code",
   "execution_count": 104,
   "metadata": {},
   "outputs": [
    {
     "data": {
      "text/plain": [
       "'C:\\\\Users\\\\32mor\\\\OneDrive\\\\Documents\\\\Polytechnique\\\\NLP & Natixis\\\\starting_kit\\\\data\\\\answers'"
      ]
     },
     "execution_count": 104,
     "metadata": {},
     "output_type": "execute_result"
    }
   ],
   "source": [
    "os.getcwd()"
   ]
  },
  {
   "cell_type": "code",
   "execution_count": 102,
   "metadata": {},
   "outputs": [],
   "source": [
    "os.mkdir('answers')\n",
    "os.chdir('answers')"
   ]
  },
  {
   "cell_type": "code",
   "execution_count": 103,
   "metadata": {},
   "outputs": [],
   "source": [
    "os.mkdir('VIX_1w')\n",
    "os.mkdir('EURUSDV1M_1w')"
   ]
  },
  {
   "cell_type": "code",
   "execution_count": 105,
   "metadata": {},
   "outputs": [],
   "source": [
    "# np.savetxt('./VIX_1w/pred_reg.txt', vix_reg, fmt='%.3f')\n",
    "# np.savetxt('./VIX_1w/pred_classif.txt', vix_class, fmt='%d')\n",
    "np.savetxt('./EURUSDV1M_1w/pred_reg.txt', y_final_reg_eurusd, fmt='%.3f')\n",
    "np.savetxt('./EURUSDV1M_1w/pred_classif.txt', y_final_cat_eurusd, fmt='%d')"
   ]
  },
  {
   "cell_type": "code",
   "execution_count": null,
   "metadata": {},
   "outputs": [],
   "source": []
  }
 ],
 "metadata": {
  "interpreter": {
   "hash": "cef52191e58c18720989589d5b4ea8cc9868f5ede1a0d5b620ab4c0f06813bfa"
  },
  "kernelspec": {
   "display_name": "Python 3.8.0 ('tf_test')",
   "language": "python",
   "name": "python3"
  },
  "language_info": {
   "codemirror_mode": {
    "name": "ipython",
    "version": 3
   },
   "file_extension": ".py",
   "mimetype": "text/x-python",
   "name": "python",
   "nbconvert_exporter": "python",
   "pygments_lexer": "ipython3",
   "version": "3.8.0"
  },
  "orig_nbformat": 4
 },
 "nbformat": 4,
 "nbformat_minor": 2
}
